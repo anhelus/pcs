{
 "cells": [
  {
   "cell_type": "code",
   "execution_count": 30,
   "id": "714e7531-9e58-4ce9-947c-df217c92aa63",
   "metadata": {},
   "outputs": [],
   "source": [
    "import numpy as np\n",
    "\n",
    "from sklearn.datasets import load_iris\n",
    "from sklearn.cluster import KMeans, DBSCAN\n",
    "\n",
    "# analisi esplorativa\n",
    "import matplotlib.pyplot as plt"
   ]
  },
  {
   "cell_type": "code",
   "execution_count": 7,
   "id": "ed060317-ed61-4dcf-98c6-670ee43de731",
   "metadata": {},
   "outputs": [],
   "source": [
    "# Carichiamo il dataset\n",
    "data = load_iris()"
   ]
  },
  {
   "cell_type": "markdown",
   "id": "d0d1f836-6b46-4ec3-b88d-20517fd8e515",
   "metadata": {},
   "source": [
    "Il dataset IRIS è fornito sotto forma di dizionario. Proviamo a vedere quali sono le varie chiavi."
   ]
  },
  {
   "cell_type": "code",
   "execution_count": 8,
   "id": "5713628d-3eea-4f18-8873-1ad8d670a296",
   "metadata": {},
   "outputs": [
    {
     "data": {
      "text/plain": [
       "dict_keys(['data', 'target', 'frame', 'target_names', 'DESCR', 'feature_names', 'filename'])"
      ]
     },
     "execution_count": 8,
     "metadata": {},
     "output_type": "execute_result"
    }
   ],
   "source": [
    "data.keys()"
   ]
  },
  {
   "cell_type": "code",
   "execution_count": 23,
   "id": "69803932-7ec0-407e-9b8f-59f0c90b51fb",
   "metadata": {},
   "outputs": [
    {
     "name": "stdout",
     "output_type": "stream",
     "text": [
      "Numero di osservazioni: 150\n",
      "Numero di feature: 4\n",
      "['sepal length (cm)', 'sepal width (cm)', 'petal length (cm)', 'petal width (cm)']\n"
     ]
    }
   ],
   "source": [
    "print('Numero di osservazioni: {}'.format(data.data.shape[0]))\n",
    "print('Numero di feature: {}'.format(data.data.shape[1]))\n",
    "print(data.feature_names)"
   ]
  },
  {
   "cell_type": "code",
   "execution_count": 17,
   "id": "5fe4ed08-55ec-4b48-8784-be413bbeed14",
   "metadata": {},
   "outputs": [
    {
     "data": {
      "text/plain": [
       "{0, 1, 2}"
      ]
     },
     "execution_count": 17,
     "metadata": {},
     "output_type": "execute_result"
    }
   ],
   "source": [
    "set(data.target)"
   ]
  },
  {
   "cell_type": "code",
   "execution_count": 18,
   "id": "8c04f86f-1bdf-4dde-aebd-52ea37267843",
   "metadata": {},
   "outputs": [],
   "source": []
  },
  {
   "cell_type": "code",
   "execution_count": 29,
   "id": "bbe9f888-3f34-4093-ad08-de312a2eb573",
   "metadata": {},
   "outputs": [
    {
     "data": {
      "text/plain": [
       "Text(0, 0.5, 'Widths (cm)')"
      ]
     },
     "execution_count": 29,
     "metadata": {},
     "output_type": "execute_result"
    },
    {
     "data": {
      "image/png": "[encoded data removed]",
      "text/plain": [
       "<Figure size 432x288 with 1 Axes>"
      ]
     },
     "metadata": {
      "needs_background": "light"
     },
     "output_type": "display_data"
    }
   ],
   "source": [
    "fig, ax = plt.subplots()\n",
    "ax.grid()\n",
    "ax.scatter(data.data[:,0], data.data[:,1], label='Sepal length vs. width')\n",
    "ax.scatter(data.data[:,2], data.data[:,3], label='Petal length vs. width')\n",
    "ax.legend()\n",
    "ax.set_xlabel('Lengths (cm)')\n",
    "ax.set_ylabel('Widths (cm)')"
   ]
  },
  {
   "cell_type": "code",
   "execution_count": 31,
   "id": "747f3d79-cef3-4fbf-b472-5a402d13e4b9",
   "metadata": {},
   "outputs": [],
   "source": [
    "cls = KMeans()"
   ]
  },
  {
   "cell_type": "code",
   "execution_count": 41,
   "id": "0fbb1bbb-5e24-4971-a4ae-80733e7898e0",
   "metadata": {},
   "outputs": [
    {
     "data": {
      "text/plain": [
       "KMeans()"
      ]
     },
     "execution_count": 41,
     "metadata": {},
     "output_type": "execute_result"
    }
   ],
   "source": [
    "cls.fit(data.data[:120, :])"
   ]
  },
  {
   "cell_type": "code",
   "execution_count": 42,
   "id": "f53e890a-54d2-473d-a8af-2ce1a996ed48",
   "metadata": {},
   "outputs": [
    {
     "data": {
      "text/plain": [
       "array([5.6, 2.8, 4.9, 2. ])"
      ]
     },
     "execution_count": 42,
     "metadata": {},
     "output_type": "execute_result"
    }
   ],
   "source": [
    "data.data[121, :]"
   ]
  },
  {
   "cell_type": "code",
   "execution_count": 45,
   "id": "feea8eb3-2334-4f22-9044-ee345bafcf97",
   "metadata": {},
   "outputs": [
    {
     "data": {
      "text/plain": [
       "array([6])"
      ]
     },
     "execution_count": 45,
     "metadata": {},
     "output_type": "execute_result"
    }
   ],
   "source": [
    "cls.predict(data.data[122, :].reshape(1, -1))"
   ]
  },
  {
   "cell_type": "code",
   "execution_count": 46,
   "id": "d376c682-99d4-4991-af7a-8bb5f3d440de",
   "metadata": {},
   "outputs": [
    {
     "data": {
      "text/plain": [
       "array([0, 0, 0, 0, 0, 7, 0, 0, 0, 0, 7, 0, 0, 0, 7, 7, 7, 0, 7, 7, 7, 7,\n",
       "       0, 0, 0, 0, 0, 7, 0, 0, 0, 7, 7, 7, 0, 0, 7, 0, 0, 0, 0, 0, 0, 0,\n",
       "       7, 0, 7, 0, 7, 0, 5, 5, 5, 2, 5, 2, 5, 4, 5, 2, 4, 2, 2, 1, 2, 5,\n",
       "       2, 2, 1, 2, 1, 2, 1, 1, 5, 5, 5, 5, 1, 4, 4, 4, 2, 1, 2, 5, 5, 1,\n",
       "       2, 2, 2, 1, 2, 4, 2, 2, 2, 5, 4, 2, 3, 1, 3, 3, 3, 6, 2, 6, 3, 6,\n",
       "       3, 3, 3, 1, 1, 3, 3, 6, 6, 1])"
      ]
     },
     "execution_count": 46,
     "metadata": {},
     "output_type": "execute_result"
    }
   ],
   "source": [
    "cls.labels_"
   ]
  },
  {
   "cell_type": "code",
   "execution_count": null,
   "id": "5135d51e-ebcd-44f4-8a97-69a21b0802ea",
   "metadata": {},
   "outputs": [],
   "source": []
  }
 ],
 "metadata": {
  "kernelspec": {
   "display_name": "Python 3",
   "language": "python",
   "name": "python3"
  },
  "language_info": {
   "codemirror_mode": {
    "name": "ipython",
    "version": 3
   },
   "file_extension": ".py",
   "mimetype": "text/x-python",
   "name": "python",
   "nbconvert_exporter": "python",
   "pygments_lexer": "ipython3",
   "version": "3.8.7"
  }
 },
 "nbformat": 4,
 "nbformat_minor": 5
}

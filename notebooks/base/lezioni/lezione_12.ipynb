{
 "cells": [
  {
   "cell_type": "code",
   "execution_count": 1,
   "id": "c0ee2637-ddac-4cb7-ad6b-cc2879df8e6d",
   "metadata": {},
   "outputs": [],
   "source": [
    "import numpy as np\n",
    "import matplotlib.pyplot as plt\n",
    "\n",
    "from sklearn.linear_model import LinearRegression"
   ]
  },
  {
   "cell_type": "markdown",
   "id": "075a28de-6906-4731-a2b1-99f2644eab7b",
   "metadata": {},
   "source": [
    "In questa lezione, vedremo un semplice esempio di stimatore usando Scikit Learn. In tal senso, useremo un *regressore lineare*, ovvero un oggetto in grado di implementare l'omonima tecnica di analisi dati.\n",
    "\n",
    "Per prima cosa, creiamo dei dati casuali, volutamente casuali, ma che però \"ricordino\" in qualche modo una retta."
   ]
  },
  {
   "cell_type": "code",
   "execution_count": 15,
   "id": "8ba924d3-56c2-41e8-b806-bbfb8710fc55",
   "metadata": {
    "tags": []
   },
   "outputs": [
    {
     "data": {
      "image/png": "[encoded data removed]",
      "text/plain": [
       "<Figure size 432x288 with 1 Axes>"
      ]
     },
     "metadata": {
      "needs_background": "light"
     },
     "output_type": "display_data"
    }
   ],
   "source": [
    "X = np.arange(100).reshape(-1, 1)\n",
    "y = np.arange(100) + np.random.randint(-20, 20, 100)\n",
    "fig, ax = plt.subplots()\n",
    "ax.scatter(X, y)\n",
    "ax.set_xlabel('Tempo (s)')\n",
    "ax.set_ylabel('Valore tensione (V)')\n",
    "plt.show()"
   ]
  },
  {
   "cell_type": "markdown",
   "id": "35278835-8527-4683-982d-376f29b2689c",
   "metadata": {},
   "source": [
    "Notiamo che stiamo usando la funzione `reshape(-1, 1)` per organizzare il vettore `X` come una colonna. Questo è richiesto da NumPy nel caso si abbia a che fare con un vettore ad `n` dati ed una singola feature.\n",
    "\n",
    "Creiamo adesso un oggetto di tipo `LinearRegression`, e chiamiamo il metodo `fit(X, y)` per calcolare la retta interpolante mediante il metodo dei minimi quadrati."
   ]
  },
  {
   "cell_type": "code",
   "execution_count": 11,
   "id": "68e1849d-3ac9-4a76-964c-e3c7c9d099f8",
   "metadata": {},
   "outputs": [
    {
     "data": {
      "text/plain": [
       "LinearRegression()"
      ]
     },
     "execution_count": 11,
     "metadata": {},
     "output_type": "execute_result"
    }
   ],
   "source": [
    "rgr = LinearRegression()\n",
    "rgr.fit(X, y)"
   ]
  },
  {
   "cell_type": "markdown",
   "id": "8aa6e05f-f554-41e5-840d-ec2538726b7f",
   "metadata": {},
   "source": [
    "Usiamo adesso il metodo `predict` per ottenere i valori predetti dallo stimatore al variare di `X`."
   ]
  },
  {
   "cell_type": "code",
   "execution_count": 13,
   "id": "951c85ef-ed85-4fb7-b0e6-e28aa6d9d28c",
   "metadata": {},
   "outputs": [
    {
     "data": {
      "text/plain": [
       "array([-2.79188119, -1.76921692, -0.74655266,  0.27611161,  1.29877588,\n",
       "        2.32144014,  3.34410441,  4.36676868,  5.38943294,  6.41209721,\n",
       "        7.43476148,  8.45742574,  9.48009001, 10.50275428, 11.52541854,\n",
       "       12.54808281, 13.57074707, 14.59341134, 15.61607561, 16.63873987,\n",
       "       17.66140414, 18.68406841, 19.70673267, 20.72939694, 21.75206121,\n",
       "       22.77472547, 23.79738974, 24.82005401, 25.84271827, 26.86538254,\n",
       "       27.8880468 , 28.91071107, 29.93337534, 30.9560396 , 31.97870387,\n",
       "       33.00136814, 34.0240324 , 35.04669667, 36.06936094, 37.0920252 ,\n",
       "       38.11468947, 39.13735374, 40.160018  , 41.18268227, 42.20534653,\n",
       "       43.2280108 , 44.25067507, 45.27333933, 46.2960036 , 47.31866787,\n",
       "       48.34133213, 49.3639964 , 50.38666067, 51.40932493, 52.4319892 ,\n",
       "       53.45465347, 54.47731773, 55.499982  , 56.52264626, 57.54531053,\n",
       "       58.5679748 , 59.59063906, 60.61330333, 61.6359676 , 62.65863186,\n",
       "       63.68129613, 64.7039604 , 65.72662466, 66.74928893, 67.7719532 ,\n",
       "       68.79461746, 69.81728173, 70.83994599, 71.86261026, 72.88527453,\n",
       "       73.90793879, 74.93060306, 75.95326733, 76.97593159, 77.99859586,\n",
       "       79.02126013, 80.04392439, 81.06658866, 82.08925293, 83.11191719,\n",
       "       84.13458146, 85.15724572, 86.17990999, 87.20257426, 88.22523852,\n",
       "       89.24790279, 90.27056706, 91.29323132, 92.31589559, 93.33855986,\n",
       "       94.36122412, 95.38388839, 96.40655266, 97.42921692, 98.45188119])"
      ]
     },
     "execution_count": 13,
     "metadata": {},
     "output_type": "execute_result"
    }
   ],
   "source": [
    "y_pred = rgr.predict(X)"
   ]
  },
  {
   "cell_type": "markdown",
   "id": "7be7e38f-0343-48f3-b2d7-335a6a06a1a7",
   "metadata": {},
   "source": [
    "Visualizziamo i risultati."
   ]
  },
  {
   "cell_type": "code",
   "execution_count": 17,
   "id": "78567da1-4fe4-49d8-b0e2-93130ae0d28d",
   "metadata": {
    "tags": []
   },
   "outputs": [
    {
     "data": {
      "image/png": "[encoded data removed]",
      "text/plain": [
       "<Figure size 432x288 with 1 Axes>"
      ]
     },
     "metadata": {
      "needs_background": "light"
     },
     "output_type": "display_data"
    }
   ],
   "source": [
    "fig, ax  = plt.subplots()\n",
    "\n",
    "ax.scatter(X, y, label='Valori originari di X ed y')\n",
    "ax.plot(y_pred, color='red', label='Retta interpolante')\n",
    "ax.legend()\n",
    "plt.show()"
   ]
  },
  {
   "cell_type": "markdown",
   "id": "143e52d4-adc1-41f4-a0ea-413cfdec9947",
   "metadata": {},
   "source": [
    "## L'importanza delle classi\n",
    "\n",
    "Abbiamo visto che per effettuare una regressione abbiamo bisogno essenzialmente di due metodi: `fit`, che ci permette di addestrare il nostro regressore, e `predict`, che ci restituisce tutti i valori stimati dal regressore.\n",
    "\n",
    "Questi due metodi sono *comuni a tutti gli stimatori usati in Scikit-Learn*, principalmente grazie a due motivi:\n",
    "\n",
    "1. tutti gli stimatori *discendono* da una classe base comune, chiamata [`BaseEstimator`](https://scikit-learn.org/stable/modules/generated/sklearn.base.BaseEstimator.html);\n",
    "2. una delle [scelte di design](https://scikit-learn.org/stable/tutorial/statistical_inference/supervised_learning.html#supervised-learning-predicting-an-output-variable-from-high-dimensional-observations) alla base di Scikit Learn prevede che sia offerta un'interfaccia comune, composta da `fit` e `predict`, mediante la quale interagire con tutti gli stimatori supervisionati.\n",
    "\n",
    "## Reference\n",
    "\n",
    "[Common API di Scikit Learn](https://scikit-learn.org/stable/developers/develop.html#apis-of-scikit-learn-objects)"
   ]
  },
  {
   "cell_type": "code",
   "execution_count": null,
   "id": "465ef623-ba5e-4c80-a1a9-ccdabe3e59a8",
   "metadata": {},
   "outputs": [],
   "source": []
  }
 ],
 "metadata": {
  "kernelspec": {
   "display_name": "Python 3 (ipykernel)",
   "language": "python",
   "name": "python3"
  },
  "language_info": {
   "codemirror_mode": {
    "name": "ipython",
    "version": 3
   },
   "file_extension": ".py",
   "mimetype": "text/x-python",
   "name": "python",
   "nbconvert_exporter": "python",
   "pygments_lexer": "ipython3",
   "version": "3.8.7"
  }
 },
 "nbformat": 4,
 "nbformat_minor": 5
}

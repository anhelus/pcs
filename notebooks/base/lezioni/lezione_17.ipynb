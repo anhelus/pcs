{
 "cells": [
  {
   "cell_type": "code",
   "execution_count": 5,
   "id": "82069089-8ac7-47d9-bddc-fd211c4382d5",
   "metadata": {},
   "outputs": [],
   "source": [
    "import tensorflow as tf\n",
    "from tensorflow import keras\n",
    "from tensorflow.keras import layers\n",
    "import numpy as np"
   ]
  },
  {
   "cell_type": "markdown",
   "id": "0af1fffa-7a40-49ce-93ae-2294e7151aef",
   "metadata": {},
   "source": [
    "introduzione + importazione dati\n",
    "\n",
    "far vedere la differenza tra sequential API e functional API (metti prima la seconda)"
   ]
  },
  {
   "cell_type": "code",
   "execution_count": 6,
   "id": "fd8c7af1-0027-4e56-9db4-4ab4dae6d8a2",
   "metadata": {},
   "outputs": [],
   "source": [
    "num_classes = 10\n",
    "input_shape = (28, 28, 1)\n",
    "(X_train, y_train), (X_test, y_test) = keras.datasets.mnist.load_data()\n",
    "X_train = X_train.astype(\"float32\") / 255\n",
    "X_test = X_test.astype(\"float32\") / 255"
   ]
  },
  {
   "cell_type": "code",
   "execution_count": 9,
   "id": "2eefaa64-bd01-4b98-9932-56cb6653af22",
   "metadata": {},
   "outputs": [],
   "source": [
    "X_train = np.expand_dims(X_train, -1)\n",
    "X_test = np.expand_dims(X_test, -1)"
   ]
  },
  {
   "cell_type": "code",
   "execution_count": 10,
   "id": "946759a5-c172-4616-a63e-0f9c1127c61a",
   "metadata": {},
   "outputs": [],
   "source": [
    "y_train = keras.utils.to_categorical(y_train, num_classes)\n",
    "y_test = keras.utils.to_categorical(y_test, num_classes)"
   ]
  },
  {
   "cell_type": "code",
   "execution_count": 15,
   "id": "edb187d1-8bef-4599-bc6b-50267b4998a1",
   "metadata": {},
   "outputs": [],
   "source": [
    "model = keras.Sequential([\n",
    "    layers.Input(shape=input_shape),\n",
    "    layers.Conv2D(32, kernel_size=(3, 3), activation='relu'),\n",
    "    layers.MaxPooling2D(pool_size=(2, 2)),\n",
    "    layers.Conv2D(32, kernel_size=(3, 3), activation='relu'),\n",
    "    layers.MaxPooling2D(pool_size=(2, 2)),\n",
    "    layers.Flatten(),\n",
    "    layers.Dense(num_classes, activation='softmax')\n",
    "])"
   ]
  },
  {
   "cell_type": "code",
   "execution_count": 16,
   "id": "846caf06-b55c-42ab-803b-0f6ee25d890f",
   "metadata": {},
   "outputs": [
    {
     "name": "stdout",
     "output_type": "stream",
     "text": [
      "Epoch 1/10\n",
      "938/938 [==============================] - 13s 13ms/step - loss: 0.5209 - accuracy: 0.8497\n",
      "Epoch 2/10\n",
      "938/938 [==============================] - 13s 13ms/step - loss: 0.0811 - accuracy: 0.9752\n",
      "Epoch 3/10\n",
      "938/938 [==============================] - 13s 14ms/step - loss: 0.0558 - accuracy: 0.9823\n",
      "Epoch 4/10\n",
      "938/938 [==============================] - 13s 13ms/step - loss: 0.0472 - accuracy: 0.9853\n",
      "Epoch 5/10\n",
      "938/938 [==============================] - 13s 13ms/step - loss: 0.0397 - accuracy: 0.9886\n",
      "Epoch 6/10\n",
      "938/938 [==============================] - 13s 14ms/step - loss: 0.0327 - accuracy: 0.9893\n",
      "Epoch 7/10\n",
      "938/938 [==============================] - 13s 14ms/step - loss: 0.0283 - accuracy: 0.9908\n",
      "Epoch 8/10\n",
      "938/938 [==============================] - 13s 14ms/step - loss: 0.0227 - accuracy: 0.9928\n",
      "Epoch 9/10\n",
      "938/938 [==============================] - 13s 14ms/step - loss: 0.0203 - accuracy: 0.9941\n",
      "Epoch 10/10\n",
      "938/938 [==============================] - 13s 14ms/step - loss: 0.0176 - accuracy: 0.9941\n"
     ]
    },
    {
     "data": {
      "text/plain": [
       "<tensorflow.python.keras.callbacks.History at 0x23cbbc27490>"
      ]
     },
     "execution_count": 16,
     "metadata": {},
     "output_type": "execute_result"
    }
   ],
   "source": [
    "model.compile(\n",
    "    loss='categorical_crossentropy',\n",
    "    optimizer='adam',\n",
    "    metrics=['accuracy']\n",
    ")\n",
    "\n",
    "model.fit(X_train, y_train, batch_size=64, epochs=10)"
   ]
  },
  {
   "cell_type": "code",
   "execution_count": 13,
   "id": "5a3d4de8-d3cc-49d0-ac18-a9957db1f86f",
   "metadata": {},
   "outputs": [],
   "source": [
    "inputs = layers.Input(shape=input_shape)"
   ]
  },
  {
   "cell_type": "code",
   "execution_count": 38,
   "id": "88b2a9c3-d313-4c5f-b01a-89acfc258880",
   "metadata": {},
   "outputs": [
    {
     "name": "stdout",
     "output_type": "stream",
     "text": [
      "Model: \"functional_model\"\n",
      "_________________________________________________________________\n",
      "Layer (type)                 Output Shape              Param #   \n",
      "=================================================================\n",
      "input_2 (InputLayer)         [(None, 28, 28, 1)]       0         \n",
      "_________________________________________________________________\n",
      "conv2d_24 (Conv2D)           (None, 26, 26, 32)        320       \n",
      "_________________________________________________________________\n",
      "max_pooling2d_22 (MaxPooling (None, 13, 13, 32)        0         \n",
      "_________________________________________________________________\n",
      "conv2d_25 (Conv2D)           (None, 11, 11, 32)        9248      \n",
      "_________________________________________________________________\n",
      "max_pooling2d_23 (MaxPooling (None, 5, 5, 32)          0         \n",
      "_________________________________________________________________\n",
      "flatten_19 (Flatten)         (None, 800)               0         \n",
      "_________________________________________________________________\n",
      "dense_19 (Dense)             (None, 10)                8010      \n",
      "=================================================================\n",
      "Total params: 17,578\n",
      "Trainable params: 17,578\n",
      "Non-trainable params: 0\n",
      "_________________________________________________________________\n"
     ]
    }
   ],
   "source": [
    "conv2d = layers.Conv2D(32, kernel_size=(3, 3), activation='relu')\n",
    "max_pooling = layers.MaxPooling2D(pool_size=(2, 2))\n",
    "flatten = layers.Flatten()\n",
    "output = layers.Dense(num_classes, activation='softmax')\n",
    "\n",
    "x = conv2d(inputs)\n",
    "x = max_pooling(x)\n",
    "x = layers.Conv2D(32, kernel_size=(3,3), activation='relu')(x)\n",
    "x = layers.MaxPooling2D(pool_size=(2, 2))(x)\n",
    "x = flatten(x)\n",
    "outputs = output(x)\n",
    "model_func = keras.Model(inputs=inputs, outputs=outputs, name='functional_model')\n",
    "model_func.summary()"
   ]
  },
  {
   "cell_type": "code",
   "execution_count": 39,
   "id": "069e92e6-ba04-411f-8bb2-08ed7f8b22d4",
   "metadata": {},
   "outputs": [
    {
     "name": "stdout",
     "output_type": "stream",
     "text": [
      "Epoch 1/10\n",
      "938/938 [==============================] - 13s 13ms/step - loss: 0.5487 - accuracy: 0.8380\n",
      "Epoch 2/10\n",
      "938/938 [==============================] - 13s 13ms/step - loss: 0.0848 - accuracy: 0.9741\n",
      "Epoch 3/10\n",
      "938/938 [==============================] - 13s 13ms/step - loss: 0.0575 - accuracy: 0.9828\n",
      "Epoch 4/10\n",
      "938/938 [==============================] - 13s 13ms/step - loss: 0.0460 - accuracy: 0.98550s - loss: 0.0\n",
      "Epoch 5/10\n",
      "938/938 [==============================] - 13s 14ms/step - loss: 0.0372 - accuracy: 0.9887\n",
      "Epoch 6/10\n",
      "938/938 [==============================] - 13s 13ms/step - loss: 0.0335 - accuracy: 0.9896\n",
      "Epoch 7/10\n",
      "938/938 [==============================] - 13s 13ms/step - loss: 0.0266 - accuracy: 0.9915\n",
      "Epoch 8/10\n",
      "938/938 [==============================] - 13s 13ms/step - loss: 0.0238 - accuracy: 0.9926\n",
      "Epoch 9/10\n",
      "938/938 [==============================] - 12s 13ms/step - loss: 0.0204 - accuracy: 0.9934\n",
      "Epoch 10/10\n",
      "938/938 [==============================] - 12s 13ms/step - loss: 0.0168 - accuracy: 0.9948\n"
     ]
    },
    {
     "data": {
      "text/plain": [
       "<tensorflow.python.keras.callbacks.History at 0x23cbc509310>"
      ]
     },
     "execution_count": 39,
     "metadata": {},
     "output_type": "execute_result"
    }
   ],
   "source": [
    "model_func.compile(\n",
    "    loss='categorical_crossentropy',\n",
    "    optimizer='adam',\n",
    "    metrics=['accuracy']\n",
    ")\n",
    "\n",
    "model_func.fit(X_train, y_train, batch_size=64, epochs=10)"
   ]
  },
  {
   "cell_type": "code",
   "execution_count": null,
   "id": "9606feb0-7b60-441b-85c4-cb98859cfccc",
   "metadata": {},
   "outputs": [],
   "source": []
  }
 ],
 "metadata": {
  "kernelspec": {
   "display_name": "Python 3 (ipykernel)",
   "language": "python",
   "name": "python3"
  },
  "language_info": {
   "codemirror_mode": {
    "name": "ipython",
    "version": 3
   },
   "file_extension": ".py",
   "mimetype": "text/x-python",
   "name": "python",
   "nbconvert_exporter": "python",
   "pygments_lexer": "ipython3",
   "version": "3.8.7"
  }
 },
 "nbformat": 4,
 "nbformat_minor": 5
}

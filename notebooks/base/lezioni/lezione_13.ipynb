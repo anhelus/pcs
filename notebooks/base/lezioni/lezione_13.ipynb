{
 "cells": [
  {
   "cell_type": "code",
   "execution_count": 1,
   "id": "60012fc1-c061-4766-ae75-7c8d3fd950ad",
   "metadata": {},
   "outputs": [],
   "source": [
    "from sklearn.datasets import make_classification\n",
    "from sklearn.model_selection import train_test_split, cross_val_score\n",
    "from sklearn.tree import DecisionTreeClassifier\n",
    "from sklearn.ensemble import RandomForestClassifier\n",
    "from sklearn.metrics import accuracy_score, recall_score, precision_score, plot_confusion_matrix"
   ]
  },
  {
   "cell_type": "markdown",
   "id": "77083427-9419-4fec-9033-5c8f64c67e11",
   "metadata": {},
   "source": [
    "In questa lezione, vedremo come usare un algoritmo di classificazione a partire da un dataset generato automaticamente.\n",
    "\n",
    "## Generazione dei dati\n",
    "\n",
    "Scikit Learn ci offre una serie di tool per generare automaticamente dei dati, onde familiarizzare con la libreria e con gli altri strumenti a nostra disposizione. In particolare, usiamo il metodo [`make_classification`](https://scikit-learn.org/stable/modules/generated/sklearn.datasets.make_classification.html) del package `sklearn.datasets`."
   ]
  },
  {
   "cell_type": "code",
   "execution_count": 2,
   "id": "90eae445-9b97-4236-b2ce-31eb38791186",
   "metadata": {},
   "outputs": [],
   "source": [
    "X, y = make_classification(n_samples=1000, n_informative=5, n_classes=5, random_state=42)"
   ]
  },
  {
   "cell_type": "markdown",
   "id": "787d8d14-3640-4811-aee2-41f030515340",
   "metadata": {},
   "source": [
    "## Definizione di set di training e di test\n",
    "\n",
    "A questo punto, possiamo usare il metodo `train_test_split` per suddividere i dati in due parti, ovvero un *training set* ed un *test set*. Di default, questo metodo suddivide i dati in un 70% di training ed un 30% di test; lasciamo questa suddivisione."
   ]
  },
  {
   "cell_type": "code",
   "execution_count": 3,
   "id": "494af4e2-5600-4542-8ffa-b559441ad657",
   "metadata": {},
   "outputs": [],
   "source": [
    "X_train, X_test, y_train, y_test = train_test_split(X, y)"
   ]
  },
  {
   "cell_type": "markdown",
   "id": "144aa45a-ca7a-4c9d-9bd3-a33ac1e6759a",
   "metadata": {},
   "source": [
    "Possiamo adesso creare il nostro primo classificatore, che sarà basato su un albero decisionale, e provare ad addestrarlo sui dati a nostra disposizione. In tal senso, dovremo chiamare il metodo `fit()`, passando ovviamente i dati appartenenti al set di training."
   ]
  },
  {
   "cell_type": "code",
   "execution_count": 4,
   "id": "f8e30e0f-8b12-4c09-9f8b-55c791d7c36c",
   "metadata": {},
   "outputs": [
    {
     "data": {
      "text/plain": [
       "DecisionTreeClassifier()"
      ]
     },
     "execution_count": 4,
     "metadata": {},
     "output_type": "execute_result"
    }
   ],
   "source": [
    "clf = DecisionTreeClassifier()\n",
    "clf.fit(X_train, y_train)"
   ]
  },
  {
   "cell_type": "markdown",
   "id": "65eb9cfc-ab0d-4b14-b489-14a5e7185386",
   "metadata": {},
   "source": [
    "Una volta completato l'addestramento, potremo usare il metodo `predict()` sui dati di test, che ci permette di ottenere i valori predetti per ciascuna classe."
   ]
  },
  {
   "cell_type": "code",
   "execution_count": 5,
   "id": "3b15c23c-0880-47e4-9c2e-9796c2c844f8",
   "metadata": {},
   "outputs": [],
   "source": [
    "y_pred = clf.predict(X_test)"
   ]
  },
  {
   "cell_type": "markdown",
   "id": "830024e1-03ab-42ad-8eec-4a7fc8e41b1e",
   "metadata": {},
   "source": [
    "Possiamo infine provare a valutare i punteggi di accuracy, recall e precision, e visualizzare la matrice di confusione."
   ]
  },
  {
   "cell_type": "code",
   "execution_count": 6,
   "id": "ac89d52a-fc66-427d-860d-5b1d53a00538",
   "metadata": {},
   "outputs": [
    {
     "name": "stdout",
     "output_type": "stream",
     "text": [
      "Accuracy: 0.48 \n",
      "Recall: 0.48 \n",
      "Precision: 0.48\n"
     ]
    }
   ],
   "source": [
    "print(\"Accuracy: {} \\nRecall: {} \\nPrecision: {}\".format(accuracy_score(y_pred, y_test),\n",
    "               recall_score(y_pred, y_test, average='micro'),\n",
    "               precision_score(y_pred, y_test, average='micro')))"
   ]
  },
  {
   "cell_type": "code",
   "execution_count": 7,
   "id": "48b56621-5fa1-43ba-a81a-2b84ff410331",
   "metadata": {},
   "outputs": [
    {
     "data": {
      "text/plain": [
       "<sklearn.metrics._plot.confusion_matrix.ConfusionMatrixDisplay at 0x279262ad670>"
      ]
     },
     "execution_count": 7,
     "metadata": {},
     "output_type": "execute_result"
    },
    {
     "data": {
      "image/png": "[encoded data removed]",
      "text/plain": [
       "<Figure size 432x288 with 2 Axes>"
      ]
     },
     "metadata": {
      "needs_background": "light"
     },
     "output_type": "display_data"
    }
   ],
   "source": [
    "plot_confusion_matrix(clf, X_test, y_test)"
   ]
  },
  {
   "cell_type": "markdown",
   "id": "2af1fc52-3b30-448a-95e1-26a4a8897f5b",
   "metadata": {},
   "source": [
    "## Esercizio 1\n",
    "\n",
    "Notiamo come i risultati ottenuti cambino di esecuzione in esecuzione. Proviamo ad usare la k-fold validation per ottenere un risultato più \"credibile\"."
   ]
  },
  {
   "cell_type": "code",
   "execution_count": 8,
   "id": "807450c3-88c6-41bc-9de5-95fc600a7d9b",
   "metadata": {},
   "outputs": [
    {
     "name": "stdout",
     "output_type": "stream",
     "text": [
      "Il valore medio di accuracy è 0.511, con una deviazione standard di 0.04\n"
     ]
    }
   ],
   "source": [
    "def print_scores(cross_val_function):\n",
    "    scores = cross_val_function\n",
    "    print('Il valore medio di accuracy è {}, con una deviazione standard di {}'.format(\n",
    "        round(scores.mean(), 3), \n",
    "        round(scores.std(), 3)))\n",
    "\n",
    "print_scores(cross_val_score(clf, X, y, cv=10))"
   ]
  },
  {
   "cell_type": "markdown",
   "id": "35afcc56-10cb-47f0-acf5-e1944113ea79",
   "metadata": {},
   "source": [
    "## Esercizio 2\n",
    "\n",
    "Proviamo ad usare un numero più alto di campioni, per vedere se le performance migliorano."
   ]
  },
  {
   "cell_type": "code",
   "execution_count": 9,
   "id": "dc4515cd-fe74-42c6-87d6-e7b6d14ce319",
   "metadata": {},
   "outputs": [
    {
     "name": "stdout",
     "output_type": "stream",
     "text": [
      "Il valore medio di accuracy è 0.694, con una deviazione standard di 0.008\n"
     ]
    }
   ],
   "source": [
    "X, y = make_classification(n_samples=10000, n_informative=5, n_classes=5)\n",
    "print_scores(cross_val_score(clf, X, y, cv=10))"
   ]
  },
  {
   "cell_type": "markdown",
   "id": "d5c0d169-f7a5-4861-9f7e-1dff90c29195",
   "metadata": {},
   "source": [
    "## Esercizio 3\n",
    "\n",
    "Proviamo ad usare un tipo di classificatore differente, ovvero il `RandomForestClassifier`."
   ]
  },
  {
   "cell_type": "code",
   "execution_count": 10,
   "id": "82b57150-a96d-42b0-bfb8-ca9001f511b2",
   "metadata": {},
   "outputs": [
    {
     "name": "stdout",
     "output_type": "stream",
     "text": [
      "Il valore medio di accuracy è 0.798, con una deviazione standard di 0.01\n"
     ]
    }
   ],
   "source": [
    "rf = RandomForestClassifier()\n",
    "print_scores(cross_val_score(rf, X, y, cv=10))"
   ]
  },
  {
   "cell_type": "markdown",
   "id": "3d2c2bda-ed22-42d0-9d5f-3910977cb348",
   "metadata": {},
   "source": [
    "Come abbiamo visto, ci sono diversi accorgimenti che possiamo adottare per ottenere risultati migliori. Nelle prossime lezioni, vedremo come \"metterli insieme\", onde scegliere il miglior stimatore possibile ed effettuare alcune operazioni di preprocessing sui dati."
   ]
  },
  {
   "cell_type": "code",
   "execution_count": null,
   "id": "abcf6c40-ae81-4888-a94b-619ff01f3897",
   "metadata": {},
   "outputs": [],
   "source": []
  }
 ],
 "metadata": {
  "kernelspec": {
   "display_name": "Python 3 (ipykernel)",
   "language": "python",
   "name": "python3"
  },
  "language_info": {
   "codemirror_mode": {
    "name": "ipython",
    "version": 3
   },
   "file_extension": ".py",
   "mimetype": "text/x-python",
   "name": "python",
   "nbconvert_exporter": "python",
   "pygments_lexer": "ipython3",
   "version": "3.8.7"
  }
 },
 "nbformat": 4,
 "nbformat_minor": 5
}

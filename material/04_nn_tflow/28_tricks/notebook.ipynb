{
 "cells": [
  {
   "cell_type": "code",
   "execution_count": 1,
   "metadata": {},
   "outputs": [],
   "source": [
    "from tensorflow import keras"
   ]
  },
  {
   "cell_type": "code",
   "execution_count": 2,
   "metadata": {},
   "outputs": [],
   "source": [
    "(x_train, y_train), (x_test, y_test) = keras.datasets.mnist.load_data()"
   ]
  },
  {
   "cell_type": "code",
   "execution_count": 3,
   "metadata": {},
   "outputs": [
    {
     "name": "stdout",
     "output_type": "stream",
     "text": [
      "Epoch 1/10\n",
      "329/329 [==============================] - 8s 10ms/step - loss: 1.3956 - acc: 0.8525 - val_loss: 0.2277 - val_acc: 0.9427\n",
      "Epoch 2/10\n",
      "329/329 [==============================] - 3s 9ms/step - loss: 0.1608 - acc: 0.9574 - val_loss: 0.1274 - val_acc: 0.9660\n",
      "Epoch 3/10\n",
      "329/329 [==============================] - 3s 8ms/step - loss: 0.1001 - acc: 0.9715 - val_loss: 0.1298 - val_acc: 0.9653\n",
      "Epoch 4/10\n",
      "329/329 [==============================] - 3s 9ms/step - loss: 0.0711 - acc: 0.9792 - val_loss: 0.1071 - val_acc: 0.9722\n",
      "Epoch 5/10\n",
      "329/329 [==============================] - 3s 8ms/step - loss: 0.0618 - acc: 0.9818 - val_loss: 0.0947 - val_acc: 0.9744\n",
      "Epoch 6/10\n",
      "329/329 [==============================] - 3s 8ms/step - loss: 0.0469 - acc: 0.9854 - val_loss: 0.0862 - val_acc: 0.9770\n",
      "Epoch 7/10\n",
      "329/329 [==============================] - 3s 9ms/step - loss: 0.0413 - acc: 0.9866 - val_loss: 0.0900 - val_acc: 0.9782\n",
      "Epoch 8/10\n",
      "329/329 [==============================] - 3s 8ms/step - loss: 0.0343 - acc: 0.9890 - val_loss: 0.0839 - val_acc: 0.9798\n",
      "Epoch 9/10\n",
      "329/329 [==============================] - 3s 9ms/step - loss: 0.0280 - acc: 0.9908 - val_loss: 0.0854 - val_acc: 0.9798\n",
      "Epoch 10/10\n",
      "329/329 [==============================] - 3s 9ms/step - loss: 0.0287 - acc: 0.9902 - val_loss: 0.0896 - val_acc: 0.9794\n"
     ]
    }
   ],
   "source": [
    "model = keras.Sequential(\n",
    "    [\n",
    "        keras.Input(shape=(28, 28, 1)),\n",
    "        keras.layers.Conv2D(\n",
    "            32,\n",
    "            (3, 3),\n",
    "            activation='relu',\n",
    "            name='conv_1'),\n",
    "        keras.layers.MaxPooling2D(name='max_pooling_1'),\n",
    "        keras.layers.Conv2D(\n",
    "            32,\n",
    "            (3, 3),\n",
    "            activation='relu',\n",
    "            name='conv_2'),\n",
    "        keras.layers.MaxPooling2D(name='max_pooling_2'),\n",
    "        keras.layers.Flatten(),\n",
    "        keras.layers.Dense(\n",
    "            10,\n",
    "            name='classification',\n",
    "            activation='softmax')\n",
    "    ]\n",
    ")\n",
    "\n",
    "model.compile(\n",
    "    loss=keras.losses.SparseCategoricalCrossentropy(),\n",
    "    optimizer=keras.optimizers.Adam(),\n",
    "    metrics=['acc'])\n",
    "\n",
    "history = model.fit(\n",
    "    x_train,\n",
    "    y_train,\n",
    "    batch_size=128,\n",
    "    epochs=10,\n",
    "    validation_split=0.3)"
   ]
  },
  {
   "cell_type": "code",
   "execution_count": 4,
   "metadata": {},
   "outputs": [],
   "source": [
    "(x_train, y_train), (x_test, y_test) = keras.datasets.fashion_mnist.load_data()"
   ]
  },
  {
   "cell_type": "code",
   "execution_count": 5,
   "metadata": {},
   "outputs": [],
   "source": [
    "for layer in model.layers[:-1]:\n",
    "    layer.trainable = False"
   ]
  },
  {
   "cell_type": "code",
   "execution_count": 6,
   "metadata": {},
   "outputs": [
    {
     "name": "stdout",
     "output_type": "stream",
     "text": [
      "Epoch 1/10\n",
      "329/329 [==============================] - 4s 9ms/step - loss: 0.9608 - acc: 0.7409 - val_loss: 0.5293 - val_acc: 0.8223\n",
      "Epoch 2/10\n",
      "329/329 [==============================] - 3s 8ms/step - loss: 0.4617 - acc: 0.8422 - val_loss: 0.4420 - val_acc: 0.8464\n",
      "Epoch 3/10\n",
      "329/329 [==============================] - 2s 7ms/step - loss: 0.3900 - acc: 0.8616 - val_loss: 0.4464 - val_acc: 0.8429\n",
      "Epoch 4/10\n",
      "329/329 [==============================] - 2s 8ms/step - loss: 0.3608 - acc: 0.8703 - val_loss: 0.4064 - val_acc: 0.8618\n",
      "Epoch 5/10\n",
      "329/329 [==============================] - 3s 8ms/step - loss: 0.3411 - acc: 0.8765 - val_loss: 0.3929 - val_acc: 0.8619\n",
      "Epoch 6/10\n",
      "329/329 [==============================] - 3s 8ms/step - loss: 0.3311 - acc: 0.8805 - val_loss: 0.3899 - val_acc: 0.8653\n",
      "Epoch 7/10\n",
      "329/329 [==============================] - 2s 7ms/step - loss: 0.3220 - acc: 0.8827 - val_loss: 0.4015 - val_acc: 0.8621\n",
      "Epoch 8/10\n",
      "329/329 [==============================] - 3s 8ms/step - loss: 0.3159 - acc: 0.8840 - val_loss: 0.4102 - val_acc: 0.8559\n",
      "Epoch 9/10\n",
      "329/329 [==============================] - 2s 8ms/step - loss: 0.3110 - acc: 0.8863 - val_loss: 0.3911 - val_acc: 0.8632\n",
      "Epoch 10/10\n",
      "329/329 [==============================] - 2s 7ms/step - loss: 0.3069 - acc: 0.8876 - val_loss: 0.4135 - val_acc: 0.8588\n"
     ]
    }
   ],
   "source": [
    "model.compile(\n",
    "    loss=keras.losses.SparseCategoricalCrossentropy(),\n",
    "    optimizer=keras.optimizers.Adam(),\n",
    "    metrics=['acc'])\n",
    "\n",
    "history = model.fit(\n",
    "    x_train,\n",
    "    y_train,\n",
    "    batch_size=128,\n",
    "    epochs=10,\n",
    "    validation_split=0.3)"
   ]
  },
  {
   "cell_type": "code",
   "execution_count": null,
   "metadata": {},
   "outputs": [],
   "source": []
  }
 ],
 "metadata": {
  "kernelspec": {
   "display_name": "Python 3.9.13 ('python-calcolo-numerico-5v4ihblp')",
   "language": "python",
   "name": "python3"
  },
  "language_info": {
   "codemirror_mode": {
    "name": "ipython",
    "version": 3
   },
   "file_extension": ".py",
   "mimetype": "text/x-python",
   "name": "python",
   "nbconvert_exporter": "python",
   "pygments_lexer": "ipython3",
   "version": "3.9.13"
  },
  "orig_nbformat": 4,
  "vscode": {
   "interpreter": {
    "hash": "bff96ae05cbca38553397e8b82810313cdead769dbf63fb2d18b6e7c166b3c3a"
   }
  }
 },
 "nbformat": 4,
 "nbformat_minor": 2
}

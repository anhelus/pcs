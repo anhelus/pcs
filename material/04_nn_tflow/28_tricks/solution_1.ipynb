{
 "cells": [
  {
   "cell_type": "code",
   "execution_count": 7,
   "metadata": {},
   "outputs": [],
   "source": [
    "import pathlib\n",
    "from tensorflow import keras\n",
    "\n",
    "dataset_url = \"https://storage.googleapis.com/download.tensorflow.org/example_images/flower_photos.tgz\"\n",
    "data_dir = keras.utils.get_file(origin=dataset_url,\n",
    "                            extract=True)\n",
    "data_dir = pathlib.Path(data_dir).parent\n",
    "data_dir = pathlib.Path(data_dir, 'flower_photos')"
   ]
  },
  {
   "cell_type": "code",
   "execution_count": 8,
   "metadata": {},
   "outputs": [
    {
     "name": "stdout",
     "output_type": "stream",
     "text": [
      "Found 3670 files belonging to 5 classes.\n",
      "Using 2936 files for training.\n",
      "Found 3670 files belonging to 5 classes.\n",
      "Using 734 files for validation.\n"
     ]
    }
   ],
   "source": [
    "IMG_SIZE = (150, 150)\n",
    "BATCH_SIZE = 32\n",
    "SEED = 42\n",
    "\n",
    "train = keras.utils.image_dataset_from_directory(\n",
    "    data_dir,\n",
    "    validation_split=0.2,\n",
    "    subset='training',\n",
    "    image_size=IMG_SIZE,\n",
    "    batch_size=BATCH_SIZE,\n",
    "    seed=SEED)\n",
    "\n",
    "val = keras.utils.image_dataset_from_directory(\n",
    "    data_dir,\n",
    "    validation_split=0.2,\n",
    "    subset='validation',\n",
    "    image_size=IMG_SIZE,\n",
    "    batch_size=BATCH_SIZE,\n",
    "    seed=SEED)"
   ]
  },
  {
   "cell_type": "code",
   "execution_count": 9,
   "metadata": {},
   "outputs": [
    {
     "name": "stdout",
     "output_type": "stream",
     "text": [
      "Numero di classi: ['daisy', 'dandelion', 'roses', 'sunflowers', 'tulips']\n"
     ]
    }
   ],
   "source": [
    "print(f'Numero di classi: {train.class_names}')"
   ]
  },
  {
   "cell_type": "code",
   "execution_count": 10,
   "metadata": {},
   "outputs": [
    {
     "name": "stdout",
     "output_type": "stream",
     "text": [
      "Epoch 1/25\n",
      "92/92 [==============================] - 12s 65ms/step - loss: 1.3194 - acc: 0.4527 - val_loss: 1.1019 - val_acc: 0.5586\n",
      "Epoch 2/25\n",
      "92/92 [==============================] - 3s 29ms/step - loss: 0.9484 - acc: 0.6362 - val_loss: 1.0106 - val_acc: 0.6022\n",
      "Epoch 3/25\n",
      "92/92 [==============================] - 3s 30ms/step - loss: 0.6109 - acc: 0.7899 - val_loss: 1.0695 - val_acc: 0.5886\n",
      "Epoch 4/25\n",
      "92/92 [==============================] - 3s 29ms/step - loss: 0.2717 - acc: 0.9271 - val_loss: 1.3622 - val_acc: 0.5545\n",
      "Epoch 5/25\n",
      "92/92 [==============================] - 3s 29ms/step - loss: 0.1440 - acc: 0.9649 - val_loss: 1.6413 - val_acc: 0.5313\n",
      "Epoch 6/25\n",
      "92/92 [==============================] - 3s 29ms/step - loss: 0.0921 - acc: 0.9813 - val_loss: 1.6891 - val_acc: 0.5477\n",
      "Epoch 7/25\n",
      "92/92 [==============================] - 3s 30ms/step - loss: 0.0465 - acc: 0.9911 - val_loss: 1.8941 - val_acc: 0.5368\n",
      "Epoch 8/25\n",
      "92/92 [==============================] - 3s 31ms/step - loss: 0.0180 - acc: 0.9980 - val_loss: 2.1331 - val_acc: 0.5463\n",
      "Epoch 9/25\n",
      "92/92 [==============================] - 3s 31ms/step - loss: 0.0065 - acc: 1.0000 - val_loss: 2.3606 - val_acc: 0.5504\n",
      "Epoch 10/25\n",
      "92/92 [==============================] - 3s 32ms/step - loss: 0.0075 - acc: 0.9990 - val_loss: 2.3386 - val_acc: 0.5599\n",
      "Epoch 11/25\n",
      "92/92 [==============================] - 3s 30ms/step - loss: 0.0018 - acc: 1.0000 - val_loss: 2.4441 - val_acc: 0.5572\n",
      "Epoch 12/25\n",
      "92/92 [==============================] - 3s 33ms/step - loss: 0.0010 - acc: 1.0000 - val_loss: 2.5210 - val_acc: 0.5518\n",
      "Epoch 13/25\n",
      "92/92 [==============================] - 3s 31ms/step - loss: 7.6214e-04 - acc: 1.0000 - val_loss: 2.5810 - val_acc: 0.5504\n",
      "Epoch 14/25\n",
      "92/92 [==============================] - 3s 33ms/step - loss: 6.1801e-04 - acc: 1.0000 - val_loss: 2.6399 - val_acc: 0.5436\n",
      "Epoch 15/25\n",
      "92/92 [==============================] - 3s 32ms/step - loss: 5.1000e-04 - acc: 1.0000 - val_loss: 2.6969 - val_acc: 0.5477\n",
      "Epoch 16/25\n",
      "92/92 [==============================] - 3s 30ms/step - loss: 4.3727e-04 - acc: 1.0000 - val_loss: 2.7355 - val_acc: 0.5490\n",
      "Epoch 17/25\n",
      "92/92 [==============================] - 3s 32ms/step - loss: 3.7251e-04 - acc: 1.0000 - val_loss: 2.7722 - val_acc: 0.5477\n",
      "Epoch 18/25\n",
      "92/92 [==============================] - 3s 32ms/step - loss: 3.3150e-04 - acc: 1.0000 - val_loss: 2.8018 - val_acc: 0.5450\n",
      "Epoch 19/25\n",
      "92/92 [==============================] - 3s 31ms/step - loss: 2.8941e-04 - acc: 1.0000 - val_loss: 2.8417 - val_acc: 0.5436\n",
      "Epoch 20/25\n",
      "92/92 [==============================] - 3s 32ms/step - loss: 2.5860e-04 - acc: 1.0000 - val_loss: 2.8758 - val_acc: 0.5422\n",
      "Epoch 21/25\n",
      "92/92 [==============================] - 3s 30ms/step - loss: 2.3132e-04 - acc: 1.0000 - val_loss: 2.9009 - val_acc: 0.5450\n",
      "Epoch 22/25\n",
      "92/92 [==============================] - 3s 32ms/step - loss: 2.1107e-04 - acc: 1.0000 - val_loss: 2.9321 - val_acc: 0.5436\n",
      "Epoch 23/25\n",
      "92/92 [==============================] - 3s 32ms/step - loss: 1.8977e-04 - acc: 1.0000 - val_loss: 2.9535 - val_acc: 0.5450\n",
      "Epoch 24/25\n",
      "92/92 [==============================] - 3s 31ms/step - loss: 1.6989e-04 - acc: 1.0000 - val_loss: 2.9885 - val_acc: 0.5450\n",
      "Epoch 25/25\n",
      "92/92 [==============================] - 3s 32ms/step - loss: 1.5404e-04 - acc: 1.0000 - val_loss: 3.0126 - val_acc: 0.5450\n"
     ]
    }
   ],
   "source": [
    "model = keras.Sequential(\n",
    "    [\n",
    "        keras.Input(shape=(150, 150, 3)),\n",
    "        keras.layers.Rescaling(1./255),\n",
    "        keras.layers.Conv2D(\n",
    "            32,\n",
    "            (3, 3),\n",
    "            activation='relu',\n",
    "            name='conv_1'),\n",
    "        keras.layers.MaxPooling2D(name='max_pool_1'),\n",
    "        keras.layers.Conv2D(\n",
    "            32,\n",
    "            (3, 3),\n",
    "            activation='relu',\n",
    "            name='conv_2'),\n",
    "        keras.layers.Flatten(),\n",
    "        keras.layers.Dense(\n",
    "            5,\n",
    "            name='classification',\n",
    "            activation='softmax')\n",
    "    ]\n",
    ")\n",
    "\n",
    "model.compile(\n",
    "    loss=keras.losses.SparseCategoricalCrossentropy(),\n",
    "    optimizer=keras.optimizers.Adam(),\n",
    "    metrics=['acc'])\n",
    "\n",
    "history = model.fit(\n",
    "    train,\n",
    "    validation_data=val,\n",
    "    epochs=25)"
   ]
  },
  {
   "cell_type": "code",
   "execution_count": 13,
   "metadata": {},
   "outputs": [
    {
     "name": "stdout",
     "output_type": "stream",
     "text": [
      "Epoch 1/25\n",
      "92/92 [==============================] - 4s 34ms/step - loss: 0.0717 - acc: 0.9850 - val_loss: 2.4065 - val_acc: 0.5177\n",
      "Epoch 2/25\n",
      "92/92 [==============================] - 3s 31ms/step - loss: 0.0037 - acc: 1.0000 - val_loss: 2.5553 - val_acc: 0.5409\n",
      "Epoch 3/25\n",
      "92/92 [==============================] - 3s 32ms/step - loss: 5.8918e-04 - acc: 1.0000 - val_loss: 2.8134 - val_acc: 0.5477\n",
      "Epoch 4/25\n",
      "92/92 [==============================] - 3s 30ms/step - loss: 2.9476e-04 - acc: 1.0000 - val_loss: 2.9427 - val_acc: 0.5381\n",
      "Epoch 5/25\n",
      "92/92 [==============================] - 3s 30ms/step - loss: 2.0502e-04 - acc: 1.0000 - val_loss: 3.0159 - val_acc: 0.5300\n"
     ]
    }
   ],
   "source": [
    "model.compile(\n",
    "    loss=keras.losses.SparseCategoricalCrossentropy(),\n",
    "    optimizer=keras.optimizers.Adam(),\n",
    "    metrics=['acc'])\n",
    "\n",
    "callbacks = [\n",
    "    keras.callbacks.EarlyStopping(\n",
    "        monitor='val_acc',\n",
    "        min_delta=0.01,\n",
    "        patience=3,\n",
    "        restore_best_weights=True),\n",
    "    keras.callbacks.TensorBoard()\n",
    "]\n",
    "\n",
    "history = model.fit(\n",
    "    train,\n",
    "    validation_data=val,\n",
    "    callbacks=callbacks,\n",
    "    epochs=25)"
   ]
  },
  {
   "cell_type": "code",
   "execution_count": null,
   "metadata": {},
   "outputs": [],
   "source": []
  }
 ],
 "metadata": {
  "kernelspec": {
   "display_name": "Python 3.9.13 ('python-calcolo-numerico-5v4ihblp')",
   "language": "python",
   "name": "python3"
  },
  "language_info": {
   "codemirror_mode": {
    "name": "ipython",
    "version": 3
   },
   "file_extension": ".py",
   "mimetype": "text/x-python",
   "name": "python",
   "nbconvert_exporter": "python",
   "pygments_lexer": "ipython3",
   "version": "3.9.13"
  },
  "orig_nbformat": 4,
  "vscode": {
   "interpreter": {
    "hash": "bff96ae05cbca38553397e8b82810313cdead769dbf63fb2d18b6e7c166b3c3a"
   }
  }
 },
 "nbformat": 4,
 "nbformat_minor": 2
}

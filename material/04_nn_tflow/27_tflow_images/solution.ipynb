{
 "cells": [
  {
   "cell_type": "code",
   "execution_count": 1,
   "metadata": {},
   "outputs": [],
   "source": [
    "import matplotlib.pyplot as plt\n",
    "\n",
    "from tensorflow import keras"
   ]
  },
  {
   "cell_type": "code",
   "execution_count": 2,
   "metadata": {},
   "outputs": [],
   "source": [
    "(x_train, y_train), (x_test, y_test) = keras.datasets.cifar10.load_data()"
   ]
  },
  {
   "cell_type": "code",
   "execution_count": 3,
   "metadata": {},
   "outputs": [
    {
     "name": "stdout",
     "output_type": "stream",
     "text": [
      "Epoch 1/25\n",
      "274/274 [==============================] - 9s 13ms/step - loss: 3.2097 - acc: 0.1050 - val_loss: 2.2956 - val_acc: 0.1155\n",
      "Epoch 2/25\n",
      "274/274 [==============================] - 3s 9ms/step - loss: 2.1934 - acc: 0.1847 - val_loss: 2.0876 - val_acc: 0.2366\n",
      "Epoch 3/25\n",
      "274/274 [==============================] - 3s 9ms/step - loss: 2.0210 - acc: 0.2585 - val_loss: 1.9515 - val_acc: 0.2869\n",
      "Epoch 4/25\n",
      "274/274 [==============================] - 3s 9ms/step - loss: 1.8664 - acc: 0.3126 - val_loss: 1.7075 - val_acc: 0.3701\n",
      "Epoch 5/25\n",
      "274/274 [==============================] - 2s 9ms/step - loss: 1.6964 - acc: 0.3793 - val_loss: 1.5202 - val_acc: 0.4507\n",
      "Epoch 6/25\n",
      "274/274 [==============================] - 2s 9ms/step - loss: 1.5473 - acc: 0.4375 - val_loss: 1.4442 - val_acc: 0.4815\n",
      "Epoch 7/25\n",
      "274/274 [==============================] - 3s 10ms/step - loss: 1.4603 - acc: 0.4729 - val_loss: 1.4053 - val_acc: 0.5000\n",
      "Epoch 8/25\n",
      "274/274 [==============================] - 3s 9ms/step - loss: 1.3892 - acc: 0.5019 - val_loss: 1.3572 - val_acc: 0.5187\n",
      "Epoch 9/25\n",
      "274/274 [==============================] - 2s 9ms/step - loss: 1.3287 - acc: 0.5257 - val_loss: 1.3324 - val_acc: 0.5301\n",
      "Epoch 10/25\n",
      "274/274 [==============================] - 2s 9ms/step - loss: 1.2891 - acc: 0.5423 - val_loss: 1.3049 - val_acc: 0.5438\n",
      "Epoch 11/25\n",
      "274/274 [==============================] - 2s 9ms/step - loss: 1.2618 - acc: 0.5526 - val_loss: 1.3428 - val_acc: 0.5235\n",
      "Epoch 12/25\n",
      "274/274 [==============================] - 3s 9ms/step - loss: 1.2155 - acc: 0.5671 - val_loss: 1.2658 - val_acc: 0.5605\n",
      "Epoch 13/25\n",
      "274/274 [==============================] - 3s 9ms/step - loss: 1.1869 - acc: 0.5761 - val_loss: 1.3628 - val_acc: 0.5225\n",
      "Epoch 14/25\n",
      "274/274 [==============================] - 2s 9ms/step - loss: 1.1645 - acc: 0.5882 - val_loss: 1.2356 - val_acc: 0.5704\n",
      "Epoch 15/25\n",
      "274/274 [==============================] - 3s 9ms/step - loss: 1.1478 - acc: 0.5936 - val_loss: 1.2124 - val_acc: 0.5795\n",
      "Epoch 16/25\n",
      "274/274 [==============================] - 3s 10ms/step - loss: 1.1227 - acc: 0.6062 - val_loss: 1.2266 - val_acc: 0.5811\n",
      "Epoch 17/25\n",
      "274/274 [==============================] - 3s 9ms/step - loss: 1.0959 - acc: 0.6117 - val_loss: 1.2202 - val_acc: 0.5853\n",
      "Epoch 18/25\n",
      "274/274 [==============================] - 3s 9ms/step - loss: 1.0873 - acc: 0.6170 - val_loss: 1.1874 - val_acc: 0.5925\n",
      "Epoch 19/25\n",
      "274/274 [==============================] - 2s 9ms/step - loss: 1.0418 - acc: 0.6335 - val_loss: 1.2342 - val_acc: 0.5775\n",
      "Epoch 20/25\n",
      "274/274 [==============================] - 2s 9ms/step - loss: 1.0464 - acc: 0.6328 - val_loss: 1.2327 - val_acc: 0.5835\n",
      "Epoch 21/25\n",
      "274/274 [==============================] - 3s 9ms/step - loss: 1.0250 - acc: 0.6403 - val_loss: 1.1787 - val_acc: 0.6010\n",
      "Epoch 22/25\n",
      "274/274 [==============================] - 2s 9ms/step - loss: 1.0096 - acc: 0.6445 - val_loss: 1.2286 - val_acc: 0.5915\n",
      "Epoch 23/25\n",
      "274/274 [==============================] - 2s 9ms/step - loss: 0.9997 - acc: 0.6445 - val_loss: 1.1938 - val_acc: 0.5938\n",
      "Epoch 24/25\n",
      "274/274 [==============================] - 2s 9ms/step - loss: 0.9980 - acc: 0.6508 - val_loss: 1.1963 - val_acc: 0.5985\n",
      "Epoch 25/25\n",
      "274/274 [==============================] - 2s 9ms/step - loss: 0.9900 - acc: 0.6551 - val_loss: 1.1761 - val_acc: 0.6028\n"
     ]
    }
   ],
   "source": [
    "model = keras.Sequential(\n",
    "    [\n",
    "        keras.Input(\n",
    "            shape=(32, 32, 3),\n",
    "            name='input'),\n",
    "        keras.layers.Conv2D(\n",
    "            32,\n",
    "            (3, 3),\n",
    "            activation='relu',\n",
    "            name='conv_1'),\n",
    "        keras.layers.MaxPool2D(\n",
    "            pool_size=(2, 2),\n",
    "            name='pooling_1'),\n",
    "        keras.layers.Conv2D(\n",
    "            32,\n",
    "            (3, 3),\n",
    "            activation='relu',\n",
    "            name='conv_2'),\n",
    "        keras.layers.Dropout(\n",
    "            0.5,\n",
    "            name='dropout'),\n",
    "        keras.layers.Flatten(name='flatten'),\n",
    "        keras.layers.Dense(\n",
    "            10,\n",
    "            activation='softmax',\n",
    "            name='classification')\n",
    "    ]\n",
    ")\n",
    "\n",
    "model.compile(\n",
    "    loss=keras.losses.SparseCategoricalCrossentropy(),\n",
    "    optimizer=keras.optimizers.Adam(),\n",
    "    metrics=['acc'])\n",
    "\n",
    "history = model.fit(\n",
    "    x_train,\n",
    "    y_train,\n",
    "    batch_size=128,\n",
    "    epochs=25,\n",
    "    validation_split=0.3)"
   ]
  },
  {
   "cell_type": "code",
   "execution_count": 4,
   "metadata": {},
   "outputs": [
    {
     "data": {
      "image/png": "[encoded data removed]",
      "text/plain": [
       "<Figure size 432x288 with 1 Axes>"
      ]
     },
     "metadata": {
      "needs_background": "light"
     },
     "output_type": "display_data"
    }
   ],
   "source": [
    "plt.plot(\n",
    "    range(1, 26),\n",
    "    history.history['acc'],\n",
    "    label='Accuracy')\n",
    "plt.plot(\n",
    "    range(1, 26),\n",
    "    history.history['val_acc'],\n",
    "    label='Validation accuracy')\n",
    "plt.legend()\n",
    "plt.grid()\n",
    "plt.show()"
   ]
  },
  {
   "cell_type": "code",
   "execution_count": 5,
   "metadata": {},
   "outputs": [
    {
     "name": "stdout",
     "output_type": "stream",
     "text": [
      "Model: \"sequential\"\n",
      "_________________________________________________________________\n",
      " Layer (type)                Output Shape              Param #   \n",
      "=================================================================\n",
      " conv_1 (Conv2D)             (None, 30, 30, 32)        896       \n",
      "                                                                 \n",
      " pooling_1 (MaxPooling2D)    (None, 15, 15, 32)        0         \n",
      "                                                                 \n",
      " conv_2 (Conv2D)             (None, 13, 13, 32)        9248      \n",
      "                                                                 \n",
      " dropout (Dropout)           (None, 13, 13, 32)        0         \n",
      "                                                                 \n",
      " flatten (Flatten)           (None, 5408)              0         \n",
      "                                                                 \n",
      " classification (Dense)      (None, 10)                54090     \n",
      "                                                                 \n",
      "=================================================================\n",
      "Total params: 64,234\n",
      "Trainable params: 64,234\n",
      "Non-trainable params: 0\n",
      "_________________________________________________________________\n"
     ]
    },
    {
     "ename": "",
     "evalue": "",
     "output_type": "error",
     "traceback": [
      "\u001b[1;31mThe Kernel crashed while executing code in the the current cell or a previous cell. Please review the code in the cell(s) to identify a possible cause of the failure. Click <a href='https://aka.ms/vscodeJupyterKernelCrash'>here</a> for more info. View Jupyter <a href='command:jupyter.viewOutput'>log</a> for further details."
     ]
    }
   ],
   "source": [
    "model.summary()"
   ]
  },
  {
   "cell_type": "code",
   "execution_count": null,
   "metadata": {},
   "outputs": [],
   "source": []
  }
 ],
 "metadata": {
  "kernelspec": {
   "display_name": "Python 3.9.13 ('python-calcolo-numerico-5v4ihblp')",
   "language": "python",
   "name": "python3"
  },
  "language_info": {
   "codemirror_mode": {
    "name": "ipython",
    "version": 3
   },
   "file_extension": ".py",
   "mimetype": "text/x-python",
   "name": "python",
   "nbconvert_exporter": "python",
   "pygments_lexer": "ipython3",
   "version": "3.9.13"
  },
  "orig_nbformat": 4,
  "vscode": {
   "interpreter": {
    "hash": "bff96ae05cbca38553397e8b82810313cdead769dbf63fb2d18b6e7c166b3c3a"
   }
  }
 },
 "nbformat": 4,
 "nbformat_minor": 2
}

{
 "cells": [
  {
   "cell_type": "code",
   "execution_count": 1,
   "metadata": {},
   "outputs": [],
   "source": [
    "import matplotlib.pyplot as plt\n",
    "\n",
    "from tensorflow import keras"
   ]
  },
  {
   "cell_type": "code",
   "execution_count": 2,
   "metadata": {},
   "outputs": [
    {
     "name": "stdout",
     "output_type": "stream",
     "text": [
      "Downloading data from https://www.cs.toronto.edu/~kriz/cifar-10-python.tar.gz\n",
      "170498071/170498071 [==============================] - 44s 0us/step\n"
     ]
    }
   ],
   "source": [
    "(x_train, y_train), (x_test, y_test) = keras.datasets.cifar10.load_data()"
   ]
  },
  {
   "cell_type": "code",
   "execution_count": 9,
   "metadata": {},
   "outputs": [
    {
     "name": "stdout",
     "output_type": "stream",
     "text": [
      "Epoch 1/25\n",
      "274/274 [==============================] - 10s 11ms/step - loss: 3.2724 - acc: 0.1169 - val_loss: 2.2252 - val_acc: 0.1824\n",
      "Epoch 2/25\n",
      "274/274 [==============================] - 2s 8ms/step - loss: 2.1691 - acc: 0.2060 - val_loss: 1.9921 - val_acc: 0.2853\n",
      "Epoch 3/25\n",
      "274/274 [==============================] - 2s 8ms/step - loss: 2.0005 - acc: 0.2699 - val_loss: 1.8404 - val_acc: 0.3393\n",
      "Epoch 4/25\n",
      "274/274 [==============================] - 2s 8ms/step - loss: 1.8293 - acc: 0.3381 - val_loss: 1.7372 - val_acc: 0.3875\n",
      "Epoch 5/25\n",
      "274/274 [==============================] - 2s 8ms/step - loss: 1.6998 - acc: 0.3806 - val_loss: 1.6025 - val_acc: 0.4337\n",
      "Epoch 6/25\n",
      "274/274 [==============================] - 2s 8ms/step - loss: 1.5813 - acc: 0.4294 - val_loss: 1.5022 - val_acc: 0.4590\n",
      "Epoch 7/25\n",
      "274/274 [==============================] - 2s 8ms/step - loss: 1.4969 - acc: 0.4595 - val_loss: 1.4344 - val_acc: 0.4902\n",
      "Epoch 8/25\n",
      "274/274 [==============================] - 2s 8ms/step - loss: 1.4406 - acc: 0.4833 - val_loss: 1.4112 - val_acc: 0.5042\n",
      "Epoch 9/25\n",
      "274/274 [==============================] - 2s 8ms/step - loss: 1.3942 - acc: 0.5026 - val_loss: 1.4059 - val_acc: 0.5034\n",
      "Epoch 10/25\n",
      "274/274 [==============================] - 2s 8ms/step - loss: 1.3470 - acc: 0.5181 - val_loss: 1.3668 - val_acc: 0.5149\n",
      "Epoch 11/25\n",
      "274/274 [==============================] - 2s 8ms/step - loss: 1.3159 - acc: 0.5293 - val_loss: 1.4040 - val_acc: 0.5107\n",
      "Epoch 12/25\n",
      "274/274 [==============================] - 2s 8ms/step - loss: 1.2683 - acc: 0.5507 - val_loss: 1.3496 - val_acc: 0.5238\n",
      "Epoch 13/25\n",
      "274/274 [==============================] - 2s 8ms/step - loss: 1.2472 - acc: 0.5548 - val_loss: 1.3097 - val_acc: 0.5417\n",
      "Epoch 14/25\n",
      "274/274 [==============================] - 2s 8ms/step - loss: 1.2077 - acc: 0.5726 - val_loss: 1.2766 - val_acc: 0.5606\n",
      "Epoch 15/25\n",
      "274/274 [==============================] - 2s 8ms/step - loss: 1.1756 - acc: 0.5859 - val_loss: 1.2278 - val_acc: 0.5747\n",
      "Epoch 16/25\n",
      "274/274 [==============================] - 2s 8ms/step - loss: 1.1679 - acc: 0.5905 - val_loss: 1.2392 - val_acc: 0.5667\n",
      "Epoch 17/25\n",
      "274/274 [==============================] - 2s 8ms/step - loss: 1.1288 - acc: 0.6035 - val_loss: 1.2404 - val_acc: 0.5757\n",
      "Epoch 18/25\n",
      "274/274 [==============================] - 2s 8ms/step - loss: 1.1169 - acc: 0.6065 - val_loss: 1.2203 - val_acc: 0.5845\n",
      "Epoch 19/25\n",
      "274/274 [==============================] - 2s 8ms/step - loss: 1.0936 - acc: 0.6144 - val_loss: 1.2195 - val_acc: 0.5822\n",
      "Epoch 20/25\n",
      "274/274 [==============================] - 2s 8ms/step - loss: 1.0794 - acc: 0.6192 - val_loss: 1.1774 - val_acc: 0.5997\n",
      "Epoch 21/25\n",
      "274/274 [==============================] - 2s 8ms/step - loss: 1.0553 - acc: 0.6260 - val_loss: 1.1869 - val_acc: 0.5980\n",
      "Epoch 22/25\n",
      "274/274 [==============================] - 2s 8ms/step - loss: 1.0478 - acc: 0.6317 - val_loss: 1.1620 - val_acc: 0.6098\n",
      "Epoch 23/25\n",
      "274/274 [==============================] - 2s 8ms/step - loss: 1.0273 - acc: 0.6367 - val_loss: 1.1973 - val_acc: 0.6013\n",
      "Epoch 24/25\n",
      "274/274 [==============================] - 2s 8ms/step - loss: 1.0068 - acc: 0.6490 - val_loss: 1.1789 - val_acc: 0.6086\n",
      "Epoch 25/25\n",
      "274/274 [==============================] - 2s 8ms/step - loss: 0.9930 - acc: 0.6528 - val_loss: 1.1657 - val_acc: 0.6181\n"
     ]
    }
   ],
   "source": [
    "model = keras.Sequential(\n",
    "    [\n",
    "        keras.Input(\n",
    "            shape=(32, 32, 3),\n",
    "            name='input'),\n",
    "        keras.layers.Conv2D(\n",
    "            32,\n",
    "            (3, 3),\n",
    "            activation='relu',\n",
    "            name='conv_1'),\n",
    "        keras.layers.MaxPool2D(\n",
    "            pool_size=(2, 2),\n",
    "            name='pooling_1'),\n",
    "        keras.layers.Conv2D(\n",
    "            32,\n",
    "            (3, 3),\n",
    "            activation='relu',\n",
    "            name='conv_2'),\n",
    "        keras.layers.Dropout(\n",
    "            0.5,\n",
    "            name='dropout'),\n",
    "        keras.layers.Flatten(name='flatten'),\n",
    "        keras.layers.Dense(\n",
    "            10,\n",
    "            activation='softmax',\n",
    "            name='classification')\n",
    "    ]\n",
    ")\n",
    "\n",
    "model.compile(\n",
    "    loss=keras.losses.SparseCategoricalCrossentropy(),\n",
    "    optimizer=keras.optimizers.Adam(),\n",
    "    metrics=['acc'])\n",
    "\n",
    "history = model.fit(\n",
    "    x_train,\n",
    "    y_train,\n",
    "    batch_size=128,\n",
    "    epochs=25,\n",
    "    validation_split=0.3)"
   ]
  },
  {
   "cell_type": "code",
   "execution_count": 12,
   "metadata": {},
   "outputs": [
    {
     "data": {
      "image/png": "[encoded data removed]",
      "text/plain": [
       "<Figure size 432x288 with 1 Axes>"
      ]
     },
     "metadata": {
      "needs_background": "light"
     },
     "output_type": "display_data"
    }
   ],
   "source": [
    "plt.plot(\n",
    "    range(1, 26),\n",
    "    history.history['acc'],\n",
    "    label='Accuracy')\n",
    "plt.plot(\n",
    "    range(1, 26),\n",
    "    history.history['val_acc'],\n",
    "    label='Validation accuracy')\n",
    "plt.legend()\n",
    "plt.grid()\n",
    "plt.show()"
   ]
  },
  {
   "cell_type": "code",
   "execution_count": null,
   "metadata": {},
   "outputs": [],
   "source": []
  }
 ],
 "metadata": {
  "kernelspec": {
   "display_name": "Python 3.9.13 ('python-calcolo-numerico-5v4ihblp')",
   "language": "python",
   "name": "python3"
  },
  "language_info": {
   "codemirror_mode": {
    "name": "ipython",
    "version": 3
   },
   "file_extension": ".py",
   "mimetype": "text/x-python",
   "name": "python",
   "nbconvert_exporter": "python",
   "pygments_lexer": "ipython3",
   "version": "3.9.13"
  },
  "orig_nbformat": 4,
  "vscode": {
   "interpreter": {
    "hash": "bff96ae05cbca38553397e8b82810313cdead769dbf63fb2d18b6e7c166b3c3a"
   }
  }
 },
 "nbformat": 4,
 "nbformat_minor": 2
}

{
 "cells": [
  {
   "cell_type": "code",
   "execution_count": 1,
   "metadata": {},
   "outputs": [],
   "source": [
    "def warn(*args, **kwargs):\n",
    "    pass\n",
    "import warnings\n",
    "warnings.warn = warn\n",
    "\n",
    "import matplotlib.pyplot as plt\n",
    "import seaborn as sns\n",
    "from sklearn.tree import DecisionTreeClassifier, DecisionTreeRegressor, plot_tree\n",
    "from sklearn.ensemble import RandomForestClassifier, RandomForestRegressor\n",
    "from sklearn.neural_network import MLPClassifier, MLPRegressor\n",
    "from sklearn.model_selection import train_test_split\n",
    "from sklearn.metrics import precision_score, recall_score, accuracy_score, mean_squared_error"
   ]
  },
  {
   "cell_type": "code",
   "execution_count": 2,
   "metadata": {},
   "outputs": [],
   "source": [
    "tips = sns.load_dataset('tips')\n",
    "# Preparazione del dataset per la regressione\n",
    "X_reg = tips['total_bill'].values.reshape(-1, 1)\n",
    "y_reg = tips['tip'].values.reshape(-1, 1)\n",
    "X_train_reg, X_test_reg, y_train_reg, y_test_reg = train_test_split(X_reg, y_reg)\n",
    "# Preparazione del dataset per la classificazione\n",
    "X_clf = tips.loc[:, ('total_bill', 'tip', 'size')].values\n",
    "y_clf = tips.loc[:, ('day')].values\n",
    "X_train_clf, X_test_clf, y_train_clf, y_test_clf = train_test_split(X_clf, y_clf)"
   ]
  },
  {
   "cell_type": "code",
   "execution_count": 3,
   "metadata": {},
   "outputs": [
    {
     "name": "stdout",
     "output_type": "stream",
     "text": [
      "Precisione\n",
      "DT 0.4\n",
      "RF 0.4\n",
      "MLP 0.2\n",
      "Recall\n",
      "DT 0.39\n",
      "RF 0.38\n",
      "MLP 0.29\n",
      "Accuratezza\n",
      "DT 0.44\n",
      "RF 0.44\n",
      "MLP 0.39\n"
     ]
    }
   ],
   "source": [
    "# Esercizio 19.1\n",
    "dt_clf = DecisionTreeClassifier()\n",
    "rf_clf = RandomForestClassifier()\n",
    "mlp_clf = MLPClassifier()\n",
    "# Fit\n",
    "dt_clf.fit(X_train_clf, y_train_clf)\n",
    "rf_clf.fit(X_train_clf, y_train_clf)\n",
    "mlp_clf.fit(X_train_clf, y_train_clf)\n",
    "# Visualizzazione risultati\n",
    "print('Precisione')\n",
    "print('DT {}'.format(round(precision_score(y_test_clf, dt_clf.predict(X_test_clf), average='macro'), 2)))\n",
    "print('RF {}'.format(round(precision_score(y_test_clf, rf_clf.predict(X_test_clf), average='macro'), 2)))\n",
    "print('MLP {}'.format(round(precision_score(y_test_clf, mlp_clf.predict(X_test_clf), average='macro'), 2)))\n",
    "print('Recall')\n",
    "print('DT {}'.format(round(recall_score(y_test_clf, dt_clf.predict(X_test_clf), average='macro'), 2)))\n",
    "print('RF {}'.format(round(recall_score(y_test_clf, rf_clf.predict(X_test_clf), average='macro'), 2)))\n",
    "print('MLP {}'.format(round(recall_score(y_test_clf, mlp_clf.predict(X_test_clf), average='macro'), 2)))\n",
    "print('Accuratezza')\n",
    "print('DT {}'.format(round(accuracy_score(y_test_clf, dt_clf.predict(X_test_clf)), 2)))\n",
    "print('RF {}'.format(round(accuracy_score(y_test_clf, rf_clf.predict(X_test_clf)), 2)))\n",
    "print('MLP {}'.format(round(accuracy_score(y_test_clf, mlp_clf.predict(X_test_clf)), 2)))"
   ]
  },
  {
   "cell_type": "code",
   "execution_count": 4,
   "metadata": {},
   "outputs": [
    {
     "name": "stdout",
     "output_type": "stream",
     "text": [
      "MSE\n",
      "DT 2.24\n",
      "RF 1.45\n",
      "MLP 1.36\n"
     ]
    }
   ],
   "source": [
    "# Esercizio 19.2\n",
    "dt_reg = DecisionTreeRegressor()\n",
    "rf_reg = RandomForestRegressor()\n",
    "mlp_reg = MLPRegressor()\n",
    "# Fit\n",
    "dt_reg.fit(X_train_reg, y_train_reg)\n",
    "rf_reg.fit(X_train_reg, y_train_reg)\n",
    "mlp_reg.fit(X_train_reg, y_train_reg)\n",
    "# Visualizzazione risultati\n",
    "print('MSE')\n",
    "print('DT {}'.format(round(mean_squared_error(y_test_reg, dt_reg.predict(X_test_reg)), 2)))\n",
    "print('RF {}'.format(round(mean_squared_error(y_test_reg, rf_reg.predict(X_test_reg)), 2)))\n",
    "print('MLP {}'.format(round(mean_squared_error(y_test_reg, mlp_reg.predict(X_test_reg)), 2)))\n"
   ]
  },
  {
   "cell_type": "code",
   "execution_count": 5,
   "metadata": {},
   "outputs": [
    {
     "data": {
      "text/plain": [
       "[]"
      ]
     },
     "execution_count": 5,
     "metadata": {},
     "output_type": "execute_result"
    },
    {
     "data": {
      "image/png": "[encoded data removed]",
      "text/plain": [
       "<Figure size 432x288 with 1 Axes>"
      ]
     },
     "metadata": {
      "needs_background": "light"
     },
     "output_type": "display_data"
    }
   ],
   "source": [
    "# Esercizio E19.3\n",
    "plot_tree(\n",
    "    dt_clf,\n",
    "    max_depth=1,\n",
    "    feature_names=['total_bill', 'tip', 'size'],\n",
    "    class_names=['Thu', 'Fri', 'Sat', 'Sun'])\n",
    "plt.plot()"
   ]
  },
  {
   "cell_type": "code",
   "execution_count": 6,
   "metadata": {},
   "outputs": [
    {
     "name": "stdout",
     "output_type": "stream",
     "text": [
      "Precisione\n",
      "DT 0.22\n",
      "RF 0.41\n",
      "MLP 0.08\n",
      "Recall\n",
      "DT 0.28\n",
      "RF 0.4\n",
      "MLP 0.25\n",
      "Accuratezza\n",
      "DT 0.36\n",
      "RF 0.46\n",
      "MLP 0.31\n"
     ]
    }
   ],
   "source": [
    "# Esercizio 19.4\n",
    "dt_clf_new = DecisionTreeClassifier(max_depth=2)\n",
    "rf_clf_new = RandomForestClassifier(n_estimators=150)\n",
    "mlp_clf_new = MLPClassifier(hidden_layer_sizes=(5, 50))\n",
    "# Fit\n",
    "dt_clf_new.fit(X_train_clf, y_train_clf)\n",
    "rf_clf_new.fit(X_train_clf, y_train_clf)\n",
    "mlp_clf_new.fit(X_train_clf, y_train_clf)\n",
    "# Visualizzazione risultati\n",
    "print('Precisione')\n",
    "print('DT {}'.format(round(precision_score(y_test_clf, dt_clf_new.predict(X_test_clf), average='macro'), 2)))\n",
    "print('RF {}'.format(round(precision_score(y_test_clf, rf_clf_new.predict(X_test_clf), average='macro'), 2)))\n",
    "print('MLP {}'.format(round(precision_score(y_test_clf, mlp_clf_new.predict(X_test_clf), average='macro'), 2)))\n",
    "print('Recall')\n",
    "print('DT {}'.format(round(recall_score(y_test_clf, dt_clf_new.predict(X_test_clf), average='macro'), 2)))\n",
    "print('RF {}'.format(round(recall_score(y_test_clf, rf_clf_new.predict(X_test_clf), average='macro'), 2)))\n",
    "print('MLP {}'.format(round(recall_score(y_test_clf, mlp_clf_new.predict(X_test_clf), average='macro'), 2)))\n",
    "print('Accuratezza')\n",
    "print('DT {}'.format(round(accuracy_score(y_test_clf, dt_clf_new.predict(X_test_clf)), 2)))\n",
    "print('RF {}'.format(round(accuracy_score(y_test_clf, rf_clf_new.predict(X_test_clf)), 2)))\n",
    "print('MLP {}'.format(round(accuracy_score(y_test_clf, mlp_clf_new.predict(X_test_clf)), 2)))"
   ]
  },
  {
   "cell_type": "code",
   "execution_count": null,
   "metadata": {},
   "outputs": [],
   "source": []
  }
 ],
 "metadata": {
  "interpreter": {
   "hash": "7e839c8b180add470685c312f80c5052d76ad832267cc737f47096ba635d476f"
  },
  "kernelspec": {
   "display_name": "Python 3.9.13 ('python-data-science-3i9dh0ED')",
   "language": "python",
   "name": "python3"
  },
  "language_info": {
   "codemirror_mode": {
    "name": "ipython",
    "version": 3
   },
   "file_extension": ".py",
   "mimetype": "text/x-python",
   "name": "python",
   "nbconvert_exporter": "python",
   "pygments_lexer": "ipython3",
   "version": "3.9.13"
  },
  "orig_nbformat": 4
 },
 "nbformat": 4,
 "nbformat_minor": 2
}

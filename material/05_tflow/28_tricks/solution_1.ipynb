{
 "cells": [
  {
   "cell_type": "code",
   "execution_count": 1,
   "metadata": {},
   "outputs": [],
   "source": [
    "import pathlib\n",
    "from tensorflow import keras"
   ]
  },
  {
   "cell_type": "code",
   "execution_count": 2,
   "metadata": {},
   "outputs": [],
   "source": [
    "# Scarichiamo il dataset Flowers.\n",
    "dataset_url = \"https://storage.googleapis.com/download.tensorflow.org/example_images/flower_photos.tgz\"\n",
    "data_dir = keras.utils.get_file(origin=dataset_url, extract=True)\n",
    "# Selezioniamo la cartella dove sono presenti i dati. Di solito è ~\\user\\username\\.keras\\dataset.\n",
    "data_dir = pathlib.Path(data_dir).parent\n",
    "data_dir = pathlib.Path(data_dir, 'flower_photos')"
   ]
  },
  {
   "cell_type": "code",
   "execution_count": 3,
   "metadata": {},
   "outputs": [
    {
     "name": "stdout",
     "output_type": "stream",
     "text": [
      "Found 3670 files belonging to 5 classes.\n",
      "Using 2936 files for training.\n",
      "Found 3670 files belonging to 5 classes.\n",
      "Using 734 files for validation.\n"
     ]
    }
   ],
   "source": [
    "IMG_SIZE = (150, 150)\n",
    "BATCH_SIZE = 32\n",
    "SEED = 42\n",
    "\n",
    "# Creiamo i dataset di training e validazione. Usiamo un validation\n",
    "# split di 0.2 (quindi con rapporto 80/20).\n",
    "train = keras.utils.image_dataset_from_directory(\n",
    "    data_dir,\n",
    "    validation_split=0.2,\n",
    "    subset='training',\n",
    "    image_size=IMG_SIZE,\n",
    "    batch_size=BATCH_SIZE,\n",
    "    seed=SEED)\n",
    "\n",
    "val = keras.utils.image_dataset_from_directory(\n",
    "    data_dir,\n",
    "    validation_split=0.2,\n",
    "    subset='validation',\n",
    "    image_size=IMG_SIZE,\n",
    "    batch_size=BATCH_SIZE,\n",
    "    seed=SEED)"
   ]
  },
  {
   "cell_type": "code",
   "execution_count": 4,
   "metadata": {},
   "outputs": [
    {
     "name": "stdout",
     "output_type": "stream",
     "text": [
      "Classi nel dataset: ['daisy', 'dandelion', 'roses', 'sunflowers', 'tulips']\n"
     ]
    }
   ],
   "source": [
    "# Mostriamo a schermo le classi presenti nel dataset usando\n",
    "# l'attributo class_names.\n",
    "print(f'Classi nel dataset: {train.class_names}')"
   ]
  },
  {
   "cell_type": "code",
   "execution_count": 5,
   "metadata": {},
   "outputs": [
    {
     "name": "stdout",
     "output_type": "stream",
     "text": [
      "Epoch 1/10\n",
      "92/92 [==============================] - 12s 71ms/step - loss: 1.3459 - sparse_categorical_accuracy: 0.4033 - val_loss: 1.1497 - val_sparse_categorical_accuracy: 0.5150\n",
      "Epoch 2/10\n",
      "92/92 [==============================] - 3s 31ms/step - loss: 1.0604 - sparse_categorical_accuracy: 0.5780 - val_loss: 1.0443 - val_sparse_categorical_accuracy: 0.5681\n",
      "Epoch 3/10\n",
      "92/92 [==============================] - 3s 32ms/step - loss: 0.9090 - sparse_categorical_accuracy: 0.6553 - val_loss: 1.0648 - val_sparse_categorical_accuracy: 0.5913\n",
      "Epoch 4/10\n",
      "92/92 [==============================] - 3s 31ms/step - loss: 0.7436 - sparse_categorical_accuracy: 0.7268 - val_loss: 1.0015 - val_sparse_categorical_accuracy: 0.5967\n",
      "Epoch 5/10\n",
      "92/92 [==============================] - 3s 30ms/step - loss: 0.5686 - sparse_categorical_accuracy: 0.8025 - val_loss: 1.0516 - val_sparse_categorical_accuracy: 0.5940\n",
      "Epoch 6/10\n",
      "92/92 [==============================] - 3s 33ms/step - loss: 0.4330 - sparse_categorical_accuracy: 0.8600 - val_loss: 1.1916 - val_sparse_categorical_accuracy: 0.6049\n",
      "Epoch 7/10\n",
      "92/92 [==============================] - 3s 33ms/step - loss: 0.3122 - sparse_categorical_accuracy: 0.8954 - val_loss: 1.2321 - val_sparse_categorical_accuracy: 0.6063\n",
      "Epoch 8/10\n",
      "92/92 [==============================] - 3s 32ms/step - loss: 0.2319 - sparse_categorical_accuracy: 0.9261 - val_loss: 1.3763 - val_sparse_categorical_accuracy: 0.5817\n",
      "Epoch 9/10\n",
      "92/92 [==============================] - 3s 31ms/step - loss: 0.1724 - sparse_categorical_accuracy: 0.9475 - val_loss: 1.4427 - val_sparse_categorical_accuracy: 0.6090\n",
      "Epoch 10/10\n",
      "92/92 [==============================] - 3s 31ms/step - loss: 0.1384 - sparse_categorical_accuracy: 0.9619 - val_loss: 1.5306 - val_sparse_categorical_accuracy: 0.6063\n"
     ]
    }
   ],
   "source": [
    "# Creiamo ed addestriamo un modello.\n",
    "model = keras.Sequential(\n",
    "    [\n",
    "        keras.Input(shape=(150, 150, 3)),\n",
    "        keras.layers.Rescaling(1./255),\n",
    "        keras.layers.Conv2D(\n",
    "            32,\n",
    "            (3, 3),\n",
    "            activation='relu',\n",
    "            name='conv_1'),\n",
    "        keras.layers.MaxPooling2D(name='max_pool_1'),\n",
    "        keras.layers.Conv2D(\n",
    "            32,\n",
    "            (3, 3),\n",
    "            activation='relu',\n",
    "            name='conv_2'),\n",
    "        keras.layers.MaxPooling2D(name='max_pool_2'),\n",
    "        keras.layers.Dropout(0.5),\n",
    "        keras.layers.Flatten(),\n",
    "        keras.layers.Dense(\n",
    "            5,\n",
    "            name='classification',\n",
    "            activation='softmax')\n",
    "    ]\n",
    ")\n",
    "\n",
    "# Copiamo il modello (ci servirà per il passo successivo)\n",
    "model_callbacks = keras.models.clone_model(model)\n",
    "\n",
    "model.compile(\n",
    "    loss=keras.losses.SparseCategoricalCrossentropy(),\n",
    "    optimizer=keras.optimizers.Adam(),\n",
    "    metrics=keras.metrics.SparseCategoricalAccuracy())\n",
    "\n",
    "history = model.fit(\n",
    "    train,\n",
    "    validation_data=val,\n",
    "    epochs=10)"
   ]
  },
  {
   "cell_type": "code",
   "execution_count": 6,
   "metadata": {},
   "outputs": [
    {
     "name": "stdout",
     "output_type": "stream",
     "text": [
      "Epoch 1/10\n",
      "92/92 [==============================] - 4s 34ms/step - loss: 1.2732 - sparse_categorical_accuracy: 0.4578 - val_loss: 1.1505 - val_sparse_categorical_accuracy: 0.4973\n",
      "Epoch 2/10\n",
      "92/92 [==============================] - 3s 32ms/step - loss: 1.0171 - sparse_categorical_accuracy: 0.6025 - val_loss: 1.0055 - val_sparse_categorical_accuracy: 0.5736\n",
      "Epoch 3/10\n",
      "92/92 [==============================] - 3s 32ms/step - loss: 0.8463 - sparse_categorical_accuracy: 0.6863 - val_loss: 1.0019 - val_sparse_categorical_accuracy: 0.5954\n",
      "Epoch 4/10\n",
      "92/92 [==============================] - 3s 31ms/step - loss: 0.6439 - sparse_categorical_accuracy: 0.7674 - val_loss: 1.0911 - val_sparse_categorical_accuracy: 0.5831\n",
      "Epoch 5/10\n",
      "92/92 [==============================] - 3s 32ms/step - loss: 0.4864 - sparse_categorical_accuracy: 0.8328 - val_loss: 1.1926 - val_sparse_categorical_accuracy: 0.6022\n",
      "Epoch 6/10\n",
      "92/92 [==============================] - 3s 32ms/step - loss: 0.3339 - sparse_categorical_accuracy: 0.8917 - val_loss: 1.1721 - val_sparse_categorical_accuracy: 0.6185\n",
      "Epoch 7/10\n",
      "92/92 [==============================] - 3s 31ms/step - loss: 0.2575 - sparse_categorical_accuracy: 0.9155 - val_loss: 1.3068 - val_sparse_categorical_accuracy: 0.6144\n",
      "Epoch 8/10\n",
      "92/92 [==============================] - 3s 34ms/step - loss: 0.2059 - sparse_categorical_accuracy: 0.9349 - val_loss: 1.2959 - val_sparse_categorical_accuracy: 0.6158\n",
      "Epoch 9/10\n",
      "92/92 [==============================] - 3s 33ms/step - loss: 0.1617 - sparse_categorical_accuracy: 0.9493 - val_loss: 1.4595 - val_sparse_categorical_accuracy: 0.6240\n"
     ]
    }
   ],
   "source": [
    "# Riaddestriamo il modello utilizzando i callback.\n",
    "model_callbacks.compile(\n",
    "    loss=keras.losses.SparseCategoricalCrossentropy(),\n",
    "    optimizer=keras.optimizers.Adam(),\n",
    "    metrics=keras.metrics.SparseCategoricalAccuracy())\n",
    "\n",
    "callbacks = [\n",
    "    keras.callbacks.EarlyStopping(\n",
    "        monitor='val_sparse_categorical_accuracy',\n",
    "        min_delta=0.01,\n",
    "        patience=3,\n",
    "        restore_best_weights=True),\n",
    "    keras.callbacks.TensorBoard()\n",
    "]\n",
    "\n",
    "history = model_callbacks.fit(\n",
    "    train,\n",
    "    validation_data=val,\n",
    "    callbacks=callbacks,\n",
    "    epochs=10)"
   ]
  },
  {
   "cell_type": "code",
   "execution_count": null,
   "metadata": {},
   "outputs": [],
   "source": []
  }
 ],
 "metadata": {
  "kernelspec": {
   "display_name": "Python 3 (ipykernel)",
   "language": "python",
   "name": "python3"
  },
  "language_info": {
   "codemirror_mode": {
    "name": "ipython",
    "version": 3
   },
   "file_extension": ".py",
   "mimetype": "text/x-python",
   "name": "python",
   "nbconvert_exporter": "python",
   "pygments_lexer": "ipython3",
   "version": "3.9.13"
  },
  "vscode": {
   "interpreter": {
    "hash": "bff96ae05cbca38553397e8b82810313cdead769dbf63fb2d18b6e7c166b3c3a"
   }
  }
 },
 "nbformat": 4,
 "nbformat_minor": 2
}

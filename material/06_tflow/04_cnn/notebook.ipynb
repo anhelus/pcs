{
 "cells": [
  {
   "cell_type": "code",
   "execution_count": 1,
   "metadata": {},
   "outputs": [],
   "source": [
    "import matplotlib.pyplot as plt\n",
    "\n",
    "from tensorflow import keras"
   ]
  },
  {
   "cell_type": "code",
   "execution_count": 2,
   "metadata": {},
   "outputs": [],
   "source": [
    "(x_train, y_train), (x_test, y_test) = keras.datasets.mnist.load_data()"
   ]
  },
  {
   "cell_type": "code",
   "execution_count": 3,
   "metadata": {},
   "outputs": [
    {
     "name": "stdout",
     "output_type": "stream",
     "text": [
      "Epoch 1/10\n",
      "329/329 [==============================] - 11s 11ms/step - loss: 0.6364 - acc: 0.9299 - val_loss: 0.0998 - val_acc: 0.9699\n",
      "Epoch 2/10\n",
      "329/329 [==============================] - 3s 9ms/step - loss: 0.0569 - acc: 0.9826 - val_loss: 0.0942 - val_acc: 0.9735\n",
      "Epoch 3/10\n",
      "329/329 [==============================] - 3s 9ms/step - loss: 0.0334 - acc: 0.9888 - val_loss: 0.0978 - val_acc: 0.9754\n",
      "Epoch 4/10\n",
      "329/329 [==============================] - 3s 9ms/step - loss: 0.0226 - acc: 0.9924 - val_loss: 0.0996 - val_acc: 0.9763\n",
      "Epoch 5/10\n",
      "329/329 [==============================] - 3s 9ms/step - loss: 0.0140 - acc: 0.9950 - val_loss: 0.1192 - val_acc: 0.9759\n",
      "Epoch 6/10\n",
      "329/329 [==============================] - 3s 9ms/step - loss: 0.0158 - acc: 0.9944 - val_loss: 0.1297 - val_acc: 0.9753\n",
      "Epoch 7/10\n",
      "329/329 [==============================] - 3s 9ms/step - loss: 0.0160 - acc: 0.9948 - val_loss: 0.1336 - val_acc: 0.9756\n",
      "Epoch 8/10\n",
      "329/329 [==============================] - 3s 9ms/step - loss: 0.0194 - acc: 0.9938 - val_loss: 0.1422 - val_acc: 0.9739\n",
      "Epoch 9/10\n",
      "329/329 [==============================] - 3s 9ms/step - loss: 0.0173 - acc: 0.9946 - val_loss: 0.1607 - val_acc: 0.9751\n",
      "Epoch 10/10\n",
      "329/329 [==============================] - 3s 9ms/step - loss: 0.0117 - acc: 0.9962 - val_loss: 0.1559 - val_acc: 0.9764\n"
     ]
    },
    {
     "ename": "",
     "evalue": "",
     "output_type": "error",
     "traceback": [
      "\u001b[1;31mThe Kernel crashed while executing code in the the current cell or a previous cell. Please review the code in the cell(s) to identify a possible cause of the failure. Click <a href='https://aka.ms/vscodeJupyterKernelCrash'>here</a> for more info. View Jupyter <a href='command:jupyter.viewOutput'>log</a> for further details."
     ]
    }
   ],
   "source": [
    "model = keras.Sequential(\n",
    "    [\n",
    "        keras.Input(shape=(28, 28, 1)),\n",
    "        keras.layers.Conv2D(32, (3, 3), activation='relu', name='layer1'),\n",
    "        keras.layers.Conv2D(32, (3, 3), activation='relu'),\n",
    "        keras.layers.Flatten(),\n",
    "        keras.layers.Dense(10, name='classification', activation='softmax')\n",
    "    ]\n",
    ")\n",
    "model.compile(\n",
    "    loss=keras.losses.SparseCategoricalCrossentropy(),\n",
    "    optimizer=keras.optimizers.Adam(),\n",
    "    metrics=['acc'])\n",
    "history = model.fit(\n",
    "    x_train,\n",
    "    y_train,\n",
    "    batch_size=128,\n",
    "    epochs=10,\n",
    "    validation_split=0.3)"
   ]
  },
  {
   "cell_type": "code",
   "execution_count": null,
   "metadata": {},
   "outputs": [],
   "source": [
    "# nota su categorical crossentropy: https://datascience.stackexchange.com/questions/41921/sparse-categorical-crossentropy-vs-categorical-crossentropy-keras-accuracy"
   ]
  },
  {
   "cell_type": "code",
   "execution_count": 9,
   "metadata": {},
   "outputs": [
    {
     "data": {
      "image/png": "[encoded data removed]",
      "text/plain": [
       "<Figure size 432x288 with 1 Axes>"
      ]
     },
     "metadata": {
      "needs_background": "light"
     },
     "output_type": "display_data"
    }
   ],
   "source": [
    "plt.plot(range(1, 26), history.history['acc'], label='Accuracy')\n",
    "plt.plot(range(1, 26), history.history['val_acc'], label='Validation accuracy')\n",
    "plt.grid()\n",
    "plt.legend()\n",
    "plt.xlabel('Training epoch')\n",
    "plt.ylabel('Accuracy (%)')\n",
    "plt.show()"
   ]
  },
  {
   "cell_type": "code",
   "execution_count": null,
   "metadata": {},
   "outputs": [],
   "source": []
  }
 ],
 "metadata": {
  "kernelspec": {
   "display_name": "Python 3.9.13 ('python-calcolo-numerico-5v4ihblp')",
   "language": "python",
   "name": "python3"
  },
  "language_info": {
   "codemirror_mode": {
    "name": "ipython",
    "version": 3
   },
   "file_extension": ".py",
   "mimetype": "text/x-python",
   "name": "python",
   "nbconvert_exporter": "python",
   "pygments_lexer": "ipython3",
   "version": "3.9.13"
  },
  "orig_nbformat": 4,
  "vscode": {
   "interpreter": {
    "hash": "bff96ae05cbca38553397e8b82810313cdead769dbf63fb2d18b6e7c166b3c3a"
   }
  }
 },
 "nbformat": 4,
 "nbformat_minor": 2
}

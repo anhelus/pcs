{
 "cells": [
  {
   "cell_type": "code",
   "execution_count": null,
   "metadata": {},
   "outputs": [],
   "source": [
    "import numpy as np\n",
    "import matplotlib.pyplot as plt\n",
    "\n",
    "from scipy import linalg\n",
    "from scipy.signal import savgol_filter\n",
    "from scipy.stats import norm, uniform"
   ]
  },
  {
   "cell_type": "markdown",
   "metadata": {},
   "source": [
    "Vediamo come valutare empiricamente due distribuzioni di probabilità:"
   ]
  },
  {
   "cell_type": "code",
   "execution_count": null,
   "metadata": {},
   "outputs": [],
   "source": [
    "def plot_distribution(dtype, title):\n",
    "    x = np.linspace(dtype.ppf(0.01), dtype.ppf(0.99), 100)\n",
    "    r = dtype.rvs(size=1000)\n",
    "    plt.plot(x, dtype.pdf(x))\n",
    "    plt.hist(r, density=True)\n",
    "    plt.title(title)\n",
    "    plt.show()\n",
    "\n",
    "plot_distribution(norm, 'Distribuzione normale')\n",
    "plot_distribution(uniform, 'Distribuzione uniforme')"
   ]
  },
  {
   "cell_type": "markdown",
   "metadata": {},
   "source": [
    "Vediamo come calcolare determinante ed inversa di una matrice:"
   ]
  },
  {
   "cell_type": "code",
   "execution_count": null,
   "metadata": {},
   "outputs": [],
   "source": [
    "mat = np.array([[1, 5, 3], [0, 1, 3], [2, 2, 4]])\n",
    "d = linalg.det(mat)\n",
    "i = linalg.inv(mat)\n",
    "\n",
    "print(d)\n",
    "print(i)"
   ]
  },
  {
   "cell_type": "markdown",
   "metadata": {},
   "source": [
    "Vediamo come filtrare un segnale:"
   ]
  },
  {
   "cell_type": "code",
   "execution_count": null,
   "metadata": {},
   "outputs": [],
   "source": [
    "noise_arr = np.random.normal(0, 1, size=(100,))\n",
    "filtered = savgol_filter(noise_arr, 7, 2)\n",
    "plt.plot(np.arange(100), noise_arr, alpha=0.5, label='Segnale originale')\n",
    "plt.plot(np.arange(100), filtered, label='Segnale filtrato')\n",
    "plt.grid()\n",
    "plt.legend()\n",
    "plt.show()"
   ]
  },
  {
   "cell_type": "code",
   "execution_count": null,
   "metadata": {},
   "outputs": [],
   "source": []
  }
 ],
 "metadata": {
  "interpreter": {
   "hash": "bff96ae05cbca38553397e8b82810313cdead769dbf63fb2d18b6e7c166b3c3a"
  },
  "kernelspec": {
   "display_name": "Python 3.10.4 ('python-calcolo-numerico-5v4ihblp')",
   "language": "python",
   "name": "python3"
  },
  "language_info": {
   "codemirror_mode": {
    "name": "ipython",
    "version": 3
   },
   "file_extension": ".py",
   "mimetype": "text/x-python",
   "name": "python",
   "nbconvert_exporter": "python",
   "pygments_lexer": "ipython3",
   "version": "3.10.4"
  },
  "orig_nbformat": 4
 },
 "nbformat": 4,
 "nbformat_minor": 2
}

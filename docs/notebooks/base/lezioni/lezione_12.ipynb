{
 "cells": [
  {
   "cell_type": "code",
   "execution_count": 1,
   "id": "c0ee2637-ddac-4cb7-ad6b-cc2879df8e6d",
   "metadata": {},
   "outputs": [],
   "source": [
    "import numpy as np\n",
    "import matplotlib.pyplot as plt\n",
    "\n",
    "from sklearn.linear_model import LinearRegression"
   ]
  },
  {
   "cell_type": "markdown",
   "id": "075a28de-6906-4731-a2b1-99f2644eab7b",
   "metadata": {},
   "source": [
    "In questa lezione, vedremo un semplice esempio di stimatore usando Scikit Learn. In tal senso, useremo un *regressore lineare*, ovvero un oggetto in grado di implementare l'omonima tecnica di analisi dati.\n",
    "\n",
    "Per prima cosa, creiamo dei dati casuali, volutamente casuali, ma che però \"ricordino\" in qualche modo una retta."
   ]
  },
  {
   "cell_type": "code",
   "execution_count": 2,
   "id": "8ba924d3-56c2-41e8-b806-bbfb8710fc55",
   "metadata": {
    "tags": []
   },
   "outputs": [],
   "source": [
    "X = np.arange(100).reshape(-1, 1)\n",
    "y = np.arange(100) + np.random.randint(-20, 20, 100)"
   ]
  },
  {
   "cell_type": "markdown",
   "id": "35278835-8527-4683-982d-376f29b2689c",
   "metadata": {},
   "source": [
    "Notiamo che stiamo usando la funzione `reshape(-1, 1)` per organizzare il vettore `X` come una colonna. Questo è richiesto da NumPy nel caso si abbia a che fare con un vettore ad `n` dati ed una singola feature.\n",
    "\n",
    "Creiamo adesso un oggetto di tipo `LinearRegression`, e chiamiamo il metodo `fit(X, y)` per calcolare la retta interpolante mediante il metodo dei minimi quadrati."
   ]
  },
  {
   "cell_type": "code",
   "execution_count": 3,
   "id": "68e1849d-3ac9-4a76-964c-e3c7c9d099f8",
   "metadata": {},
   "outputs": [
    {
     "data": {
      "text/plain": [
       "LinearRegression()"
      ]
     },
     "execution_count": 3,
     "metadata": {},
     "output_type": "execute_result"
    }
   ],
   "source": [
    "rgr = LinearRegression()\n",
    "rgr.fit(X, y)"
   ]
  },
  {
   "cell_type": "markdown",
   "id": "8aa6e05f-f554-41e5-840d-ec2538726b7f",
   "metadata": {},
   "source": [
    "Usiamo adesso il metodo `predict` per ottenere i valori predetti dallo stimatore al variare di `X`."
   ]
  },
  {
   "cell_type": "code",
   "execution_count": 4,
   "id": "951c85ef-ed85-4fb7-b0e6-e28aa6d9d28c",
   "metadata": {},
   "outputs": [],
   "source": [
    "y_pred = rgr.predict(X)"
   ]
  },
  {
   "cell_type": "markdown",
   "id": "7be7e38f-0343-48f3-b2d7-335a6a06a1a7",
   "metadata": {},
   "source": [
    "Visualizziamo i risultati."
   ]
  },
  {
   "cell_type": "code",
   "execution_count": 5,
   "id": "78567da1-4fe4-49d8-b0e2-93130ae0d28d",
   "metadata": {
    "tags": []
   },
   "outputs": [
    {
     "data": {
      "image/png": "[encoded data removed]",
      "text/plain": [
       "<Figure size 432x288 with 1 Axes>"
      ]
     },
     "metadata": {
      "needs_background": "light"
     },
     "output_type": "display_data"
    }
   ],
   "source": [
    "fig, ax  = plt.subplots()\n",
    "\n",
    "ax.scatter(X, y, label='Valori originari di X ed y')\n",
    "ax.plot(y_pred, color='red', label='Retta interpolante')\n",
    "ax.legend()\n",
    "plt.show()"
   ]
  },
  {
   "cell_type": "code",
   "execution_count": null,
   "id": "f66ebd6b-edf0-41ae-896e-c3d24334c12c",
   "metadata": {},
   "outputs": [],
   "source": []
  }
 ],
 "metadata": {
  "kernelspec": {
   "display_name": "Python 3 (ipykernel)",
   "language": "python",
   "name": "python3"
  },
  "language_info": {
   "codemirror_mode": {
    "name": "ipython",
    "version": 3
   },
   "file_extension": ".py",
   "mimetype": "text/x-python",
   "name": "python",
   "nbconvert_exporter": "python",
   "pygments_lexer": "ipython3",
   "version": "3.8.7"
  }
 },
 "nbformat": 4,
 "nbformat_minor": 5
}

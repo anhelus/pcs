{
 "cells": [
  {
   "cell_type": "code",
   "execution_count": 1,
   "id": "82069089-8ac7-47d9-bddc-fd211c4382d5",
   "metadata": {},
   "outputs": [],
   "source": [
    "import numpy as np\n",
    "import tensorflow as tf\n",
    "from tensorflow import keras\n",
    "from tensorflow.keras import layers"
   ]
  },
  {
   "cell_type": "markdown",
   "id": "0af1fffa-7a40-49ce-93ae-2294e7151aef",
   "metadata": {},
   "source": [
    "In questa lezione, vedremo come usare Keras e le due API che offre per creare dei modelli per il deep learning.\n",
    "\n",
    "## Lettura dei dati\n",
    "\n",
    "Al solito, come primo step, carichiamo in memoria i dati che vogliamo analizzare. In questo caso, useremo uno dei dataset forniti con Keras ([qui](https://keras.io/api/datasets/) un elenco completo), ovvero MNIST, estremamente utilizzato come semplice dataset per l'image recognition.\n",
    "\n",
    "Una volta caricato il dataset, usando la funzione `load_data` del package `keras.dataset.mnist`, andremo ad effettuare alcune semplici operazioni di preprocessing; in particolare:\n",
    "\n",
    "* normalizzeremo i valori assunti dai pixel delle singole immagini in modo che ricadano tra 0 ed 1;\n",
    "* useremo la funzione [`expand_dims`](https://numpy.org/doc/stable/reference/generated/numpy.expand_dims.html) di NumPy per fare in modo che sia aggiunta una nuova dimensione ai dati, in modo che rispettino il parametro `input_shape`, rappresentativo della dimensione dell'array attesa in ingresso dalla rete;\n",
    "* infine, convertiremo le label in dati *categorical*, mediante la funzione `to_categorical` contenuta nel package `keras.utils`. In particolare, questa funzione effettua il *one-hot encoding* del vettore passato in ingresso."
   ]
  },
  {
   "cell_type": "code",
   "execution_count": 2,
   "id": "fd8c7af1-0027-4e56-9db4-4ab4dae6d8a2",
   "metadata": {},
   "outputs": [
    {
     "name": "stdout",
     "output_type": "stream",
     "text": [
      "Dimensioni di X prima dell'uso di expand_dims: (60000, 28, 28)\n",
      "Dimensioni di X dopo l'uso di expand_dims: (60000, 28, 28, 1)\n",
      "\n",
      "Forma dei primi cinque elementi di y_train prima di to_categorical: \n",
      "[5 0 4 1 9]\n",
      "Forma del primo elemento di y_train dopo to_categorical: \n",
      "[[0. 0. 0. 0. 0. 1. 0. 0. 0. 0.]\n",
      " [1. 0. 0. 0. 0. 0. 0. 0. 0. 0.]\n",
      " [0. 0. 0. 0. 1. 0. 0. 0. 0. 0.]\n",
      " [0. 1. 0. 0. 0. 0. 0. 0. 0. 0.]\n",
      " [0. 0. 0. 0. 0. 0. 0. 0. 0. 1.]]\n"
     ]
    }
   ],
   "source": [
    "num_classes = 10\n",
    "input_shape = (28, 28, 1)\n",
    "(X_train, y_train), (X_test, y_test) = keras.datasets.mnist.load_data()\n",
    "X_train = X_train.astype(\"float32\") / 255\n",
    "X_test = X_test.astype(\"float32\") / 255\n",
    "print('Dimensioni di X prima dell\\'uso di expand_dims: {}'.format(X_train.shape))\n",
    "X_train = np.expand_dims(X_train, -1)\n",
    "print('Dimensioni di X dopo l\\'uso di expand_dims: {}'.format(X_train.shape))\n",
    "X_test = np.expand_dims(X_test, -1)\n",
    "print('\\nForma dei primi cinque elementi di y_train prima di to_categorical: \\n{}'.format(y_train[:5]))\n",
    "y_train = keras.utils.to_categorical(y_train, num_classes)\n",
    "print('Forma del primo elemento di y_train dopo to_categorical: \\n{}'.format(y_train[:5,:]))\n",
    "y_test = keras.utils.to_categorical(y_test, num_classes)"
   ]
  },
  {
   "cell_type": "markdown",
   "id": "a2568057-686f-491b-a6ab-f27cd01c3527",
   "metadata": {},
   "source": [
    "## La Sequential API\n",
    "\n",
    "Abbiamo già accennato al fatto che Keras offra due diverse possibilità per la creazione di un modello di rete neurale.\n",
    "\n",
    "La prima che tratteremo è la **Sequential API**, che modella la rete come una sequenza (lineare) di layer, ognuno dei quali ha esattamente un tensore di ingresso ed un tensore di uscita.\n",
    "\n",
    "Ad esempio, possiamo creare una rete (di dimensioni volutamente ridotte) concatenando, ad un layer di `Input`, due sequenze di convoluzione e max pooling, un layer `Flatten` ed il classico layer di classificazione (`Dense` con `activation='softmax'`)."
   ]
  },
  {
   "cell_type": "code",
   "execution_count": 3,
   "id": "edb187d1-8bef-4599-bc6b-50267b4998a1",
   "metadata": {},
   "outputs": [],
   "source": [
    "smodel = keras.Sequential([\n",
    "    layers.Input(shape=input_shape),\n",
    "    layers.Conv2D(32, kernel_size=(3, 3), activation='relu'),\n",
    "    layers.MaxPooling2D(pool_size=(2, 2)),\n",
    "    layers.Conv2D(32, kernel_size=(3, 3), activation='relu'),\n",
    "    layers.MaxPooling2D(pool_size=(2, 2)),\n",
    "    layers.Flatten(),\n",
    "    layers.Dense(num_classes, activation='softmax')\n",
    "])"
   ]
  },
  {
   "cell_type": "markdown",
   "id": "4049b47e-00fa-47b1-8a8a-6a6d31bbbd93",
   "metadata": {},
   "source": [
    "Possiamo rivedere la struttura di questo modello mediante la funzione `summary()`."
   ]
  },
  {
   "cell_type": "code",
   "execution_count": 4,
   "id": "19f4a70c-1eb5-4307-a732-0488ec687930",
   "metadata": {},
   "outputs": [
    {
     "name": "stdout",
     "output_type": "stream",
     "text": [
      "Model: \"sequential\"\n",
      "_________________________________________________________________\n",
      "Layer (type)                 Output Shape              Param #   \n",
      "=================================================================\n",
      "conv2d (Conv2D)              (None, 26, 26, 32)        320       \n",
      "_________________________________________________________________\n",
      "max_pooling2d (MaxPooling2D) (None, 13, 13, 32)        0         \n",
      "_________________________________________________________________\n",
      "conv2d_1 (Conv2D)            (None, 11, 11, 32)        9248      \n",
      "_________________________________________________________________\n",
      "max_pooling2d_1 (MaxPooling2 (None, 5, 5, 32)          0         \n",
      "_________________________________________________________________\n",
      "flatten (Flatten)            (None, 800)               0         \n",
      "_________________________________________________________________\n",
      "dense (Dense)                (None, 10)                8010      \n",
      "=================================================================\n",
      "Total params: 17,578\n",
      "Trainable params: 17,578\n",
      "Non-trainable params: 0\n",
      "_________________________________________________________________\n"
     ]
    }
   ],
   "source": [
    "smodel.summary()"
   ]
  },
  {
   "cell_type": "markdown",
   "id": "65aff1e9-a52f-458f-bdb3-af873e6c4371",
   "metadata": {},
   "source": [
    "Possiamo adesso usare la funzione `compile` per finalizzare il modello, specificando le funzioni di costo e l'ottimizzatore da usare, e poi addestrarlo sui dati a nostra disposizione usando il metodo `fit`."
   ]
  },
  {
   "cell_type": "code",
   "execution_count": 5,
   "id": "846caf06-b55c-42ab-803b-0f6ee25d890f",
   "metadata": {},
   "outputs": [
    {
     "name": "stdout",
     "output_type": "stream",
     "text": [
      "Epoch 1/10\n",
      "938/938 [==============================] - 13s 13ms/step - loss: 0.5459 - accuracy: 0.8408\n",
      "Epoch 2/10\n",
      "938/938 [==============================] - 13s 14ms/step - loss: 0.0769 - accuracy: 0.9762\n",
      "Epoch 3/10\n",
      "938/938 [==============================] - 13s 13ms/step - loss: 0.0564 - accuracy: 0.9829\n",
      "Epoch 4/10\n",
      "938/938 [==============================] - 13s 13ms/step - loss: 0.0432 - accuracy: 0.9871\n",
      "Epoch 5/10\n",
      "938/938 [==============================] - 13s 13ms/step - loss: 0.0389 - accuracy: 0.9883\n",
      "Epoch 6/10\n",
      "938/938 [==============================] - 13s 13ms/step - loss: 0.0316 - accuracy: 0.9906\n",
      "Epoch 7/10\n",
      "938/938 [==============================] - 13s 14ms/step - loss: 0.0262 - accuracy: 0.9924\n",
      "Epoch 8/10\n",
      "938/938 [==============================] - 14s 15ms/step - loss: 0.0235 - accuracy: 0.9930\n",
      "Epoch 9/10\n",
      "938/938 [==============================] - 13s 14ms/step - loss: 0.0204 - accuracy: 0.9935\n",
      "Epoch 10/10\n",
      "938/938 [==============================] - 13s 14ms/step - loss: 0.0176 - accuracy: 0.9945\n"
     ]
    },
    {
     "data": {
      "text/plain": [
       "<tensorflow.python.keras.callbacks.History at 0x1faafc36df0>"
      ]
     },
     "execution_count": 5,
     "metadata": {},
     "output_type": "execute_result"
    }
   ],
   "source": [
    "smodel.compile(\n",
    "    loss='categorical_crossentropy',\n",
    "    optimizer='adam',\n",
    "    metrics=['accuracy']\n",
    ")\n",
    "\n",
    "smodel.fit(X_train, y_train, batch_size=64, epochs=10)"
   ]
  },
  {
   "cell_type": "markdown",
   "id": "2faf882d-e8e7-4145-844d-8734e552539a",
   "metadata": {},
   "source": [
    "## La Functional API\n",
    "\n",
    "La seconda possibilità offertaci da Keras è quella di usare la **Functional API**, che ci offre maggior controllo sul modello da creare, al prezzo di una sintassi leggermente più complessa.\n",
    "\n",
    "Infatti, la Functional API si presta ad un uso decisamente più avanzato rispetto alla Sequential API: laddove quest'ultima si limita ad \"impilare\" i layer uno dietro l'altro, la Functional API basa il suo funzionamento sul concetto di *grafo aciclico diretto*, permettendo quindi topologie più complesse con layer condivisi, input ed output multipli, e via discorrendo.\n",
    "\n",
    "In questo corso, ci focalizzeremo sulla Sequential API; tuttavia, a scopo illustrativo, vediamo come creare un modello analogo al precedente mediante la Functional API.\n",
    "\n",
    "Per prima cosa, dobbiamo definire un input, usando al solito l'apposito layer."
   ]
  },
  {
   "cell_type": "code",
   "execution_count": 6,
   "id": "929226fe-9bbb-490d-8fdf-5e375bb6d111",
   "metadata": {},
   "outputs": [],
   "source": [
    "inputs = layers.Input(shape=input_shape)"
   ]
  },
  {
   "cell_type": "markdown",
   "id": "b0303d0c-3144-4bb9-8e4c-b21e3f3eb9fb",
   "metadata": {},
   "source": [
    "Ora però possiamo apprezzare la differenza tra la Sequential API e la Functional API. Infatti, quest'ultima ci permette di aggiungere un nodo al grafo dei layer che compongono la rete neurale *chiamando un layer sull'oggetto `inputs`*, il che equivale a \"creare un collegamento\" tra `inputs` ed il nuovo layer."
   ]
  },
  {
   "cell_type": "code",
   "execution_count": 7,
   "id": "0ab171ec-9802-4b98-b5fb-cc84a1c1e1fb",
   "metadata": {},
   "outputs": [],
   "source": [
    "x = layers.Conv2D(32, kernel_size=(3, 3), activation='relu')(inputs)"
   ]
  },
  {
   "cell_type": "markdown",
   "id": "000671a7-3207-4839-9f6e-71a87e1cbd33",
   "metadata": {},
   "source": [
    "Questa operazione va ripetuta fino a raggiungere il layer `outputs`, che sarà quello della classificazione mediante `softmax`."
   ]
  },
  {
   "cell_type": "code",
   "execution_count": 8,
   "id": "3393ec20-9905-47fe-abc4-e2d27207de80",
   "metadata": {},
   "outputs": [],
   "source": [
    "x = layers.MaxPooling2D(pool_size=(2, 2))(x)\n",
    "x = layers.Conv2D(32, kernel_size=(3,3), activation='relu')(x)\n",
    "x = layers.MaxPooling2D(pool_size=(2, 2))(x)\n",
    "x = layers.Flatten()(x)\n",
    "outputs = layers.Dense(num_classes, activation='softmax')(x)"
   ]
  },
  {
   "cell_type": "markdown",
   "id": "889c07e5-1931-4889-9c64-dd91b5f34607",
   "metadata": {},
   "source": [
    "Usiamo ora il metodo `Model` per definire input ed output del modello, ed assegnamoli un nome. Verifichiamo inoltre con `summary` che la struttura sia coerente con quella vista in precedenza."
   ]
  },
  {
   "cell_type": "code",
   "execution_count": 9,
   "id": "98b329ec-e8cb-4f9e-bb03-b5b82dc1f78f",
   "metadata": {},
   "outputs": [
    {
     "name": "stdout",
     "output_type": "stream",
     "text": [
      "Model: \"functional_model\"\n",
      "_________________________________________________________________\n",
      "Layer (type)                 Output Shape              Param #   \n",
      "=================================================================\n",
      "input_2 (InputLayer)         [(None, 28, 28, 1)]       0         \n",
      "_________________________________________________________________\n",
      "conv2d_2 (Conv2D)            (None, 26, 26, 32)        320       \n",
      "_________________________________________________________________\n",
      "max_pooling2d_2 (MaxPooling2 (None, 13, 13, 32)        0         \n",
      "_________________________________________________________________\n",
      "conv2d_3 (Conv2D)            (None, 11, 11, 32)        9248      \n",
      "_________________________________________________________________\n",
      "max_pooling2d_3 (MaxPooling2 (None, 5, 5, 32)          0         \n",
      "_________________________________________________________________\n",
      "flatten_1 (Flatten)          (None, 800)               0         \n",
      "_________________________________________________________________\n",
      "dense_1 (Dense)              (None, 10)                8010      \n",
      "=================================================================\n",
      "Total params: 17,578\n",
      "Trainable params: 17,578\n",
      "Non-trainable params: 0\n",
      "_________________________________________________________________\n"
     ]
    }
   ],
   "source": [
    "fmodel = keras.Model(inputs=inputs, outputs=outputs, name='functional_model')\n",
    "fmodel.summary()"
   ]
  },
  {
   "cell_type": "markdown",
   "id": "88f91f93-4ae1-443d-8cad-aaaab232eb15",
   "metadata": {},
   "source": [
    "Una nota: vediamo che, a differenza del `summary` del modello ottenuto mediante Sequential API, qui siamo in grado di vedere la forma del layer di input. Questo effetto è *voluto*.\n",
    "\n",
    "In ultimo, compiliamo il modello ed addestriamolo alla stessa maniera del precedente."
   ]
  },
  {
   "cell_type": "code",
   "execution_count": 10,
   "id": "069e92e6-ba04-411f-8bb2-08ed7f8b22d4",
   "metadata": {},
   "outputs": [
    {
     "name": "stdout",
     "output_type": "stream",
     "text": [
      "Epoch 1/10\n",
      "938/938 [==============================] - 13s 14ms/step - loss: 0.5355 - accuracy: 0.8474\n",
      "Epoch 2/10\n",
      "938/938 [==============================] - 13s 14ms/step - loss: 0.0732 - accuracy: 0.9784\n",
      "Epoch 3/10\n",
      "938/938 [==============================] - 14s 14ms/step - loss: 0.0513 - accuracy: 0.9845\n",
      "Epoch 4/10\n",
      "938/938 [==============================] - 13s 14ms/step - loss: 0.0441 - accuracy: 0.9867\n",
      "Epoch 5/10\n",
      "938/938 [==============================] - 14s 15ms/step - loss: 0.0357 - accuracy: 0.9887\n",
      "Epoch 6/10\n",
      "938/938 [==============================] - 14s 15ms/step - loss: 0.0313 - accuracy: 0.9905\n",
      "Epoch 7/10\n",
      "938/938 [==============================] - 14s 15ms/step - loss: 0.0238 - accuracy: 0.99250s - loss: 0.0237 - ac\n",
      "Epoch 8/10\n",
      "938/938 [==============================] - 14s 15ms/step - loss: 0.0226 - accuracy: 0.9925\n",
      "Epoch 9/10\n",
      "938/938 [==============================] - 13s 14ms/step - loss: 0.0197 - accuracy: 0.9937\n",
      "Epoch 10/10\n",
      "938/938 [==============================] - 13s 14ms/step - loss: 0.0162 - accuracy: 0.9948\n"
     ]
    },
    {
     "data": {
      "text/plain": [
       "<tensorflow.python.keras.callbacks.History at 0x1fab25adc70>"
      ]
     },
     "execution_count": 10,
     "metadata": {},
     "output_type": "execute_result"
    }
   ],
   "source": [
    "fmodel.compile(\n",
    "    loss='categorical_crossentropy',\n",
    "    optimizer='adam',\n",
    "    metrics=['accuracy']\n",
    ")\n",
    "\n",
    "fmodel.fit(X_train, y_train, batch_size=64, epochs=10)"
   ]
  },
  {
   "cell_type": "markdown",
   "id": "902220b1-aa14-457b-8e24-f394f43c4ceb",
   "metadata": {},
   "source": [
    "## Conclusioni\n",
    "\n",
    "In questa lezione, abbiamo visto come usare le Functional e le Sequential API di Keras per ottenere un modello di rete da addestrare. Nelle prossime lezioni, vedremo meglio alcuni tipi di layer che è possibile usare, ed alcune tecniche che possiamo sfruttare per migliorare le performance della rete neurale."
   ]
  },
  {
   "cell_type": "code",
   "execution_count": null,
   "id": "cf19b9f8-67f4-46b4-a6c0-ae71baa900bc",
   "metadata": {},
   "outputs": [],
   "source": []
  }
 ],
 "metadata": {
  "kernelspec": {
   "display_name": "Python 3",
   "language": "python",
   "name": "python3"
  },
  "language_info": {
   "codemirror_mode": {
    "name": "ipython",
    "version": 3
   },
   "file_extension": ".py",
   "mimetype": "text/x-python",
   "name": "python",
   "nbconvert_exporter": "python",
   "pygments_lexer": "ipython3",
   "version": "3.8.7"
  }
 },
 "nbformat": 4,
 "nbformat_minor": 5
}

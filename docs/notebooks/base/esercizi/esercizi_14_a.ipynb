{
 "cells": [
  {
   "cell_type": "code",
   "execution_count": 1,
   "id": "3494d272-c8f7-446e-9556-94f2041a5c02",
   "metadata": {},
   "outputs": [],
   "source": [
    "import numpy as np\n",
    "import matplotlib.pyplot as plt\n",
    "\n",
    "from sklearn.tree import DecisionTreeRegressor\n",
    "from sklearn.metrics import mean_absolute_error, mean_squared_error, r2_score"
   ]
  },
  {
   "cell_type": "markdown",
   "id": "ca8d4554-9e22-4b01-9521-b3ecc1b695a7",
   "metadata": {},
   "source": [
    "In questa esercitazione, compareremo alcune metriche per la valutazione delle performance di un algoritmo di regressione.\n",
    "\n",
    "Partiamo generando i dati alla stessa maniera che abbiamo visto nel corso della lezione."
   ]
  },
  {
   "cell_type": "code",
   "execution_count": 2,
   "id": "131f11d7-64b3-4558-bcf4-1fbd6eb42b22",
   "metadata": {
    "tags": []
   },
   "outputs": [
    {
     "data": {
      "image/png": "[encoded data removed]",
      "text/plain": [
       "<Figure size 432x288 with 1 Axes>"
      ]
     },
     "metadata": {
      "needs_background": "light"
     },
     "output_type": "display_data"
    }
   ],
   "source": [
    "X = np.arange(0, 20, .1).reshape(-1, 1)\n",
    "y = np.sin(X)\n",
    "y[::20] += np.random.normal(0, 1, y.shape)[::20]\n",
    "y = y.ravel()\n",
    "\n",
    "plt.plot(X, y)\n",
    "plt.show()"
   ]
  },
  {
   "cell_type": "markdown",
   "id": "04e01fe3-35fb-4ae9-b232-4a02391f6f1f",
   "metadata": {},
   "source": [
    "Creiamo adesso un regressore con un albero decisionale. Usiamo come parametro per `max_depth` il valore 2."
   ]
  },
  {
   "cell_type": "code",
   "execution_count": 3,
   "id": "68fdfad3-0058-4838-8d00-fef27679d016",
   "metadata": {
    "tags": []
   },
   "outputs": [
    {
     "data": {
      "text/plain": [
       "DecisionTreeRegressor(max_depth=2)"
      ]
     },
     "execution_count": 3,
     "metadata": {},
     "output_type": "execute_result"
    }
   ],
   "source": [
    "rgr = DecisionTreeRegressor(max_depth=2)\n",
    "rgr.fit(X, y)"
   ]
  },
  {
   "cell_type": "code",
   "execution_count": 4,
   "id": "129f2614-4848-485a-b376-7a36ab4a6a09",
   "metadata": {
    "tags": []
   },
   "outputs": [],
   "source": [
    "y_pred = rgr.predict(X)"
   ]
  },
  {
   "cell_type": "markdown",
   "id": "09ea0f80-3962-467e-9108-6fc473a6ba1c",
   "metadata": {},
   "source": [
    "Calcoliamo ora tre metriche per valutare le performance dell'algoritmo.\n",
    "\n",
    "Useremo il *Mean Squared Error* (**MSE**), ovvero l'errore quadratico medio, dato dal quadrato della differenza media tra i valore predetti dal regressore $\\hat{y}$ ed il valore vero $y$, il *Mean Absolute Error* (**MAE**), nel quale si tiene conto della differenza in termini di valori assoluti tra $\\hat{y}$ ed $y$, ed il *coefficiente di determinazione* $R^2$, usato per spiegare quanto le variabili indipendenti, combinate secondo i parametri proposti dal modello di regressione, descrivano la variabilità presente nelle variabili dipendenti.\n",
    "\n",
    "In particolare, il valore dell'*MSE* penalizza gli errori di predizione maggiori rispetto a quello dell'*MAE*. Tuttavia, è più complesso determinare quali campioni contribuiscano maggiormente all'errore, in quanto vi è una relazione quadratica (e quindi non lineare). Per mitigare questo effetto, si può usare la radice quadrata dell'*MSE*, chiamata *Root Mean Squared Error* (**RMSE**). Tuttavia, si può tranquillamente affermare che *valori inferiori di MSE e MAE indicano modelli con migliori capacità predittive*.\n",
    "\n",
    "Per quello che riguarda il valore del coefficiente di determinazione, questo tende a diminuire quando nel problema ci sono delle variabili indipendenti tra loro ridondanti, da cui la necessità di utilizzare tecniche di riduzione della dimensionalità o, ancora meglio, feature seleciton. A differenza dell'*MSE* e del *MAE*, valori superiori di $R^2$ indicano una maggiore qualità del modello.\n",
    "\n",
    "In generale, tuttavia, il modo migliore per comparare modelli differenti risulta essere utilizzare l'*MSE*."
   ]
  },
  {
   "cell_type": "code",
   "execution_count": 5,
   "id": "acd93cfd-69d3-440c-8e38-6dabad037738",
   "metadata": {
    "tags": []
   },
   "outputs": [
    {
     "name": "stdout",
     "output_type": "stream",
     "text": [
      "MAE: 0.53\n",
      "MSE: 0.42\n",
      "R2: 0.25\n"
     ]
    }
   ],
   "source": [
    "print('MAE: {}\\nMSE: {}\\nR2: {}'.format(\n",
    "    round(mean_absolute_error(y, y_pred), 2),\n",
    "    round(mean_squared_error(y, y_pred), 2),\n",
    "    round(r2_score(y, y_pred), 2)\n",
    "))"
   ]
  },
  {
   "cell_type": "markdown",
   "id": "cd03cef3-ff8c-4bd3-ae54-78018c35387f",
   "metadata": {},
   "source": [
    "Vediamo cosa accade usando un regressore con `max_depth=3`."
   ]
  },
  {
   "cell_type": "code",
   "execution_count": 7,
   "id": "cc35dcf9-1120-4668-a1c5-e282bc15d9fa",
   "metadata": {
    "tags": []
   },
   "outputs": [
    {
     "name": "stdout",
     "output_type": "stream",
     "text": [
      "MAE: 0.0\n",
      "MSE: 0.0\n",
      "R2: 1.0\n"
     ]
    }
   ],
   "source": [
    "rgr = DecisionTreeRegressor(max_depth=3)\n",
    "rgr.fit(X, y)\n",
    "y_pred = rgr.predict(X)\n",
    "print('MAE: {}\\nMSE: {}\\nR2: {}'.format(\n",
    "    round(mean_absolute_error(y, y_pred), 2),\n",
    "    round(mean_squared_error(y, y_pred), 2),\n",
    "    round(r2_score(y, y_pred), 2)\n",
    "))"
   ]
  },
  {
   "cell_type": "markdown",
   "id": "89b4d4c0-58f5-4d6c-a891-c78fdcd5de39",
   "metadata": {},
   "source": [
    "Come prevedibile, i valori legati agli errori diminuiscono, in quanto il regressore con `max_depth=3` risulta avere performance migliori di quello in cui `max_depth` è pari a 2. Inoltre, vediamo contestualmente un aumento del valore di $R^2$, il che ci permette di affermare che, grazie a questa regressione, le variabili dipendenti sono \"descritte meglio\" rispetto al caso precedente."
   ]
  },
  {
   "cell_type": "code",
   "execution_count": null,
   "id": "75088925-e4a2-4c80-aa60-692f3b512451",
   "metadata": {},
   "outputs": [],
   "source": []
  }
 ],
 "metadata": {
  "kernelspec": {
   "display_name": "Python 3 (ipykernel)",
   "language": "python",
   "name": "python3"
  },
  "language_info": {
   "codemirror_mode": {
    "name": "ipython",
    "version": 3
   },
   "file_extension": ".py",
   "mimetype": "text/x-python",
   "name": "python",
   "nbconvert_exporter": "python",
   "pygments_lexer": "ipython3",
   "version": "3.8.7"
  }
 },
 "nbformat": 4,
 "nbformat_minor": 5
}

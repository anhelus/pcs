{
 "cells": [
  {
   "cell_type": "markdown",
   "source": [
    "# Esercizio n.ro 1\r\n",
    "\r\n",
    "Effettuare la decomposizione STL sul dataset `sunspots`, e la modellazione con ARIMA sul dataset `co2`.\r\n",
    "\r\n",
    "Articolare il processing nei seguenti step.\r\n",
    "\r\n",
    "1. Caricare i dataset utilizzando il modello `load_pandas()`.\r\n",
    "2. Effettuare la decomposizione STL sul dataset `sunspots` mediante il metodo `STL` di Statsmodels.\r\n",
    "3. Studiare le funzioni ACF e PACF per il dataset `co2` mediante le funzioni `plot_acf` e `plot_pacf`.\r\n",
    "4. Provare a determinare di conseguenza gli ordini ottimali per i processi AR, I ed MA di un ARIMA, motivando la scelta. Qualora l'analisi della ACF e della PACF non permetta di determinare facilmente gli ordini dei processi AR, I ed MA, provare ad utilizzare un approccio di tipo *trial and error*, stimando i valori migliori per suddetti parametri."
   ],
   "metadata": {}
  },
  {
   "cell_type": "markdown",
   "source": [
    "# Esercizio n.ro 2\r\n",
    "\r\n",
    "Utilizzare le tecniche del *deep learning* per creare una rete neurale in grado di classificare i passeggeri del Titanic in base al fatto che siano sopravvissuti o meno.\r\n",
    "\r\n",
    "Articolare il processing nei seguenti step.\r\n",
    "\r\n",
    "1. Caricare il dataset usando il metodo `fetch_openml('titanic', version=1, as_frame=True)`.\r\n",
    "2. Rimuovere i dati univoci (ad esempio, nome e numero di biglietto) utilizzando i metodi messi a disposizione da Pandas.\r\n",
    "3. Eliminare i valori `NaN` e `None` dal dataframe. Prediligere, se possibile, l'eliminazione dei singoli dati.\r\n",
    "4. Creare un modello di rete neurale usando la Sequential API. La rete dovrà avere tre layer completamente connessi (`Dense`) ed un layer di classificazione finale.\r\n",
    "5. Compilare il modello di rete neurale usando come funzione di costo la `binary_crossentropy`, mentre come ottimizzatore l'algoritmo `adam`."
   ],
   "metadata": {}
  },
  {
   "cell_type": "markdown",
   "source": [],
   "metadata": {}
  }
 ],
 "metadata": {
  "kernelspec": {
   "display_name": "Python 3 (ipykernel)",
   "language": "python",
   "name": "python3"
  },
  "language_info": {
   "codemirror_mode": {
    "name": "ipython",
    "version": 3
   },
   "file_extension": ".py",
   "mimetype": "text/x-python",
   "name": "python",
   "nbconvert_exporter": "python",
   "pygments_lexer": "ipython3",
   "version": "3.8.7"
  }
 },
 "nbformat": 4,
 "nbformat_minor": 5
}
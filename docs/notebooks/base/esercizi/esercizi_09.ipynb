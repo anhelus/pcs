{
 "cells": [
  {
   "cell_type": "code",
   "execution_count": 1,
   "id": "fc3222de-f1ff-455d-91f8-2ad229e3e69b",
   "metadata": {},
   "outputs": [],
   "source": [
    "import numpy as np\n",
    "import matplotlib.pyplot as plt\n",
    "\n",
    "from numpy.random import randn\n",
    "from scipy.stats import shapiro, normaltest"
   ]
  },
  {
   "cell_type": "markdown",
   "id": "e6b44beb-a1f8-4465-8bff-3bd6ca092eeb",
   "metadata": {},
   "source": [
    "In questo notebook, genereremo un insieme di dati gaussiani, li visualizzeremo a schermo, e verificheremo l'ipotesi di normalità mediante dei test integrati in SciPy."
   ]
  },
  {
   "cell_type": "markdown",
   "id": "25eb9f05-0e99-45af-958b-6e8fb2129067",
   "metadata": {},
   "source": [
    "# Generazione di dati Gaussiani\n",
    "\n",
    "Scriviamo la funzione `generate_random_data` che restituisca una popolazione di dati che segua una distribuzione normale. La funzione deve avere tre parametri:\n",
    "\n",
    "* `bias`, ovvero un valore per il quale sono moltiplicati tutti i campioni della popolazione;\n",
    "* `offset`, ovvero un valore aggiunto a tutti i campioni della popolazione;\n",
    "* `n_samples`, ovvero il numero di campioni generati.\n",
    "\n",
    "I valori di default per `bias`, `offset` ed `n_samples` siano rispettivamente 5, 50 e 1000. Usiamo la funzione `randn` del package random di NumPy."
   ]
  },
  {
   "cell_type": "code",
   "execution_count": 2,
   "id": "cefce7d6-8b0d-4b82-b88a-880827e50777",
   "metadata": {},
   "outputs": [],
   "source": [
    "def generate_random_data(bias=5, offset=50, n_samples=1000):\n",
    "    return bias * randn(n_samples) + offset"
   ]
  },
  {
   "cell_type": "markdown",
   "id": "65a57209-8360-42a2-af1b-a8c74516b701",
   "metadata": {},
   "source": [
    "# Visualizzazione dei dati\n",
    "\n",
    "Generiamo una popolazione di dati usando la funzione `generate_random_data`. Usiamo `matplotlib` per verificare che siano effettivamente disposti secondo una gaussiana."
   ]
  },
  {
   "cell_type": "code",
   "execution_count": 3,
   "id": "b0c2a767-8c49-4294-8ebe-4d2ff4b148e1",
   "metadata": {},
   "outputs": [
    {
     "data": {
      "image/png": "[encoded data removed]",
      "text/plain": [
       "<Figure size 432x288 with 1 Axes>"
      ]
     },
     "metadata": {
      "needs_background": "light"
     },
     "output_type": "display_data"
    }
   ],
   "source": [
    "data = generate_random_data()\n",
    "\n",
    "fig, ax = plt.subplots()\n",
    "\n",
    "ax.hist(data, density=True)\n",
    "ax.set_title('Istogramma normalizzato')\n",
    "ax.set_xlabel('Valori')\n",
    "ax.set_ylabel('Distribuzione')\n",
    "plt.show()"
   ]
  },
  {
   "cell_type": "markdown",
   "id": "ccb89f13-e7b9-4132-8795-f0ef5dabd9d2",
   "metadata": {},
   "source": [
    "# Test di Normalità\n",
    "\n",
    "Un *test di normalità* è utile quando si vuole capire se un campione di dati appartiene o meno ad una distribuzione di tipo normale (o gaussiana). Ne esistono di diversi, ognuno dei quali parte da un differente punto di vista, e considera soltanto alcuni aspetti peculiari.\n",
    "\n",
    "Tuttavia, ogni test restituisce almeno due valori. Il primo è una quantità comunemente chiamata *statistica*, che aiuta un esperto a contestualizzare i risultati del test. Tuttavia, non approfondiremo questo aspetto all'interno del corso.\n",
    "\n",
    "Anche la seconda quantità, chiamata *p-value*, può essere usata per interpretare i risultati del test. Vediamo come.\n",
    "\n",
    "## Verifica dell'ipotesi nulla\n",
    "\n",
    "Un test di normalità parte dalla cosiddetta *ipotesi nulla*, indicata anche con $H_0$, che in questo caso assume che il campione sotto analisi sia estratto da una distribuzione di tipo gaussiano. In tal senso, il *p-value* ci permette di *respingere* l'ipotesi nulla qualora sia al di sotto di un determinato valore di soglia, chiamato $\\alpha$, e normalmente pari a 0.05.\n",
    "\n",
    "In altri termini, questo implica che:\n",
    "\n",
    "* se $p <= \\alpha$, allora $H_0$ è respinta, per cui la distribuzione non è normale;\n",
    "* se $p > \\alpha$, allora $H_0$ non è respinta, per cui la distribuzione è plausibilmente normale.\n",
    "\n",
    "Ci interessa quindi verificare che il *p-value* sia il più alto possible, onde ottenere un'alta \"evidenza\" che la popolazione sia estratta da una distribuzione di tipo gaussiano. Ovviamente, notiamo che, anche se $p > \\alpha$, non possiamo essere *certi* che l'ipotesi nulla sia verificata, ma soltanto che non è possibile confutarla.\n",
    "\n",
    "Vediamo ora come effettuare un test di normalità. Per farlo, avremo bisogno del package `stats` di `scipy`; in tal senso, useremo due test, ovvero quello di [Shapiro-Wilk](https://en.wikipedia.org/wiki/Shapiro%E2%80%93Wilk_test) ed il [$K^2$-test](https://en.wikipedia.org/wiki/D%27Agostino%27s_K-squared_test). Entrambi sono già implementati in SciPy, e sfruttano rispettivamente le funzioni [`shapiro`](https://docs.scipy.org/doc/scipy/reference/generated/scipy.stats.shapiro.html) e [`normaltest`](https://docs.scipy.org/doc/scipy/reference/generated/scipy.stats.normaltest.html).\n",
    "\n",
    "Scriviamo quindi una funzione `accept_or_reject_h0` che accetti come parametro uno dei due test e restituisca un valore booleano pari a `True` se non è possibile respingere l'ipotesi nulla, e `False` altrimenti."
   ]
  },
  {
   "cell_type": "code",
   "execution_count": 4,
   "id": "7ee6e45b-b597-4958-823a-a126b97857dc",
   "metadata": {},
   "outputs": [
    {
     "name": "stdout",
     "output_type": "stream",
     "text": [
      "Ipotesi nulla non respinta secondo il test di Shapiro\n",
      "Ipotesi nulla non respinta secondo il test K2\n"
     ]
    }
   ],
   "source": [
    "def accept_or_reject_h0(test=shapiro):\n",
    "    stat, p = test(data)\n",
    "    return True if p > .05 else False\n",
    "\n",
    "print('Ipotesi nulla non respinta secondo il test di Shapiro') if accept_or_reject_h0() else print('Ipotesi nulla respinta secondo il test di Shapiro')\n",
    "print('Ipotesi nulla non respinta secondo il test K2') if accept_or_reject_h0(normaltest) else print('Ipotesi nulla respinta secondo il test K2')"
   ]
  },
  {
   "cell_type": "markdown",
   "id": "22ba3139-89ff-40e0-85a4-a79eb47442c8",
   "metadata": {},
   "source": [
    "**Note**\n",
    "\n",
    "*Operatore ternario*\n",
    "\n",
    "Nella funzione `accept_or_reject_h0` è stata usata la forma ternaria dell'istruzione condizionale. Questa è, in generale, estressa come segue:\n",
    "\n",
    "\n",
    "```\n",
    "return_true if condition else return_false\n",
    "```\n",
    "\n",
    "dove:\n",
    "\n",
    "* `return_true` è il valore restituito dall'istruzione condizionale se `condition` è vera;\n",
    "* `return_false` è il valore restituito dall'istruzione condizionale se `condition` è falsa.\n",
    "\n",
    "Ovviamente, è possibile anche usare forme annidate e condizioni di logica booleana, anche se è sconsigliato usare forme eccessivamente prolisse e complesse. Proprio per questo motivo, inoltre, l'`elif` viene realizzato in modo da essere una ulteriore istruzione condizionale annidata.\n",
    "\n",
    "*Funzioni come argomento*\n",
    "\n",
    "Sempre nella funzione `accept_or_reject_h0`, notiamo che l'unico parametro passato è, a sua volta, una funzione! Questo è possibile perché Python considera le funzioni come degli *oggetti*, che possono essere quindi passati come argomenti ad altre funzioni. L'estensione automatica di questo principio sta nel concetto dei `decorators`, che però non approfondiremo nell'ambito di questo corso. "
   ]
  },
  {
   "cell_type": "code",
   "execution_count": null,
   "id": "1df217f2-f990-4d15-a437-2c8a49efb302",
   "metadata": {},
   "outputs": [],
   "source": []
  }
 ],
 "metadata": {
  "kernelspec": {
   "display_name": "Python 3 (ipykernel)",
   "language": "python",
   "name": "python3"
  },
  "language_info": {
   "codemirror_mode": {
    "name": "ipython",
    "version": 3
   },
   "file_extension": ".py",
   "mimetype": "text/x-python",
   "name": "python",
   "nbconvert_exporter": "python",
   "pygments_lexer": "ipython3",
   "version": "3.8.7"
  }
 },
 "nbformat": 4,
 "nbformat_minor": 5
}

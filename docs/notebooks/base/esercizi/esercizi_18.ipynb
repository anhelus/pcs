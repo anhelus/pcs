{
 "cells": [
  {
   "cell_type": "markdown",
   "id": "025d1dab-2b23-4bab-b403-04873f315cfd",
   "metadata": {},
   "source": [
    "L'obiettivo di questa esercitazione è quello di arrivare ad implementare un sistema completo di classificazione dei sopravvissuti al disastro del Titanic. Per farlo, partiremo dall'omonimo dataset, faremo un'analisi completa dello stesso, e cercheremo di raggiungere il miglior risultato possibile in termini di accuracy."
   ]
  },
  {
   "cell_type": "code",
   "execution_count": 1,
   "id": "17efd15f-45ad-4f24-bb97-e18816d95c76",
   "metadata": {},
   "outputs": [],
   "source": [
    "import pandas as pd\n",
    "import matplotlib.pyplot as plt\n",
    "\n",
    "from sklearn.datasets import fetch_openml\n",
    "from sklearn.tree import DecisionTreeClassifier\n",
    "from sklearn.neural_network import MLPClassifier\n",
    "from sklearn.model_selection import cross_validate\n",
    "from sklearn.compose import ColumnTransformer\n",
    "from sklearn.preprocessing import OneHotEncoder\n",
    "from sklearn.feature_selection import VarianceThreshold"
   ]
  },
  {
   "cell_type": "code",
   "execution_count": 2,
   "id": "1f6712ae-83fb-4900-8a7b-3bb4121642f2",
   "metadata": {},
   "outputs": [],
   "source": [
    "data = fetch_openml(\"titanic\", version=1, as_frame=True)\n",
    "df = data.frame"
   ]
  },
  {
   "cell_type": "markdown",
   "id": "b8d5bdaf-25c2-4ca8-8ff7-cf04dff3e394",
   "metadata": {},
   "source": [
    "## Parte 1: Exploratory data analysis\n",
    "\n",
    "Partiamo effettuando un'analisi esplorativa dei dati a nostra disposizione. Per prima cosa, visualizziamo i primi cinque dati, e rendiamoci conto di che tipo di feature stiamo parlando."
   ]
  },
  {
   "cell_type": "code",
   "execution_count": 3,
   "id": "4d8cbf78-bcb5-4bce-8edc-5fdc166f1d13",
   "metadata": {},
   "outputs": [
    {
     "data": {
      "text/html": [
       "<div>\n",
       "<style scoped>\n",
       "    .dataframe tbody tr th:only-of-type {\n",
       "        vertical-align: middle;\n",
       "    }\n",
       "\n",
       "    .dataframe tbody tr th {\n",
       "        vertical-align: top;\n",
       "    }\n",
       "\n",
       "    .dataframe thead th {\n",
       "        text-align: right;\n",
       "    }\n",
       "</style>\n",
       "<table border=\"1\" class=\"dataframe\">\n",
       "  <thead>\n",
       "    <tr style=\"text-align: right;\">\n",
       "      <th></th>\n",
       "      <th>pclass</th>\n",
       "      <th>survived</th>\n",
       "      <th>name</th>\n",
       "      <th>sex</th>\n",
       "      <th>age</th>\n",
       "      <th>sibsp</th>\n",
       "      <th>parch</th>\n",
       "      <th>ticket</th>\n",
       "      <th>fare</th>\n",
       "      <th>cabin</th>\n",
       "      <th>embarked</th>\n",
       "      <th>boat</th>\n",
       "      <th>body</th>\n",
       "      <th>home.dest</th>\n",
       "    </tr>\n",
       "  </thead>\n",
       "  <tbody>\n",
       "    <tr>\n",
       "      <th>0</th>\n",
       "      <td>1.0</td>\n",
       "      <td>1</td>\n",
       "      <td>Allen, Miss. Elisabeth Walton</td>\n",
       "      <td>female</td>\n",
       "      <td>29.0000</td>\n",
       "      <td>0.0</td>\n",
       "      <td>0.0</td>\n",
       "      <td>24160</td>\n",
       "      <td>211.3375</td>\n",
       "      <td>B5</td>\n",
       "      <td>S</td>\n",
       "      <td>2</td>\n",
       "      <td>NaN</td>\n",
       "      <td>St Louis, MO</td>\n",
       "    </tr>\n",
       "    <tr>\n",
       "      <th>1</th>\n",
       "      <td>1.0</td>\n",
       "      <td>1</td>\n",
       "      <td>Allison, Master. Hudson Trevor</td>\n",
       "      <td>male</td>\n",
       "      <td>0.9167</td>\n",
       "      <td>1.0</td>\n",
       "      <td>2.0</td>\n",
       "      <td>113781</td>\n",
       "      <td>151.5500</td>\n",
       "      <td>C22 C26</td>\n",
       "      <td>S</td>\n",
       "      <td>11</td>\n",
       "      <td>NaN</td>\n",
       "      <td>Montreal, PQ / Chesterville, ON</td>\n",
       "    </tr>\n",
       "    <tr>\n",
       "      <th>2</th>\n",
       "      <td>1.0</td>\n",
       "      <td>0</td>\n",
       "      <td>Allison, Miss. Helen Loraine</td>\n",
       "      <td>female</td>\n",
       "      <td>2.0000</td>\n",
       "      <td>1.0</td>\n",
       "      <td>2.0</td>\n",
       "      <td>113781</td>\n",
       "      <td>151.5500</td>\n",
       "      <td>C22 C26</td>\n",
       "      <td>S</td>\n",
       "      <td>None</td>\n",
       "      <td>NaN</td>\n",
       "      <td>Montreal, PQ / Chesterville, ON</td>\n",
       "    </tr>\n",
       "    <tr>\n",
       "      <th>3</th>\n",
       "      <td>1.0</td>\n",
       "      <td>0</td>\n",
       "      <td>Allison, Mr. Hudson Joshua Creighton</td>\n",
       "      <td>male</td>\n",
       "      <td>30.0000</td>\n",
       "      <td>1.0</td>\n",
       "      <td>2.0</td>\n",
       "      <td>113781</td>\n",
       "      <td>151.5500</td>\n",
       "      <td>C22 C26</td>\n",
       "      <td>S</td>\n",
       "      <td>None</td>\n",
       "      <td>135.0</td>\n",
       "      <td>Montreal, PQ / Chesterville, ON</td>\n",
       "    </tr>\n",
       "    <tr>\n",
       "      <th>4</th>\n",
       "      <td>1.0</td>\n",
       "      <td>0</td>\n",
       "      <td>Allison, Mrs. Hudson J C (Bessie Waldo Daniels)</td>\n",
       "      <td>female</td>\n",
       "      <td>25.0000</td>\n",
       "      <td>1.0</td>\n",
       "      <td>2.0</td>\n",
       "      <td>113781</td>\n",
       "      <td>151.5500</td>\n",
       "      <td>C22 C26</td>\n",
       "      <td>S</td>\n",
       "      <td>None</td>\n",
       "      <td>NaN</td>\n",
       "      <td>Montreal, PQ / Chesterville, ON</td>\n",
       "    </tr>\n",
       "  </tbody>\n",
       "</table>\n",
       "</div>"
      ],
      "text/plain": [
       "   pclass survived                                             name     sex  \\\n",
       "0     1.0        1                    Allen, Miss. Elisabeth Walton  female   \n",
       "1     1.0        1                   Allison, Master. Hudson Trevor    male   \n",
       "2     1.0        0                     Allison, Miss. Helen Loraine  female   \n",
       "3     1.0        0             Allison, Mr. Hudson Joshua Creighton    male   \n",
       "4     1.0        0  Allison, Mrs. Hudson J C (Bessie Waldo Daniels)  female   \n",
       "\n",
       "       age  sibsp  parch  ticket      fare    cabin embarked  boat   body  \\\n",
       "0  29.0000    0.0    0.0   24160  211.3375       B5        S     2    NaN   \n",
       "1   0.9167    1.0    2.0  113781  151.5500  C22 C26        S    11    NaN   \n",
       "2   2.0000    1.0    2.0  113781  151.5500  C22 C26        S  None    NaN   \n",
       "3  30.0000    1.0    2.0  113781  151.5500  C22 C26        S  None  135.0   \n",
       "4  25.0000    1.0    2.0  113781  151.5500  C22 C26        S  None    NaN   \n",
       "\n",
       "                         home.dest  \n",
       "0                     St Louis, MO  \n",
       "1  Montreal, PQ / Chesterville, ON  \n",
       "2  Montreal, PQ / Chesterville, ON  \n",
       "3  Montreal, PQ / Chesterville, ON  \n",
       "4  Montreal, PQ / Chesterville, ON  "
      ]
     },
     "execution_count": 3,
     "metadata": {},
     "output_type": "execute_result"
    }
   ],
   "source": [
    "df.head()"
   ]
  },
  {
   "cell_type": "markdown",
   "id": "19005e3a-82ab-4660-a4d2-50076d56b34d",
   "metadata": {},
   "source": [
    "Notiamo anche che ci sono dei NaN relativi alla cabia. Abbiamo due possibilità: la prima è quella di eliminare i dati, la seconda è quella di eliminare la feature. In particolar,e la conoscenza della cabina potrebbe essere utile per comprendere delle dinamiche di come si sono andati disponendo i passeggeri per essere salvati; tuttavia, non abbiamo a disposizione la mappa del titanic, per cui scelgiamo di elimniare l'intera feature. Infine, rimuoviamo anche il numero di ticket, in quanto non necessario alla nostra analisi."
   ]
  },
  {
   "cell_type": "code",
   "execution_count": 4,
   "id": "23a74775-524c-45b9-8d3d-27b2d1b7eae5",
   "metadata": {},
   "outputs": [
    {
     "data": {
      "text/html": [
       "<div>\n",
       "<style scoped>\n",
       "    .dataframe tbody tr th:only-of-type {\n",
       "        vertical-align: middle;\n",
       "    }\n",
       "\n",
       "    .dataframe tbody tr th {\n",
       "        vertical-align: top;\n",
       "    }\n",
       "\n",
       "    .dataframe thead th {\n",
       "        text-align: right;\n",
       "    }\n",
       "</style>\n",
       "<table border=\"1\" class=\"dataframe\">\n",
       "  <thead>\n",
       "    <tr style=\"text-align: right;\">\n",
       "      <th></th>\n",
       "      <th>pclass</th>\n",
       "      <th>survived</th>\n",
       "      <th>sex</th>\n",
       "      <th>age</th>\n",
       "      <th>sibsp</th>\n",
       "      <th>parch</th>\n",
       "      <th>fare</th>\n",
       "      <th>embarked</th>\n",
       "      <th>boat</th>\n",
       "    </tr>\n",
       "  </thead>\n",
       "  <tbody>\n",
       "    <tr>\n",
       "      <th>0</th>\n",
       "      <td>1.0</td>\n",
       "      <td>1</td>\n",
       "      <td>female</td>\n",
       "      <td>29.0000</td>\n",
       "      <td>0.0</td>\n",
       "      <td>0.0</td>\n",
       "      <td>211.3375</td>\n",
       "      <td>S</td>\n",
       "      <td>2</td>\n",
       "    </tr>\n",
       "    <tr>\n",
       "      <th>1</th>\n",
       "      <td>1.0</td>\n",
       "      <td>1</td>\n",
       "      <td>male</td>\n",
       "      <td>0.9167</td>\n",
       "      <td>1.0</td>\n",
       "      <td>2.0</td>\n",
       "      <td>151.5500</td>\n",
       "      <td>S</td>\n",
       "      <td>11</td>\n",
       "    </tr>\n",
       "    <tr>\n",
       "      <th>2</th>\n",
       "      <td>1.0</td>\n",
       "      <td>0</td>\n",
       "      <td>female</td>\n",
       "      <td>2.0000</td>\n",
       "      <td>1.0</td>\n",
       "      <td>2.0</td>\n",
       "      <td>151.5500</td>\n",
       "      <td>S</td>\n",
       "      <td>0</td>\n",
       "    </tr>\n",
       "    <tr>\n",
       "      <th>3</th>\n",
       "      <td>1.0</td>\n",
       "      <td>0</td>\n",
       "      <td>male</td>\n",
       "      <td>30.0000</td>\n",
       "      <td>1.0</td>\n",
       "      <td>2.0</td>\n",
       "      <td>151.5500</td>\n",
       "      <td>S</td>\n",
       "      <td>0</td>\n",
       "    </tr>\n",
       "    <tr>\n",
       "      <th>4</th>\n",
       "      <td>1.0</td>\n",
       "      <td>0</td>\n",
       "      <td>female</td>\n",
       "      <td>25.0000</td>\n",
       "      <td>1.0</td>\n",
       "      <td>2.0</td>\n",
       "      <td>151.5500</td>\n",
       "      <td>S</td>\n",
       "      <td>0</td>\n",
       "    </tr>\n",
       "  </tbody>\n",
       "</table>\n",
       "</div>"
      ],
      "text/plain": [
       "   pclass survived     sex      age  sibsp  parch      fare embarked boat\n",
       "0     1.0        1  female  29.0000    0.0    0.0  211.3375        S    2\n",
       "1     1.0        1    male   0.9167    1.0    2.0  151.5500        S   11\n",
       "2     1.0        0  female   2.0000    1.0    2.0  151.5500        S    0\n",
       "3     1.0        0    male  30.0000    1.0    2.0  151.5500        S    0\n",
       "4     1.0        0  female  25.0000    1.0    2.0  151.5500        S    0"
      ]
     },
     "execution_count": 4,
     "metadata": {},
     "output_type": "execute_result"
    }
   ],
   "source": [
    "df.drop(['name', 'ticket', 'cabin', 'body', 'home.dest'], axis=1, inplace=True)\n",
    "df['boat'] = df['boat'].apply(lambda x: '0' if x is None else x)\n",
    "df.head()"
   ]
  },
  {
   "cell_type": "markdown",
   "id": "5f567cdf-e49d-43d7-8cae-544e539ccafd",
   "metadata": {},
   "source": [
    "Rimaniamo con otto feature. Vediamo un attimo quali possono essere quelle più significative.\n",
    "\n",
    "Survived rappresenta i passeggeri sopravvissuti, per cui la tratteremo come se fossero le label."
   ]
  },
  {
   "cell_type": "markdown",
   "id": "eabc81b8-9327-42e6-8724-d6a7416aca39",
   "metadata": {},
   "source": [
    "Analizziamo adesso brevemente l'istogramma di alcune altre feature. I particolare, ci interessa quello relativo all'etè ed al prezzo pagato per il biglietto."
   ]
  },
  {
   "cell_type": "code",
   "execution_count": 5,
   "id": "0dd667b1-1bea-4b8f-857a-cf32cad35233",
   "metadata": {},
   "outputs": [
    {
     "data": {
      "image/png": "[encoded data removed]",
      "text/plain": [
       "<Figure size 432x288 with 1 Axes>"
      ]
     },
     "metadata": {
      "needs_background": "light"
     },
     "output_type": "display_data"
    }
   ],
   "source": [
    "df['age'].plot.hist()\n",
    "plt.show()"
   ]
  },
  {
   "cell_type": "code",
   "execution_count": 6,
   "id": "7841c6a6-4b60-48d6-969c-cc19c74a7bde",
   "metadata": {},
   "outputs": [
    {
     "data": {
      "image/png": "[encoded data removed]",
      "text/plain": [
       "<Figure size 432x288 with 1 Axes>"
      ]
     },
     "metadata": {
      "needs_background": "light"
     },
     "output_type": "display_data"
    }
   ],
   "source": [
    "df['fare'].plot.hist()\n",
    "plt.show()"
   ]
  },
  {
   "cell_type": "markdown",
   "id": "3a9ea985-804b-4586-a434-6a71a79404ca",
   "metadata": {},
   "source": [
    "Notiamo come la variabilità dell'età è sufficiente, mentre quella del ticket è bassa. Proveremo in tal senso ad usare una tecnica di feature selection basata su `VarianceThreshold`.\n",
    "\n",
    "In ultimo, valutiamo la matrice di correlazione. Usiamo l'indice di correlazione di Kendall, che risulta essere maggiormente robusto rispetto a quello di Pearson ed a quello di Spearman. Per approfondire, ecco un [eccellente punto di partenza](https://datascience.stackexchange.com/a/64261) su Stack Exchange."
   ]
  },
  {
   "cell_type": "code",
   "execution_count": 7,
   "id": "4ad02db1-e632-4ff9-884b-a8cea76ca989",
   "metadata": {},
   "outputs": [
    {
     "data": {
      "text/html": [
       "<div>\n",
       "<style scoped>\n",
       "    .dataframe tbody tr th:only-of-type {\n",
       "        vertical-align: middle;\n",
       "    }\n",
       "\n",
       "    .dataframe tbody tr th {\n",
       "        vertical-align: top;\n",
       "    }\n",
       "\n",
       "    .dataframe thead th {\n",
       "        text-align: right;\n",
       "    }\n",
       "</style>\n",
       "<table border=\"1\" class=\"dataframe\">\n",
       "  <thead>\n",
       "    <tr style=\"text-align: right;\">\n",
       "      <th></th>\n",
       "      <th>pclass</th>\n",
       "      <th>age</th>\n",
       "      <th>sibsp</th>\n",
       "      <th>parch</th>\n",
       "      <th>fare</th>\n",
       "    </tr>\n",
       "  </thead>\n",
       "  <tbody>\n",
       "    <tr>\n",
       "      <th>pclass</th>\n",
       "      <td>1.000000</td>\n",
       "      <td>-0.312672</td>\n",
       "      <td>-0.061628</td>\n",
       "      <td>-0.026480</td>\n",
       "      <td>-0.591579</td>\n",
       "    </tr>\n",
       "    <tr>\n",
       "      <th>age</th>\n",
       "      <td>-0.312672</td>\n",
       "      <td>1.000000</td>\n",
       "      <td>-0.100050</td>\n",
       "      <td>-0.171702</td>\n",
       "      <td>0.131694</td>\n",
       "    </tr>\n",
       "    <tr>\n",
       "      <th>sibsp</th>\n",
       "      <td>-0.061628</td>\n",
       "      <td>-0.100050</td>\n",
       "      <td>1.000000</td>\n",
       "      <td>0.415068</td>\n",
       "      <td>0.356791</td>\n",
       "    </tr>\n",
       "    <tr>\n",
       "      <th>parch</th>\n",
       "      <td>-0.026480</td>\n",
       "      <td>-0.171702</td>\n",
       "      <td>0.415068</td>\n",
       "      <td>1.000000</td>\n",
       "      <td>0.322767</td>\n",
       "    </tr>\n",
       "    <tr>\n",
       "      <th>fare</th>\n",
       "      <td>-0.591579</td>\n",
       "      <td>0.131694</td>\n",
       "      <td>0.356791</td>\n",
       "      <td>0.322767</td>\n",
       "      <td>1.000000</td>\n",
       "    </tr>\n",
       "  </tbody>\n",
       "</table>\n",
       "</div>"
      ],
      "text/plain": [
       "          pclass       age     sibsp     parch      fare\n",
       "pclass  1.000000 -0.312672 -0.061628 -0.026480 -0.591579\n",
       "age    -0.312672  1.000000 -0.100050 -0.171702  0.131694\n",
       "sibsp  -0.061628 -0.100050  1.000000  0.415068  0.356791\n",
       "parch  -0.026480 -0.171702  0.415068  1.000000  0.322767\n",
       "fare   -0.591579  0.131694  0.356791  0.322767  1.000000"
      ]
     },
     "execution_count": 7,
     "metadata": {},
     "output_type": "execute_result"
    }
   ],
   "source": [
    "df.corr(method='kendall')"
   ]
  },
  {
   "cell_type": "markdown",
   "id": "843d2a42-9258-42e0-9fbe-8a3519e1ff90",
   "metadata": {},
   "source": [
    "E' facile vedere come i risultati ci conducano alla conclusione che non vi sono feature fortemente correlate od anticorrelate; la correlazione maggiore che è possibile riscontrare è infatti tra classe del passeggero e tariffa (ed è negativa, come prevedibile: ciò significa che passeggeri con classe numerica più alta, ovvero terza, hanno pagato meno rispetto a passeggeri con classe numerica più bassa, ovvero seconda e prima).\n",
    "\n",
    "## Parte 2: feature selection ed addestramento\n",
    "\n",
    "Procediamo adesso alla feature selection ed all'addestramento. Useremo due algoritmi: il primo è un classificatore basato su alberi decisionali, mentre il secondo è un classificatore basato su MLP, ovvero su un'architettura di rete che è alla base delle reti neurali."
   ]
  },
  {
   "cell_type": "code",
   "execution_count": 8,
   "id": "afca728f-3361-40e5-b863-6e338ea0754e",
   "metadata": {},
   "outputs": [],
   "source": [
    "df.dropna(axis=0, inplace=True)\n",
    "labels = df['survived']\n",
    "df.drop('survived', axis=1, inplace=True)"
   ]
  },
  {
   "cell_type": "code",
   "execution_count": 21,
   "id": "241fd071-2d40-454b-8cdd-13b16a6877c5",
   "metadata": {},
   "outputs": [],
   "source": [
    "ct = ColumnTransformer(\n",
    "    [('sex_tr', OneHotEncoder(handle_unknown='ignore'), ['sex']),\n",
    "     ('embarked_tr', OneHotEncoder(handle_unknown='ignore'), ['embarked']),\n",
    "     ('boat_tr', OneHotEncoder(handle_unknown='ignore'), ['boat'])], remainder='passthrough')"
   ]
  },
  {
   "cell_type": "code",
   "execution_count": 10,
   "id": "504f6518-9e16-4844-848c-f06d82054449",
   "metadata": {},
   "outputs": [],
   "source": [
    "X, y = ct.fit_transform(df), labels"
   ]
  },
  {
   "cell_type": "code",
   "execution_count": 11,
   "id": "94270164-66c9-40f6-9f76-b8ed7cc43870",
   "metadata": {},
   "outputs": [],
   "source": [
    "dt = DecisionTreeClassifier()\n",
    "mlp = MLPClassifier(max_iter=1000)"
   ]
  },
  {
   "cell_type": "code",
   "execution_count": 12,
   "id": "16c50990-1081-4907-8aaf-6a8f98ed5efb",
   "metadata": {},
   "outputs": [],
   "source": [
    "scoring=['accuracy']\n",
    "dt_scores = cross_validate(dt, X, y, cv=10, scoring=scoring)\n",
    "mlp_scores = cross_validate(mlp, X, y, cv=10, scoring=scoring)"
   ]
  },
  {
   "cell_type": "code",
   "execution_count": 13,
   "id": "bc453326-2a3d-4c56-8fbe-9320b0be1ae8",
   "metadata": {},
   "outputs": [
    {
     "data": {
      "text/plain": [
       "array([0.96190476, 0.98095238, 0.99047619, 0.98076923, 0.95192308,\n",
       "       0.97115385, 0.97115385, 0.96153846, 0.96153846, 0.95192308])"
      ]
     },
     "execution_count": 13,
     "metadata": {},
     "output_type": "execute_result"
    }
   ],
   "source": [
    "mlp_scores['test_accuracy']"
   ]
  },
  {
   "cell_type": "code",
   "execution_count": 14,
   "id": "b8cf8de9-5e2c-4537-bf18-991e9e885036",
   "metadata": {},
   "outputs": [
    {
     "data": {
      "text/plain": [
       "array([0.97142857, 0.98095238, 0.95238095, 0.96153846, 0.95192308,\n",
       "       0.96153846, 0.92307692, 0.95192308, 0.94230769, 0.95192308])"
      ]
     },
     "execution_count": 14,
     "metadata": {},
     "output_type": "execute_result"
    }
   ],
   "source": [
    "dt_scores['test_accuracy']"
   ]
  },
  {
   "cell_type": "code",
   "execution_count": 15,
   "id": "3b505c71-cfb6-41cf-b7cf-0ed4e026a929",
   "metadata": {},
   "outputs": [
    {
     "data": {
      "text/plain": [
       "DecisionTreeClassifier()"
      ]
     },
     "execution_count": 15,
     "metadata": {},
     "output_type": "execute_result"
    }
   ],
   "source": [
    "dt.fit(X, y)"
   ]
  },
  {
   "cell_type": "code",
   "execution_count": 16,
   "id": "dc183ebe-2a72-4ee4-9883-35948d23fbb5",
   "metadata": {},
   "outputs": [
    {
     "data": {
      "text/plain": [
       "MLPClassifier(max_iter=1000)"
      ]
     },
     "execution_count": 16,
     "metadata": {},
     "output_type": "execute_result"
    }
   ],
   "source": [
    "mlp.fit(X, y)"
   ]
  },
  {
   "cell_type": "markdown",
   "id": "95405262-ff58-439a-8c26-93cbe66f5b5f",
   "metadata": {},
   "source": [
    "## Parte 4: Utilizzo di una pipeline"
   ]
  },
  {
   "cell_type": "code",
   "execution_count": 22,
   "id": "29e3a0fa-48a1-455e-8a51-7e7df7b56d90",
   "metadata": {},
   "outputs": [
    {
     "data": {
      "text/plain": [
       "{'fit_time': array([0.02409935, 0.01921844, 0.01503372, 0.01658511, 0.01601315,\n",
       "        0.01597762, 0.01497436, 0.01499939, 0.0150001 , 0.01602507]),\n",
       " 'score_time': array([0.01090026, 0.00911188, 0.00896788, 0.00908756, 0.00802398,\n",
       "        0.00802159, 0.00802922, 0.00799942, 0.00700688, 0.00796485]),\n",
       " 'test_score': array([0.96190476, 0.98095238, 0.95238095, 0.96153846, 0.94230769,\n",
       "        0.96153846, 0.92307692, 0.94230769, 0.95192308, 0.95192308])}"
      ]
     },
     "execution_count": 22,
     "metadata": {},
     "output_type": "execute_result"
    }
   ],
   "source": [
    "from sklearn.pipeline import Pipeline\n",
    "\n",
    "pipe = Pipeline([\n",
    "    ('ct', ct),\n",
    "    ('fs', VarianceThreshold()),\n",
    "    ('clf', DecisionTreeClassifier()),\n",
    "])\n",
    "\n",
    "cross_validate(pipe, df, labels, cv=10)"
   ]
  },
  {
   "cell_type": "code",
   "execution_count": null,
   "id": "d532e61b-3cb2-42cf-bbe4-b752df4bb69e",
   "metadata": {},
   "outputs": [],
   "source": []
  }
 ],
 "metadata": {
  "kernelspec": {
   "display_name": "Python 3",
   "language": "python",
   "name": "python3"
  },
  "language_info": {
   "codemirror_mode": {
    "name": "ipython",
    "version": 3
   },
   "file_extension": ".py",
   "mimetype": "text/x-python",
   "name": "python",
   "nbconvert_exporter": "python",
   "pygments_lexer": "ipython3",
   "version": "3.8.7"
  }
 },
 "nbformat": 4,
 "nbformat_minor": 5
}

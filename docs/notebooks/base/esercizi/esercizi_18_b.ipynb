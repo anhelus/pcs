{
 "cells": [
  {
   "cell_type": "markdown",
   "id": "025d1dab-2b23-4bab-b403-04873f315cfd",
   "metadata": {},
   "source": [
    "L'obiettivo di questa esercitazione è quello di arrivare ad implementare un sistema completo di classificazione dei sopravvissuti al disastro del Titanic. Per farlo, partiremo dall'omonimo dataset, faremo un'analisi completa dello stesso, e cercheremo di raggiungere il miglior risultato possibile in termini di accuracy."
   ]
  },
  {
   "cell_type": "code",
   "execution_count": 1,
   "id": "17efd15f-45ad-4f24-bb97-e18816d95c76",
   "metadata": {},
   "outputs": [],
   "source": [
    "import pandas as pd\n",
    "import matplotlib.pyplot as plt\n",
    "import seaborn as sns\n",
    "import warnings\n",
    "warnings.filterwarnings('ignore')\n",
    "\n",
    "from sklearn.compose import ColumnTransformer\n",
    "from sklearn.datasets import fetch_openml\n",
    "from sklearn.feature_selection import VarianceThreshold\n",
    "from sklearn.model_selection import GridSearchCV\n",
    "from sklearn.neural_network import MLPClassifier\n",
    "from sklearn.pipeline import Pipeline\n",
    "from sklearn.preprocessing import OneHotEncoder\n",
    "from sklearn.tree import DecisionTreeClassifier"
   ]
  },
  {
   "cell_type": "markdown",
   "id": "8c3c22b9-1c61-4233-9fc5-9c4dfa20fc72",
   "metadata": {},
   "source": [
    "## Parte 1: estrazione dei dati\n",
    "\n",
    "Finora, abbiamo sempre usato la funzione `read_csv` di Pandas per la lettura di un dataset. Scikit Learn, però, offre la funzione [`fetch_openml`](http://scikit-learn.org/stable/modules/generated/sklearn.datasets.fetch_openml.html), che permette di estrarre un dataframe da [OpenML](https://www.openml.org/), nota repository online dalla quale è possibile reperire numerosi dataset.\n",
    "\n",
    "Proviamo quindi ad estrarre i dati usando proprio questa funzione.\n",
    "\n",
    "> **Suggerimento**: la funzione `fetch_openml` restituisce un oggetto. Esploriamolo, assieme alla documentazione, per estrarre il dataframe."
   ]
  },
  {
   "cell_type": "code",
   "execution_count": 2,
   "id": "1f6712ae-83fb-4900-8a7b-3bb4121642f2",
   "metadata": {
    "jupyter": {
     "source_hidden": true
    },
    "tags": []
   },
   "outputs": [],
   "source": [
    "data = fetch_openml(\"titanic\", version=1, as_frame=True)\n",
    "df = data.frame"
   ]
  },
  {
   "cell_type": "markdown",
   "id": "b8d5bdaf-25c2-4ca8-8ff7-cf04dff3e394",
   "metadata": {},
   "source": [
    "## Parte 2: Exploratory data analysis\n",
    "\n",
    "Come abbiamo visto, è sempre opportuno \"esplorare\" i dati a nostra disposizione.\n",
    "\n",
    "### Parte 2.1: Tipologia di feature e preprocessing\n",
    "\n",
    "Per prima cosa, quindi, osserviamoli, guardando i primi cinque campioni, e valutiamo il tipo delle feature che stiamo utilizzando."
   ]
  },
  {
   "cell_type": "code",
   "execution_count": 3,
   "id": "796a008b-d4d1-4d95-a0c6-030f499412e0",
   "metadata": {
    "collapsed": true,
    "jupyter": {
     "outputs_hidden": true,
     "source_hidden": true
    },
    "tags": []
   },
   "outputs": [
    {
     "data": {
      "text/html": [
       "<div>\n",
       "<style scoped>\n",
       "    .dataframe tbody tr th:only-of-type {\n",
       "        vertical-align: middle;\n",
       "    }\n",
       "\n",
       "    .dataframe tbody tr th {\n",
       "        vertical-align: top;\n",
       "    }\n",
       "\n",
       "    .dataframe thead th {\n",
       "        text-align: right;\n",
       "    }\n",
       "</style>\n",
       "<table border=\"1\" class=\"dataframe\">\n",
       "  <thead>\n",
       "    <tr style=\"text-align: right;\">\n",
       "      <th></th>\n",
       "      <th>pclass</th>\n",
       "      <th>survived</th>\n",
       "      <th>name</th>\n",
       "      <th>sex</th>\n",
       "      <th>age</th>\n",
       "      <th>sibsp</th>\n",
       "      <th>parch</th>\n",
       "      <th>ticket</th>\n",
       "      <th>fare</th>\n",
       "      <th>cabin</th>\n",
       "      <th>embarked</th>\n",
       "      <th>boat</th>\n",
       "      <th>body</th>\n",
       "      <th>home.dest</th>\n",
       "    </tr>\n",
       "  </thead>\n",
       "  <tbody>\n",
       "    <tr>\n",
       "      <th>0</th>\n",
       "      <td>1.0</td>\n",
       "      <td>1</td>\n",
       "      <td>Allen, Miss. Elisabeth Walton</td>\n",
       "      <td>female</td>\n",
       "      <td>29.0000</td>\n",
       "      <td>0.0</td>\n",
       "      <td>0.0</td>\n",
       "      <td>24160</td>\n",
       "      <td>211.3375</td>\n",
       "      <td>B5</td>\n",
       "      <td>S</td>\n",
       "      <td>2</td>\n",
       "      <td>NaN</td>\n",
       "      <td>St Louis, MO</td>\n",
       "    </tr>\n",
       "    <tr>\n",
       "      <th>1</th>\n",
       "      <td>1.0</td>\n",
       "      <td>1</td>\n",
       "      <td>Allison, Master. Hudson Trevor</td>\n",
       "      <td>male</td>\n",
       "      <td>0.9167</td>\n",
       "      <td>1.0</td>\n",
       "      <td>2.0</td>\n",
       "      <td>113781</td>\n",
       "      <td>151.5500</td>\n",
       "      <td>C22 C26</td>\n",
       "      <td>S</td>\n",
       "      <td>11</td>\n",
       "      <td>NaN</td>\n",
       "      <td>Montreal, PQ / Chesterville, ON</td>\n",
       "    </tr>\n",
       "    <tr>\n",
       "      <th>2</th>\n",
       "      <td>1.0</td>\n",
       "      <td>0</td>\n",
       "      <td>Allison, Miss. Helen Loraine</td>\n",
       "      <td>female</td>\n",
       "      <td>2.0000</td>\n",
       "      <td>1.0</td>\n",
       "      <td>2.0</td>\n",
       "      <td>113781</td>\n",
       "      <td>151.5500</td>\n",
       "      <td>C22 C26</td>\n",
       "      <td>S</td>\n",
       "      <td>None</td>\n",
       "      <td>NaN</td>\n",
       "      <td>Montreal, PQ / Chesterville, ON</td>\n",
       "    </tr>\n",
       "    <tr>\n",
       "      <th>3</th>\n",
       "      <td>1.0</td>\n",
       "      <td>0</td>\n",
       "      <td>Allison, Mr. Hudson Joshua Creighton</td>\n",
       "      <td>male</td>\n",
       "      <td>30.0000</td>\n",
       "      <td>1.0</td>\n",
       "      <td>2.0</td>\n",
       "      <td>113781</td>\n",
       "      <td>151.5500</td>\n",
       "      <td>C22 C26</td>\n",
       "      <td>S</td>\n",
       "      <td>None</td>\n",
       "      <td>135.0</td>\n",
       "      <td>Montreal, PQ / Chesterville, ON</td>\n",
       "    </tr>\n",
       "    <tr>\n",
       "      <th>4</th>\n",
       "      <td>1.0</td>\n",
       "      <td>0</td>\n",
       "      <td>Allison, Mrs. Hudson J C (Bessie Waldo Daniels)</td>\n",
       "      <td>female</td>\n",
       "      <td>25.0000</td>\n",
       "      <td>1.0</td>\n",
       "      <td>2.0</td>\n",
       "      <td>113781</td>\n",
       "      <td>151.5500</td>\n",
       "      <td>C22 C26</td>\n",
       "      <td>S</td>\n",
       "      <td>None</td>\n",
       "      <td>NaN</td>\n",
       "      <td>Montreal, PQ / Chesterville, ON</td>\n",
       "    </tr>\n",
       "  </tbody>\n",
       "</table>\n",
       "</div>"
      ],
      "text/plain": [
       "   pclass survived                                             name     sex  \\\n",
       "0     1.0        1                    Allen, Miss. Elisabeth Walton  female   \n",
       "1     1.0        1                   Allison, Master. Hudson Trevor    male   \n",
       "2     1.0        0                     Allison, Miss. Helen Loraine  female   \n",
       "3     1.0        0             Allison, Mr. Hudson Joshua Creighton    male   \n",
       "4     1.0        0  Allison, Mrs. Hudson J C (Bessie Waldo Daniels)  female   \n",
       "\n",
       "       age  sibsp  parch  ticket      fare    cabin embarked  boat   body  \\\n",
       "0  29.0000    0.0    0.0   24160  211.3375       B5        S     2    NaN   \n",
       "1   0.9167    1.0    2.0  113781  151.5500  C22 C26        S    11    NaN   \n",
       "2   2.0000    1.0    2.0  113781  151.5500  C22 C26        S  None    NaN   \n",
       "3  30.0000    1.0    2.0  113781  151.5500  C22 C26        S  None  135.0   \n",
       "4  25.0000    1.0    2.0  113781  151.5500  C22 C26        S  None    NaN   \n",
       "\n",
       "                         home.dest  \n",
       "0                     St Louis, MO  \n",
       "1  Montreal, PQ / Chesterville, ON  \n",
       "2  Montreal, PQ / Chesterville, ON  \n",
       "3  Montreal, PQ / Chesterville, ON  \n",
       "4  Montreal, PQ / Chesterville, ON  "
      ]
     },
     "execution_count": 3,
     "metadata": {},
     "output_type": "execute_result"
    }
   ],
   "source": [
    "df.head()"
   ]
  },
  {
   "cell_type": "code",
   "execution_count": 4,
   "id": "4c268207-c7f9-42cb-abc3-2e745a2af479",
   "metadata": {
    "collapsed": true,
    "jupyter": {
     "outputs_hidden": true,
     "source_hidden": true
    },
    "tags": []
   },
   "outputs": [
    {
     "data": {
      "text/plain": [
       "pclass        float64\n",
       "survived     category\n",
       "name           object\n",
       "sex          category\n",
       "age           float64\n",
       "sibsp         float64\n",
       "parch         float64\n",
       "ticket         object\n",
       "fare          float64\n",
       "cabin          object\n",
       "embarked     category\n",
       "boat           object\n",
       "body          float64\n",
       "home.dest      object\n",
       "dtype: object"
      ]
     },
     "execution_count": 4,
     "metadata": {},
     "output_type": "execute_result"
    }
   ],
   "source": [
    "df.dtypes"
   ]
  },
  {
   "cell_type": "markdown",
   "id": "19005e3a-82ab-4660-a4d2-50076d56b34d",
   "metadata": {},
   "source": [
    "Notiamo subito che ci sono dei `NaN` e dei `None` relativi a diverse feature.\n",
    "\n",
    "> **Suggerimento**: `NaN` e `None` *non* sono analoghi. Entrambi indicano la mancanza di dati, ma `None` implica la presenza di un oggetto, mentre `NaN` quella di un valore numerico. In tal senso, a [questo indirizzo](https://stackoverflow.com/questions/17534106/what-is-the-difference-between-nan-and-none) potete trovare un'interessante disquisizione.\n",
    "\n",
    "Abbiamo due possibilità: la prima è quella di eliminare i campioni che presentano dati mancanti, la seconda è quella di eliminare le feature che presentano tali valori. Scriviamo la funzione `drop_nan` che elimini una feature qualora il numero di dati mancanti sia superiore al 25% del totale e che, una volta terminata questa operazione, provveda ad eliminare i campioni che presentano una o più feature con dati mancanti."
   ]
  },
  {
   "cell_type": "code",
   "execution_count": 5,
   "id": "b4cbc819-8397-4726-92be-7e3d0f190a7b",
   "metadata": {
    "jupyter": {
     "source_hidden": true
    },
    "tags": []
   },
   "outputs": [],
   "source": [
    "def drop_nan(df):\n",
    "    threshold = round(len(df) / 4)\n",
    "    df.dropna(axis=1, inplace=True, thresh=threshold)\n",
    "    df.dropna(axis=0, inplace=True)"
   ]
  },
  {
   "cell_type": "markdown",
   "id": "db6efaac-d2e0-4fb7-a28a-570e9e9242b1",
   "metadata": {},
   "source": [
    "Prima di applicare la funzione `drop_nan`, però, eliminiamo le feature che non reputiamo significative ai fini della nostra analisi. In particolare, potremmo eliminare feature come il nome o il numero di ticket.\n",
    "\n",
    "Per quello che riguarda i valori a `None`, questi sono indicativi del fatto che il passeggero non è stato imbarcato su alcuna scialuppa di salvataggio. Assegnamo uno zero a tutti i dati che assumono valore `None` mediante la funzione [`apply`](https://pandas.pydata.org/pandas-docs/stable/reference/api/pandas.DataFrame.apply.html).\n",
    "\n",
    "> **Nota**\n",
    ">\n",
    "> La funzione `apply` prevede l'utilizzo delle [*lambda functions*](https://docs.python.org/3/tutorial/controlflow.html). Per brevità, queste funzioni hanno una sintassi di questo tipo:\n",
    "> ```python\n",
    "> lambda x: f(x)\n",
    "> ```\n",
    "> Ciò significa che sarà applicata `f(x)` ad ogni valore di `x`. Così, ad esempio:\n",
    "> ```python\n",
    "> df = pd.DataFrame([1, 2, 3])\n",
    "> df = df.apply(lambda x: x**2)\n",
    "> # Risultato: pd.DataFrame([1, 4, 9])\n",
    "> ```\n"
   ]
  },
  {
   "cell_type": "code",
   "execution_count": 6,
   "id": "23a74775-524c-45b9-8d3d-27b2d1b7eae5",
   "metadata": {
    "jupyter": {
     "source_hidden": true
    },
    "tags": []
   },
   "outputs": [],
   "source": [
    "df.drop(['name', 'ticket'], axis=1, inplace=True)\n",
    "df['boat'] = df['boat'].apply(lambda x: '0' if x is None else x)\n",
    "drop_nan(df)"
   ]
  },
  {
   "cell_type": "markdown",
   "id": "4d5e022c-352f-440d-89a8-6f2d9e40f2b9",
   "metadata": {},
   "source": [
    "Vediamo adesso il dataframe risultante."
   ]
  },
  {
   "cell_type": "code",
   "execution_count": 7,
   "id": "ace9ecb5-08b6-40b3-9d17-f0cd1d73fd73",
   "metadata": {
    "collapsed": true,
    "jupyter": {
     "outputs_hidden": true,
     "source_hidden": true
    },
    "tags": []
   },
   "outputs": [
    {
     "data": {
      "text/html": [
       "<div>\n",
       "<style scoped>\n",
       "    .dataframe tbody tr th:only-of-type {\n",
       "        vertical-align: middle;\n",
       "    }\n",
       "\n",
       "    .dataframe tbody tr th {\n",
       "        vertical-align: top;\n",
       "    }\n",
       "\n",
       "    .dataframe thead th {\n",
       "        text-align: right;\n",
       "    }\n",
       "</style>\n",
       "<table border=\"1\" class=\"dataframe\">\n",
       "  <thead>\n",
       "    <tr style=\"text-align: right;\">\n",
       "      <th></th>\n",
       "      <th>pclass</th>\n",
       "      <th>survived</th>\n",
       "      <th>sex</th>\n",
       "      <th>age</th>\n",
       "      <th>sibsp</th>\n",
       "      <th>parch</th>\n",
       "      <th>fare</th>\n",
       "      <th>embarked</th>\n",
       "      <th>boat</th>\n",
       "      <th>home.dest</th>\n",
       "    </tr>\n",
       "  </thead>\n",
       "  <tbody>\n",
       "    <tr>\n",
       "      <th>0</th>\n",
       "      <td>1.0</td>\n",
       "      <td>1</td>\n",
       "      <td>female</td>\n",
       "      <td>29.0000</td>\n",
       "      <td>0.0</td>\n",
       "      <td>0.0</td>\n",
       "      <td>211.3375</td>\n",
       "      <td>S</td>\n",
       "      <td>2</td>\n",
       "      <td>St Louis, MO</td>\n",
       "    </tr>\n",
       "    <tr>\n",
       "      <th>1</th>\n",
       "      <td>1.0</td>\n",
       "      <td>1</td>\n",
       "      <td>male</td>\n",
       "      <td>0.9167</td>\n",
       "      <td>1.0</td>\n",
       "      <td>2.0</td>\n",
       "      <td>151.5500</td>\n",
       "      <td>S</td>\n",
       "      <td>11</td>\n",
       "      <td>Montreal, PQ / Chesterville, ON</td>\n",
       "    </tr>\n",
       "    <tr>\n",
       "      <th>2</th>\n",
       "      <td>1.0</td>\n",
       "      <td>0</td>\n",
       "      <td>female</td>\n",
       "      <td>2.0000</td>\n",
       "      <td>1.0</td>\n",
       "      <td>2.0</td>\n",
       "      <td>151.5500</td>\n",
       "      <td>S</td>\n",
       "      <td>0</td>\n",
       "      <td>Montreal, PQ / Chesterville, ON</td>\n",
       "    </tr>\n",
       "    <tr>\n",
       "      <th>3</th>\n",
       "      <td>1.0</td>\n",
       "      <td>0</td>\n",
       "      <td>male</td>\n",
       "      <td>30.0000</td>\n",
       "      <td>1.0</td>\n",
       "      <td>2.0</td>\n",
       "      <td>151.5500</td>\n",
       "      <td>S</td>\n",
       "      <td>0</td>\n",
       "      <td>Montreal, PQ / Chesterville, ON</td>\n",
       "    </tr>\n",
       "    <tr>\n",
       "      <th>4</th>\n",
       "      <td>1.0</td>\n",
       "      <td>0</td>\n",
       "      <td>female</td>\n",
       "      <td>25.0000</td>\n",
       "      <td>1.0</td>\n",
       "      <td>2.0</td>\n",
       "      <td>151.5500</td>\n",
       "      <td>S</td>\n",
       "      <td>0</td>\n",
       "      <td>Montreal, PQ / Chesterville, ON</td>\n",
       "    </tr>\n",
       "  </tbody>\n",
       "</table>\n",
       "</div>"
      ],
      "text/plain": [
       "   pclass survived     sex      age  sibsp  parch      fare embarked boat  \\\n",
       "0     1.0        1  female  29.0000    0.0    0.0  211.3375        S    2   \n",
       "1     1.0        1    male   0.9167    1.0    2.0  151.5500        S   11   \n",
       "2     1.0        0  female   2.0000    1.0    2.0  151.5500        S    0   \n",
       "3     1.0        0    male  30.0000    1.0    2.0  151.5500        S    0   \n",
       "4     1.0        0  female  25.0000    1.0    2.0  151.5500        S    0   \n",
       "\n",
       "                         home.dest  \n",
       "0                     St Louis, MO  \n",
       "1  Montreal, PQ / Chesterville, ON  \n",
       "2  Montreal, PQ / Chesterville, ON  \n",
       "3  Montreal, PQ / Chesterville, ON  \n",
       "4  Montreal, PQ / Chesterville, ON  "
      ]
     },
     "execution_count": 7,
     "metadata": {},
     "output_type": "execute_result"
    }
   ],
   "source": [
    "df.head()"
   ]
  },
  {
   "cell_type": "code",
   "execution_count": 8,
   "id": "d691d6d1-586f-4672-8b16-191bc766b272",
   "metadata": {
    "collapsed": true,
    "jupyter": {
     "outputs_hidden": true,
     "source_hidden": true
    },
    "tags": []
   },
   "outputs": [
    {
     "data": {
      "text/plain": [
       "pclass        float64\n",
       "survived     category\n",
       "sex          category\n",
       "age           float64\n",
       "sibsp         float64\n",
       "parch         float64\n",
       "fare          float64\n",
       "embarked     category\n",
       "boat           object\n",
       "home.dest      object\n",
       "dtype: object"
      ]
     },
     "execution_count": 8,
     "metadata": {},
     "output_type": "execute_result"
    }
   ],
   "source": [
    "df.dtypes"
   ]
  },
  {
   "cell_type": "markdown",
   "id": "5f567cdf-e49d-43d7-8cae-544e539ccafd",
   "metadata": {},
   "source": [
    "Nel dataframe, sono rimaste dieci feature, rispetto alle iniziali 14. Notiamo anche che abbiamo alcune feature che possiamo contrassegnare come *categorical*, ovvero:\n",
    "\n",
    "* `sex`\n",
    "* `embarked`\n",
    "* `boat`\n",
    "* `home.dest`\n",
    "\n",
    "> **Nota**: `boat` è una feature categorica, in quanto alcune delle scialuppe di salvataggio erano contrassegnate da valori alfanumerici (ad esempio, `D`) e non da semplici cifre.\n",
    "\n",
    "### Parte 2.2: Esplorazione dei dati\n",
    "\n",
    "Usiamo adesso congiuntamente gli strumenti degli *istogrammi* e degli *scatter plot* per esplorare visivamente le singole feature. Partiamo dall'età."
   ]
  },
  {
   "cell_type": "code",
   "execution_count": 9,
   "id": "0dd667b1-1bea-4b8f-857a-cf32cad35233",
   "metadata": {
    "collapsed": true,
    "jupyter": {
     "outputs_hidden": true,
     "source_hidden": true
    },
    "tags": []
   },
   "outputs": [
    {
     "data": {
      "image/png": "[encoded data removed]",
      "text/plain": [
       "<Figure size 432x288 with 1 Axes>"
      ]
     },
     "metadata": {
      "needs_background": "light"
     },
     "output_type": "display_data"
    }
   ],
   "source": [
    "df.hist(\n",
    "    column='age',\n",
    "    grid=False\n",
    ")\n",
    "plt.show()"
   ]
  },
  {
   "cell_type": "markdown",
   "id": "5181c5c7-b89d-47de-b513-6f72899e7616",
   "metadata": {},
   "source": [
    "Come possiamo vedere, l'età ricorda una distribuzione di Rayleigh. Ci attendiamo lo stesso per un'altra dimensione che possiamo esplorare, ovvero quella delle tariffe pagate dai singoli passeggeri."
   ]
  },
  {
   "cell_type": "code",
   "execution_count": 10,
   "id": "7841c6a6-4b60-48d6-969c-cc19c74a7bde",
   "metadata": {
    "collapsed": true,
    "jupyter": {
     "outputs_hidden": true,
     "source_hidden": true
    },
    "tags": []
   },
   "outputs": [
    {
     "data": {
      "image/png": "[encoded data removed]",
      "text/plain": [
       "<Figure size 432x288 with 1 Axes>"
      ]
     },
     "metadata": {
      "needs_background": "light"
     },
     "output_type": "display_data"
    }
   ],
   "source": [
    "df.hist(\n",
    "    column='fare',\n",
    "    grid=False\n",
    ")\n",
    "plt.show()"
   ]
  },
  {
   "cell_type": "markdown",
   "id": "0c2c2260-ba86-4ced-832b-3b74f65a6130",
   "metadata": {},
   "source": [
    "Vediamo come si dispongono le due feature usando uno scatter plot."
   ]
  },
  {
   "cell_type": "code",
   "execution_count": 11,
   "id": "d329b210-f036-4ee0-8897-2177dbc023f2",
   "metadata": {
    "collapsed": true,
    "jupyter": {
     "outputs_hidden": true,
     "source_hidden": true
    },
    "tags": []
   },
   "outputs": [
    {
     "data": {
      "image/png": "[encoded data removed]",
      "text/plain": [
       "<Figure size 432x288 with 1 Axes>"
      ]
     },
     "metadata": {
      "needs_background": "light"
     },
     "output_type": "display_data"
    }
   ],
   "source": [
    "df.boxplot(['age', 'fare'])\n",
    "plt.show()"
   ]
  },
  {
   "cell_type": "code",
   "execution_count": 12,
   "id": "c48b9536-c175-4fc5-abe6-fd89eec0d3ed",
   "metadata": {
    "collapsed": true,
    "jupyter": {
     "outputs_hidden": true,
     "source_hidden": true
    },
    "tags": []
   },
   "outputs": [
    {
     "data": {
      "image/png": "[encoded data removed]",
      "text/plain": [
       "<Figure size 432x288 with 2 Axes>"
      ]
     },
     "metadata": {
      "needs_background": "light"
     },
     "output_type": "display_data"
    }
   ],
   "source": [
    "df.plot.scatter(x='age', y='fare', c='survived', cmap='inferno')\n",
    "plt.show()"
   ]
  },
  {
   "cell_type": "markdown",
   "id": "3a9ea985-804b-4586-a434-6a71a79404ca",
   "metadata": {},
   "source": [
    "Notiamo come la variabilità dell'età è sufficiente, mentre quella del ticket è bassa. Potremmo quindi provare ad usare una tecnica di feature selection basata su `VarianceThreshold`.\n",
    "\n",
    "In ultimo, valutiamo la matrice di correlazione. Usiamo l'indice di correlazione di Kendall, che risulta essere maggiormente robusto rispetto a quello di Pearson ed a quello di Spearman. Per approfondire, ecco un [eccellente punto di partenza](https://datascience.stackexchange.com/a/64261) su Stack Exchange."
   ]
  },
  {
   "cell_type": "code",
   "execution_count": 13,
   "id": "4ad02db1-e632-4ff9-884b-a8cea76ca989",
   "metadata": {
    "collapsed": true,
    "jupyter": {
     "outputs_hidden": true,
     "source_hidden": true
    },
    "tags": []
   },
   "outputs": [
    {
     "data": {
      "text/html": [
       "<div>\n",
       "<style scoped>\n",
       "    .dataframe tbody tr th:only-of-type {\n",
       "        vertical-align: middle;\n",
       "    }\n",
       "\n",
       "    .dataframe tbody tr th {\n",
       "        vertical-align: top;\n",
       "    }\n",
       "\n",
       "    .dataframe thead th {\n",
       "        text-align: right;\n",
       "    }\n",
       "</style>\n",
       "<table border=\"1\" class=\"dataframe\">\n",
       "  <thead>\n",
       "    <tr style=\"text-align: right;\">\n",
       "      <th></th>\n",
       "      <th>pclass</th>\n",
       "      <th>age</th>\n",
       "      <th>sibsp</th>\n",
       "      <th>parch</th>\n",
       "      <th>fare</th>\n",
       "    </tr>\n",
       "  </thead>\n",
       "  <tbody>\n",
       "    <tr>\n",
       "      <th>pclass</th>\n",
       "      <td>1.000000</td>\n",
       "      <td>-0.295394</td>\n",
       "      <td>-0.464471</td>\n",
       "      <td>-0.488548</td>\n",
       "      <td>-0.490492</td>\n",
       "    </tr>\n",
       "    <tr>\n",
       "      <th>age</th>\n",
       "      <td>-0.295394</td>\n",
       "      <td>1.000000</td>\n",
       "      <td>-0.511169</td>\n",
       "      <td>-0.631767</td>\n",
       "      <td>0.129443</td>\n",
       "    </tr>\n",
       "    <tr>\n",
       "      <th>sibsp</th>\n",
       "      <td>-0.464471</td>\n",
       "      <td>-0.511169</td>\n",
       "      <td>1.000000</td>\n",
       "      <td>-0.322768</td>\n",
       "      <td>0.199986</td>\n",
       "    </tr>\n",
       "    <tr>\n",
       "      <th>parch</th>\n",
       "      <td>-0.488548</td>\n",
       "      <td>-0.631767</td>\n",
       "      <td>-0.322768</td>\n",
       "      <td>1.000000</td>\n",
       "      <td>0.194832</td>\n",
       "    </tr>\n",
       "    <tr>\n",
       "      <th>fare</th>\n",
       "      <td>-0.490492</td>\n",
       "      <td>0.129443</td>\n",
       "      <td>0.199986</td>\n",
       "      <td>0.194832</td>\n",
       "      <td>1.000000</td>\n",
       "    </tr>\n",
       "  </tbody>\n",
       "</table>\n",
       "</div>"
      ],
      "text/plain": [
       "          pclass       age     sibsp     parch      fare\n",
       "pclass  1.000000 -0.295394 -0.464471 -0.488548 -0.490492\n",
       "age    -0.295394  1.000000 -0.511169 -0.631767  0.129443\n",
       "sibsp  -0.464471 -0.511169  1.000000 -0.322768  0.199986\n",
       "parch  -0.488548 -0.631767 -0.322768  1.000000  0.194832\n",
       "fare   -0.490492  0.129443  0.199986  0.194832  1.000000"
      ]
     },
     "execution_count": 13,
     "metadata": {},
     "output_type": "execute_result"
    }
   ],
   "source": [
    "df.corr(method='kendall')"
   ]
  },
  {
   "cell_type": "markdown",
   "id": "843d2a42-9258-42e0-9fbe-8a3519e1ff90",
   "metadata": {},
   "source": [
    "E' facile vedere come i risultati ci conducano alla conclusione che non vi sono feature fortemente correlate od anticorrelate; la correlazione maggiore che è possibile riscontrare è infatti tra classe del passeggero e tariffa (ed è negativa, come prevedibile: ciò significa che passeggeri con classe numerica più alta, ovvero terza, hanno pagato meno rispetto a passeggeri con classe numerica più bassa, ovvero seconda e prima).\n",
    "\n",
    "## Parte 3: pipeline di machine learning\n",
    "\n",
    "Possiamo adesso passare a creare due pipeline per il machine learning. \n",
    "\n",
    "Useremo in tal senso due classificatori: il primo sarà basato su alberi decisionali, mentre il secondo sarà un *multi-layer perceptron*, modellato grazie alla classe [`MPLClassifier`](http://scikit-learn.org/stable/modules/generated/sklearn.neural_network.MLPClassifier.html).\n",
    "\n",
    "Prima di continuare, però, isoliamo le label del database. Per farlo, usiamo la funzione [`pop`](https://pandas.pydata.org/pandas-docs/stable/reference/api/pandas.DataFrame.pop.html):"
   ]
  },
  {
   "cell_type": "code",
   "execution_count": 14,
   "id": "57e4fa80-a00e-4ec4-b7a0-1a88eda7e7cc",
   "metadata": {
    "jupyter": {
     "source_hidden": true
    },
    "tags": []
   },
   "outputs": [],
   "source": [
    "y = df.pop('survived')"
   ]
  },
  {
   "cell_type": "markdown",
   "id": "7e14cf2f-872e-4e07-bbc6-3330fcc8dd96",
   "metadata": {},
   "source": [
    "Definiamo ora un `ColumnTransformer` che codifichi le feature in precedenza indicate come categorical:"
   ]
  },
  {
   "cell_type": "code",
   "execution_count": 15,
   "id": "241fd071-2d40-454b-8cdd-13b16a6877c5",
   "metadata": {
    "jupyter": {
     "source_hidden": true
    },
    "tags": []
   },
   "outputs": [],
   "source": [
    "ct = ColumnTransformer(\n",
    "    [('sex_tr', OneHotEncoder(handle_unknown='ignore'), ['sex']),\n",
    "     ('embarked_tr', OneHotEncoder(handle_unknown='ignore'), ['embarked']),\n",
    "     ('boat_tr', OneHotEncoder(handle_unknown='ignore'), ['boat']),\n",
    "     ('home.dest_tr', OneHotEncoder(handle_unknown='ignore'), ['home.dest'])],\n",
    "    remainder='passthrough')\n",
    "\n",
    "X = ct.fit_transform(df)"
   ]
  },
  {
   "cell_type": "markdown",
   "id": "3a57a17a-cc4c-408a-ab94-8bb900e64493",
   "metadata": {},
   "source": [
    "Possiamo ora definire le nostre due processing pipeline, una per ognuno dei possibili classificatori."
   ]
  },
  {
   "cell_type": "code",
   "execution_count": 16,
   "id": "adb6d4d2-01cc-431e-a385-323064b4fccb",
   "metadata": {
    "jupyter": {
     "source_hidden": true
    },
    "tags": []
   },
   "outputs": [],
   "source": [
    "dt_pipeline = Pipeline([\n",
    "    ('feat_sel', VarianceThreshold(.8 * 1 - .8)),\n",
    "    ('dt', DecisionTreeClassifier(random_state=42))\n",
    "])\n",
    "\n",
    "mlp_pipeline = Pipeline([\n",
    "    ('feat_sel', VarianceThreshold(.8 * 1 - .8)),\n",
    "    ('mlp', MLPClassifier(random_state=42))\n",
    "])"
   ]
  },
  {
   "cell_type": "markdown",
   "id": "89391a6f-4d04-4b05-be19-f28c683cb5ff",
   "metadata": {},
   "source": [
    "Applichiamo la `GridSearchCV` su ognuna delle due pipeline. Dato che queste offrono un'interfaccia analoga a quella dei classici stimatori, potremo usare la stessa modalità vista in precedenza sui regressori; l'unica accortezza starà nello specificare a quale step della pipeline si riferiscono i parametri indicati nella griglia, usando una notazione:\n",
    "\n",
    "```python\n",
    "step_name__param_name\n",
    "```"
   ]
  },
  {
   "cell_type": "code",
   "execution_count": 17,
   "id": "9f4146aa-5cab-4abe-a1d7-7eb8d45e45fc",
   "metadata": {
    "jupyter": {
     "source_hidden": true
    },
    "tags": []
   },
   "outputs": [],
   "source": [
    "dt_params = {\n",
    "    'dt__max_depth': list(range(1, 11)),\n",
    "    'dt__criterion': ['gini', 'entropy'],\n",
    "}\n",
    "\n",
    "mlp_params = {\n",
    "    'mlp__hidden_layer_sizes': [50, 100, 150, 200],\n",
    "    'mlp__activation': ['logistic', 'tanh', 'relu'],\n",
    "    'mlp__solver': ['sgd', 'adam'],\n",
    "    'mlp__learning_rate': ['constant', 'adaptive'],\n",
    "}\n",
    "\n",
    "dt_search = GridSearchCV(dt_pipeline, dt_params)\n",
    "dt_search = dt_search.fit(X, y)\n",
    "\n",
    "mlp_search = GridSearchCV(mlp_pipeline, mlp_params)\n",
    "mlp_search = mlp_search.fit(X, y)"
   ]
  },
  {
   "cell_type": "markdown",
   "id": "218d2324-f10b-4887-8f09-702f85f848e8",
   "metadata": {},
   "source": [
    "Vediamo quali sono i migliori punteggi ottenuti da entrambe le pipeline."
   ]
  },
  {
   "cell_type": "code",
   "execution_count": 18,
   "id": "f19a9bed-d889-40c5-af28-2a6e1e36f088",
   "metadata": {
    "collapsed": true,
    "jupyter": {
     "outputs_hidden": true,
     "source_hidden": true
    },
    "tags": []
   },
   "outputs": [
    {
     "name": "stdout",
     "output_type": "stream",
     "text": [
      "Accuracy per la pipeline con albero decisionale: ~98%\n",
      "Accuracy per la pipeline con MLP: ~96%\n"
     ]
    }
   ],
   "source": [
    "print('Accuracy per la pipeline con albero decisionale: ~{}%'.format(\n",
    "    round(dt_search.best_score_ * 100)))\n",
    "print('Accuracy per la pipeline con MLP: ~{}%'.format(\n",
    "    round(mlp_search.best_score_ * 100)))"
   ]
  },
  {
   "cell_type": "markdown",
   "id": "e873d91c-dfe6-4bdc-86f7-24ac2c29664a",
   "metadata": {},
   "source": [
    "Ovviamente, potremo usare in inferenza la pipeline addestrata esattamente come uno stimatore mediante il metodo `predict`."
   ]
  },
  {
   "cell_type": "markdown",
   "id": "6e8898f0-9baa-4bf2-9ebe-a10477ea4ffb",
   "metadata": {},
   "source": [
    "## Note finali\n",
    "\n",
    "Scegliere tra un gran numero di stimatori può essere un'operazione abbastanza onerosa. Per questo, esiste un'intera branca del machine learning, chiamata *AutoML*, che si occupa di automatizzare la scelta, rendendo il processo trasparente all'utente. In tal senso, un tool per l'AutoML basato su Scikit Learn è [AutoSKLearn](https://github.com/automl/auto-sklearn). Questo è, al momento, disponibile soltanto per macchine non Windows; tuttavia, il consiglio è quello di darci un'occhiata, se possibile."
   ]
  },
  {
   "cell_type": "code",
   "execution_count": null,
   "id": "4b36410c-a335-4049-a4c3-2a6e4003c4df",
   "metadata": {},
   "outputs": [],
   "source": []
  }
 ],
 "metadata": {
  "kernelspec": {
   "display_name": "Python 3 (ipykernel)",
   "language": "python",
   "name": "python3"
  },
  "language_info": {
   "codemirror_mode": {
    "name": "ipython",
    "version": 3
   },
   "file_extension": ".py",
   "mimetype": "text/x-python",
   "name": "python",
   "nbconvert_exporter": "python",
   "pygments_lexer": "ipython3",
   "version": "3.8.7"
  }
 },
 "nbformat": 4,
 "nbformat_minor": 5
}

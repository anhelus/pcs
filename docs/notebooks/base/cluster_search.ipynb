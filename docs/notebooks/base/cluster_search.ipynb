{
 "cells": [
  {
   "cell_type": "code",
   "execution_count": 1,
   "id": "090c668b-9e4b-4e15-92b8-7173871d4a9a",
   "metadata": {},
   "outputs": [],
   "source": [
    "# OBIETTIVO: GRID SEARCH E RANDOM SEARCH SU DBSCAN\n",
    "import numpy as np\n",
    "\n",
    "from sklearn.model_selection import GridSearchCV, RandomizedSearchCV"
   ]
  },
  {
   "cell_type": "code",
   "execution_count": 2,
   "id": "13008b42-e086-42ca-9163-573ee3569405",
   "metadata": {},
   "outputs": [],
   "source": [
    "param_dist = {\n",
    "    'eps': np.linspace(0., 2.),\n",
    "    'min_samples': np.arange(0, 20)\n",
    "}"
   ]
  },
  {
   "cell_type": "code",
   "execution_count": null,
   "id": "34fce2d6-e067-4a72-acc0-bcb2f0e95e2d",
   "metadata": {},
   "outputs": [],
   "source": [
    "n_iter_search = 20"
   ]
  }
 ],
 "metadata": {
  "kernelspec": {
   "display_name": "Python 3",
   "language": "python",
   "name": "python3"
  },
  "language_info": {
   "codemirror_mode": {
    "name": "ipython",
    "version": 3
   },
   "file_extension": ".py",
   "mimetype": "text/x-python",
   "name": "python",
   "nbconvert_exporter": "python",
   "pygments_lexer": "ipython3",
   "version": "3.8.7"
  }
 },
 "nbformat": 4,
 "nbformat_minor": 5
}

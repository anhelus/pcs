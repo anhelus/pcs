{
 "cells": [
  {
   "attachments": {},
   "cell_type": "markdown",
   "metadata": {},
   "source": [
    "**Esercizio 3.1**"
   ]
  },
  {
   "cell_type": "code",
   "execution_count": null,
   "metadata": {},
   "outputs": [
    {
     "ename": "",
     "evalue": "",
     "output_type": "error",
     "traceback": [
      "\u001b[1;31mL'esecuzione di celle con 'c:\\Users\\acard\\.pyenv\\pyenv-win\\versions\\3.8.5\\python.exe' richiede il pacchetto ipykernel.\n",
      "\u001b[1;31mRun the following command to install 'ipykernel' into the Python environment. \n",
      "\u001b[1;31mCommand: 'c:/Users/acard/.pyenv/pyenv-win/versions/3.8.5/python.exe -m pip install ipykernel -U --force-reinstall'"
     ]
    }
   ],
   "source": [
    "# Import necessari\n",
    "from time import time\n",
    "import numpy as np\n",
    "\n",
    "# Funzione riga_per_colonna\n",
    "def riga_per_colonna(v1, v2):\n",
    "\ttic = time()\n",
    "\tif v1.shape[0] == 1:\n",
    "\t\tif v2.shape[1] == 1 and v1.shape[1] == v2.shape[0]:\n",
    "\t\t\tprod = sum([v1[0][i] * v2[i] for i in range(v2.shape[0])])\n",
    "\telif v2.shape[0] == 1:\n",
    "\t\tif v1.shape[1] == 1 and v2.shape[1] == v1.shape[0]:\n",
    "\t\t\tprod = sum([v1[i] * v2[0][i] for i in range(v1.shape[0])])\n",
    "\telse:\n",
    "\t\treturn 'Le dimensioni non sono coerenti!'\n",
    "\ttoc = time()\n",
    "\treturn prod, toc - tic\n",
    "\n",
    "# Proviamo\n",
    "v1 = np.array([[1,2,3,4]])\n",
    "v2 = np.array([[1],[2],[3],[4]])\n",
    "\n",
    "res, elapsed = riga_per_colonna(v1, v2)\n",
    "print(elapsed)\n",
    "\n",
    "# Operazione analoga in NumPy\n",
    "tic = time()\n",
    "res_a = np.dot(v1, v2)\n",
    "toc = time()\n",
    "print(f'{toc - tic}')"
   ]
  },
  {
   "attachments": {},
   "cell_type": "markdown",
   "metadata": {},
   "source": [
    "**Esercizio 3.2**"
   ]
  },
  {
   "cell_type": "code",
   "execution_count": null,
   "metadata": {},
   "outputs": [
    {
     "ename": "",
     "evalue": "",
     "output_type": "error",
     "traceback": [
      "\u001b[1;31mL'esecuzione di celle con 'c:\\Users\\acard\\.pyenv\\pyenv-win\\versions\\3.8.5\\python.exe' richiede il pacchetto ipykernel.\n",
      "\u001b[1;31mRun the following command to install 'ipykernel' into the Python environment. \n",
      "\u001b[1;31mCommand: 'c:/Users/acard/.pyenv/pyenv-win/versions/3.8.5/python.exe -m pip install ipykernel -U --force-reinstall'"
     ]
    }
   ],
   "source": [
    "from random import randint\n",
    "\n",
    "def crea_array(dim_1, dim_2=1, val_min=0, val_max=100):\n",
    "    rows = [[randint(val_min, val_max) for i in range(dim_2)] for j in range(dim_1)]\n",
    "    return np.array(rows)\n",
    "\n",
    "a_1 = crea_array(2)\n",
    "print(a_1)\n",
    "\n",
    "# Vettore di numeri casuali 4 x 1\n",
    "a_2 = np.random.randint(0, 100, (4, 1))\n",
    "# Vettore di numeri casuali 2 x 2\n",
    "a_3 = np.random.randint(0, 100, (2, 2))"
   ]
  },
  {
   "attachments": {},
   "cell_type": "markdown",
   "metadata": {},
   "source": [
    "**Esercizio 3.3**"
   ]
  },
  {
   "cell_type": "code",
   "execution_count": null,
   "metadata": {},
   "outputs": [
    {
     "ename": "",
     "evalue": "",
     "output_type": "error",
     "traceback": [
      "\u001b[1;31mL'esecuzione di celle con 'c:\\Users\\acard\\.pyenv\\pyenv-win\\versions\\3.8.5\\python.exe' richiede il pacchetto ipykernel.\n",
      "\u001b[1;31mRun the following command to install 'ipykernel' into the Python environment. \n",
      "\u001b[1;31mCommand: 'c:/Users/acard/.pyenv/pyenv-win/versions/3.8.5/python.exe -m pip install ipykernel -U --force-reinstall'"
     ]
    }
   ],
   "source": [
    "def rettifica(array):\n",
    "    array[array < 0] = 0\n",
    "    return array\n",
    "\n",
    "rettifica(np.array([-1, 2, -3, 4]))"
   ]
  },
  {
   "attachments": {},
   "cell_type": "markdown",
   "metadata": {},
   "source": [
    "**Esercizio 3.4**"
   ]
  },
  {
   "cell_type": "code",
   "execution_count": null,
   "metadata": {},
   "outputs": [],
   "source": [
    "mat = np.array([[5, 0, 1], [0, 2, 2], [0, 0, 3]])\n",
    "mat_inv = np.linalg.inv(mat)\n",
    "\n",
    "np.eye(3) == mat.dot(mat_inv)"
   ]
  },
  {
   "attachments": {},
   "cell_type": "markdown",
   "metadata": {},
   "source": [
    "**Esercizio 3.5**"
   ]
  },
  {
   "cell_type": "code",
   "execution_count": null,
   "metadata": {},
   "outputs": [],
   "source": [
    "m_mat = np.array([[5, 1], [1, 2]])\n",
    "\n",
    "def calcola_determinante(mat):\n",
    "    if len(mat.shape) == 2 and mat.shape[0] == mat.shape[1] and mat.shape[0] == 2:\n",
    "        return mat[0][0] * mat[1][1] - mat[0][1] * mat[1][0]\n",
    "    raise ValueError('La matrice non ha le dimensioni attese.')\n",
    "\n",
    "calcola_determinante(m_mat)"
   ]
  },
  {
   "attachments": {},
   "cell_type": "markdown",
   "metadata": {},
   "source": [
    "**Esercizio 3.6**"
   ]
  },
  {
   "cell_type": "code",
   "execution_count": null,
   "metadata": {},
   "outputs": [],
   "source": [
    "def inverti_se_invertibile(mat):\n",
    "    if len(mat.shape) == 2 \\\n",
    "        and mat.shape[0] == mat.shape[1] \\\n",
    "        and np.linalg.det(mat) != 0:\n",
    "        return np.linalg.inv(mat)\n",
    "    raise ValueError('La matrice passata non è invertibile.')\n",
    "\n",
    "inverti_se_invertibile(m_mat)"
   ]
  }
 ],
 "metadata": {
  "kernelspec": {
   "display_name": "Python 3",
   "language": "python",
   "name": "python3"
  },
  "language_info": {
   "name": "python",
   "version": "3.8.5"
  },
  "orig_nbformat": 4,
  "vscode": {
   "interpreter": {
    "hash": "22685ff5c36c779770909c26146eddc5935ed798a7a0cffed813855458ad1987"
   }
  }
 },
 "nbformat": 4,
 "nbformat_minor": 2
}

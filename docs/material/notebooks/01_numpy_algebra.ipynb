{
 "cells": [
  {
   "cell_type": "code",
   "execution_count": 1,
   "metadata": {},
   "outputs": [],
   "source": [
    "import numpy as np"
   ]
  },
  {
   "attachments": {},
   "cell_type": "markdown",
   "metadata": {},
   "source": [
    "**Matrice trasposta**\n",
    "\n",
    "Per calcolare la **trasposta** di una matrice, usiamo la funzione [`numpy.transpose()`](https://numpy.org/doc/stable/reference/generated/numpy.transpose.html)."
   ]
  },
  {
   "cell_type": "code",
   "execution_count": 2,
   "metadata": {},
   "outputs": [
    {
     "data": {
      "text/plain": [
       "array([[1, 4],\n",
       "       [2, 5],\n",
       "       [3, 6]])"
      ]
     },
     "execution_count": 2,
     "metadata": {},
     "output_type": "execute_result"
    }
   ],
   "source": [
    "x = np.array([[1, 2, 3], [4, 5, 6]])\n",
    "np.transpose(x)"
   ]
  },
  {
   "attachments": {},
   "cell_type": "markdown",
   "metadata": {},
   "source": [
    "**Matrice inversa**\n",
    "\n",
    "Per calcolare l'**inversa** di una matrice, usiamo la funzione `inv` del package `linalg`."
   ]
  },
  {
   "cell_type": "code",
   "execution_count": 3,
   "metadata": {},
   "outputs": [
    {
     "data": {
      "text/plain": [
       "array([[0.2 , 0.  , 0.  ],\n",
       "       [0.  , 0.5 , 0.  ],\n",
       "       [0.  , 0.  , 0.25]])"
      ]
     },
     "execution_count": 3,
     "metadata": {},
     "output_type": "execute_result"
    }
   ],
   "source": [
    "x = np.array([[5, 0, 0], [0, 2, 0], [0, 0, 4]])\n",
    "np.linalg.inv(x)"
   ]
  },
  {
   "cell_type": "markdown",
   "metadata": {},
   "source": [
    "Se proviamo a calcolare l'inversa di una matrice rettangolare o di una matrice singolare, la funzione `inv` restituirà un errore di tipo `LinAlgError`."
   ]
  },
  {
   "cell_type": "code",
   "execution_count": 4,
   "metadata": {},
   "outputs": [
    {
     "name": "stdout",
     "output_type": "stream",
     "text": [
      "Questo è ciò che accade se usiamo una matrice rettangolare!\n",
      "Questo è ciò che accade se usiamo una matrice singolare!\n"
     ]
    }
   ],
   "source": [
    "try:\n",
    "    mat = np.array([[1,2,3], [4,5,6]])\n",
    "    np.linalg.inv(mat)\n",
    "except np.linalg.LinAlgError:\n",
    "    print('Questo è ciò che accade se usiamo una matrice rettangolare!')\n",
    "try:\n",
    "    mat = np.array([[1,1,1],[2,2,2],[0,0,1]])\n",
    "    np.linalg.inv(mat)\n",
    "except np.linalg.LinAlgError:\n",
    "    print('Questo è ciò che accade se usiamo una matrice singolare!')"
   ]
  },
  {
   "attachments": {},
   "cell_type": "markdown",
   "metadata": {},
   "source": [
    "**Prodotti matriciali**\n",
    "\n",
    "Usiamo la funzione `inner` per calcolare il prodotto **scalare** tra due vettori. Partiamo con un caso monodimensionale:"
   ]
  },
  {
   "cell_type": "code",
   "execution_count": 5,
   "metadata": {},
   "outputs": [
    {
     "data": {
      "text/plain": [
       "32"
      ]
     },
     "execution_count": 5,
     "metadata": {},
     "output_type": "execute_result"
    }
   ],
   "source": [
    "a = np.array([1, 2, 3])\n",
    "b = np.array([4, 5, 6])\n",
    "\n",
    "# Il prodotto interno è (1*4)+(2*5)+(3*6)\n",
    "np.inner(a, b)"
   ]
  },
  {
   "cell_type": "markdown",
   "metadata": {},
   "source": [
    "Vediamo cosa accade in un caso multidimensionale:"
   ]
  },
  {
   "cell_type": "code",
   "execution_count": 6,
   "metadata": {},
   "outputs": [
    {
     "data": {
      "text/plain": [
       "array([[2, 1],\n",
       "       [4, 3]])"
      ]
     },
     "execution_count": 6,
     "metadata": {},
     "output_type": "execute_result"
    }
   ],
   "source": [
    "a = np.array([[1, 2], [3, 4]])\n",
    "b = np.array([[0, 1], [1, 0]])\n",
    "\n",
    "np.inner(a, b)"
   ]
  },
  {
   "cell_type": "markdown",
   "metadata": {},
   "source": [
    "In questo caso, la formulazione è del tipo:\n",
    "\n",
    "$$\n",
    "p = \\left[\n",
    "    \\begin{array}{cc}\n",
    "        a_1 * b_1 + a_2 * b_2 & a_1 * b_3 + a_2 * b_4 \\\\\n",
    "        a_3 * b_1 + a_4 * b_2 & a_3 * b_3 + a_4 * b_4\n",
    "    \\end{array}\n",
    "\\right] = \\\\\n",
    "=\\left[\n",
    "    \\begin{array}{cc}\n",
    "        1 * 0 + 2 * 1 && 1 * 1 + 2 * 0 \\\\\n",
    "        3 * 0 + 4 * 1 && 3 * 1 + 4 * 0\n",
    "    \\end{array}\n",
    "\\right]\n",
    "= \\left[\n",
    "    \\begin{array}{cc}\n",
    "        2 & 1 \\\\\n",
    "        4 & 3\n",
    "    \\end{array}\n",
    "\\right]\n",
    "$$"
   ]
  },
  {
   "attachments": {},
   "cell_type": "markdown",
   "metadata": {},
   "source": [
    "**Prodotto esterno**\n",
    "\n",
    "Il prodotto **esterno** viene calcolato mediante la funzione `outer`:"
   ]
  },
  {
   "cell_type": "code",
   "execution_count": 7,
   "metadata": {},
   "outputs": [
    {
     "data": {
      "text/plain": [
       "array([[3, 4],\n",
       "       [6, 8]])"
      ]
     },
     "execution_count": 7,
     "metadata": {},
     "output_type": "execute_result"
    }
   ],
   "source": [
    "a = np.array([1, 2])\n",
    "b = np.array([3, 4])\n",
    "\n",
    "np.outer(a, b)"
   ]
  },
  {
   "attachments": {},
   "cell_type": "markdown",
   "metadata": {},
   "source": [
    "**La funzione matmul()**\n",
    "\n",
    "La funzione `matmul` ci permette di effettuare il **prodotto matriciale** tra due matrici."
   ]
  },
  {
   "cell_type": "code",
   "execution_count": 8,
   "metadata": {},
   "outputs": [
    {
     "data": {
      "text/plain": [
       "array([[19, 22],\n",
       "       [43, 50]])"
      ]
     },
     "execution_count": 8,
     "metadata": {},
     "output_type": "execute_result"
    }
   ],
   "source": [
    "a = np.array([[1, 2], [3, 4]])\n",
    "b = np.array([[5, 6], [7, 8]])\n",
    "\n",
    "np.matmul(a, b)"
   ]
  },
  {
   "attachments": {},
   "cell_type": "markdown",
   "metadata": {},
   "source": [
    "`matmul()` non può essere usata con uno scalare come parametro, a differenza della `dot()`:"
   ]
  },
  {
   "cell_type": "code",
   "execution_count": null,
   "metadata": {},
   "outputs": [],
   "source": [
    "try:\n",
    "  np.matmul(a, 3)\n",
    "except ValueError:\n",
    "  print('matmul non può essere usata con uno scalare!')"
   ]
  },
  {
   "attachments": {},
   "cell_type": "markdown",
   "metadata": {},
   "source": [
    "**Potenza di matrice**\n",
    "\n",
    "Per **elevare la matrice a potenza** utilizzare la funzione `matrix_power` del package `linalg`:"
   ]
  },
  {
   "cell_type": "code",
   "execution_count": 9,
   "metadata": {},
   "outputs": [
    {
     "data": {
      "text/plain": [
       "array([[1069, 1558],\n",
       "       [2337, 3406]])"
      ]
     },
     "execution_count": 9,
     "metadata": {},
     "output_type": "execute_result"
    }
   ],
   "source": [
    "np.linalg.matrix_power(a, 5)"
   ]
  },
  {
   "attachments": {},
   "cell_type": "markdown",
   "metadata": {},
   "source": [
    "**Autovettori ed autovalore**\n",
    "\n",
    "Per calcolare **autovettori ed autovalori** di una matrice, usiamo la funzione `eig` del package `linalg`:"
   ]
  },
  {
   "cell_type": "code",
   "execution_count": 11,
   "metadata": {},
   "outputs": [
    {
     "name": "stdout",
     "output_type": "stream",
     "text": [
      "Autovalori: [-0.37228132  5.37228132] \n",
      "Autovettori: [[-0.82456484 -0.41597356]\n",
      " [ 0.56576746 -0.90937671]]\n"
     ]
    }
   ],
   "source": [
    "(w, v) = np.linalg.eig(a)\n",
    "print('Autovalori:', w, '\\nAutovettori:', v)"
   ]
  },
  {
   "attachments": {},
   "cell_type": "markdown",
   "metadata": {},
   "source": [
    "**Norma, rango, determinante e traccia**\n",
    "\n",
    "Per calcolare la norma, usiamo la funzione `norm`:"
   ]
  },
  {
   "cell_type": "code",
   "execution_count": 12,
   "metadata": {},
   "outputs": [
    {
     "data": {
      "text/plain": [
       "5.477225575051661"
      ]
     },
     "execution_count": 12,
     "metadata": {},
     "output_type": "execute_result"
    }
   ],
   "source": [
    "np.linalg.norm(a)"
   ]
  },
  {
   "cell_type": "markdown",
   "metadata": {},
   "source": [
    "Per calcolare rango, determinante e traccia, usiamo rispettivamente:"
   ]
  },
  {
   "cell_type": "code",
   "execution_count": 13,
   "metadata": {},
   "outputs": [
    {
     "name": "stdout",
     "output_type": "stream",
     "text": [
      "Rango: 2 \n",
      "Determinante: -2.0000000000000004 \n",
      "Traccia: 5\n"
     ]
    }
   ],
   "source": [
    "# Rango:\n",
    "rank = np.linalg.matrix_rank(a)\n",
    "det = np.linalg.det(a)\n",
    "tr = np.trace(a)\n",
    "\n",
    "print('Rango:', rank, '\\nDeterminante:', det, '\\nTraccia:', tr)"
   ]
  },
  {
   "cell_type": "markdown",
   "metadata": {},
   "source": [
    "Per risolvere il seguente sistema di equazioni lineari:\n",
    "\n",
    "$$\n",
    "\\begin{cases}\n",
    "x_1 + 2 x_2 + 5 x_3 = y \\\\\n",
    "2 x_1 + 2 x_2 + 3 x_3 = 3 y \\\\\n",
    "2 x_1 + 2 x_2 + x_3 = 2 y\n",
    "\\end{cases}\n",
    "$$"
   ]
  },
  {
   "cell_type": "code",
   "execution_count": 14,
   "metadata": {},
   "outputs": [
    {
     "data": {
      "text/plain": [
       "array([ 2.  , -3.75,  3.25])"
      ]
     },
     "execution_count": 14,
     "metadata": {},
     "output_type": "execute_result"
    }
   ],
   "source": [
    "x = np.array([[1, 2, 2], [2, 2, 2], [5, 3, 1]])\n",
    "y = np.array([1, 3, 2])\n",
    "\n",
    "np.linalg.solve(x, y)"
   ]
  },
  {
   "cell_type": "code",
   "execution_count": null,
   "metadata": {},
   "outputs": [],
   "source": []
  }
 ],
 "metadata": {
  "kernelspec": {
   "display_name": "Python 3",
   "language": "python",
   "name": "python3"
  },
  "language_info": {
   "codemirror_mode": {
    "name": "ipython",
    "version": 3
   },
   "file_extension": ".py",
   "mimetype": "text/x-python",
   "name": "python",
   "nbconvert_exporter": "python",
   "pygments_lexer": "ipython3",
   "version": "3.8.5"
  },
  "orig_nbformat": 4,
  "vscode": {
   "interpreter": {
    "hash": "22685ff5c36c779770909c26146eddc5935ed798a7a0cffed813855458ad1987"
   }
  }
 },
 "nbformat": 4,
 "nbformat_minor": 2
}

{
 "cells": [
  {
   "cell_type": "code",
   "execution_count": 1,
   "metadata": {},
   "outputs": [],
   "source": [
    "import numpy as np"
   ]
  },
  {
   "cell_type": "markdown",
   "metadata": {},
   "source": [
    "Per ottenere il **minimo** ed il **massimo** di un vettore:"
   ]
  },
  {
   "cell_type": "code",
   "execution_count": 2,
   "metadata": {},
   "outputs": [
    {
     "name": "stdout",
     "output_type": "stream",
     "text": [
      "[0 7 6 4 4] \n",
      "\n",
      "Minimo: 0 \n",
      "Massimo: 7\n"
     ]
    }
   ],
   "source": [
    "rng = np.random.default_rng(42)\n",
    "a = rng.integers(low=0, high=10, size=5)\n",
    "print(a, '\\n')\n",
    "print('Minimo:', np.amin(a), '\\nMassimo:', np.amax(a))"
   ]
  },
  {
   "cell_type": "markdown",
   "metadata": {},
   "source": [
    "Per un array multidimensionale vale la stessa notazione:"
   ]
  },
  {
   "cell_type": "code",
   "execution_count": 3,
   "metadata": {},
   "outputs": [
    {
     "name": "stdout",
     "output_type": "stream",
     "text": [
      "[[8 0 6]\n",
      " [2 0 5]\n",
      " [9 7 7]] \n",
      "\n",
      "Minimo: 0 \n",
      "Massimo: 9\n"
     ]
    }
   ],
   "source": [
    "b = rng.integers(low=0, high=10, size=(3, 3))\n",
    "print(b, '\\n')\n",
    "print('Minimo:', np.amin(b), '\\nMassimo:', np.amax(b))"
   ]
  },
  {
   "cell_type": "markdown",
   "metadata": {},
   "source": [
    "Operando per colonna o per riga:"
   ]
  },
  {
   "cell_type": "code",
   "execution_count": 4,
   "metadata": {},
   "outputs": [
    {
     "name": "stdout",
     "output_type": "stream",
     "text": [
      "[[8 0 6]\n",
      " [2 0 5]\n",
      " [9 7 7]] \n",
      "\n",
      "Minimo per colonna: [2 0 5] \n",
      "Massimo per colonna: [9 7 7]\n",
      "Minimo per riga: [0 0 7] \n",
      "Massimo per riga: [8 5 9]\n"
     ]
    }
   ],
   "source": [
    "print(b, '\\n')\n",
    "print('Minimo per colonna:', np.amin(b, axis=0), '\\nMassimo per colonna:', np.amax(b, axis=0))\n",
    "print('Minimo per riga:', np.amin(b, axis=1), '\\nMassimo per riga:', np.amax(b, axis=1))"
   ]
  },
  {
   "cell_type": "markdown",
   "metadata": {},
   "source": [
    "Per calcolare il percentile ed il quantile:"
   ]
  },
  {
   "cell_type": "code",
   "execution_count": 5,
   "metadata": {},
   "outputs": [
    {
     "name": "stdout",
     "output_type": "stream",
     "text": [
      "[71 78 51 12 83 45 50 37 18 92 78 64 40 82 54 44 45 22  9 55 88  6 85 82\n",
      " 27 63 16 75 70 35  6 97 44 89 67 77 75 19 36 46 49  4 54 15 74 68 92 74\n",
      " 36 96]\n",
      "25-percentile di c: 36.0\n",
      "75-quantile di c: 76.5\n"
     ]
    }
   ],
   "source": [
    "c = rng.integers(low=0, high=100, size=50)\n",
    "print(c)\n",
    "print('25-percentile di c:', np.percentile(c, 25))\n",
    "print('75-quantile di c:', np.quantile(c, .75))"
   ]
  },
  {
   "cell_type": "markdown",
   "metadata": {},
   "source": [
    "Operando sugli assi:"
   ]
  },
  {
   "cell_type": "code",
   "execution_count": 6,
   "metadata": {},
   "outputs": [
    {
     "name": "stdout",
     "output_type": "stream",
     "text": [
      "[[8 0 6]\n",
      " [2 0 5]\n",
      " [9 7 7]]\n",
      "50-quantile lungo le colonne di b:\n",
      " [8. 0. 6.]\n",
      "50-percentile lungo le righe di b:\n",
      " [[6.]\n",
      " [2.]\n",
      " [7.]]\n"
     ]
    }
   ],
   "source": [
    "print(b)\n",
    "print('50-quantile lungo le colonne di b:\\n', np.quantile(b, .5, axis=0))\n",
    "print('50-percentile lungo le righe di b:\\n', np.percentile(b, 50, axis=1, keepdims=True))"
   ]
  },
  {
   "cell_type": "markdown",
   "metadata": {},
   "source": [
    "Per calcolare la media **ponderata** ed **aritmetica** di un vettore:"
   ]
  },
  {
   "cell_type": "code",
   "execution_count": 7,
   "metadata": {},
   "outputs": [
    {
     "name": "stdout",
     "output_type": "stream",
     "text": [
      "[0 7 6 4 4]\n",
      "Media ponderata di a: 4.2\n",
      "Media pesata di a: 4.1\n",
      "Media aritmetica di a: 4.2\n"
     ]
    }
   ],
   "source": [
    "print(a)\n",
    "print('Media ponderata di a:', np.average(a))\n",
    "print('Media pesata di a:', np.average(a, weights=[1, 1, 1, 2, 5]))\n",
    "print('Media aritmetica di a:', np.mean(a))"
   ]
  },
  {
   "cell_type": "markdown",
   "metadata": {},
   "source": [
    "Possiamo calcolare la media lungo righe e colonne:"
   ]
  },
  {
   "cell_type": "code",
   "execution_count": 8,
   "metadata": {},
   "outputs": [
    {
     "name": "stdout",
     "output_type": "stream",
     "text": [
      "[[8 0 6]\n",
      " [2 0 5]\n",
      " [9 7 7]]\n",
      "Media lungo le colonne di b:\n",
      " [6.33333333 2.33333333 6.        ]\n",
      "Media lungo le righe di b:\n",
      " [[4.66666667]\n",
      " [2.33333333]\n",
      " [7.66666667]]\n"
     ]
    }
   ],
   "source": [
    "print(b)\n",
    "print('Media lungo le colonne di b:\\n', np.mean(b, axis=0))\n",
    "print('Media lungo le righe di b:\\n', np.mean(b, axis=1, keepdims=True))"
   ]
  },
  {
   "cell_type": "markdown",
   "metadata": {},
   "source": [
    "Per calcolare la varianza e la deviazione standard di un vettore:"
   ]
  },
  {
   "cell_type": "code",
   "execution_count": 9,
   "metadata": {},
   "outputs": [
    {
     "name": "stdout",
     "output_type": "stream",
     "text": [
      "Varianza di a: 5.76\n",
      "Deviazione standard di a: 2.4\n"
     ]
    }
   ],
   "source": [
    "print('Varianza di a:', np.var(a))\n",
    "print('Deviazione standard di a:', np.std(a))"
   ]
  },
  {
   "cell_type": "markdown",
   "metadata": {},
   "source": [
    "Vediamo la matrice di covarianza:"
   ]
  },
  {
   "cell_type": "code",
   "execution_count": 10,
   "metadata": {},
   "outputs": [
    {
     "name": "stdout",
     "output_type": "stream",
     "text": [
      "x_1:\n",
      " [[1 2 3]\n",
      " [4 5 6]] \n",
      "\n",
      "Matrice di covarianza:\n",
      " [[1. 1.]\n",
      " [1. 1.]]\n",
      "\n",
      "x_2:\n",
      " [[ 1  2  3]\n",
      " [-1 -2 -3]] \n",
      "\n",
      "Matrice di covarianza:\n",
      " [[ 1. -1.]\n",
      " [-1.  1.]]\n"
     ]
    }
   ],
   "source": [
    "x_corr = np.array([[1, 2, 3], [4, 5, 6]])\n",
    "print('x_1:\\n', x_corr, '\\n')\n",
    "print('Matrice di covarianza:\\n', np.cov(x_corr))\n",
    "x_anticorr = np.array([[1, 2, 3], [-1, -2, -3]])\n",
    "print('\\nx_2:\\n', x_anticorr, '\\n')\n",
    "print('Matrice di covarianza:\\n', np.cov(x_anticorr))"
   ]
  },
  {
   "cell_type": "code",
   "execution_count": null,
   "metadata": {},
   "outputs": [],
   "source": []
  }
 ],
 "metadata": {
  "kernelspec": {
   "display_name": "python-calcolo-numerico-3shughjH",
   "language": "python",
   "name": "python3"
  },
  "language_info": {
   "codemirror_mode": {
    "name": "ipython",
    "version": 3
   },
   "file_extension": ".py",
   "mimetype": "text/x-python",
   "name": "python",
   "nbconvert_exporter": "python",
   "pygments_lexer": "ipython3",
   "version": "3.9.13"
  },
  "orig_nbformat": 4,
  "vscode": {
   "interpreter": {
    "hash": "8b414f79017cbdc683bb44a5e152ec932dd1464a9aca0bdb881b548592158994"
   }
  }
 },
 "nbformat": 4,
 "nbformat_minor": 2
}

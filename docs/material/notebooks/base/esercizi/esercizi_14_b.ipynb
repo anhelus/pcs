{
 "cells": [
  {
   "cell_type": "code",
   "execution_count": 1,
   "id": "3494d272-c8f7-446e-9556-94f2041a5c02",
   "metadata": {},
   "outputs": [],
   "source": [
    "import numpy as np\n",
    "import pandas as pd\n",
    "import matplotlib.pyplot as plt\n",
    "\n",
    "from sklearn.ensemble import RandomForestRegressor\n",
    "from sklearn.tree import DecisionTreeRegressor\n",
    "from sklearn.preprocessing import OrdinalEncoder\n",
    "from sklearn.model_selection import cross_val_score"
   ]
  },
  {
   "cell_type": "markdown",
   "id": "ca8d4554-9e22-4b01-9521-b3ecc1b695a7",
   "metadata": {},
   "source": [
    "In questa esercitazione, vedremo come utilizzare la regressione per predire il costo del biglietto per un passeggero del Titanic conoscendone età e sesso.\n",
    "\n",
    "## Parte 1: lettura di dati\n",
    "\n",
    "Per iniziare, leggiamo i dati dal nostro dataset, e selezioniamo esclusivamente le colonne di nostro interesse. Eliminiamo inoltre i dati che presentano valori mancanti."
   ]
  },
  {
   "cell_type": "code",
   "execution_count": 2,
   "id": "391682ec-19ff-4076-869b-1d1b1685072b",
   "metadata": {},
   "outputs": [],
   "source": [
    "df = pd.read_csv('../dataset/train.csv')\n",
    "df = df[['Sex', 'Age', 'Fare']]\n",
    "df.dropna(axis=0, inplace=True)"
   ]
  },
  {
   "cell_type": "markdown",
   "id": "d6a4d487-5251-4bba-869e-ceca8eef56c7",
   "metadata": {},
   "source": [
    "## Parte 2: preprocessing\n",
    "\n",
    "Notiamo che la colonna `Sex` ha valori rappresentati sotto forma di stringa. Questo tipo di feature, chiamato *categorical*, non può essere utilizzato \"as is\" per la risoluzione del problema della regressione: di conseguenza, dovremo utilizzare un [`OrdinalEncoder`](http://scikit-learn.org/stable/modules/generated/sklearn.preprocessing.OrdinalEncoder.html) che associerà un numero a tutti i valori possibili.\n",
    "\n",
    "Per farlo, dovremo in primis creare un vettore colonna a partire dai valori relativi della colonna `Sex`, e poi trasformarlo alla solita maniera."
   ]
  },
  {
   "cell_type": "code",
   "execution_count": 3,
   "id": "c95d1df8-da62-4a2a-8c99-cab8e7f215f7",
   "metadata": {
    "tags": []
   },
   "outputs": [],
   "source": [
    "s = df['Sex'].to_numpy().reshape(-1, 1)\n",
    "enc = OrdinalEncoder()\n",
    "s_tr = enc.fit_transform(s)"
   ]
  },
  {
   "cell_type": "markdown",
   "id": "42c041de-af48-4812-8648-6ab1acd10580",
   "metadata": {},
   "source": [
    "Creiamo ora gli array `X` ed `y` necessari per la regressione."
   ]
  },
  {
   "cell_type": "code",
   "execution_count": 4,
   "id": "a1ce1a1a-f398-4874-8c04-8ce1c0b1d036",
   "metadata": {
    "tags": []
   },
   "outputs": [],
   "source": [
    "a = df['Age'].to_numpy().reshape(-1, 1)\n",
    "y = df['Fare'].to_numpy().reshape(-1, 1)\n",
    "X = np.append(s_tr, a, axis=1)"
   ]
  },
  {
   "cell_type": "markdown",
   "id": "64d266a9-dd3d-450b-98de-06e4b7547f02",
   "metadata": {},
   "source": [
    "Proviamo a plottare i diversi valori di età in funzione dell'indice del passeggero. Ovviamente, ci aspettiamo che non vi sia alcuna correlazione tra l'indice ed l'età."
   ]
  },
  {
   "cell_type": "code",
   "execution_count": 5,
   "id": "d868344b-cc8f-4e9f-9771-96d4f194e527",
   "metadata": {
    "tags": []
   },
   "outputs": [
    {
     "data": {
      "image/png": "[encoded data removed]",
      "text/plain": [
       "<Figure size 432x288 with 1 Axes>"
      ]
     },
     "metadata": {
      "needs_background": "light"
     },
     "output_type": "display_data"
    }
   ],
   "source": [
    "fig, ax = plt.subplots()\n",
    "ax.scatter(np.arange(X.shape[0]), X[:, 1], label='Età')\n",
    "ax.set_xlabel('Indice del passeggero')\n",
    "ax.set_ylabel('Età del passeggero')\n",
    "plt.show()"
   ]
  },
  {
   "cell_type": "markdown",
   "id": "f3a8cc05-14a9-4eb7-877b-b91b472143e7",
   "metadata": {},
   "source": [
    "La nostra ipotesi è verificata. Possiamo quindi passare ad addestrare il regressore.\n",
    "\n",
    "## Parte 3: addestramento del regressore\n",
    "\n",
    "Addestriamo un regressore, ed usiamo in tal senso una cross validazione con $k=10$. Proviamo con un albero decisionale.\n",
    "\n",
    "Come metrica di scoring, usiamo `neg_mean_squared_error`, che segue la convenzione *the higher, the better*. Ulteriori informazioni a [questo link](https://stackoverflow.com/a/48246255/4458173)."
   ]
  },
  {
   "cell_type": "code",
   "execution_count": 6,
   "id": "f309b751-e5cd-4ebf-945d-76b59fda3612",
   "metadata": {
    "tags": []
   },
   "outputs": [
    {
     "data": {
      "text/plain": [
       "-3375.830023656226"
      ]
     },
     "execution_count": 6,
     "metadata": {},
     "output_type": "execute_result"
    }
   ],
   "source": [
    "dt = DecisionTreeRegressor()\n",
    "np.mean(cross_val_score(dt, X, y, scoring='neg_mean_squared_error', cv=10))"
   ]
  },
  {
   "cell_type": "markdown",
   "id": "e5167cff-8645-48fc-a24a-4c97d3f11ac4",
   "metadata": {},
   "source": [
    "Proviamo anche ad usare un Random Forest."
   ]
  },
  {
   "cell_type": "code",
   "execution_count": 7,
   "id": "d1f60bc9-fb37-4ca7-8008-2123498c4ad1",
   "metadata": {
    "tags": []
   },
   "outputs": [
    {
     "data": {
      "text/plain": [
       "-3240.7326404422092"
      ]
     },
     "execution_count": 7,
     "metadata": {},
     "output_type": "execute_result"
    }
   ],
   "source": [
    "rf = RandomForestRegressor()\n",
    "np.mean(cross_val_score(rf, X, y.ravel(), scoring='neg_mean_squared_error', cv=10))"
   ]
  },
  {
   "cell_type": "markdown",
   "id": "cca431b4-92af-4797-a4e4-b9695ee06e78",
   "metadata": {},
   "source": [
    "Il risultato è praticamente identico, per cui possiamo tranquillamente usare l'albero decisionale, che risulta essere meno oneroso dal punto di vista computazionale.\n",
    "\n",
    "## Parte 4: fitting e predizioni\n",
    "\n",
    "Proviamo quindi a fittare il nostro albero decisionale sul problema, ed effettuare predizioni su nuovi dati."
   ]
  },
  {
   "cell_type": "code",
   "execution_count": 8,
   "id": "acca29e1-861c-4d28-8872-9094dfe1c05d",
   "metadata": {
    "tags": []
   },
   "outputs": [
    {
     "name": "stdout",
     "output_type": "stream",
     "text": [
      "Costo del biglietto predetto per una donna di 50 anni:\t64.65\n",
      "Costo del biglietto predetto per un uomo di 20 anni:\t8.53\n",
      "Costo del biglietto predetto per una bambina di 2 anni:\t43.25\n"
     ]
    }
   ],
   "source": [
    "dt.fit(X, y)\n",
    "\n",
    "print('Costo del biglietto predetto per una donna di 50 anni:\\t{}'.format(\n",
    "    round(dt.predict(np.array([[0, 50]]))[0], 2)))\n",
    "print('Costo del biglietto predetto per un uomo di 20 anni:\\t{}'.format(\n",
    "    round(dt.predict(np.array([[1, 20]]))[0], 2)))\n",
    "print('Costo del biglietto predetto per una bambina di 2 anni:\\t{}'.format(\n",
    "    round(dt.predict(np.array([[0, 2]]))[0], 2)))"
   ]
  },
  {
   "cell_type": "markdown",
   "id": "dd6e0c7b-bba7-4dd1-90aa-0968f6c9b3a7",
   "metadata": {},
   "source": [
    "**Note finali**: è importante notare come l'errore sia abbastanza alto, ed alcune predizioni non siano realistiche. Ciò è legato al fatto che il dataset è plausibilmente affetto dalla curse of dimensionality, e che gli iperparametri per i regressori sono probabilmente subottimali.\n",
    "\n",
    "Per mitigare il secondo problema, potremmo usare un oggetto di tipo [`GridSearchCV`](http://scikit-learn.org/stable/modules/generated/sklearn.model_selection.GridSearchCV.html), che vedremo in azione in una delle prossime lezioni."
   ]
  },
  {
   "cell_type": "code",
   "execution_count": null,
   "id": "341d655d-2995-406b-ae18-cb460b1777c3",
   "metadata": {},
   "outputs": [],
   "source": []
  }
 ],
 "metadata": {
  "kernelspec": {
   "display_name": "Python 3 (ipykernel)",
   "language": "python",
   "name": "python3"
  },
  "language_info": {
   "codemirror_mode": {
    "name": "ipython",
    "version": 3
   },
   "file_extension": ".py",
   "mimetype": "text/x-python",
   "name": "python",
   "nbconvert_exporter": "python",
   "pygments_lexer": "ipython3",
   "version": "3.8.7"
  }
 },
 "nbformat": 4,
 "nbformat_minor": 5
}

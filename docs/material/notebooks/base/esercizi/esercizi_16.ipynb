{
 "cells": [
  {
   "cell_type": "code",
   "execution_count": 1,
   "id": "59547810-2a3e-49fb-af4d-8c043a1b4d40",
   "metadata": {},
   "outputs": [],
   "source": [
    "import itertools\n",
    "import matplotlib.pyplot as plt\n",
    "import numpy as np\n",
    "\n",
    "from sklearn.datasets import make_blobs, make_classification\n",
    "from sklearn.decomposition import PCA\n",
    "from sklearn.metrics import adjusted_rand_score\n",
    "from sklearn.pipeline import Pipeline\n",
    "from sklearn.preprocessing import StandardScaler\n",
    "from sklearn.cluster import DBSCAN, KMeans\n",
    "from sklearn.model_selection import GridSearchCV\n",
    "from sklearn.tree import DecisionTreeClassifier"
   ]
  },
  {
   "cell_type": "code",
   "execution_count": 2,
   "id": "d4920e83-54f5-4f96-8e3a-3b39aef73e79",
   "metadata": {},
   "outputs": [],
   "source": [
    "n_samples=1000\n",
    "X, y = make_blobs(n_samples=1000,  cluster_std=0.4, n_features=5, centers=5)"
   ]
  },
  {
   "cell_type": "code",
   "execution_count": 3,
   "id": "8c4a42af-3e53-4fda-98ad-42ae61fc8441",
   "metadata": {},
   "outputs": [],
   "source": [
    "pipeline = Pipeline([\n",
    "    ('pca', PCA(n_components=3)),\n",
    "    ('KMeans', KMeans(n_clusters=5))\n",
    "])"
   ]
  },
  {
   "cell_type": "code",
   "execution_count": 4,
   "id": "89b5a4ab-9ef7-4f00-a5d0-ca8ed160199d",
   "metadata": {
    "tags": []
   },
   "outputs": [
    {
     "data": {
      "image/png": "[encoded data removed]",
      "text/plain": [
       "<Figure size 432x288 with 1 Axes>"
      ]
     },
     "metadata": {
      "needs_background": "light"
     },
     "output_type": "display_data"
    }
   ],
   "source": [
    "fig, ax = plt.subplots()\n",
    "y_pred = pipeline.fit_predict(X)\n",
    "ax.scatter(X[:, 0], X[:, 1], c=y_pred)\n",
    "plt.show()    "
   ]
  },
  {
   "cell_type": "markdown",
   "id": "423e2484-e147-4d1a-991d-a61d7115a200",
   "metadata": {},
   "source": [
    "## Parte 2: ottimizzazione iperparametri con grid search su DBSCAN"
   ]
  },
  {
   "cell_type": "code",
   "execution_count": 5,
   "id": "d3b9e9ee-2c2a-4830-8822-2fd32a2950c9",
   "metadata": {},
   "outputs": [
    {
     "name": "stdout",
     "output_type": "stream",
     "text": [
      "1.0\n",
      "(0.4, 10)\n"
     ]
    }
   ],
   "source": [
    "parameters = {\n",
    "    'eps': np.arange(0.05, 0.5, 0.05),\n",
    "    'min_samples': np.arange(10, 20)\n",
    "}\n",
    "\n",
    "scaler = StandardScaler()\n",
    "X = scaler.fit_transform(X)\n",
    "\n",
    "pars_pairs = itertools.product(parameters['eps'], parameters['min_samples'])\n",
    "\n",
    "opt_vals = ()\n",
    "ars = 0\n",
    "for pars_pair in pars_pairs:\n",
    "    dbscan = DBSCAN(eps=pars_pair[0], min_samples=pars_pair[1]).fit(X)\n",
    "    y_pred = dbscan.labels_\n",
    "    ars_ = adjusted_rand_score(y, y_pred)\n",
    "    if ars_ > ars:\n",
    "        ars = ars_\n",
    "        opt_vals = (pars_pair)\n",
    "\n",
    "\n",
    "print(ars)\n",
    "print(opt_vals)"
   ]
  },
  {
   "cell_type": "markdown",
   "id": "8e524294-ce35-4628-9b9a-5682e42a659e",
   "metadata": {},
   "source": [
    "## Parte 3: gridsearchcv"
   ]
  },
  {
   "cell_type": "code",
   "execution_count": 6,
   "id": "3dfe5e8e-e16c-409e-aeda-5bf59f676501",
   "metadata": {},
   "outputs": [],
   "source": [
    "parameters = {\n",
    "    'max_depth': np.arange(1, 11)\n",
    "}"
   ]
  },
  {
   "cell_type": "code",
   "execution_count": 10,
   "id": "4a554e85-9533-4be0-8b9a-f21b0d3bad1a",
   "metadata": {},
   "outputs": [
    {
     "data": {
      "text/plain": [
       "GridSearchCV(estimator=DecisionTreeClassifier(),\n",
       "             param_grid={'max_depth': array([ 1,  2,  3,  4,  5,  6,  7,  8,  9, 10])})"
      ]
     },
     "execution_count": 10,
     "metadata": {},
     "output_type": "execute_result"
    }
   ],
   "source": [
    "X, y = make_classification(n_samples=10000)\n",
    "\n",
    "dt = DecisionTreeClassifier()\n",
    "clf = GridSearchCV(dt, parameters)\n",
    "clf.fit(X, y)"
   ]
  },
  {
   "cell_type": "code",
   "execution_count": 11,
   "id": "3601c40c-ab80-407a-a3bf-0958ebfef4c6",
   "metadata": {},
   "outputs": [
    {
     "data": {
      "text/plain": [
       "{'max_depth': 4}"
      ]
     },
     "execution_count": 11,
     "metadata": {},
     "output_type": "execute_result"
    }
   ],
   "source": [
    "clf.best_params_"
   ]
  },
  {
   "cell_type": "code",
   "execution_count": 12,
   "id": "caa8fc75-74ad-4b9b-b56c-9890dda74970",
   "metadata": {},
   "outputs": [
    {
     "name": "stdout",
     "output_type": "stream",
     "text": [
      "0.908 (+/-0.011) for {'max_depth': 1}\n",
      "0.935 (+/-0.003) for {'max_depth': 2}\n",
      "0.946 (+/-0.010) for {'max_depth': 3}\n",
      "0.946 (+/-0.007) for {'max_depth': 4}\n",
      "0.944 (+/-0.004) for {'max_depth': 5}\n",
      "0.943 (+/-0.006) for {'max_depth': 6}\n",
      "0.940 (+/-0.006) for {'max_depth': 7}\n",
      "0.938 (+/-0.005) for {'max_depth': 8}\n",
      "0.935 (+/-0.008) for {'max_depth': 9}\n",
      "0.934 (+/-0.007) for {'max_depth': 10}\n"
     ]
    }
   ],
   "source": [
    "means = clf.cv_results_['mean_test_score']\n",
    "stds = clf.cv_results_['std_test_score']\n",
    "for mean, std, params in zip(means, stds, clf.cv_results_['params']):\n",
    "    print(\"%0.3f (+/-%0.03f) for %r\"\n",
    "          % (mean, std * 2, params))"
   ]
  },
  {
   "cell_type": "code",
   "execution_count": null,
   "id": "759da526-231e-433f-9e19-17e8412bcde5",
   "metadata": {},
   "outputs": [],
   "source": []
  }
 ],
 "metadata": {
  "kernelspec": {
   "display_name": "Python 3 (ipykernel)",
   "language": "python",
   "name": "python3"
  },
  "language_info": {
   "codemirror_mode": {
    "name": "ipython",
    "version": 3
   },
   "file_extension": ".py",
   "mimetype": "text/x-python",
   "name": "python",
   "nbconvert_exporter": "python",
   "pygments_lexer": "ipython3",
   "version": "3.8.7"
  }
 },
 "nbformat": 4,
 "nbformat_minor": 5
}

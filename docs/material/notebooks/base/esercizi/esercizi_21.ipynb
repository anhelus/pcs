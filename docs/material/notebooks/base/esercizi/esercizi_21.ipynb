{
 "cells": [
  {
   "cell_type": "code",
   "execution_count": 1,
   "id": "9b8a1074-b4ef-427d-93ea-5a5e8947c856",
   "metadata": {},
   "outputs": [],
   "source": [
    "import numpy as np\n",
    "import pandas as pd\n",
    "import statsmodels.api as sm\n",
    "import matplotlib.pyplot as plt\n",
    "import warnings\n",
    "warnings.filterwarnings('ignore')\n",
    "import tensorflow as tf\n",
    "import tensorflow.keras.backend as K\n",
    "from tensorflow import keras\n",
    "from tensorflow.keras import layers\n",
    "\n",
    "from sklearn.compose import ColumnTransformer\n",
    "from sklearn.datasets import fetch_openml\n",
    "from sklearn.preprocessing import OneHotEncoder\n",
    "from statsmodels.datasets import co2, sunspots\n",
    "from statsmodels.tsa.arima.model import ARIMA\n",
    "from statsmodels.tsa.seasonal import STL\n",
    "from statsmodels.tsa.stattools import acf, pacf"
   ]
  },
  {
   "cell_type": "code",
   "execution_count": 2,
   "id": "3449c602-3400-4291-8f76-0787edbf20fa",
   "metadata": {},
   "outputs": [],
   "source": [
    "def drop_nan(df):\n",
    "    threshold = round(len(df) / 4)\n",
    "    df.dropna(axis=1, inplace=True, thresh=threshold)\n",
    "    df.dropna(axis=0, inplace=True)"
   ]
  },
  {
   "cell_type": "markdown",
   "id": "fa5efe0e-7547-46a2-924c-054f9e47d1cf",
   "metadata": {},
   "source": [
    "# Esercizio n.ro 1\n",
    "\n",
    "Effettuare la decomposizione STL sul dataset `sunspots`, e la modellazione con ARIMA sul dataset `co2`.\n",
    "\n",
    "Articolare il processing nei seguenti step.\n",
    "\n",
    "1. Caricare i dataset utilizzando il modello `load_pandas()`.\n",
    "2. Effettuare la decomposizione STL sul dataset `sunspots` mediante il metodo `STL` di Statsmodels.\n",
    "3. Studiare le funzioni ACF e PACF per il dataset `co2` mediante le funzioni `plot_acf` e `plot_pacf`.\n",
    "4. Provare a determinare di conseguenza gli ordini ottimali per i processi AR, I ed MA di un ARIMA, motivando la scelta. Qualora l'analisi della ACF e della PACF non permetta di determinare facilmente gli ordini dei processi AR, I ed MA, provare ad utilizzare un approccio di tipo *trial and error*, stimando i valori migliori per suddetti parametri.\n",
    "\n",
    "Commentare i risultati ottenuti."
   ]
  },
  {
   "cell_type": "markdown",
   "id": "66f95b9c-bd10-4a35-a6a5-eb6f0e00db05",
   "metadata": {},
   "source": [
    "# Esercizio n.ro 2\n",
    "\n",
    "Utilizzare le tecniche del *deep learning* per creare una rete neurale in grado di classificare i passeggeri del Titanic in base al fatto che siano sopravvissuti o meno.\n",
    "\n",
    "Articolare il processing nei seguenti step.\n",
    "\n",
    "1. Caricare il dataset usando il metodo `fetch_openml('titanic', version=1, as_frame=True)`.\n",
    "2. Rimuovere i dati univoci (ad esempio, nome e numero di biglietto) utilizzando i metodi messi a disposizione da Pandas.\n",
    "3. Eliminare i valori `NaN` e `None` dal dataframe. Prediligere, se possibile, l'eliminazione dei singoli dati.\n",
    "4. Creare un modello di rete neurale usando la Sequential API. La rete dovrà avere tre layer completamente connessi (`Dense`) ed un layer di classificazione finale. In particolare, i primi tre layer dovranno avere 16 neuroni, con funzione di attivazione `relu`, mentre l'ultimo dovrà avere soltanto un neurone e funzione di attivazione `sigmoid`.\n",
    "5. Compilare il modello di rete neurale usando come funzione di costo la `binary_crossentropy`, mentre come ottimizzatore l'algoritmo `sgd`. Si specifichi inoltre che il 30% dei dati dovrà essere usato per la validazione, che la metrica di riferimento sarà la `accuracy`, e che il numero di epoche per il training sarà pari a 50.\n",
    "\n",
    "Commentare i risultati ottenuti.\n",
    "\n",
    "> **Note**\n",
    "> * la `shape` del layer di Input dovrà essere pari al numero di colonne di X;\n",
    "> * X dovrà essere un oggetto di tipo `tf.Tensor`. Per ottenerlo, utilizzeremo il package `tensorflow.keras.backend`, importato all'inizio come `K`, con sintassi `output_array = K.constant(X)`;\n",
    "> * se si utilizza un oggetto di tipo `ColumnTransformer`, è necessario convertire l'oggetto risultante da matrice sparsa Scipy ad array NumPy mediante il metodo [`toarray`](https://docs.scipy.org/doc/scipy/reference/generated/scipy.sparse.csr_matrix.toarray.html)."
   ]
  },
  {
   "cell_type": "code",
   "execution_count": 3,
   "id": "061a0107-49da-44d0-8ad0-0633e57b9299",
   "metadata": {
    "jupyter": {
     "source_hidden": true
    },
    "tags": []
   },
   "outputs": [],
   "source": [
    "df = fetch_openml(\"titanic\", version=1, as_frame=True).frame\n",
    "\n",
    "df.drop(['name', 'ticket'], axis=1, inplace=True)\n",
    "df['boat'] = df['boat'].apply(lambda x: '0' if x is None else x)\n",
    "drop_nan(df)\n",
    "\n",
    "df['survived'] = df['survived'].apply(lambda x: int(x))\n",
    "\n",
    "y = df.pop('survived')\n",
    "\n",
    "ct = ColumnTransformer(\n",
    "    [('sex_tr', OneHotEncoder(handle_unknown='ignore'), ['sex']),\n",
    "     ('embarked_tr', OneHotEncoder(handle_unknown='ignore'), ['embarked']),\n",
    "     ('boat_tr', OneHotEncoder(handle_unknown='ignore'), ['boat']),\n",
    "     ('home.dest_tr', OneHotEncoder(handle_unknown='ignore'), ['home.dest'])],\n",
    "    remainder='passthrough')\n",
    "\n",
    "X = ct.fit_transform(df).toarray()\n",
    "X = K.constant(X)"
   ]
  },
  {
   "cell_type": "code",
   "execution_count": 4,
   "id": "ae8c0da8-2504-4dc3-b372-aed7468b6718",
   "metadata": {
    "jupyter": {
     "source_hidden": true
    },
    "tags": []
   },
   "outputs": [],
   "source": [
    "model = keras.Sequential([\n",
    "    layers.Input(shape=(383,)),\n",
    "    layers.Dense(16, activation='relu', name='layer1'),\n",
    "    layers.Dense(16, activation='relu', name='layer2'),\n",
    "    layers.Dense(16, activation='relu', name='layer3'),\n",
    "    layers.Dense(1, activation='sigmoid')\n",
    "])"
   ]
  },
  {
   "cell_type": "code",
   "execution_count": 5,
   "id": "1b23870b-6418-4f14-9da6-c7c83d4d58d7",
   "metadata": {
    "collapsed": true,
    "jupyter": {
     "outputs_hidden": true,
     "source_hidden": true
    },
    "tags": []
   },
   "outputs": [
    {
     "name": "stdout",
     "output_type": "stream",
     "text": [
      "Model: \"sequential\"\n",
      "_________________________________________________________________\n",
      "Layer (type)                 Output Shape              Param #   \n",
      "=================================================================\n",
      "layer1 (Dense)               (None, 16)                6144      \n",
      "_________________________________________________________________\n",
      "layer2 (Dense)               (None, 16)                272       \n",
      "_________________________________________________________________\n",
      "layer3 (Dense)               (None, 16)                272       \n",
      "_________________________________________________________________\n",
      "dense (Dense)                (None, 1)                 17        \n",
      "=================================================================\n",
      "Total params: 6,705\n",
      "Trainable params: 6,705\n",
      "Non-trainable params: 0\n",
      "_________________________________________________________________\n"
     ]
    }
   ],
   "source": [
    "model.summary()"
   ]
  },
  {
   "cell_type": "code",
   "execution_count": 6,
   "id": "041ac7ed-5d5f-42d8-92d6-b962384dd94e",
   "metadata": {
    "collapsed": true,
    "jupyter": {
     "outputs_hidden": true,
     "source_hidden": true
    },
    "tags": []
   },
   "outputs": [
    {
     "name": "stdout",
     "output_type": "stream",
     "text": [
      "Epoch 1/50\n",
      "15/15 [==============================] - 2s 108ms/step - loss: 1.5999 - accuracy: 0.4952 - val_loss: 0.6417 - val_accuracy: 0.6311\n",
      "Epoch 2/50\n",
      "15/15 [==============================] - 0s 4ms/step - loss: 0.6636 - accuracy: 0.6431 - val_loss: 0.6637 - val_accuracy: 0.6456\n",
      "Epoch 3/50\n",
      "15/15 [==============================] - 0s 4ms/step - loss: 0.6463 - accuracy: 0.6324 - val_loss: 0.6432 - val_accuracy: 0.6359\n",
      "Epoch 4/50\n",
      "15/15 [==============================] - 0s 4ms/step - loss: 0.6732 - accuracy: 0.6250 - val_loss: 0.6411 - val_accuracy: 0.6311\n",
      "Epoch 5/50\n",
      "15/15 [==============================] - 0s 4ms/step - loss: 0.6533 - accuracy: 0.6441 - val_loss: 0.6604 - val_accuracy: 0.6117\n",
      "Epoch 6/50\n",
      "15/15 [==============================] - 0s 4ms/step - loss: 0.6507 - accuracy: 0.6449 - val_loss: 0.6312 - val_accuracy: 0.6311\n",
      "Epoch 7/50\n",
      "15/15 [==============================] - 0s 4ms/step - loss: 0.6417 - accuracy: 0.6831 - val_loss: 0.6549 - val_accuracy: 0.6359\n",
      "Epoch 8/50\n",
      "15/15 [==============================] - 0s 4ms/step - loss: 0.6531 - accuracy: 0.6678 - val_loss: 0.6336 - val_accuracy: 0.6359\n",
      "Epoch 9/50\n",
      "15/15 [==============================] - 0s 4ms/step - loss: 0.6319 - accuracy: 0.6862 - val_loss: 0.6211 - val_accuracy: 0.6456\n",
      "Epoch 10/50\n",
      "15/15 [==============================] - 0s 4ms/step - loss: 0.6441 - accuracy: 0.6590 - val_loss: 0.6555 - val_accuracy: 0.6893\n",
      "Epoch 11/50\n",
      "15/15 [==============================] - 0s 4ms/step - loss: 0.6569 - accuracy: 0.6717 - val_loss: 0.6229 - val_accuracy: 0.6408\n",
      "Epoch 12/50\n",
      "15/15 [==============================] - 0s 4ms/step - loss: 0.6287 - accuracy: 0.6878 - val_loss: 0.6083 - val_accuracy: 0.6359\n",
      "Epoch 13/50\n",
      "15/15 [==============================] - 0s 4ms/step - loss: 0.6394 - accuracy: 0.6664 - val_loss: 0.6237 - val_accuracy: 0.6553\n",
      "Epoch 14/50\n",
      "15/15 [==============================] - 0s 4ms/step - loss: 0.6331 - accuracy: 0.6575 - val_loss: 0.6505 - val_accuracy: 0.6796\n",
      "Epoch 15/50\n",
      "15/15 [==============================] - 0s 4ms/step - loss: 0.6327 - accuracy: 0.6686 - val_loss: 0.6020 - val_accuracy: 0.6408\n",
      "Epoch 16/50\n",
      "15/15 [==============================] - 0s 4ms/step - loss: 0.6281 - accuracy: 0.6561 - val_loss: 0.6909 - val_accuracy: 0.6650\n",
      "Epoch 17/50\n",
      "15/15 [==============================] - 0s 4ms/step - loss: 0.6297 - accuracy: 0.6595 - val_loss: 0.6734 - val_accuracy: 0.7039\n",
      "Epoch 18/50\n",
      "15/15 [==============================] - 0s 5ms/step - loss: 0.6763 - accuracy: 0.6298 - val_loss: 0.6070 - val_accuracy: 0.6602\n",
      "Epoch 19/50\n",
      "15/15 [==============================] - 0s 4ms/step - loss: 0.6050 - accuracy: 0.7200 - val_loss: 0.5987 - val_accuracy: 0.6602\n",
      "Epoch 20/50\n",
      "15/15 [==============================] - 0s 4ms/step - loss: 0.6213 - accuracy: 0.6810 - val_loss: 0.6158 - val_accuracy: 0.6650\n",
      "Epoch 21/50\n",
      "15/15 [==============================] - 0s 4ms/step - loss: 0.6350 - accuracy: 0.6839 - val_loss: 0.6282 - val_accuracy: 0.6942\n",
      "Epoch 22/50\n",
      "15/15 [==============================] - 0s 4ms/step - loss: 0.6414 - accuracy: 0.6571 - val_loss: 0.6078 - val_accuracy: 0.6650\n",
      "Epoch 23/50\n",
      "15/15 [==============================] - 0s 4ms/step - loss: 0.6208 - accuracy: 0.6808 - val_loss: 0.5876 - val_accuracy: 0.6505\n",
      "Epoch 24/50\n",
      "15/15 [==============================] - 0s 4ms/step - loss: 0.6068 - accuracy: 0.7166 - val_loss: 0.5924 - val_accuracy: 0.6748\n",
      "Epoch 25/50\n",
      "15/15 [==============================] - 0s 4ms/step - loss: 0.6199 - accuracy: 0.6991 - val_loss: 0.5869 - val_accuracy: 0.6650\n",
      "Epoch 26/50\n",
      "15/15 [==============================] - 0s 4ms/step - loss: 0.6202 - accuracy: 0.6661 - val_loss: 0.5946 - val_accuracy: 0.6748\n",
      "Epoch 27/50\n",
      "15/15 [==============================] - 0s 4ms/step - loss: 0.6201 - accuracy: 0.6762 - val_loss: 0.5849 - val_accuracy: 0.6553\n",
      "Epoch 28/50\n",
      "15/15 [==============================] - 0s 4ms/step - loss: 0.6324 - accuracy: 0.6861 - val_loss: 0.5685 - val_accuracy: 0.6602\n",
      "Epoch 29/50\n",
      "15/15 [==============================] - 0s 4ms/step - loss: 0.6283 - accuracy: 0.6700 - val_loss: 0.5871 - val_accuracy: 0.6845\n",
      "Epoch 30/50\n",
      "15/15 [==============================] - 0s 4ms/step - loss: 0.6105 - accuracy: 0.7079 - val_loss: 0.5826 - val_accuracy: 0.6893\n",
      "Epoch 31/50\n",
      "15/15 [==============================] - 0s 4ms/step - loss: 0.6015 - accuracy: 0.6795 - val_loss: 0.6716 - val_accuracy: 0.6699\n",
      "Epoch 32/50\n",
      "15/15 [==============================] - 0s 4ms/step - loss: 0.6018 - accuracy: 0.6876 - val_loss: 0.6193 - val_accuracy: 0.6748\n",
      "Epoch 33/50\n",
      "15/15 [==============================] - 0s 4ms/step - loss: 0.6378 - accuracy: 0.7060 - val_loss: 0.6326 - val_accuracy: 0.7087\n",
      "Epoch 34/50\n",
      "15/15 [==============================] - 0s 4ms/step - loss: 0.5952 - accuracy: 0.6936 - val_loss: 0.5685 - val_accuracy: 0.6990\n",
      "Epoch 35/50\n",
      "15/15 [==============================] - 0s 4ms/step - loss: 0.6738 - accuracy: 0.6732 - val_loss: 0.5753 - val_accuracy: 0.7087\n",
      "Epoch 36/50\n",
      "15/15 [==============================] - 0s 4ms/step - loss: 0.6146 - accuracy: 0.6800 - val_loss: 0.5712 - val_accuracy: 0.6748\n",
      "Epoch 37/50\n",
      "15/15 [==============================] - 0s 4ms/step - loss: 0.6303 - accuracy: 0.6804 - val_loss: 0.5790 - val_accuracy: 0.6990\n",
      "Epoch 38/50\n",
      "15/15 [==============================] - 0s 4ms/step - loss: 0.5626 - accuracy: 0.7554 - val_loss: 0.5715 - val_accuracy: 0.6796\n",
      "Epoch 39/50\n",
      "15/15 [==============================] - 0s 4ms/step - loss: 0.5678 - accuracy: 0.7303 - val_loss: 0.5562 - val_accuracy: 0.6942\n",
      "Epoch 40/50\n",
      "15/15 [==============================] - 0s 4ms/step - loss: 0.6117 - accuracy: 0.6997 - val_loss: 0.5513 - val_accuracy: 0.6845\n",
      "Epoch 41/50\n",
      "15/15 [==============================] - 0s 4ms/step - loss: 0.5927 - accuracy: 0.7195 - val_loss: 0.5472 - val_accuracy: 0.6990\n",
      "Epoch 42/50\n",
      "15/15 [==============================] - 0s 4ms/step - loss: 0.5840 - accuracy: 0.7303 - val_loss: 0.5538 - val_accuracy: 0.6845\n",
      "Epoch 43/50\n",
      "15/15 [==============================] - 0s 4ms/step - loss: 0.5970 - accuracy: 0.7293 - val_loss: 0.5983 - val_accuracy: 0.7282\n",
      "Epoch 44/50\n",
      "15/15 [==============================] - 0s 4ms/step - loss: 0.6471 - accuracy: 0.6588 - val_loss: 0.5840 - val_accuracy: 0.7379\n",
      "Epoch 45/50\n",
      "15/15 [==============================] - 0s 4ms/step - loss: 0.5848 - accuracy: 0.7346 - val_loss: 0.5662 - val_accuracy: 0.6456\n",
      "Epoch 46/50\n",
      "15/15 [==============================] - 0s 4ms/step - loss: 0.5660 - accuracy: 0.7010 - val_loss: 0.6666 - val_accuracy: 0.6650\n",
      "Epoch 47/50\n",
      "15/15 [==============================] - 0s 4ms/step - loss: 0.6711 - accuracy: 0.6512 - val_loss: 0.5507 - val_accuracy: 0.6796\n",
      "Epoch 48/50\n",
      "15/15 [==============================] - 0s 4ms/step - loss: 0.6033 - accuracy: 0.6892 - val_loss: 0.7329 - val_accuracy: 0.6602\n",
      "Epoch 49/50\n",
      "15/15 [==============================] - 0s 4ms/step - loss: 0.7255 - accuracy: 0.6315 - val_loss: 0.5930 - val_accuracy: 0.7282\n",
      "Epoch 50/50\n",
      "15/15 [==============================] - 0s 4ms/step - loss: 0.5738 - accuracy: 0.7128 - val_loss: 0.5676 - val_accuracy: 0.7330\n"
     ]
    },
    {
     "data": {
      "text/plain": [
       "<tensorflow.python.keras.callbacks.History at 0x29187892b50>"
      ]
     },
     "execution_count": 6,
     "metadata": {},
     "output_type": "execute_result"
    }
   ],
   "source": [
    "model.compile(\n",
    "    loss='binary_crossentropy',\n",
    "    optimizer='sgd',\n",
    "    metrics=['accuracy']\n",
    ")\n",
    "model.fit(\n",
    "    x=X,\n",
    "    y=y,\n",
    "    validation_split=0.3,\n",
    "    epochs=50\n",
    ")"
   ]
  },
  {
   "cell_type": "code",
   "execution_count": null,
   "id": "ef3db495-c370-4883-bcc7-cc581f8e92a7",
   "metadata": {},
   "outputs": [],
   "source": []
  }
 ],
 "metadata": {
  "kernelspec": {
   "display_name": "Python 3 (ipykernel)",
   "language": "python",
   "name": "python3"
  },
  "language_info": {
   "codemirror_mode": {
    "name": "ipython",
    "version": 3
   },
   "file_extension": ".py",
   "mimetype": "text/x-python",
   "name": "python",
   "nbconvert_exporter": "python",
   "pygments_lexer": "ipython3",
   "version": "3.8.7"
  }
 },
 "nbformat": 4,
 "nbformat_minor": 5
}

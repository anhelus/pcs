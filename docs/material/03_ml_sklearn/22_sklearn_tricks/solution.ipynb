{
 "cells": [
  {
   "cell_type": "code",
   "execution_count": 13,
   "metadata": {},
   "outputs": [],
   "source": [
    "import pandas as pd\n",
    "import seaborn as sns\n",
    "from sklearn.cluster import KMeans\n",
    "from sklearn.compose import ColumnTransformer\n",
    "from sklearn.impute import SimpleImputer\n",
    "from sklearn.metrics import adjusted_rand_score, silhouette_score\n",
    "from sklearn.pipeline import Pipeline\n",
    "from sklearn.preprocessing import MinMaxScaler, OrdinalEncoder"
   ]
  },
  {
   "cell_type": "code",
   "execution_count": 2,
   "metadata": {},
   "outputs": [],
   "source": [
    "# Caricamento del dataset\n",
    "tips = sns.load_dataset('tips')\n",
    "X = tips.loc[:, ('total_bill', 'tip')]\n",
    "y = tips.loc[:, ('day')]"
   ]
  },
  {
   "cell_type": "code",
   "execution_count": 3,
   "metadata": {},
   "outputs": [
    {
     "name": "stdout",
     "output_type": "stream",
     "text": [
      "0.002978632218797926\n",
      "0.009089589270701748\n"
     ]
    }
   ],
   "source": [
    "# Esercizio E22.1\n",
    "pipe = Pipeline(steps=[\n",
    "    ('scaler', MinMaxScaler()),\n",
    "    ('kmeans', KMeans())\n",
    "])\n",
    "y_pred = pipe.fit_predict(X)\n",
    "print(adjusted_rand_score(y, y_pred))\n",
    "\n",
    "pipe.set_params(kmeans__n_clusters=5)\n",
    "y_pred = pipe.fit_predict(X)\n",
    "print(adjusted_rand_score(y_pred, y))"
   ]
  },
  {
   "cell_type": "code",
   "execution_count": 4,
   "metadata": {},
   "outputs": [],
   "source": [
    "# Esercizio E22.2\n",
    "df = pd.read_csv('../../data/titanic.csv')\n",
    "\n",
    "numerical_transformer = Pipeline([\n",
    "    ('imputer', SimpleImputer()),\n",
    "    ('scaler', MinMaxScaler())\n",
    "])\n",
    "\n",
    "categorical_transformer = Pipeline([\n",
    "    ('scaler', OrdinalEncoder()),\n",
    "    ('imputer', SimpleImputer())\n",
    "])\n",
    "\n",
    "ct = ColumnTransformer(\n",
    "    [('num_transf', numerical_transformer, ['Age', 'Fare']),\n",
    "    ('cat_transf', categorical_transformer, ['Survived', 'Pclass', 'Sex', 'Embarked'])],\n",
    "    remainder='drop'\n",
    ")\n",
    "\n",
    "pipe = Pipeline([\n",
    "    ('transformer', ct),\n",
    "    ('kmeans', KMeans())\n",
    "])\n",
    "\n",
    "labels = pipe.fit_predict(df)"
   ]
  },
  {
   "cell_type": "code",
   "execution_count": null,
   "metadata": {},
   "outputs": [],
   "source": [
    "# E22.3 ed E22.4: TODO"
   ]
  }
 ],
 "metadata": {
  "interpreter": {
   "hash": "7e839c8b180add470685c312f80c5052d76ad832267cc737f47096ba635d476f"
  },
  "kernelspec": {
   "display_name": "Python 3.9.13 ('python-data-science-3i9dh0ED')",
   "language": "python",
   "name": "python3"
  },
  "language_info": {
   "codemirror_mode": {
    "name": "ipython",
    "version": 3
   },
   "file_extension": ".py",
   "mimetype": "text/x-python",
   "name": "python",
   "nbconvert_exporter": "python",
   "pygments_lexer": "ipython3",
   "version": "3.9.13"
  },
  "orig_nbformat": 4
 },
 "nbformat": 4,
 "nbformat_minor": 2
}

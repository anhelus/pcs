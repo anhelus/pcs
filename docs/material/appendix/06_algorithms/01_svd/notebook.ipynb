{
 "cells": [
  {
   "cell_type": "code",
   "execution_count": 8,
   "metadata": {},
   "outputs": [],
   "source": [
    "import numpy as np\n",
    "import matplotlib.pyplot as plt\n",
    "from typing import List\n",
    "from numpy import typing as npt"
   ]
  },
  {
   "cell_type": "code",
   "execution_count": 15,
   "metadata": {},
   "outputs": [],
   "source": [
    "# Adapted from https://hadrienj.github.io/posts/Deep-Learning-Book-Series-2.8-Singular-Value-Decomposition/\n",
    "class Plotter():\n",
    "\n",
    "    def __init__(self, vectors, colors):\n",
    "        self.vectors = vectors\n",
    "        self.colors = colors\n",
    "    \n",
    "    def plot_vectors(\n",
    "        self,\n",
    "        vectors: List, \n",
    "        colors: List):\n",
    "        \"\"\" Plot a set of vectors.\n",
    "\n",
    "        Args\n",
    "        vectors: coordinates of the vectors to plot.\n",
    "        colors: colors of the vectors.\n",
    "\n",
    "        Returns:\n",
    "        The figure representing the vectors' plot.\n",
    "        \"\"\"\n",
    "        if len(vectors) != len(colors):\n",
    "            raise ValueError('The number of colors should be equal to provided vectors.')\n",
    "        plt.figure()\n",
    "        plt.axvline(x=0, color='#A9A9A9', zorder=0)\n",
    "        plt.axhline(y=0, color='#A9A9A9', zorder=0)\n",
    "\n",
    "        for idx, vector in enumerate(vectors):\n",
    "            x = np.concatenate([[0, 0], vector])\n",
    "            plt.quiver([x[0]],\n",
    "                    [x[1]],\n",
    "                    [x[2]],\n",
    "                    [x[3]],\n",
    "                    angles='xy',\n",
    "                    scale_units='xy',\n",
    "                    scale=1,\n",
    "                    color=colors[idx])\n",
    "\n",
    "    def matrixToPlot(self, matrix, vectorsCol=['#FF9A13', '#1190FF']):\n",
    "        \"\"\"\n",
    "        Modify the unit circle and basis vector by applying a matrix.\n",
    "        Visualize the effect of the matrix in 2D.\n",
    "\n",
    "        Parameters\n",
    "        ----------\n",
    "        matrix : array-like\n",
    "            2D matrix to apply to the unit circle.\n",
    "        vectorsCol : HEX color code\n",
    "            Color of the basis vectors\n",
    "\n",
    "        Returns:\n",
    "\n",
    "        fig : instance of matplotlib.figure.Figure\n",
    "            The figure containing modified unit circle and basis vectors.\n",
    "        \"\"\"\n",
    "        # Unit circle\n",
    "        x = np.linspace(-1, 1, 100000)\n",
    "        y = np.sqrt(1-(x**2))\n",
    "\n",
    "        # Modified unit circle (separate negative and positive parts)\n",
    "        x1 = matrix[0,0]*x + matrix[0,1]*y\n",
    "        y1 = matrix[1,0]*x + matrix[1,1]*y\n",
    "        x1_neg = matrix[0,0]*x - matrix[0,1]*y\n",
    "        y1_neg = matrix[1,0]*x - matrix[1,1]*y\n",
    "\n",
    "        # Vectors\n",
    "        u1 = [matrix[0,0],matrix[1,0]]\n",
    "        v1 = [matrix[0,1],matrix[1,1]]\n",
    "\n",
    "        self.plot_vectors([u1, v1], colors=[vectorsCol[0], vectorsCol[1]])\n",
    "\n",
    "        plt.plot(x1, y1, 'g', alpha=0.5)\n",
    "        plt.plot(x1_neg, y1_neg, 'g', alpha=0.5)"
   ]
  },
  {
   "cell_type": "code",
   "execution_count": 16,
   "metadata": {},
   "outputs": [],
   "source": [
    "A = np.array([[3, 2], [1, 4]])\n",
    "U, V, D = np.linalg.svd(A)"
   ]
  },
  {
   "cell_type": "code",
   "execution_count": 18,
   "metadata": {},
   "outputs": [
    {
     "name": "stdout",
     "output_type": "stream",
     "text": [
      "Unit circle:\n"
     ]
    },
    {
     "data": {
      "image/png": "[encoded data removed]",
      "text/plain": [
       "<Figure size 432x288 with 1 Axes>"
      ]
     },
     "metadata": {
      "needs_background": "light"
     },
     "output_type": "display_data"
    }
   ],
   "source": [
    "print('Unit circle:')\n",
    "matrixToPlot(np.array([[1, 0], [0, 1]]))\n",
    "plt.xlim(-1.5, 1.5)\n",
    "plt.ylim(-1.5, 1.5)\n",
    "plt.show()"
   ]
  },
  {
   "cell_type": "code",
   "execution_count": 19,
   "metadata": {},
   "outputs": [
    {
     "name": "stdout",
     "output_type": "stream",
     "text": [
      "First rotation:\n"
     ]
    },
    {
     "ename": "IndexError",
     "evalue": "too many indices for array: array is 1-dimensional, but 2 were indexed",
     "output_type": "error",
     "traceback": [
      "\u001b[1;31m---------------------------------------------------------------------------\u001b[0m",
      "\u001b[1;31mIndexError\u001b[0m                                Traceback (most recent call last)",
      "\u001b[1;32mc:\\Users\\acard\\Documents\\GitHub\\Uniba\\python-calcolo-numerico\\docs\\material\\appendix\\06_algorithms\\01_svd\\notebook.ipynb Cell 5'\u001b[0m in \u001b[0;36m<cell line: 2>\u001b[1;34m()\u001b[0m\n\u001b[0;32m      <a href='vscode-notebook-cell:/c%3A/Users/acard/Documents/GitHub/Uniba/python-calcolo-numerico/docs/material/appendix/06_algorithms/01_svd/notebook.ipynb#ch0000005?line=0'>1</a>\u001b[0m \u001b[39mprint\u001b[39m(\u001b[39m'\u001b[39m\u001b[39mFirst rotation:\u001b[39m\u001b[39m'\u001b[39m)\n\u001b[1;32m----> <a href='vscode-notebook-cell:/c%3A/Users/acard/Documents/GitHub/Uniba/python-calcolo-numerico/docs/material/appendix/06_algorithms/01_svd/notebook.ipynb#ch0000005?line=1'>2</a>\u001b[0m matrixToPlot(V)\n\u001b[0;32m      <a href='vscode-notebook-cell:/c%3A/Users/acard/Documents/GitHub/Uniba/python-calcolo-numerico/docs/material/appendix/06_algorithms/01_svd/notebook.ipynb#ch0000005?line=2'>3</a>\u001b[0m plt\u001b[39m.\u001b[39mxlim(\u001b[39m-\u001b[39m\u001b[39m1.5\u001b[39m, \u001b[39m1.5\u001b[39m)\n\u001b[0;32m      <a href='vscode-notebook-cell:/c%3A/Users/acard/Documents/GitHub/Uniba/python-calcolo-numerico/docs/material/appendix/06_algorithms/01_svd/notebook.ipynb#ch0000005?line=3'>4</a>\u001b[0m plt\u001b[39m.\u001b[39mylim(\u001b[39m-\u001b[39m\u001b[39m1.5\u001b[39m, \u001b[39m1.5\u001b[39m)\n",
      "\u001b[1;32mc:\\Users\\acard\\Documents\\GitHub\\Uniba\\python-calcolo-numerico\\docs\\material\\appendix\\06_algorithms\\01_svd\\notebook.ipynb Cell 2'\u001b[0m in \u001b[0;36mmatrixToPlot\u001b[1;34m(matrix, vectorsCol)\u001b[0m\n\u001b[0;32m     <a href='vscode-notebook-cell:/c%3A/Users/acard/Documents/GitHub/Uniba/python-calcolo-numerico/docs/material/appendix/06_algorithms/01_svd/notebook.ipynb#ch0000001?line=48'>49</a>\u001b[0m y \u001b[39m=\u001b[39m np\u001b[39m.\u001b[39msqrt(\u001b[39m1\u001b[39m\u001b[39m-\u001b[39m(x\u001b[39m*\u001b[39m\u001b[39m*\u001b[39m\u001b[39m2\u001b[39m))\n\u001b[0;32m     <a href='vscode-notebook-cell:/c%3A/Users/acard/Documents/GitHub/Uniba/python-calcolo-numerico/docs/material/appendix/06_algorithms/01_svd/notebook.ipynb#ch0000001?line=50'>51</a>\u001b[0m \u001b[39m# Modified unit circle (separate negative and positive parts)\u001b[39;00m\n\u001b[1;32m---> <a href='vscode-notebook-cell:/c%3A/Users/acard/Documents/GitHub/Uniba/python-calcolo-numerico/docs/material/appendix/06_algorithms/01_svd/notebook.ipynb#ch0000001?line=51'>52</a>\u001b[0m x1 \u001b[39m=\u001b[39m matrix[\u001b[39m0\u001b[39;49m,\u001b[39m0\u001b[39;49m]\u001b[39m*\u001b[39mx \u001b[39m+\u001b[39m matrix[\u001b[39m0\u001b[39m,\u001b[39m1\u001b[39m]\u001b[39m*\u001b[39my\n\u001b[0;32m     <a href='vscode-notebook-cell:/c%3A/Users/acard/Documents/GitHub/Uniba/python-calcolo-numerico/docs/material/appendix/06_algorithms/01_svd/notebook.ipynb#ch0000001?line=52'>53</a>\u001b[0m y1 \u001b[39m=\u001b[39m matrix[\u001b[39m1\u001b[39m,\u001b[39m0\u001b[39m]\u001b[39m*\u001b[39mx \u001b[39m+\u001b[39m matrix[\u001b[39m1\u001b[39m,\u001b[39m1\u001b[39m]\u001b[39m*\u001b[39my\n\u001b[0;32m     <a href='vscode-notebook-cell:/c%3A/Users/acard/Documents/GitHub/Uniba/python-calcolo-numerico/docs/material/appendix/06_algorithms/01_svd/notebook.ipynb#ch0000001?line=53'>54</a>\u001b[0m x1_neg \u001b[39m=\u001b[39m matrix[\u001b[39m0\u001b[39m,\u001b[39m0\u001b[39m]\u001b[39m*\u001b[39mx \u001b[39m-\u001b[39m matrix[\u001b[39m0\u001b[39m,\u001b[39m1\u001b[39m]\u001b[39m*\u001b[39my\n",
      "\u001b[1;31mIndexError\u001b[0m: too many indices for array: array is 1-dimensional, but 2 were indexed"
     ]
    }
   ],
   "source": [
    "print('First rotation:')\n",
    "matrixToPlot(V)\n",
    "plt.xlim(-1.5, 1.5)\n",
    "plt.ylim(-1.5, 1.5)\n",
    "plt.show()"
   ]
  },
  {
   "cell_type": "code",
   "execution_count": 25,
   "metadata": {},
   "outputs": [
    {
     "name": "stdout",
     "output_type": "stream",
     "text": [
      "Scaling:\n"
     ]
    },
    {
     "ename": "IndexError",
     "evalue": "invalid index to scalar variable.",
     "output_type": "error",
     "traceback": [
      "\u001b[1;31m---------------------------------------------------------------------------\u001b[0m",
      "\u001b[1;31mIndexError\u001b[0m                                Traceback (most recent call last)",
      "\u001b[1;32mc:\\Users\\acard\\Documents\\GitHub\\Uniba\\python-calcolo-numerico\\docs\\material\\appendix\\06_algorithms\\01_svd\\notebook.ipynb Cell 6'\u001b[0m in \u001b[0;36m<cell line: 2>\u001b[1;34m()\u001b[0m\n\u001b[0;32m      <a href='vscode-notebook-cell:/c%3A/Users/acard/Documents/GitHub/Uniba/python-calcolo-numerico/docs/material/appendix/06_algorithms/01_svd/notebook.ipynb#ch0000007?line=0'>1</a>\u001b[0m \u001b[39mprint\u001b[39m(\u001b[39m'\u001b[39m\u001b[39mScaling:\u001b[39m\u001b[39m'\u001b[39m)\n\u001b[1;32m----> <a href='vscode-notebook-cell:/c%3A/Users/acard/Documents/GitHub/Uniba/python-calcolo-numerico/docs/material/appendix/06_algorithms/01_svd/notebook.ipynb#ch0000007?line=1'>2</a>\u001b[0m matrixToPlot(np\u001b[39m.\u001b[39;49mdiag(D)\u001b[39m.\u001b[39;49mdot(V))\n\u001b[0;32m      <a href='vscode-notebook-cell:/c%3A/Users/acard/Documents/GitHub/Uniba/python-calcolo-numerico/docs/material/appendix/06_algorithms/01_svd/notebook.ipynb#ch0000007?line=2'>3</a>\u001b[0m plt\u001b[39m.\u001b[39mxlim(\u001b[39m-\u001b[39m\u001b[39m9\u001b[39m, \u001b[39m9\u001b[39m)\n\u001b[0;32m      <a href='vscode-notebook-cell:/c%3A/Users/acard/Documents/GitHub/Uniba/python-calcolo-numerico/docs/material/appendix/06_algorithms/01_svd/notebook.ipynb#ch0000007?line=3'>4</a>\u001b[0m plt\u001b[39m.\u001b[39mylim(\u001b[39m-\u001b[39m\u001b[39m9\u001b[39m, \u001b[39m9\u001b[39m)\n",
      "\u001b[1;32mc:\\Users\\acard\\Documents\\GitHub\\Uniba\\python-calcolo-numerico\\docs\\material\\appendix\\06_algorithms\\01_svd\\notebook.ipynb Cell 2'\u001b[0m in \u001b[0;36mmatrixToPlot\u001b[1;34m(matrix, vectorsCol)\u001b[0m\n\u001b[0;32m     <a href='vscode-notebook-cell:/c%3A/Users/acard/Documents/GitHub/Uniba/python-calcolo-numerico/docs/material/appendix/06_algorithms/01_svd/notebook.ipynb#ch0000001?line=48'>49</a>\u001b[0m y \u001b[39m=\u001b[39m np\u001b[39m.\u001b[39msqrt(\u001b[39m1\u001b[39m\u001b[39m-\u001b[39m(x\u001b[39m*\u001b[39m\u001b[39m*\u001b[39m\u001b[39m2\u001b[39m))\n\u001b[0;32m     <a href='vscode-notebook-cell:/c%3A/Users/acard/Documents/GitHub/Uniba/python-calcolo-numerico/docs/material/appendix/06_algorithms/01_svd/notebook.ipynb#ch0000001?line=50'>51</a>\u001b[0m \u001b[39m# Modified unit circle (separate negative and positive parts)\u001b[39;00m\n\u001b[1;32m---> <a href='vscode-notebook-cell:/c%3A/Users/acard/Documents/GitHub/Uniba/python-calcolo-numerico/docs/material/appendix/06_algorithms/01_svd/notebook.ipynb#ch0000001?line=51'>52</a>\u001b[0m x1 \u001b[39m=\u001b[39m matrix[\u001b[39m0\u001b[39;49m,\u001b[39m0\u001b[39;49m]\u001b[39m*\u001b[39mx \u001b[39m+\u001b[39m matrix[\u001b[39m0\u001b[39m,\u001b[39m1\u001b[39m]\u001b[39m*\u001b[39my\n\u001b[0;32m     <a href='vscode-notebook-cell:/c%3A/Users/acard/Documents/GitHub/Uniba/python-calcolo-numerico/docs/material/appendix/06_algorithms/01_svd/notebook.ipynb#ch0000001?line=52'>53</a>\u001b[0m y1 \u001b[39m=\u001b[39m matrix[\u001b[39m1\u001b[39m,\u001b[39m0\u001b[39m]\u001b[39m*\u001b[39mx \u001b[39m+\u001b[39m matrix[\u001b[39m1\u001b[39m,\u001b[39m1\u001b[39m]\u001b[39m*\u001b[39my\n\u001b[0;32m     <a href='vscode-notebook-cell:/c%3A/Users/acard/Documents/GitHub/Uniba/python-calcolo-numerico/docs/material/appendix/06_algorithms/01_svd/notebook.ipynb#ch0000001?line=53'>54</a>\u001b[0m x1_neg \u001b[39m=\u001b[39m matrix[\u001b[39m0\u001b[39m,\u001b[39m0\u001b[39m]\u001b[39m*\u001b[39mx \u001b[39m-\u001b[39m matrix[\u001b[39m0\u001b[39m,\u001b[39m1\u001b[39m]\u001b[39m*\u001b[39my\n",
      "\u001b[1;31mIndexError\u001b[0m: invalid index to scalar variable."
     ]
    }
   ],
   "source": [
    "print('Scaling:')\n",
    "matrixToPlot(np.diag(D).dot(V))\n",
    "plt.xlim(-9, 9)\n",
    "plt.ylim(-9, 9)\n",
    "plt.show()\n"
   ]
  },
  {
   "cell_type": "code",
   "execution_count": 26,
   "metadata": {},
   "outputs": [
    {
     "name": "stdout",
     "output_type": "stream",
     "text": [
      "Second rotation:\n"
     ]
    },
    {
     "ename": "IndexError",
     "evalue": "invalid index to scalar variable.",
     "output_type": "error",
     "traceback": [
      "\u001b[1;31m---------------------------------------------------------------------------\u001b[0m",
      "\u001b[1;31mIndexError\u001b[0m                                Traceback (most recent call last)",
      "\u001b[1;32mc:\\Users\\acard\\Documents\\GitHub\\Uniba\\python-calcolo-numerico\\docs\\material\\appendix\\06_algorithms\\01_svd\\notebook.ipynb Cell 7'\u001b[0m in \u001b[0;36m<cell line: 2>\u001b[1;34m()\u001b[0m\n\u001b[0;32m      <a href='vscode-notebook-cell:/c%3A/Users/acard/Documents/GitHub/Uniba/python-calcolo-numerico/docs/material/appendix/06_algorithms/01_svd/notebook.ipynb#ch0000010?line=0'>1</a>\u001b[0m \u001b[39mprint\u001b[39m(\u001b[39m'\u001b[39m\u001b[39mSecond rotation:\u001b[39m\u001b[39m'\u001b[39m)\n\u001b[1;32m----> <a href='vscode-notebook-cell:/c%3A/Users/acard/Documents/GitHub/Uniba/python-calcolo-numerico/docs/material/appendix/06_algorithms/01_svd/notebook.ipynb#ch0000010?line=1'>2</a>\u001b[0m matrixToPlot(U\u001b[39m.\u001b[39;49mdot(np\u001b[39m.\u001b[39;49mdiag(D))\u001b[39m.\u001b[39;49mdot(V))\n\u001b[0;32m      <a href='vscode-notebook-cell:/c%3A/Users/acard/Documents/GitHub/Uniba/python-calcolo-numerico/docs/material/appendix/06_algorithms/01_svd/notebook.ipynb#ch0000010?line=2'>3</a>\u001b[0m plt\u001b[39m.\u001b[39mxlim(\u001b[39m-\u001b[39m\u001b[39m8\u001b[39m, \u001b[39m8\u001b[39m)\n\u001b[0;32m      <a href='vscode-notebook-cell:/c%3A/Users/acard/Documents/GitHub/Uniba/python-calcolo-numerico/docs/material/appendix/06_algorithms/01_svd/notebook.ipynb#ch0000010?line=3'>4</a>\u001b[0m plt\u001b[39m.\u001b[39mylim(\u001b[39m-\u001b[39m\u001b[39m8\u001b[39m, \u001b[39m8\u001b[39m)\n",
      "\u001b[1;32mc:\\Users\\acard\\Documents\\GitHub\\Uniba\\python-calcolo-numerico\\docs\\material\\appendix\\06_algorithms\\01_svd\\notebook.ipynb Cell 2'\u001b[0m in \u001b[0;36mmatrixToPlot\u001b[1;34m(matrix, vectorsCol)\u001b[0m\n\u001b[0;32m     <a href='vscode-notebook-cell:/c%3A/Users/acard/Documents/GitHub/Uniba/python-calcolo-numerico/docs/material/appendix/06_algorithms/01_svd/notebook.ipynb#ch0000001?line=48'>49</a>\u001b[0m y \u001b[39m=\u001b[39m np\u001b[39m.\u001b[39msqrt(\u001b[39m1\u001b[39m\u001b[39m-\u001b[39m(x\u001b[39m*\u001b[39m\u001b[39m*\u001b[39m\u001b[39m2\u001b[39m))\n\u001b[0;32m     <a href='vscode-notebook-cell:/c%3A/Users/acard/Documents/GitHub/Uniba/python-calcolo-numerico/docs/material/appendix/06_algorithms/01_svd/notebook.ipynb#ch0000001?line=50'>51</a>\u001b[0m \u001b[39m# Modified unit circle (separate negative and positive parts)\u001b[39;00m\n\u001b[1;32m---> <a href='vscode-notebook-cell:/c%3A/Users/acard/Documents/GitHub/Uniba/python-calcolo-numerico/docs/material/appendix/06_algorithms/01_svd/notebook.ipynb#ch0000001?line=51'>52</a>\u001b[0m x1 \u001b[39m=\u001b[39m matrix[\u001b[39m0\u001b[39;49m,\u001b[39m0\u001b[39;49m]\u001b[39m*\u001b[39mx \u001b[39m+\u001b[39m matrix[\u001b[39m0\u001b[39m,\u001b[39m1\u001b[39m]\u001b[39m*\u001b[39my\n\u001b[0;32m     <a href='vscode-notebook-cell:/c%3A/Users/acard/Documents/GitHub/Uniba/python-calcolo-numerico/docs/material/appendix/06_algorithms/01_svd/notebook.ipynb#ch0000001?line=52'>53</a>\u001b[0m y1 \u001b[39m=\u001b[39m matrix[\u001b[39m1\u001b[39m,\u001b[39m0\u001b[39m]\u001b[39m*\u001b[39mx \u001b[39m+\u001b[39m matrix[\u001b[39m1\u001b[39m,\u001b[39m1\u001b[39m]\u001b[39m*\u001b[39my\n\u001b[0;32m     <a href='vscode-notebook-cell:/c%3A/Users/acard/Documents/GitHub/Uniba/python-calcolo-numerico/docs/material/appendix/06_algorithms/01_svd/notebook.ipynb#ch0000001?line=53'>54</a>\u001b[0m x1_neg \u001b[39m=\u001b[39m matrix[\u001b[39m0\u001b[39m,\u001b[39m0\u001b[39m]\u001b[39m*\u001b[39mx \u001b[39m-\u001b[39m matrix[\u001b[39m0\u001b[39m,\u001b[39m1\u001b[39m]\u001b[39m*\u001b[39my\n",
      "\u001b[1;31mIndexError\u001b[0m: invalid index to scalar variable."
     ]
    }
   ],
   "source": [
    "print('Second rotation:')\n",
    "matrixToPlot(U.dot(np.diag(D)).dot(V))\n",
    "plt.xlim(-8, 8)\n",
    "plt.ylim(-8, 8)\n",
    "plt.show()"
   ]
  },
  {
   "cell_type": "code",
   "execution_count": 20,
   "metadata": {},
   "outputs": [
    {
     "name": "stdout",
     "output_type": "stream",
     "text": [
      "Unit circle transformed by A:\n"
     ]
    },
    {
     "data": {
      "image/png": "[encoded data removed]",
      "text/plain": [
       "<Figure size 432x288 with 1 Axes>"
      ]
     },
     "metadata": {
      "needs_background": "light"
     },
     "output_type": "display_data"
    }
   ],
   "source": [
    "print('Unit circle transformed by A:')\n",
    "matrixToPlot(A)\n",
    "plt.xlim(-8, 8)\n",
    "plt.ylim(-8, 8)\n",
    "plt.show()"
   ]
  },
  {
   "cell_type": "code",
   "execution_count": null,
   "metadata": {},
   "outputs": [],
   "source": []
  }
 ],
 "metadata": {
  "interpreter": {
   "hash": "ae8b6fafae13849dfe5a57f355880be53bf39f1971fbc2a2cfb1889cd46c6f07"
  },
  "kernelspec": {
   "display_name": "Python 3.10.4 ('python-calcolo-numerico-5v4ihblp')",
   "language": "python",
   "name": "python3"
  },
  "language_info": {
   "codemirror_mode": {
    "name": "ipython",
    "version": 3
   },
   "file_extension": ".py",
   "mimetype": "text/x-python",
   "name": "python",
   "nbconvert_exporter": "python",
   "pygments_lexer": "ipython3",
   "version": "3.10.4"
  },
  "orig_nbformat": 4
 },
 "nbformat": 4,
 "nbformat_minor": 2
}

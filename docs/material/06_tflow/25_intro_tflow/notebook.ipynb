{
 "cells": [
  {
   "cell_type": "code",
   "execution_count": 1,
   "metadata": {},
   "outputs": [],
   "source": [
    "import numpy as np\n",
    "\n",
    "from keras.preprocessing.text import Tokenizer\n",
    "from keras.datasets import reuters, boston_housing\n",
    "from keras import models, layers\n",
    "from keras.utils import to_categorical"
   ]
  },
  {
   "cell_type": "code",
   "execution_count": 2,
   "metadata": {},
   "outputs": [],
   "source": [
    "(x_train, y_train), (x_test, y_test) = reuters.load_data()"
   ]
  },
  {
   "cell_type": "code",
   "execution_count": 3,
   "metadata": {},
   "outputs": [],
   "source": [
    "num_classes = np.amax(y_train) + 1          # Usato per garantire coerenza tra y_train ed y_test\n",
    "tokenizer = Tokenizer(num_words=1000)\n",
    "x_train = tokenizer.sequences_to_matrix(x_train, mode='binary')\n",
    "x_test = tokenizer.sequences_to_matrix(x_test, mode='binary')\n",
    "y_train = to_categorical(y_train, num_classes)\n",
    "y_test = to_categorical(y_test, num_classes)"
   ]
  },
  {
   "cell_type": "code",
   "execution_count": 4,
   "metadata": {},
   "outputs": [
    {
     "name": "stdout",
     "output_type": "stream",
     "text": [
      "Model: \"sequential\"\n",
      "_________________________________________________________________\n",
      " Layer (type)                Output Shape              Param #   \n",
      "=================================================================\n",
      " dense (Dense)               (None, 8)                 8008      \n",
      "                                                                 \n",
      " dense_1 (Dense)             (None, 46)                414       \n",
      "                                                                 \n",
      "=================================================================\n",
      "Total params: 8,422\n",
      "Trainable params: 8,422\n",
      "Non-trainable params: 0\n",
      "_________________________________________________________________\n"
     ]
    }
   ],
   "source": [
    "# Modello ad un layer con 8 neuroni\n",
    "model = models.Sequential()\n",
    "model.add(layers.Dense(8, activation='relu', input_shape=(1000,)))\n",
    "model.add(layers.Dense(num_classes, activation='softmax'))\n",
    "model.summary()"
   ]
  },
  {
   "cell_type": "code",
   "execution_count": 6,
   "metadata": {},
   "outputs": [
    {
     "name": "stdout",
     "output_type": "stream",
     "text": [
      "Epoch 1/10\n",
      "281/281 [==============================] - 5s 8ms/step - loss: 2.2583 - acc: 0.5012 - val_loss: 1.6589 - val_acc: 0.5975\n",
      "Epoch 2/10\n",
      "281/281 [==============================] - 2s 6ms/step - loss: 1.4885 - acc: 0.6456 - val_loss: 1.4581 - val_acc: 0.6696\n",
      "Epoch 3/10\n",
      "281/281 [==============================] - 2s 6ms/step - loss: 1.2771 - acc: 0.7106 - val_loss: 1.2921 - val_acc: 0.6972\n",
      "Epoch 4/10\n",
      "281/281 [==============================] - 2s 6ms/step - loss: 1.1255 - acc: 0.7368 - val_loss: 1.2072 - val_acc: 0.7182\n",
      "Epoch 5/10\n",
      "281/281 [==============================] - 2s 6ms/step - loss: 1.0240 - acc: 0.7654 - val_loss: 1.1478 - val_acc: 0.7369\n",
      "Epoch 6/10\n",
      "281/281 [==============================] - 2s 6ms/step - loss: 0.9446 - acc: 0.7816 - val_loss: 1.1038 - val_acc: 0.7422\n",
      "Epoch 7/10\n",
      "281/281 [==============================] - 2s 6ms/step - loss: 0.8793 - acc: 0.7982 - val_loss: 1.0698 - val_acc: 0.7529\n",
      "Epoch 8/10\n",
      "281/281 [==============================] - 2s 6ms/step - loss: 0.8261 - acc: 0.8100 - val_loss: 1.0516 - val_acc: 0.7614\n",
      "Epoch 9/10\n",
      "281/281 [==============================] - 2s 6ms/step - loss: 0.7812 - acc: 0.8177 - val_loss: 1.0377 - val_acc: 0.7640\n",
      "Epoch 10/10\n",
      "281/281 [==============================] - 2s 6ms/step - loss: 0.7442 - acc: 0.8244 - val_loss: 1.0328 - val_acc: 0.7694\n"
     ]
    },
    {
     "data": {
      "text/plain": [
       "<keras.callbacks.History at 0x2656f0afc70>"
      ]
     },
     "execution_count": 6,
     "metadata": {},
     "output_type": "execute_result"
    }
   ],
   "source": [
    "model.compile(optimizer='adam',\n",
    "            loss='categorical_crossentropy',\n",
    "            metrics=['acc'])\n",
    "\n",
    "model.fit(\n",
    "    x_train,\n",
    "    y_train,\n",
    "    epochs=10,\n",
    "    batch_size=32)"
   ]
  },
  {
   "cell_type": "code",
   "execution_count": 16,
   "metadata": {},
   "outputs": [
    {
     "name": "stdout",
     "output_type": "stream",
     "text": [
      "Model: \"sequential_1\"\n",
      "_________________________________________________________________\n",
      " Layer (type)                Output Shape              Param #   \n",
      "=================================================================\n",
      " dense_2 (Dense)             (None, 8)                 8008      \n",
      "                                                                 \n",
      " dense_3 (Dense)             (None, 8)                 72        \n",
      "                                                                 \n",
      " dense_4 (Dense)             (None, 46)                414       \n",
      "                                                                 \n",
      "=================================================================\n",
      "Total params: 8,494\n",
      "Trainable params: 8,494\n",
      "Non-trainable params: 0\n",
      "_________________________________________________________________\n"
     ]
    }
   ],
   "source": [
    "# modello a due layer con otto neuroni\n",
    "model = models.Sequential()\n",
    "model.add(layers.Dense(8, activation='relu', input_shape=(1000,)))\n",
    "model.add(layers.Dense(8, activation='relu'))\n",
    "model.add(layers.Dense(num_classes, activation='softmax'))\n",
    "model.summary()"
   ]
  },
  {
   "cell_type": "code",
   "execution_count": 17,
   "metadata": {},
   "outputs": [
    {
     "name": "stdout",
     "output_type": "stream",
     "text": [
      "Epoch 1/10\n",
      "281/281 [==============================] - 2s 6ms/step - loss: 2.4304 - acc: 0.4567\n",
      "Epoch 2/10\n",
      "281/281 [==============================] - 2s 5ms/step - loss: 1.5737 - acc: 0.5907\n",
      "Epoch 3/10\n",
      "281/281 [==============================] - 2s 5ms/step - loss: 1.3717 - acc: 0.6642\n",
      "Epoch 4/10\n",
      "281/281 [==============================] - 2s 6ms/step - loss: 1.2412 - acc: 0.7067\n",
      "Epoch 5/10\n",
      "281/281 [==============================] - 2s 5ms/step - loss: 1.1488 - acc: 0.7263\n",
      "Epoch 6/10\n",
      "281/281 [==============================] - 2s 6ms/step - loss: 1.0720 - acc: 0.7417\n",
      "Epoch 7/10\n",
      "281/281 [==============================] - 2s 6ms/step - loss: 1.0128 - acc: 0.7528\n",
      "Epoch 8/10\n",
      "281/281 [==============================] - 2s 5ms/step - loss: 0.9570 - acc: 0.7698\n",
      "Epoch 9/10\n",
      "281/281 [==============================] - 2s 6ms/step - loss: 0.9085 - acc: 0.7826\n",
      "Epoch 10/10\n",
      "281/281 [==============================] - 2s 5ms/step - loss: 0.8640 - acc: 0.7915\n"
     ]
    },
    {
     "data": {
      "text/plain": [
       "<keras.callbacks.History at 0x2167faf3ac0>"
      ]
     },
     "execution_count": 17,
     "metadata": {},
     "output_type": "execute_result"
    }
   ],
   "source": [
    "model.compile(optimizer='adam',\n",
    "            loss='categorical_crossentropy',\n",
    "            metrics=['acc'])\n",
    "\n",
    "model.fit(x_train, y_train, epochs=10, batch_size=32)"
   ]
  },
  {
   "cell_type": "code",
   "execution_count": 18,
   "metadata": {},
   "outputs": [],
   "source": [
    "# modello a due layer con sedici neuroni\n",
    "model = models.Sequential()\n",
    "model.add(layers.Dense(16, activation='relu', input_shape=(1000,)))\n",
    "model.add(layers.Dense(16, activation='relu'))\n",
    "model.add(layers.Dense(num_classes, activation='softmax'))\n",
    "# model.summary()"
   ]
  },
  {
   "cell_type": "code",
   "execution_count": 19,
   "metadata": {},
   "outputs": [
    {
     "name": "stdout",
     "output_type": "stream",
     "text": [
      "Epoch 1/10\n",
      "281/281 [==============================] - 2s 6ms/step - loss: 2.1161 - acc: 0.5487\n",
      "Epoch 2/10\n",
      "281/281 [==============================] - 2s 6ms/step - loss: 1.2397 - acc: 0.7184\n",
      "Epoch 3/10\n",
      "281/281 [==============================] - 2s 6ms/step - loss: 1.0411 - acc: 0.7581\n",
      "Epoch 4/10\n",
      "281/281 [==============================] - 2s 5ms/step - loss: 0.9069 - acc: 0.7853\n",
      "Epoch 5/10\n",
      "281/281 [==============================] - 2s 6ms/step - loss: 0.8076 - acc: 0.8077\n",
      "Epoch 6/10\n",
      "281/281 [==============================] - 2s 5ms/step - loss: 0.7265 - acc: 0.8232\n",
      "Epoch 7/10\n",
      "281/281 [==============================] - 1s 5ms/step - loss: 0.6597 - acc: 0.8381\n",
      "Epoch 8/10\n",
      "281/281 [==============================] - 2s 6ms/step - loss: 0.6081 - acc: 0.8478\n",
      "Epoch 9/10\n",
      "281/281 [==============================] - 2s 5ms/step - loss: 0.5592 - acc: 0.8598\n",
      "Epoch 10/10\n",
      "281/281 [==============================] - 2s 6ms/step - loss: 0.5211 - acc: 0.8715\n"
     ]
    },
    {
     "data": {
      "text/plain": [
       "<keras.callbacks.History at 0x216002e02e0>"
      ]
     },
     "execution_count": 19,
     "metadata": {},
     "output_type": "execute_result"
    }
   ],
   "source": [
    "model.compile(optimizer='adam',\n",
    "            loss='categorical_crossentropy',\n",
    "            metrics=['acc'])\n",
    "\n",
    "model.fit(x_train, y_train, epochs=10, batch_size=32)"
   ]
  },
  {
   "cell_type": "code",
   "execution_count": 10,
   "metadata": {},
   "outputs": [
    {
     "name": "stdout",
     "output_type": "stream",
     "text": [
      "Model: \"sequential_3\"\n",
      "_________________________________________________________________\n",
      " Layer (type)                Output Shape              Param #   \n",
      "=================================================================\n",
      " dense_8 (Dense)             (None, 32)                32032     \n",
      "                                                                 \n",
      " dense_9 (Dense)             (None, 46)                1518      \n",
      "                                                                 \n",
      "=================================================================\n",
      "Total params: 33,550\n",
      "Trainable params: 33,550\n",
      "Non-trainable params: 0\n",
      "_________________________________________________________________\n"
     ]
    }
   ],
   "source": [
    "# modello ad un layer con 32 neuroni\n",
    "model = models.Sequential()\n",
    "model.add(layers.Dense(32, activation='relu', input_shape=(1000,)))\n",
    "model.add(layers.Dense(num_classes, activation='softmax'))\n",
    "model.summary()"
   ]
  },
  {
   "cell_type": "code",
   "execution_count": 11,
   "metadata": {},
   "outputs": [
    {
     "name": "stdout",
     "output_type": "stream",
     "text": [
      "Epoch 1/10\n",
      "281/281 [==============================] - 2s 5ms/step - loss: 1.7964 - acc: 0.6150\n",
      "Epoch 2/10\n",
      "281/281 [==============================] - 1s 5ms/step - loss: 1.0640 - acc: 0.7656\n",
      "Epoch 3/10\n",
      "281/281 [==============================] - 1s 5ms/step - loss: 0.8381 - acc: 0.8100\n",
      "Epoch 4/10\n",
      "281/281 [==============================] - 1s 5ms/step - loss: 0.6850 - acc: 0.8435\n",
      "Epoch 5/10\n",
      "281/281 [==============================] - 1s 5ms/step - loss: 0.5791 - acc: 0.8674\n",
      "Epoch 6/10\n",
      "281/281 [==============================] - 1s 5ms/step - loss: 0.4989 - acc: 0.8848\n",
      "Epoch 7/10\n",
      "281/281 [==============================] - 1s 5ms/step - loss: 0.4341 - acc: 0.9014\n",
      "Epoch 8/10\n",
      "281/281 [==============================] - 1s 5ms/step - loss: 0.3860 - acc: 0.9108\n",
      "Epoch 9/10\n",
      "281/281 [==============================] - 1s 5ms/step - loss: 0.3477 - acc: 0.9198\n",
      "Epoch 10/10\n",
      "281/281 [==============================] - 1s 5ms/step - loss: 0.3130 - acc: 0.9281\n"
     ]
    },
    {
     "data": {
      "text/plain": [
       "<keras.callbacks.History at 0x29f269b7610>"
      ]
     },
     "execution_count": 11,
     "metadata": {},
     "output_type": "execute_result"
    }
   ],
   "source": [
    "model.compile(optimizer='adam',\n",
    "            loss='categorical_crossentropy',\n",
    "            metrics=['acc'])\n",
    "\n",
    "model.fit(x_train, y_train, epochs=10, batch_size=32)"
   ]
  },
  {
   "cell_type": "markdown",
   "metadata": {},
   "source": [
    "# Parte 2: regressione (Boston Housing)"
   ]
  },
  {
   "cell_type": "code",
   "execution_count": 20,
   "metadata": {},
   "outputs": [],
   "source": [
    "(x_train, y_train), (x_test, y_test) = boston_housing.load_data()"
   ]
  },
  {
   "cell_type": "code",
   "execution_count": 21,
   "metadata": {},
   "outputs": [
    {
     "name": "stdout",
     "output_type": "stream",
     "text": [
      "Epoch 1/10\n",
      "13/13 [==============================] - 1s 7ms/step - loss: 191.5358 - mae: 10.5618\n",
      "Epoch 2/10\n",
      "13/13 [==============================] - 0s 7ms/step - loss: 103.6470 - mae: 7.7972\n",
      "Epoch 3/10\n",
      "13/13 [==============================] - 0s 7ms/step - loss: 98.7553 - mae: 7.3807\n",
      "Epoch 4/10\n",
      "13/13 [==============================] - 0s 7ms/step - loss: 88.7062 - mae: 6.7348\n",
      "Epoch 5/10\n",
      "13/13 [==============================] - 0s 9ms/step - loss: 83.1051 - mae: 6.4908\n",
      "Epoch 6/10\n",
      "13/13 [==============================] - 0s 12ms/step - loss: 77.5035 - mae: 6.1919\n",
      "Epoch 7/10\n",
      "13/13 [==============================] - 0s 10ms/step - loss: 77.2816 - mae: 6.2824\n",
      "Epoch 8/10\n",
      "13/13 [==============================] - 0s 6ms/step - loss: 69.5905 - mae: 5.8327\n",
      "Epoch 9/10\n",
      "13/13 [==============================] - 0s 7ms/step - loss: 73.9966 - mae: 6.1946\n",
      "Epoch 10/10\n",
      "13/13 [==============================] - 0s 7ms/step - loss: 73.1441 - mae: 6.0554\n"
     ]
    },
    {
     "data": {
      "text/plain": [
       "<keras.callbacks.History at 0x2167f9afca0>"
      ]
     },
     "execution_count": 21,
     "metadata": {},
     "output_type": "execute_result"
    }
   ],
   "source": [
    "# modello a 32 neuroni addestrato per 10 epoche\n",
    "model = models.Sequential()\n",
    "model.add(layers.Dense(32, activation='relu', input_shape=(13,)))\n",
    "model.add(layers.Dense(1))\n",
    "model.compile(optimizer='rmsprop',\n",
    "            loss='mse',\n",
    "            metrics=['mae'])\n",
    "model.fit(x_train, y_train, epochs=10, batch_size=32)"
   ]
  },
  {
   "cell_type": "code",
   "execution_count": 23,
   "metadata": {},
   "outputs": [
    {
     "name": "stdout",
     "output_type": "stream",
     "text": [
      "Epoch 1/100\n",
      "13/13 [==============================] - 1s 8ms/step - loss: 215.1484 - mae: 11.3931\n",
      "Epoch 2/100\n",
      "13/13 [==============================] - 0s 8ms/step - loss: 100.1150 - mae: 7.0872\n",
      "Epoch 3/100\n",
      "13/13 [==============================] - 0s 12ms/step - loss: 97.6915 - mae: 6.9007\n",
      "Epoch 4/100\n",
      "13/13 [==============================] - 0s 8ms/step - loss: 84.4446 - mae: 6.6397\n",
      "Epoch 5/100\n",
      "13/13 [==============================] - 0s 8ms/step - loss: 75.8470 - mae: 6.1918\n",
      "Epoch 6/100\n",
      "13/13 [==============================] - 0s 6ms/step - loss: 83.2515 - mae: 6.3505\n",
      "Epoch 7/100\n",
      "13/13 [==============================] - 0s 6ms/step - loss: 74.8717 - mae: 5.9023\n",
      "Epoch 8/100\n",
      "13/13 [==============================] - 0s 6ms/step - loss: 68.9928 - mae: 5.7548\n",
      "Epoch 9/100\n",
      "13/13 [==============================] - 0s 6ms/step - loss: 74.0008 - mae: 6.1099\n",
      "Epoch 10/100\n",
      "13/13 [==============================] - 0s 6ms/step - loss: 71.5303 - mae: 5.8552\n",
      "Epoch 11/100\n",
      "13/13 [==============================] - 0s 6ms/step - loss: 62.9682 - mae: 5.5218\n",
      "Epoch 12/100\n",
      "13/13 [==============================] - 0s 7ms/step - loss: 64.5401 - mae: 5.6085\n",
      "Epoch 13/100\n",
      "13/13 [==============================] - 0s 6ms/step - loss: 58.9421 - mae: 5.3752\n",
      "Epoch 14/100\n",
      "13/13 [==============================] - 0s 7ms/step - loss: 64.8715 - mae: 5.6644\n",
      "Epoch 15/100\n",
      "13/13 [==============================] - 0s 6ms/step - loss: 57.7320 - mae: 5.3338\n",
      "Epoch 16/100\n",
      "13/13 [==============================] - 0s 6ms/step - loss: 56.7191 - mae: 5.4281\n",
      "Epoch 17/100\n",
      "13/13 [==============================] - 0s 6ms/step - loss: 55.5696 - mae: 5.3137\n",
      "Epoch 18/100\n",
      "13/13 [==============================] - 0s 7ms/step - loss: 57.7529 - mae: 5.3373\n",
      "Epoch 19/100\n",
      "13/13 [==============================] - 0s 6ms/step - loss: 51.6132 - mae: 4.9585\n",
      "Epoch 20/100\n",
      "13/13 [==============================] - 0s 7ms/step - loss: 53.9340 - mae: 5.2106\n",
      "Epoch 21/100\n",
      "13/13 [==============================] - 0s 8ms/step - loss: 52.8724 - mae: 5.2998\n",
      "Epoch 22/100\n",
      "13/13 [==============================] - 0s 7ms/step - loss: 59.3009 - mae: 5.6849\n",
      "Epoch 23/100\n",
      "13/13 [==============================] - 0s 6ms/step - loss: 49.4608 - mae: 4.8948\n",
      "Epoch 24/100\n",
      "13/13 [==============================] - 0s 6ms/step - loss: 57.5193 - mae: 5.3205\n",
      "Epoch 25/100\n",
      "13/13 [==============================] - 0s 6ms/step - loss: 46.2191 - mae: 4.6461\n",
      "Epoch 26/100\n",
      "13/13 [==============================] - 0s 6ms/step - loss: 51.4969 - mae: 5.1220\n",
      "Epoch 27/100\n",
      "13/13 [==============================] - 0s 7ms/step - loss: 49.6480 - mae: 5.0638\n",
      "Epoch 28/100\n",
      "13/13 [==============================] - 0s 6ms/step - loss: 51.5139 - mae: 5.1749\n",
      "Epoch 29/100\n",
      "13/13 [==============================] - 0s 6ms/step - loss: 43.9791 - mae: 4.7741\n",
      "Epoch 30/100\n",
      "13/13 [==============================] - 0s 6ms/step - loss: 47.7049 - mae: 5.0042\n",
      "Epoch 31/100\n",
      "13/13 [==============================] - 0s 6ms/step - loss: 51.6515 - mae: 5.3331\n",
      "Epoch 32/100\n",
      "13/13 [==============================] - 0s 6ms/step - loss: 41.6632 - mae: 4.6071\n",
      "Epoch 33/100\n",
      "13/13 [==============================] - 0s 6ms/step - loss: 47.6827 - mae: 4.9750\n",
      "Epoch 34/100\n",
      "13/13 [==============================] - 0s 6ms/step - loss: 51.2893 - mae: 5.2003\n",
      "Epoch 35/100\n",
      "13/13 [==============================] - 0s 7ms/step - loss: 46.6497 - mae: 4.7042\n",
      "Epoch 36/100\n",
      "13/13 [==============================] - 0s 8ms/step - loss: 40.4469 - mae: 4.6593\n",
      "Epoch 37/100\n",
      "13/13 [==============================] - 0s 7ms/step - loss: 43.2847 - mae: 4.6309\n",
      "Epoch 38/100\n",
      "13/13 [==============================] - 0s 6ms/step - loss: 44.7497 - mae: 4.8656\n",
      "Epoch 39/100\n",
      "13/13 [==============================] - 0s 6ms/step - loss: 44.3364 - mae: 4.8307\n",
      "Epoch 40/100\n",
      "13/13 [==============================] - 0s 7ms/step - loss: 44.8657 - mae: 4.8344\n",
      "Epoch 41/100\n",
      "13/13 [==============================] - 0s 8ms/step - loss: 41.7551 - mae: 4.6178\n",
      "Epoch 42/100\n",
      "13/13 [==============================] - 0s 7ms/step - loss: 46.3004 - mae: 4.8666\n",
      "Epoch 43/100\n",
      "13/13 [==============================] - 0s 6ms/step - loss: 39.4346 - mae: 4.5744\n",
      "Epoch 44/100\n",
      "13/13 [==============================] - 0s 7ms/step - loss: 45.0211 - mae: 4.8418\n",
      "Epoch 45/100\n",
      "13/13 [==============================] - 0s 6ms/step - loss: 44.3605 - mae: 4.7427\n",
      "Epoch 46/100\n",
      "13/13 [==============================] - 0s 7ms/step - loss: 43.5064 - mae: 4.7665\n",
      "Epoch 47/100\n",
      "13/13 [==============================] - 0s 6ms/step - loss: 41.6438 - mae: 4.5546\n",
      "Epoch 48/100\n",
      "13/13 [==============================] - 0s 7ms/step - loss: 39.6135 - mae: 4.5240\n",
      "Epoch 49/100\n",
      "13/13 [==============================] - 0s 7ms/step - loss: 36.6068 - mae: 4.3810\n",
      "Epoch 50/100\n",
      "13/13 [==============================] - 0s 7ms/step - loss: 45.3556 - mae: 4.7970\n",
      "Epoch 51/100\n",
      "13/13 [==============================] - 0s 7ms/step - loss: 40.8088 - mae: 4.6808\n",
      "Epoch 52/100\n",
      "13/13 [==============================] - 0s 6ms/step - loss: 36.2299 - mae: 4.3988\n",
      "Epoch 53/100\n",
      "13/13 [==============================] - 0s 6ms/step - loss: 47.9368 - mae: 5.2359\n",
      "Epoch 54/100\n",
      "13/13 [==============================] - 0s 7ms/step - loss: 36.6259 - mae: 4.3977\n",
      "Epoch 55/100\n",
      "13/13 [==============================] - 0s 7ms/step - loss: 42.5901 - mae: 4.7995\n",
      "Epoch 56/100\n",
      "13/13 [==============================] - 0s 6ms/step - loss: 36.2727 - mae: 4.4611\n",
      "Epoch 57/100\n",
      "13/13 [==============================] - 0s 8ms/step - loss: 43.7042 - mae: 4.7124\n",
      "Epoch 58/100\n",
      "13/13 [==============================] - 0s 7ms/step - loss: 40.3409 - mae: 4.6993\n",
      "Epoch 59/100\n",
      "13/13 [==============================] - 0s 10ms/step - loss: 38.8362 - mae: 4.5922\n",
      "Epoch 60/100\n",
      "13/13 [==============================] - 0s 7ms/step - loss: 39.8405 - mae: 4.6016\n",
      "Epoch 61/100\n",
      "13/13 [==============================] - 0s 7ms/step - loss: 42.5192 - mae: 4.7812\n",
      "Epoch 62/100\n",
      "13/13 [==============================] - 0s 6ms/step - loss: 42.4045 - mae: 4.8971\n",
      "Epoch 63/100\n",
      "13/13 [==============================] - 0s 6ms/step - loss: 35.2872 - mae: 4.2255\n",
      "Epoch 64/100\n",
      "13/13 [==============================] - 0s 6ms/step - loss: 39.8275 - mae: 4.6120\n",
      "Epoch 65/100\n",
      "13/13 [==============================] - 0s 6ms/step - loss: 37.6291 - mae: 4.5813\n",
      "Epoch 66/100\n",
      "13/13 [==============================] - 0s 7ms/step - loss: 43.5973 - mae: 4.9306\n",
      "Epoch 67/100\n",
      "13/13 [==============================] - 0s 7ms/step - loss: 39.3277 - mae: 4.5401\n",
      "Epoch 68/100\n",
      "13/13 [==============================] - 0s 6ms/step - loss: 36.5063 - mae: 4.3034\n",
      "Epoch 69/100\n",
      "13/13 [==============================] - 0s 7ms/step - loss: 38.4212 - mae: 4.4676\n",
      "Epoch 70/100\n",
      "13/13 [==============================] - 0s 7ms/step - loss: 39.1912 - mae: 4.6158\n",
      "Epoch 71/100\n",
      "13/13 [==============================] - 0s 7ms/step - loss: 37.5326 - mae: 4.5066\n",
      "Epoch 72/100\n",
      "13/13 [==============================] - 0s 6ms/step - loss: 36.8577 - mae: 4.5510\n",
      "Epoch 73/100\n",
      "13/13 [==============================] - 0s 5ms/step - loss: 33.9320 - mae: 4.3205\n",
      "Epoch 74/100\n",
      "13/13 [==============================] - 0s 6ms/step - loss: 40.8645 - mae: 4.7995\n",
      "Epoch 75/100\n",
      "13/13 [==============================] - 0s 6ms/step - loss: 37.3845 - mae: 4.4783\n",
      "Epoch 76/100\n",
      "13/13 [==============================] - 0s 6ms/step - loss: 34.5797 - mae: 4.3112\n",
      "Epoch 77/100\n",
      "13/13 [==============================] - 0s 8ms/step - loss: 36.4205 - mae: 4.4096\n",
      "Epoch 78/100\n",
      "13/13 [==============================] - 0s 6ms/step - loss: 38.2471 - mae: 4.6045\n",
      "Epoch 79/100\n",
      "13/13 [==============================] - 0s 7ms/step - loss: 34.1509 - mae: 4.4091\n",
      "Epoch 80/100\n",
      "13/13 [==============================] - 0s 6ms/step - loss: 37.8594 - mae: 4.5614\n",
      "Epoch 81/100\n",
      "13/13 [==============================] - 0s 6ms/step - loss: 44.9190 - mae: 4.9117\n",
      "Epoch 82/100\n",
      "13/13 [==============================] - 0s 7ms/step - loss: 34.5263 - mae: 4.3917\n",
      "Epoch 83/100\n",
      "13/13 [==============================] - 0s 6ms/step - loss: 35.7466 - mae: 4.3881\n",
      "Epoch 84/100\n",
      "13/13 [==============================] - 0s 6ms/step - loss: 36.2941 - mae: 4.4266\n",
      "Epoch 85/100\n",
      "13/13 [==============================] - 0s 6ms/step - loss: 37.2164 - mae: 4.4984\n",
      "Epoch 86/100\n",
      "13/13 [==============================] - 0s 7ms/step - loss: 36.6231 - mae: 4.4870\n",
      "Epoch 87/100\n",
      "13/13 [==============================] - 0s 10ms/step - loss: 37.0449 - mae: 4.5123\n",
      "Epoch 88/100\n",
      "13/13 [==============================] - 0s 6ms/step - loss: 36.1956 - mae: 4.5132\n",
      "Epoch 89/100\n",
      "13/13 [==============================] - 0s 7ms/step - loss: 37.9559 - mae: 4.5309\n",
      "Epoch 90/100\n",
      "13/13 [==============================] - 0s 7ms/step - loss: 32.6143 - mae: 4.2636\n",
      "Epoch 91/100\n",
      "13/13 [==============================] - 0s 7ms/step - loss: 40.6565 - mae: 4.8151\n",
      "Epoch 92/100\n",
      "13/13 [==============================] - 0s 6ms/step - loss: 37.6777 - mae: 4.5052\n",
      "Epoch 93/100\n",
      "13/13 [==============================] - 0s 6ms/step - loss: 33.5103 - mae: 4.2622\n",
      "Epoch 94/100\n",
      "13/13 [==============================] - 0s 7ms/step - loss: 36.5685 - mae: 4.4785\n",
      "Epoch 95/100\n",
      "13/13 [==============================] - 0s 7ms/step - loss: 37.4829 - mae: 4.5110\n",
      "Epoch 96/100\n",
      "13/13 [==============================] - 0s 6ms/step - loss: 36.2466 - mae: 4.5243\n",
      "Epoch 97/100\n",
      "13/13 [==============================] - 0s 6ms/step - loss: 36.5446 - mae: 4.3971\n",
      "Epoch 98/100\n",
      "13/13 [==============================] - 0s 6ms/step - loss: 36.4851 - mae: 4.6008\n",
      "Epoch 99/100\n",
      "13/13 [==============================] - 0s 7ms/step - loss: 37.3977 - mae: 4.6412\n",
      "Epoch 100/100\n",
      "13/13 [==============================] - 0s 7ms/step - loss: 36.7119 - mae: 4.5710\n"
     ]
    },
    {
     "data": {
      "text/plain": [
       "<keras.callbacks.History at 0x2167e024c70>"
      ]
     },
     "execution_count": 23,
     "metadata": {},
     "output_type": "execute_result"
    }
   ],
   "source": [
    "# modello a 32 neuroni addestrato per 20 epoche\n",
    "model = models.Sequential()\n",
    "model.add(layers.Dense(32, activation='relu', input_shape=(13,)))\n",
    "model.add(layers.Dense(1))\n",
    "model.compile(optimizer='rmsprop',\n",
    "            loss='mse',\n",
    "            metrics=['mae'])\n",
    "model.fit(x_train, y_train, epochs=100, batch_size=32)"
   ]
  },
  {
   "cell_type": "code",
   "execution_count": 24,
   "metadata": {},
   "outputs": [
    {
     "name": "stdout",
     "output_type": "stream",
     "text": [
      "Epoch 1/20\n"
     ]
    },
    {
     "ename": "ValueError",
     "evalue": "in user code:\n\n    File \"c:\\Users\\acard\\.virtualenvs\\python-calcolo-numerico-5v4ihblp\\lib\\site-packages\\keras\\engine\\training.py\", line 1051, in train_function  *\n        return step_function(self, iterator)\n    File \"c:\\Users\\acard\\.virtualenvs\\python-calcolo-numerico-5v4ihblp\\lib\\site-packages\\keras\\engine\\training.py\", line 1040, in step_function  **\n        outputs = model.distribute_strategy.run(run_step, args=(data,))\n    File \"c:\\Users\\acard\\.virtualenvs\\python-calcolo-numerico-5v4ihblp\\lib\\site-packages\\keras\\engine\\training.py\", line 1030, in run_step  **\n        outputs = model.train_step(data)\n    File \"c:\\Users\\acard\\.virtualenvs\\python-calcolo-numerico-5v4ihblp\\lib\\site-packages\\keras\\engine\\training.py\", line 890, in train_step\n        loss = self.compute_loss(x, y, y_pred, sample_weight)\n    File \"c:\\Users\\acard\\.virtualenvs\\python-calcolo-numerico-5v4ihblp\\lib\\site-packages\\keras\\engine\\training.py\", line 948, in compute_loss\n        return self.compiled_loss(\n    File \"c:\\Users\\acard\\.virtualenvs\\python-calcolo-numerico-5v4ihblp\\lib\\site-packages\\keras\\engine\\compile_utils.py\", line 184, in __call__\n        self.build(y_pred)\n    File \"c:\\Users\\acard\\.virtualenvs\\python-calcolo-numerico-5v4ihblp\\lib\\site-packages\\keras\\engine\\compile_utils.py\", line 133, in build\n        self._losses = tf.nest.map_structure(self._get_loss_object, self._losses)\n    File \"c:\\Users\\acard\\.virtualenvs\\python-calcolo-numerico-5v4ihblp\\lib\\site-packages\\keras\\engine\\compile_utils.py\", line 272, in _get_loss_object\n        loss = losses_mod.get(loss)\n    File \"c:\\Users\\acard\\.virtualenvs\\python-calcolo-numerico-5v4ihblp\\lib\\site-packages\\keras\\losses.py\", line 2367, in get\n        return deserialize(identifier)\n    File \"c:\\Users\\acard\\.virtualenvs\\python-calcolo-numerico-5v4ihblp\\lib\\site-packages\\keras\\losses.py\", line 2322, in deserialize\n        return deserialize_keras_object(\n    File \"c:\\Users\\acard\\.virtualenvs\\python-calcolo-numerico-5v4ihblp\\lib\\site-packages\\keras\\utils\\generic_utils.py\", line 709, in deserialize_keras_object\n        raise ValueError(\n\n    ValueError: Unknown loss function: categorical_accuracy. Please ensure this object is passed to the `custom_objects` argument. See https://www.tensorflow.org/guide/keras/save_and_serialize#registering_the_custom_object for details.\n",
     "output_type": "error",
     "traceback": [
      "\u001b[1;31m---------------------------------------------------------------------------\u001b[0m",
      "\u001b[1;31mValueError\u001b[0m                                Traceback (most recent call last)",
      "\u001b[1;32mc:\\Users\\acard\\Documents\\GitHub\\Uniba\\python-calcolo-numerico\\docs\\material\\04_nn_tflow\\25_intro_tflow\\notebook.ipynb Cell 16'\u001b[0m in \u001b[0;36m<cell line: 8>\u001b[1;34m()\u001b[0m\n\u001b[0;32m      <a href='vscode-notebook-cell:/c%3A/Users/acard/Documents/GitHub/Uniba/python-calcolo-numerico/docs/material/04_nn_tflow/25_intro_tflow/notebook.ipynb#ch0000015?line=3'>4</a>\u001b[0m model\u001b[39m.\u001b[39madd(layers\u001b[39m.\u001b[39mDense(\u001b[39m1\u001b[39m))\n\u001b[0;32m      <a href='vscode-notebook-cell:/c%3A/Users/acard/Documents/GitHub/Uniba/python-calcolo-numerico/docs/material/04_nn_tflow/25_intro_tflow/notebook.ipynb#ch0000015?line=4'>5</a>\u001b[0m model\u001b[39m.\u001b[39mcompile(optimizer\u001b[39m=\u001b[39m\u001b[39m'\u001b[39m\u001b[39mrmsprop\u001b[39m\u001b[39m'\u001b[39m,\n\u001b[0;32m      <a href='vscode-notebook-cell:/c%3A/Users/acard/Documents/GitHub/Uniba/python-calcolo-numerico/docs/material/04_nn_tflow/25_intro_tflow/notebook.ipynb#ch0000015?line=5'>6</a>\u001b[0m             loss\u001b[39m=\u001b[39m\u001b[39m'\u001b[39m\u001b[39mcategorical_accuracy\u001b[39m\u001b[39m'\u001b[39m,\n\u001b[0;32m      <a href='vscode-notebook-cell:/c%3A/Users/acard/Documents/GitHub/Uniba/python-calcolo-numerico/docs/material/04_nn_tflow/25_intro_tflow/notebook.ipynb#ch0000015?line=6'>7</a>\u001b[0m             metrics\u001b[39m=\u001b[39m[\u001b[39m'\u001b[39m\u001b[39macc\u001b[39m\u001b[39m'\u001b[39m])\n\u001b[1;32m----> <a href='vscode-notebook-cell:/c%3A/Users/acard/Documents/GitHub/Uniba/python-calcolo-numerico/docs/material/04_nn_tflow/25_intro_tflow/notebook.ipynb#ch0000015?line=7'>8</a>\u001b[0m model\u001b[39m.\u001b[39;49mfit(x_train, y_train, epochs\u001b[39m=\u001b[39;49m\u001b[39m20\u001b[39;49m, batch_size\u001b[39m=\u001b[39;49m\u001b[39m32\u001b[39;49m)\n",
      "File \u001b[1;32mc:\\Users\\acard\\.virtualenvs\\python-calcolo-numerico-5v4ihblp\\lib\\site-packages\\keras\\utils\\traceback_utils.py:67\u001b[0m, in \u001b[0;36mfilter_traceback.<locals>.error_handler\u001b[1;34m(*args, **kwargs)\u001b[0m\n\u001b[0;32m     65\u001b[0m \u001b[39mexcept\u001b[39;00m \u001b[39mException\u001b[39;00m \u001b[39mas\u001b[39;00m e:  \u001b[39m# pylint: disable=broad-except\u001b[39;00m\n\u001b[0;32m     66\u001b[0m   filtered_tb \u001b[39m=\u001b[39m _process_traceback_frames(e\u001b[39m.\u001b[39m__traceback__)\n\u001b[1;32m---> 67\u001b[0m   \u001b[39mraise\u001b[39;00m e\u001b[39m.\u001b[39mwith_traceback(filtered_tb) \u001b[39mfrom\u001b[39;00m \u001b[39mNone\u001b[39m\n\u001b[0;32m     68\u001b[0m \u001b[39mfinally\u001b[39;00m:\n\u001b[0;32m     69\u001b[0m   \u001b[39mdel\u001b[39;00m filtered_tb\n",
      "File \u001b[1;32m~\\AppData\\Local\\Temp\\__autograph_generated_filejfbf52sq.py:15\u001b[0m, in \u001b[0;36mouter_factory.<locals>.inner_factory.<locals>.tf__train_function\u001b[1;34m(iterator)\u001b[0m\n\u001b[0;32m     13\u001b[0m \u001b[39mtry\u001b[39;00m:\n\u001b[0;32m     14\u001b[0m     do_return \u001b[39m=\u001b[39m \u001b[39mTrue\u001b[39;00m\n\u001b[1;32m---> 15\u001b[0m     retval_ \u001b[39m=\u001b[39m ag__\u001b[39m.\u001b[39mconverted_call(ag__\u001b[39m.\u001b[39mld(step_function), (ag__\u001b[39m.\u001b[39mld(\u001b[39mself\u001b[39m), ag__\u001b[39m.\u001b[39mld(iterator)), \u001b[39mNone\u001b[39;00m, fscope)\n\u001b[0;32m     16\u001b[0m \u001b[39mexcept\u001b[39;00m:\n\u001b[0;32m     17\u001b[0m     do_return \u001b[39m=\u001b[39m \u001b[39mFalse\u001b[39;00m\n",
      "\u001b[1;31mValueError\u001b[0m: in user code:\n\n    File \"c:\\Users\\acard\\.virtualenvs\\python-calcolo-numerico-5v4ihblp\\lib\\site-packages\\keras\\engine\\training.py\", line 1051, in train_function  *\n        return step_function(self, iterator)\n    File \"c:\\Users\\acard\\.virtualenvs\\python-calcolo-numerico-5v4ihblp\\lib\\site-packages\\keras\\engine\\training.py\", line 1040, in step_function  **\n        outputs = model.distribute_strategy.run(run_step, args=(data,))\n    File \"c:\\Users\\acard\\.virtualenvs\\python-calcolo-numerico-5v4ihblp\\lib\\site-packages\\keras\\engine\\training.py\", line 1030, in run_step  **\n        outputs = model.train_step(data)\n    File \"c:\\Users\\acard\\.virtualenvs\\python-calcolo-numerico-5v4ihblp\\lib\\site-packages\\keras\\engine\\training.py\", line 890, in train_step\n        loss = self.compute_loss(x, y, y_pred, sample_weight)\n    File \"c:\\Users\\acard\\.virtualenvs\\python-calcolo-numerico-5v4ihblp\\lib\\site-packages\\keras\\engine\\training.py\", line 948, in compute_loss\n        return self.compiled_loss(\n    File \"c:\\Users\\acard\\.virtualenvs\\python-calcolo-numerico-5v4ihblp\\lib\\site-packages\\keras\\engine\\compile_utils.py\", line 184, in __call__\n        self.build(y_pred)\n    File \"c:\\Users\\acard\\.virtualenvs\\python-calcolo-numerico-5v4ihblp\\lib\\site-packages\\keras\\engine\\compile_utils.py\", line 133, in build\n        self._losses = tf.nest.map_structure(self._get_loss_object, self._losses)\n    File \"c:\\Users\\acard\\.virtualenvs\\python-calcolo-numerico-5v4ihblp\\lib\\site-packages\\keras\\engine\\compile_utils.py\", line 272, in _get_loss_object\n        loss = losses_mod.get(loss)\n    File \"c:\\Users\\acard\\.virtualenvs\\python-calcolo-numerico-5v4ihblp\\lib\\site-packages\\keras\\losses.py\", line 2367, in get\n        return deserialize(identifier)\n    File \"c:\\Users\\acard\\.virtualenvs\\python-calcolo-numerico-5v4ihblp\\lib\\site-packages\\keras\\losses.py\", line 2322, in deserialize\n        return deserialize_keras_object(\n    File \"c:\\Users\\acard\\.virtualenvs\\python-calcolo-numerico-5v4ihblp\\lib\\site-packages\\keras\\utils\\generic_utils.py\", line 709, in deserialize_keras_object\n        raise ValueError(\n\n    ValueError: Unknown loss function: categorical_accuracy. Please ensure this object is passed to the `custom_objects` argument. See https://www.tensorflow.org/guide/keras/save_and_serialize#registering_the_custom_object for details.\n"
     ]
    }
   ],
   "source": [
    "# modello a 64 neuroni addestrato per 20 epoche\n",
    "model = models.Sequential()\n",
    "model.add(layers.Dense(64, activation='relu', input_shape=(13,)))\n",
    "model.add(layers.Dense(1))\n",
    "model.compile(optimizer='rmsprop',\n",
    "            loss='categorical_accuracy',\n",
    "            metrics=['acc'])\n",
    "model.fit(x_train, y_train, epochs=20, batch_size=32)"
   ]
  },
  {
   "cell_type": "code",
   "execution_count": 16,
   "metadata": {},
   "outputs": [
    {
     "name": "stdout",
     "output_type": "stream",
     "text": [
      "Epoch 1/20\n",
      "13/13 [==============================] - 1s 7ms/step - loss: 228.1895 - mae: 10.8639\n",
      "Epoch 2/20\n",
      "13/13 [==============================] - 0s 8ms/step - loss: 117.3650 - mae: 8.0910\n",
      "Epoch 3/20\n",
      "13/13 [==============================] - 0s 7ms/step - loss: 82.1639 - mae: 6.9726\n",
      "Epoch 4/20\n",
      "13/13 [==============================] - 0s 7ms/step - loss: 116.0955 - mae: 8.2123\n",
      "Epoch 5/20\n",
      "13/13 [==============================] - 0s 7ms/step - loss: 73.8057 - mae: 6.3993\n",
      "Epoch 6/20\n",
      "13/13 [==============================] - 0s 7ms/step - loss: 102.9498 - mae: 7.9177\n",
      "Epoch 7/20\n",
      "13/13 [==============================] - 0s 6ms/step - loss: 101.1895 - mae: 7.8784\n",
      "Epoch 8/20\n",
      "13/13 [==============================] - 0s 7ms/step - loss: 97.0678 - mae: 7.3987\n",
      "Epoch 9/20\n",
      "13/13 [==============================] - 0s 7ms/step - loss: 93.9167 - mae: 7.3797\n",
      "Epoch 10/20\n",
      "13/13 [==============================] - 0s 7ms/step - loss: 91.4296 - mae: 7.3297\n",
      "Epoch 11/20\n",
      "13/13 [==============================] - 0s 7ms/step - loss: 63.3214 - mae: 5.7991\n",
      "Epoch 12/20\n",
      "13/13 [==============================] - 0s 7ms/step - loss: 97.3519 - mae: 7.6538\n",
      "Epoch 13/20\n",
      "13/13 [==============================] - 0s 7ms/step - loss: 89.8025 - mae: 7.4912\n",
      "Epoch 14/20\n",
      "13/13 [==============================] - 0s 7ms/step - loss: 103.7547 - mae: 7.5232\n",
      "Epoch 15/20\n",
      "13/13 [==============================] - 0s 7ms/step - loss: 68.1605 - mae: 6.1463\n",
      "Epoch 16/20\n",
      "13/13 [==============================] - 0s 7ms/step - loss: 86.4476 - mae: 7.1613\n",
      "Epoch 17/20\n",
      "13/13 [==============================] - 0s 6ms/step - loss: 88.5897 - mae: 7.1876\n",
      "Epoch 18/20\n",
      "13/13 [==============================] - 0s 6ms/step - loss: 59.1339 - mae: 5.6678\n",
      "Epoch 19/20\n",
      "13/13 [==============================] - 0s 6ms/step - loss: 103.1196 - mae: 8.0242\n",
      "Epoch 20/20\n",
      "13/13 [==============================] - 0s 7ms/step - loss: 59.8636 - mae: 5.6195\n"
     ]
    },
    {
     "data": {
      "text/plain": [
       "<keras.callbacks.History at 0x29f26e32a60>"
      ]
     },
     "execution_count": 16,
     "metadata": {},
     "output_type": "execute_result"
    }
   ],
   "source": [
    "# modello a due layer di 64 neuroni addestrato per 20 epoche\n",
    "model = models.Sequential()\n",
    "model.add(layers.Dense(64, activation='relu', input_shape=(13,)))\n",
    "model.add(layers.Dense(64, activation='relu'))\n",
    "model.add(layers.Dense(1))\n",
    "model.compile(optimizer='rmsprop',\n",
    "            loss='mse',\n",
    "            metrics=['mae'])\n",
    "\n",
    "model.fit(x_train, y_train, epochs=20, batch_size=32)"
   ]
  },
  {
   "cell_type": "code",
   "execution_count": null,
   "metadata": {},
   "outputs": [],
   "source": []
  }
 ],
 "metadata": {
  "kernelspec": {
   "display_name": "Python 3.9.13 ('python-calcolo-numerico-5v4ihblp')",
   "language": "python",
   "name": "python3"
  },
  "language_info": {
   "codemirror_mode": {
    "name": "ipython",
    "version": 3
   },
   "file_extension": ".py",
   "mimetype": "text/x-python",
   "name": "python",
   "nbconvert_exporter": "python",
   "pygments_lexer": "ipython3",
   "version": "3.9.13"
  },
  "orig_nbformat": 4,
  "vscode": {
   "interpreter": {
    "hash": "bff96ae05cbca38553397e8b82810313cdead769dbf63fb2d18b6e7c166b3c3a"
   }
  }
 },
 "nbformat": 4,
 "nbformat_minor": 2
}

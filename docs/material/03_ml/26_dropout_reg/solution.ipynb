{
 "cells": [
  {
   "cell_type": "code",
   "execution_count": 1,
   "metadata": {},
   "outputs": [],
   "source": [
    "import matplotlib.pyplot as plt\n",
    "\n",
    "from keras.preprocessing.text import Tokenizer\n",
    "from keras.datasets import imdb\n",
    "from keras import models, layers, losses, regularizers, optimizers"
   ]
  },
  {
   "cell_type": "code",
   "execution_count": 2,
   "metadata": {},
   "outputs": [],
   "source": [
    "(x_train, y_train), (x_test, y_test) = imdb.load_data()"
   ]
  },
  {
   "cell_type": "code",
   "execution_count": 3,
   "metadata": {},
   "outputs": [],
   "source": [
    "tokenizer = Tokenizer(num_words=1000)\n",
    "x_train = tokenizer.sequences_to_matrix(x_train, mode='binary')\n",
    "x_test = tokenizer.sequences_to_matrix(x_test, mode='binary')"
   ]
  },
  {
   "cell_type": "code",
   "execution_count": 4,
   "metadata": {},
   "outputs": [
    {
     "name": "stdout",
     "output_type": "stream",
     "text": [
      "Epoch 1/10\n",
      "782/782 [==============================] - 9s 10ms/step - loss: 0.3929 - acc: 0.8243 - val_loss: 0.3374 - val_acc: 0.8550\n",
      "Epoch 2/10\n",
      "782/782 [==============================] - 7s 9ms/step - loss: 0.3177 - acc: 0.8677 - val_loss: 0.3255 - val_acc: 0.8608\n",
      "Epoch 3/10\n",
      "782/782 [==============================] - 7s 9ms/step - loss: 0.3063 - acc: 0.8704 - val_loss: 0.3242 - val_acc: 0.8585\n",
      "Epoch 4/10\n",
      "782/782 [==============================] - 7s 9ms/step - loss: 0.2975 - acc: 0.8728 - val_loss: 0.3235 - val_acc: 0.8596\n",
      "Epoch 5/10\n",
      "782/782 [==============================] - 7s 9ms/step - loss: 0.2889 - acc: 0.8772 - val_loss: 0.3250 - val_acc: 0.8572\n",
      "Epoch 6/10\n",
      "782/782 [==============================] - 7s 9ms/step - loss: 0.2818 - acc: 0.8791 - val_loss: 0.3258 - val_acc: 0.8578\n",
      "Epoch 7/10\n",
      "782/782 [==============================] - 7s 8ms/step - loss: 0.2727 - acc: 0.8838 - val_loss: 0.3349 - val_acc: 0.8560\n",
      "Epoch 8/10\n",
      "782/782 [==============================] - 7s 8ms/step - loss: 0.2640 - acc: 0.8862 - val_loss: 0.3334 - val_acc: 0.8546\n",
      "Epoch 9/10\n",
      "782/782 [==============================] - 7s 8ms/step - loss: 0.2543 - acc: 0.8908 - val_loss: 0.3444 - val_acc: 0.8518\n",
      "Epoch 10/10\n",
      "782/782 [==============================] - 7s 9ms/step - loss: 0.2448 - acc: 0.8961 - val_loss: 0.3550 - val_acc: 0.8526\n"
     ]
    }
   ],
   "source": [
    "model = models.Sequential()\n",
    "model.add(\n",
    "    layers.Dense(\n",
    "        8,\n",
    "        activation='relu',\n",
    "        input_shape=(1000,),\n",
    "        name='input'))\n",
    "model.add(\n",
    "    layers.Dense(\n",
    "        8,\n",
    "        activation='relu',\n",
    "        name='dense_1'))\n",
    "model.add(\n",
    "    layers.Dense(\n",
    "        1,\n",
    "        activation='sigmoid',\n",
    "        name='classification'))\n",
    "model.compile(optimizer=optimizers.Adam(),\n",
    "            loss=losses.BinaryCrossentropy(),\n",
    "            metrics=['acc'])\n",
    "\n",
    "history=model.fit(\n",
    "    x_train,\n",
    "    y_train,\n",
    "    epochs=10,\n",
    "    batch_size=32,\n",
    "    validation_data=(x_test, y_test))"
   ]
  },
  {
   "cell_type": "code",
   "execution_count": 5,
   "metadata": {},
   "outputs": [
    {
     "name": "stdout",
     "output_type": "stream",
     "text": [
      "Epoch 1/10\n",
      "782/782 [==============================] - 6s 8ms/step - loss: 0.2336 - acc: 0.9015 - val_loss: 0.3705 - val_acc: 0.8500\n",
      "Epoch 2/10\n",
      "782/782 [==============================] - 6s 8ms/step - loss: 0.2244 - acc: 0.9051 - val_loss: 0.3765 - val_acc: 0.8477\n",
      "Epoch 3/10\n",
      "782/782 [==============================] - 6s 8ms/step - loss: 0.2153 - acc: 0.9088 - val_loss: 0.3898 - val_acc: 0.8418\n",
      "Epoch 4/10\n",
      "782/782 [==============================] - 6s 8ms/step - loss: 0.2067 - acc: 0.9128 - val_loss: 0.4169 - val_acc: 0.8392\n",
      "Epoch 5/10\n",
      "782/782 [==============================] - 6s 8ms/step - loss: 0.1982 - acc: 0.9177 - val_loss: 0.4213 - val_acc: 0.8363\n",
      "Epoch 6/10\n",
      "782/782 [==============================] - 6s 8ms/step - loss: 0.1891 - acc: 0.9211 - val_loss: 0.4428 - val_acc: 0.8361\n",
      "Epoch 7/10\n",
      "782/782 [==============================] - 7s 9ms/step - loss: 0.1810 - acc: 0.9258 - val_loss: 0.4627 - val_acc: 0.8360\n",
      "Epoch 8/10\n",
      "782/782 [==============================] - 7s 9ms/step - loss: 0.1733 - acc: 0.9308 - val_loss: 0.4747 - val_acc: 0.8298\n",
      "Epoch 9/10\n",
      "782/782 [==============================] - 6s 8ms/step - loss: 0.1649 - acc: 0.9334 - val_loss: 0.5030 - val_acc: 0.8331\n",
      "Epoch 10/10\n",
      "782/782 [==============================] - 6s 8ms/step - loss: 0.1576 - acc: 0.9391 - val_loss: 0.5208 - val_acc: 0.8314\n"
     ]
    }
   ],
   "source": [
    "model_reg = models.Sequential()\n",
    "model_reg.add(layers.Dense(\n",
    "            8,\n",
    "            activation='relu',\n",
    "            input_shape=(1000,),\n",
    "            name='input'))\n",
    "model_reg.add(layers.Dense(\n",
    "            8,\n",
    "            activation='relu',\n",
    "            kernel_regularizer=regularizers.l2(0.001),\n",
    "            name='dense_1'))\n",
    "model_reg.add(layers.Dropout(\n",
    "    0.5,\n",
    "    name='dropout_1'))\n",
    "model_reg.add(\n",
    "    layers.Dense(\n",
    "        1,\n",
    "        activation='sigmoid',\n",
    "        name='classification'))\n",
    "model_reg.compile(optimizer=optimizers.Adam(),\n",
    "            loss=losses.BinaryCrossentropy(),\n",
    "            metrics=['acc'])\n",
    "\n",
    "history_reg = model.fit(\n",
    "    x_train,\n",
    "    y_train,\n",
    "    epochs=10,\n",
    "    batch_size=32,\n",
    "    validation_data=(x_test, y_test))"
   ]
  },
  {
   "cell_type": "code",
   "execution_count": 6,
   "metadata": {},
   "outputs": [
    {
     "data": {
      "image/png": "[encoded data removed]",
      "text/plain": [
       "<Figure size 432x288 with 1 Axes>"
      ]
     },
     "metadata": {
      "needs_background": "light"
     },
     "output_type": "display_data"
    }
   ],
   "source": [
    "plt.plot(\n",
    "    range(1, 11),\n",
    "    history.history['val_acc'],\n",
    "    label='Validation accuracy (no reg)')\n",
    "plt.plot(\n",
    "    range(1, 11),\n",
    "    history_reg.history['val_acc'],\n",
    "    label='Validation accuracy (reg)')\n",
    "plt.legend()\n",
    "plt.grid()\n",
    "plt.xlabel('Training epoch')\n",
    "plt.ylabel('Accuracy (%)')\n",
    "plt.show()"
   ]
  },
  {
   "cell_type": "code",
   "execution_count": null,
   "metadata": {},
   "outputs": [],
   "source": []
  }
 ],
 "metadata": {
  "kernelspec": {
   "display_name": "Python 3.9.13 ('python-calcolo-numerico-5v4ihblp')",
   "language": "python",
   "name": "python3"
  },
  "language_info": {
   "codemirror_mode": {
    "name": "ipython",
    "version": 3
   },
   "file_extension": ".py",
   "mimetype": "text/x-python",
   "name": "python",
   "nbconvert_exporter": "python",
   "pygments_lexer": "ipython3",
   "version": "3.9.13"
  },
  "orig_nbformat": 4,
  "vscode": {
   "interpreter": {
    "hash": "bff96ae05cbca38553397e8b82810313cdead769dbf63fb2d18b6e7c166b3c3a"
   }
  }
 },
 "nbformat": 4,
 "nbformat_minor": 2
}

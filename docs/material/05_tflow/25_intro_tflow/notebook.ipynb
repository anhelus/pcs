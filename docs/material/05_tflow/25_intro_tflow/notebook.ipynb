{
 "cells": [
  {
   "cell_type": "code",
   "execution_count": 14,
   "metadata": {},
   "outputs": [],
   "source": [
    "from tensorflow import keras"
   ]
  },
  {
   "cell_type": "code",
   "execution_count": 16,
   "metadata": {},
   "outputs": [],
   "source": [
    "(x_train, y_train), (x_test, y_test) = keras.datasets.mnist.load_data(path='mnist.npz')"
   ]
  },
  {
   "cell_type": "code",
   "execution_count": 28,
   "metadata": {},
   "outputs": [
    {
     "name": "stdout",
     "output_type": "stream",
     "text": [
      "Model: \"sequential_8\"\n",
      "_________________________________________________________________\n",
      " Layer (type)                Output Shape              Param #   \n",
      "=================================================================\n",
      " layer1 (Conv2D)             (None, 26, 26, 32)        320       \n",
      "                                                                 \n",
      " flatten_8 (Flatten)         (None, 21632)             0         \n",
      "                                                                 \n",
      " classification (Dense)      (None, 10)                216330    \n",
      "                                                                 \n",
      "=================================================================\n",
      "Total params: 216,650\n",
      "Trainable params: 216,650\n",
      "Non-trainable params: 0\n",
      "_________________________________________________________________\n"
     ]
    }
   ],
   "source": [
    "model = keras.Sequential(\n",
    "    [\n",
    "        keras.Input(shape=(28, 28, 1)),\n",
    "        keras.layers.Conv2D(32, (3, 3), activation='relu', name='layer1'),\n",
    "        keras.layers.Flatten(),\n",
    "        keras.layers.Dense(10, name='classification', activation='softmax')\n",
    "    ]\n",
    ")\n",
    "model.summary()\n",
    "# model.compile(loss='categorical_crossentropy', optimizer='sgd', metrics=['accuracy'])\n",
    "# model.fit(x_train, y_train, batch_size=128, epochs=10, validation_split=0.3)"
   ]
  },
  {
   "cell_type": "code",
   "execution_count": 31,
   "metadata": {},
   "outputs": [
    {
     "name": "stdout",
     "output_type": "stream",
     "text": [
      "Epoch 1/10\n",
      "329/329 [==============================] - 12s 9ms/step - loss: 2.7518 - accuracy: 0.9066 - val_loss: 0.2267 - val_accuracy: 0.9366\n",
      "Epoch 2/10\n",
      "329/329 [==============================] - 2s 7ms/step - loss: 0.1134 - accuracy: 0.9654 - val_loss: 0.1479 - val_accuracy: 0.9605\n",
      "Epoch 3/10\n",
      "329/329 [==============================] - 2s 7ms/step - loss: 0.0780 - accuracy: 0.9756 - val_loss: 0.1371 - val_accuracy: 0.9635\n",
      "Epoch 4/10\n",
      "329/329 [==============================] - 2s 7ms/step - loss: 0.0612 - accuracy: 0.9809 - val_loss: 0.1472 - val_accuracy: 0.9652\n",
      "Epoch 5/10\n",
      "329/329 [==============================] - 2s 7ms/step - loss: 0.0484 - accuracy: 0.9845 - val_loss: 0.5269 - val_accuracy: 0.8935\n",
      "Epoch 6/10\n",
      "329/329 [==============================] - 3s 8ms/step - loss: 0.0437 - accuracy: 0.9862 - val_loss: 0.2652 - val_accuracy: 0.9483\n",
      "Epoch 7/10\n",
      "329/329 [==============================] - 2s 7ms/step - loss: 0.0297 - accuracy: 0.9901 - val_loss: 0.2752 - val_accuracy: 0.9422\n",
      "Epoch 8/10\n",
      "329/329 [==============================] - 3s 8ms/step - loss: 0.0236 - accuracy: 0.9923 - val_loss: 0.5052 - val_accuracy: 0.9226\n",
      "Epoch 9/10\n",
      "329/329 [==============================] - 2s 7ms/step - loss: 0.0227 - accuracy: 0.9929 - val_loss: 0.7848 - val_accuracy: 0.8589\n",
      "Epoch 10/10\n",
      "329/329 [==============================] - 3s 8ms/step - loss: 0.0239 - accuracy: 0.9922 - val_loss: 0.1928 - val_accuracy: 0.9643\n"
     ]
    },
    {
     "data": {
      "text/plain": [
       "<keras.callbacks.History at 0x23185f4ad90>"
      ]
     },
     "execution_count": 31,
     "metadata": {},
     "output_type": "execute_result"
    }
   ],
   "source": [
    "model.compile(loss='sparse_categorical_crossentropy', optimizer='sgd', metrics=['accuracy'])\n",
    "model.fit(x_train, y_train, batch_size=128, epochs=10, validation_split=0.3)"
   ]
  },
  {
   "cell_type": "code",
   "execution_count": 32,
   "metadata": {},
   "outputs": [],
   "source": [
    "# nota su categorical crossentropy: https://datascience.stackexchange.com/questions/41921/sparse-categorical-crossentropy-vs-categorical-crossentropy-keras-accuracy"
   ]
  },
  {
   "cell_type": "code",
   "execution_count": null,
   "metadata": {},
   "outputs": [],
   "source": []
  },
  {
   "cell_type": "code",
   "execution_count": 34,
   "metadata": {},
   "outputs": [
    {
     "data": {
      "image/png": "[encoded data removed]",
      "text/plain": [
       "<Figure size 432x288 with 1 Axes>"
      ]
     },
     "metadata": {
      "needs_background": "light"
     },
     "output_type": "display_data"
    }
   ],
   "source": [
    "import matplotlib.pyplot as plt\n",
    "x = [-5, -4, -3, -2, -1, 0, 1, 2, 3, 4, 5]\n",
    "y = [0, 0, 0, 0, 0, 0, 1, 2, 3, 4, 5]\n",
    "plt.plot(x, y)\n",
    "plt.grid()\n",
    "plt.xlabel('$x$')\n",
    "plt.ylabel('$y$')\n",
    "plt.savefig('relu.png', dpi=600)"
   ]
  },
  {
   "cell_type": "code",
   "execution_count": null,
   "metadata": {},
   "outputs": [],
   "source": []
  }
 ],
 "metadata": {
  "kernelspec": {
   "display_name": "Python 3.9.13 ('python-calcolo-numerico-5v4ihblp')",
   "language": "python",
   "name": "python3"
  },
  "language_info": {
   "codemirror_mode": {
    "name": "ipython",
    "version": 3
   },
   "file_extension": ".py",
   "mimetype": "text/x-python",
   "name": "python",
   "nbconvert_exporter": "python",
   "pygments_lexer": "ipython3",
   "version": "3.9.13"
  },
  "orig_nbformat": 4,
  "vscode": {
   "interpreter": {
    "hash": "bff96ae05cbca38553397e8b82810313cdead769dbf63fb2d18b6e7c166b3c3a"
   }
  }
 },
 "nbformat": 4,
 "nbformat_minor": 2
}

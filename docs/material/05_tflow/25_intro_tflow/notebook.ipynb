{
 "cells": [
  {
   "cell_type": "code",
   "execution_count": 1,
   "metadata": {},
   "outputs": [],
   "source": [
    "import numpy as np\n",
    "\n",
    "from tensorflow import keras\n",
    "from keras.preprocessing.text import Tokenizer\n",
    "from keras.datasets import reuters, boston_housing\n",
    "from keras import models, layers\n",
    "from keras.utils import to_categorical"
   ]
  },
  {
   "cell_type": "code",
   "execution_count": 2,
   "metadata": {},
   "outputs": [],
   "source": [
    "(x_train, y_train), (x_test, y_test) = reuters.load_data()"
   ]
  },
  {
   "cell_type": "code",
   "execution_count": 3,
   "metadata": {},
   "outputs": [],
   "source": [
    "num_classes = np.amax(y_train) + 1          # Usato per garantire coerenza tra y_train ed y_test\n",
    "tokenizer = Tokenizer(num_words=1000)\n",
    "x_train = tokenizer.sequences_to_matrix(x_train, mode='binary')\n",
    "x_test = tokenizer.sequences_to_matrix(x_test, mode='binary')\n",
    "y_train = to_categorical(y_train, num_classes)\n",
    "y_test = to_categorical(y_test, num_classes)"
   ]
  },
  {
   "cell_type": "code",
   "execution_count": 4,
   "metadata": {},
   "outputs": [
    {
     "name": "stdout",
     "output_type": "stream",
     "text": [
      "Model: \"sequential\"\n",
      "_________________________________________________________________\n",
      " Layer (type)                Output Shape              Param #   \n",
      "=================================================================\n",
      " dense (Dense)               (None, 8)                 8008      \n",
      "                                                                 \n",
      " dense_1 (Dense)             (None, 46)                414       \n",
      "                                                                 \n",
      "=================================================================\n",
      "Total params: 8,422\n",
      "Trainable params: 8,422\n",
      "Non-trainable params: 0\n",
      "_________________________________________________________________\n"
     ]
    }
   ],
   "source": [
    "# Modello ad un layer con 8 neuroni\n",
    "model = models.Sequential()\n",
    "model.add(layers.Dense(8, activation='relu', input_shape=(1000,)))\n",
    "model.add(layers.Dense(num_classes, activation='softmax'))\n",
    "model.summary()"
   ]
  },
  {
   "cell_type": "code",
   "execution_count": 5,
   "metadata": {},
   "outputs": [
    {
     "name": "stdout",
     "output_type": "stream",
     "text": [
      "Epoch 1/10\n",
      "281/281 [==============================] - 3s 5ms/step - loss: 2.4046 - acc: 0.4666\n",
      "Epoch 2/10\n",
      "281/281 [==============================] - 1s 5ms/step - loss: 1.4877 - acc: 0.6405\n",
      "Epoch 3/10\n",
      "281/281 [==============================] - 1s 5ms/step - loss: 1.2175 - acc: 0.7206\n",
      "Epoch 4/10\n",
      "281/281 [==============================] - 1s 5ms/step - loss: 1.0763 - acc: 0.7509\n",
      "Epoch 5/10\n",
      "281/281 [==============================] - 1s 5ms/step - loss: 0.9858 - acc: 0.7711\n",
      "Epoch 6/10\n",
      "281/281 [==============================] - 1s 5ms/step - loss: 0.9173 - acc: 0.7880\n",
      "Epoch 7/10\n",
      "281/281 [==============================] - 2s 5ms/step - loss: 0.8618 - acc: 0.7994\n",
      "Epoch 8/10\n",
      "281/281 [==============================] - 1s 5ms/step - loss: 0.8149 - acc: 0.8085\n",
      "Epoch 9/10\n",
      "281/281 [==============================] - 1s 5ms/step - loss: 0.7751 - acc: 0.8172\n",
      "Epoch 10/10\n",
      "281/281 [==============================] - 1s 5ms/step - loss: 0.7397 - acc: 0.8238\n"
     ]
    },
    {
     "data": {
      "text/plain": [
       "<keras.callbacks.History at 0x29f28644b80>"
      ]
     },
     "execution_count": 5,
     "metadata": {},
     "output_type": "execute_result"
    }
   ],
   "source": [
    "model.compile(optimizer='adam',\n",
    "            loss='categorical_crossentropy',\n",
    "            metrics=['acc'])\n",
    "\n",
    "model.fit(x_train, y_train, epochs=10, batch_size=32)"
   ]
  },
  {
   "cell_type": "code",
   "execution_count": 6,
   "metadata": {},
   "outputs": [
    {
     "name": "stdout",
     "output_type": "stream",
     "text": [
      "Model: \"sequential_1\"\n",
      "_________________________________________________________________\n",
      " Layer (type)                Output Shape              Param #   \n",
      "=================================================================\n",
      " dense_2 (Dense)             (None, 8)                 8008      \n",
      "                                                                 \n",
      " dense_3 (Dense)             (None, 8)                 72        \n",
      "                                                                 \n",
      " dense_4 (Dense)             (None, 46)                414       \n",
      "                                                                 \n",
      "=================================================================\n",
      "Total params: 8,494\n",
      "Trainable params: 8,494\n",
      "Non-trainable params: 0\n",
      "_________________________________________________________________\n"
     ]
    }
   ],
   "source": [
    "# modello a due layer con otto neuroni\n",
    "model = models.Sequential()\n",
    "model.add(layers.Dense(8, activation='relu', input_shape=(1000,)))\n",
    "model.add(layers.Dense(8, activation='relu'))\n",
    "model.add(layers.Dense(num_classes, activation='softmax'))\n",
    "model.summary()"
   ]
  },
  {
   "cell_type": "code",
   "execution_count": 7,
   "metadata": {},
   "outputs": [
    {
     "name": "stdout",
     "output_type": "stream",
     "text": [
      "Epoch 1/10\n",
      "281/281 [==============================] - 2s 6ms/step - loss: 2.4392 - acc: 0.4048\n",
      "Epoch 2/10\n",
      "281/281 [==============================] - 2s 5ms/step - loss: 1.5332 - acc: 0.6156\n",
      "Epoch 3/10\n",
      "281/281 [==============================] - 2s 5ms/step - loss: 1.3380 - acc: 0.6620\n",
      "Epoch 4/10\n",
      "281/281 [==============================] - 2s 5ms/step - loss: 1.2101 - acc: 0.7008\n",
      "Epoch 5/10\n",
      "281/281 [==============================] - 2s 5ms/step - loss: 1.1143 - acc: 0.7259\n",
      "Epoch 6/10\n",
      "281/281 [==============================] - 2s 6ms/step - loss: 1.0360 - acc: 0.7447\n",
      "Epoch 7/10\n",
      "281/281 [==============================] - 2s 5ms/step - loss: 0.9695 - acc: 0.7642\n",
      "Epoch 8/10\n",
      "281/281 [==============================] - 2s 6ms/step - loss: 0.9139 - acc: 0.7790\n",
      "Epoch 9/10\n",
      "281/281 [==============================] - 1s 5ms/step - loss: 0.8626 - acc: 0.7921\n",
      "Epoch 10/10\n",
      "281/281 [==============================] - 2s 6ms/step - loss: 0.8231 - acc: 0.8019\n"
     ]
    },
    {
     "data": {
      "text/plain": [
       "<keras.callbacks.History at 0x29f263d1a00>"
      ]
     },
     "execution_count": 7,
     "metadata": {},
     "output_type": "execute_result"
    }
   ],
   "source": [
    "model.compile(optimizer='adam',\n",
    "            loss='categorical_crossentropy',\n",
    "            metrics=['acc'])\n",
    "\n",
    "model.fit(x_train, y_train, epochs=10, batch_size=32)"
   ]
  },
  {
   "cell_type": "code",
   "execution_count": 8,
   "metadata": {},
   "outputs": [
    {
     "name": "stdout",
     "output_type": "stream",
     "text": [
      "Model: \"sequential_2\"\n",
      "_________________________________________________________________\n",
      " Layer (type)                Output Shape              Param #   \n",
      "=================================================================\n",
      " dense_5 (Dense)             (None, 16)                16016     \n",
      "                                                                 \n",
      " dense_6 (Dense)             (None, 16)                272       \n",
      "                                                                 \n",
      " dense_7 (Dense)             (None, 46)                782       \n",
      "                                                                 \n",
      "=================================================================\n",
      "Total params: 17,070\n",
      "Trainable params: 17,070\n",
      "Non-trainable params: 0\n",
      "_________________________________________________________________\n"
     ]
    }
   ],
   "source": [
    "# modello a due layer con sedici neuroni\n",
    "model = models.Sequential()\n",
    "model.add(layers.Dense(16, activation='relu', input_shape=(1000,)))\n",
    "model.add(layers.Dense(16, activation='relu'))\n",
    "model.add(layers.Dense(num_classes, activation='softmax'))\n",
    "model.summary()"
   ]
  },
  {
   "cell_type": "code",
   "execution_count": 9,
   "metadata": {},
   "outputs": [
    {
     "name": "stdout",
     "output_type": "stream",
     "text": [
      "Epoch 1/10\n",
      "281/281 [==============================] - 2s 6ms/step - loss: 2.1854 - acc: 0.5132\n",
      "Epoch 2/10\n",
      "281/281 [==============================] - 2s 6ms/step - loss: 1.3017 - acc: 0.7090\n",
      "Epoch 3/10\n",
      "281/281 [==============================] - 2s 5ms/step - loss: 1.1160 - acc: 0.7454\n",
      "Epoch 4/10\n",
      "281/281 [==============================] - 2s 6ms/step - loss: 0.9863 - acc: 0.7711\n",
      "Epoch 5/10\n",
      "281/281 [==============================] - 2s 6ms/step - loss: 0.8822 - acc: 0.7915\n",
      "Epoch 6/10\n",
      "281/281 [==============================] - 2s 6ms/step - loss: 0.7902 - acc: 0.8115\n",
      "Epoch 7/10\n",
      "281/281 [==============================] - 2s 6ms/step - loss: 0.7072 - acc: 0.8289\n",
      "Epoch 8/10\n",
      "281/281 [==============================] - 2s 5ms/step - loss: 0.6400 - acc: 0.8424\n",
      "Epoch 9/10\n",
      "281/281 [==============================] - 2s 5ms/step - loss: 0.5847 - acc: 0.8582\n",
      "Epoch 10/10\n",
      "281/281 [==============================] - 2s 5ms/step - loss: 0.5399 - acc: 0.8696\n"
     ]
    },
    {
     "data": {
      "text/plain": [
       "<keras.callbacks.History at 0x29f2609c100>"
      ]
     },
     "execution_count": 9,
     "metadata": {},
     "output_type": "execute_result"
    }
   ],
   "source": [
    "model.compile(optimizer='adam',\n",
    "            loss='categorical_crossentropy',\n",
    "            metrics=['acc'])\n",
    "\n",
    "model.fit(x_train, y_train, epochs=10, batch_size=32)"
   ]
  },
  {
   "cell_type": "code",
   "execution_count": 10,
   "metadata": {},
   "outputs": [
    {
     "name": "stdout",
     "output_type": "stream",
     "text": [
      "Model: \"sequential_3\"\n",
      "_________________________________________________________________\n",
      " Layer (type)                Output Shape              Param #   \n",
      "=================================================================\n",
      " dense_8 (Dense)             (None, 32)                32032     \n",
      "                                                                 \n",
      " dense_9 (Dense)             (None, 46)                1518      \n",
      "                                                                 \n",
      "=================================================================\n",
      "Total params: 33,550\n",
      "Trainable params: 33,550\n",
      "Non-trainable params: 0\n",
      "_________________________________________________________________\n"
     ]
    }
   ],
   "source": [
    "# modello ad un layer con 32 neuroni\n",
    "model = models.Sequential()\n",
    "model.add(layers.Dense(32, activation='relu', input_shape=(1000,)))\n",
    "model.add(layers.Dense(num_classes, activation='softmax'))\n",
    "model.summary()"
   ]
  },
  {
   "cell_type": "code",
   "execution_count": 11,
   "metadata": {},
   "outputs": [
    {
     "name": "stdout",
     "output_type": "stream",
     "text": [
      "Epoch 1/10\n",
      "281/281 [==============================] - 2s 5ms/step - loss: 1.7964 - acc: 0.6150\n",
      "Epoch 2/10\n",
      "281/281 [==============================] - 1s 5ms/step - loss: 1.0640 - acc: 0.7656\n",
      "Epoch 3/10\n",
      "281/281 [==============================] - 1s 5ms/step - loss: 0.8381 - acc: 0.8100\n",
      "Epoch 4/10\n",
      "281/281 [==============================] - 1s 5ms/step - loss: 0.6850 - acc: 0.8435\n",
      "Epoch 5/10\n",
      "281/281 [==============================] - 1s 5ms/step - loss: 0.5791 - acc: 0.8674\n",
      "Epoch 6/10\n",
      "281/281 [==============================] - 1s 5ms/step - loss: 0.4989 - acc: 0.8848\n",
      "Epoch 7/10\n",
      "281/281 [==============================] - 1s 5ms/step - loss: 0.4341 - acc: 0.9014\n",
      "Epoch 8/10\n",
      "281/281 [==============================] - 1s 5ms/step - loss: 0.3860 - acc: 0.9108\n",
      "Epoch 9/10\n",
      "281/281 [==============================] - 1s 5ms/step - loss: 0.3477 - acc: 0.9198\n",
      "Epoch 10/10\n",
      "281/281 [==============================] - 1s 5ms/step - loss: 0.3130 - acc: 0.9281\n"
     ]
    },
    {
     "data": {
      "text/plain": [
       "<keras.callbacks.History at 0x29f269b7610>"
      ]
     },
     "execution_count": 11,
     "metadata": {},
     "output_type": "execute_result"
    }
   ],
   "source": [
    "model.compile(optimizer='adam',\n",
    "            loss='categorical_crossentropy',\n",
    "            metrics=['acc'])\n",
    "\n",
    "model.fit(x_train, y_train, epochs=10, batch_size=32)"
   ]
  },
  {
   "cell_type": "markdown",
   "metadata": {},
   "source": [
    "# Parte 2: regressione (Boston Housing)"
   ]
  },
  {
   "cell_type": "code",
   "execution_count": 12,
   "metadata": {},
   "outputs": [],
   "source": [
    "(x_train, y_train), (x_test, y_test) = boston_housing.load_data()"
   ]
  },
  {
   "cell_type": "code",
   "execution_count": 13,
   "metadata": {},
   "outputs": [
    {
     "name": "stdout",
     "output_type": "stream",
     "text": [
      "Epoch 1/10\n",
      "13/13 [==============================] - 1s 6ms/step - loss: 405.8505 - mae: 14.6613\n",
      "Epoch 2/10\n",
      "13/13 [==============================] - 0s 7ms/step - loss: 105.3326 - mae: 7.9406\n",
      "Epoch 3/10\n",
      "13/13 [==============================] - 0s 6ms/step - loss: 91.6022 - mae: 7.2105\n",
      "Epoch 4/10\n",
      "13/13 [==============================] - 0s 7ms/step - loss: 86.8717 - mae: 6.8718\n",
      "Epoch 5/10\n",
      "13/13 [==============================] - 0s 6ms/step - loss: 83.1518 - mae: 6.5980\n",
      "Epoch 6/10\n",
      "13/13 [==============================] - 0s 6ms/step - loss: 80.6031 - mae: 6.5584\n",
      "Epoch 7/10\n",
      "13/13 [==============================] - 0s 6ms/step - loss: 79.5700 - mae: 6.5017\n",
      "Epoch 8/10\n",
      "13/13 [==============================] - 0s 6ms/step - loss: 76.8411 - mae: 6.3580\n",
      "Epoch 9/10\n",
      "13/13 [==============================] - 0s 6ms/step - loss: 75.4327 - mae: 6.2557\n",
      "Epoch 10/10\n",
      "13/13 [==============================] - 0s 6ms/step - loss: 72.3642 - mae: 6.0561\n"
     ]
    },
    {
     "data": {
      "text/plain": [
       "<keras.callbacks.History at 0x29f26c51190>"
      ]
     },
     "execution_count": 13,
     "metadata": {},
     "output_type": "execute_result"
    }
   ],
   "source": [
    "# modello a 32 neuroni addestrato per 10 epoche\n",
    "model = models.Sequential()\n",
    "model.add(layers.Dense(32, activation='relu', input_shape=(13,)))\n",
    "model.add(layers.Dense(1))\n",
    "model.compile(optimizer='rmsprop',\n",
    "            loss='mse',\n",
    "            metrics=['mae'])\n",
    "model.fit(x_train, y_train, epochs=10, batch_size=32)"
   ]
  },
  {
   "cell_type": "code",
   "execution_count": 14,
   "metadata": {},
   "outputs": [
    {
     "name": "stdout",
     "output_type": "stream",
     "text": [
      "Epoch 1/20\n",
      "13/13 [==============================] - 1s 6ms/step - loss: 714.9415 - mae: 16.1847\n",
      "Epoch 2/20\n",
      "13/13 [==============================] - 0s 6ms/step - loss: 322.5936 - mae: 11.3962\n",
      "Epoch 3/20\n",
      "13/13 [==============================] - 0s 6ms/step - loss: 221.7628 - mae: 10.0135\n",
      "Epoch 4/20\n",
      "13/13 [==============================] - 0s 8ms/step - loss: 160.9852 - mae: 8.7637\n",
      "Epoch 5/20\n",
      "13/13 [==============================] - 0s 6ms/step - loss: 122.4544 - mae: 8.0564\n",
      "Epoch 6/20\n",
      "13/13 [==============================] - 0s 6ms/step - loss: 101.3146 - mae: 7.3483\n",
      "Epoch 7/20\n",
      "13/13 [==============================] - 0s 6ms/step - loss: 85.4580 - mae: 6.7451\n",
      "Epoch 8/20\n",
      "13/13 [==============================] - 0s 6ms/step - loss: 81.1537 - mae: 6.5336\n",
      "Epoch 9/20\n",
      "13/13 [==============================] - 0s 6ms/step - loss: 78.2319 - mae: 6.4387\n",
      "Epoch 10/20\n",
      "13/13 [==============================] - 0s 6ms/step - loss: 66.5884 - mae: 6.0045\n",
      "Epoch 11/20\n",
      "13/13 [==============================] - 0s 7ms/step - loss: 70.0134 - mae: 6.0167\n",
      "Epoch 12/20\n",
      "13/13 [==============================] - 0s 6ms/step - loss: 67.2710 - mae: 5.8263\n",
      "Epoch 13/20\n",
      "13/13 [==============================] - 0s 6ms/step - loss: 70.5963 - mae: 6.0039\n",
      "Epoch 14/20\n",
      "13/13 [==============================] - 0s 6ms/step - loss: 56.7218 - mae: 5.3870\n",
      "Epoch 15/20\n",
      "13/13 [==============================] - 0s 6ms/step - loss: 66.5555 - mae: 5.9466\n",
      "Epoch 16/20\n",
      "13/13 [==============================] - 0s 6ms/step - loss: 52.4934 - mae: 5.1993\n",
      "Epoch 17/20\n",
      "13/13 [==============================] - 0s 6ms/step - loss: 67.2282 - mae: 5.9738\n",
      "Epoch 18/20\n",
      "13/13 [==============================] - 0s 6ms/step - loss: 52.5792 - mae: 5.2224\n",
      "Epoch 19/20\n",
      "13/13 [==============================] - 0s 6ms/step - loss: 58.4321 - mae: 5.4050\n",
      "Epoch 20/20\n",
      "13/13 [==============================] - 0s 6ms/step - loss: 59.1926 - mae: 5.5381\n"
     ]
    },
    {
     "data": {
      "text/plain": [
       "<keras.callbacks.History at 0x29f264f0760>"
      ]
     },
     "execution_count": 14,
     "metadata": {},
     "output_type": "execute_result"
    }
   ],
   "source": [
    "# modello a 32 neuroni addestrato per 20 epoche\n",
    "model = models.Sequential()\n",
    "model.add(layers.Dense(32, activation='relu', input_shape=(13,)))\n",
    "model.add(layers.Dense(1))\n",
    "model.compile(optimizer='rmsprop',\n",
    "            loss='mse',\n",
    "            metrics=['mae'])\n",
    "model.fit(x_train, y_train, epochs=20, batch_size=32)"
   ]
  },
  {
   "cell_type": "code",
   "execution_count": 15,
   "metadata": {},
   "outputs": [
    {
     "name": "stdout",
     "output_type": "stream",
     "text": [
      "Epoch 1/20\n",
      "13/13 [==============================] - 1s 6ms/step - loss: 1154.4978 - mae: 26.8493\n",
      "Epoch 2/20\n",
      "13/13 [==============================] - 0s 6ms/step - loss: 140.0375 - mae: 8.5722\n",
      "Epoch 3/20\n",
      "13/13 [==============================] - 0s 7ms/step - loss: 97.4206 - mae: 6.8097\n",
      "Epoch 4/20\n",
      "13/13 [==============================] - 0s 6ms/step - loss: 89.6727 - mae: 6.6977\n",
      "Epoch 5/20\n",
      "13/13 [==============================] - 0s 6ms/step - loss: 84.1487 - mae: 6.5804\n",
      "Epoch 6/20\n",
      "13/13 [==============================] - 0s 6ms/step - loss: 84.8745 - mae: 6.7557\n",
      "Epoch 7/20\n",
      "13/13 [==============================] - 0s 6ms/step - loss: 77.8861 - mae: 6.4830\n",
      "Epoch 8/20\n",
      "13/13 [==============================] - 0s 6ms/step - loss: 80.5051 - mae: 6.4909\n",
      "Epoch 9/20\n",
      "13/13 [==============================] - 0s 6ms/step - loss: 68.2355 - mae: 5.8255\n",
      "Epoch 10/20\n",
      "13/13 [==============================] - 0s 8ms/step - loss: 81.1159 - mae: 6.4359\n",
      "Epoch 11/20\n",
      "13/13 [==============================] - 0s 7ms/step - loss: 70.2639 - mae: 5.8596\n",
      "Epoch 12/20\n",
      "13/13 [==============================] - 0s 6ms/step - loss: 70.4387 - mae: 5.8942\n",
      "Epoch 13/20\n",
      "13/13 [==============================] - 0s 6ms/step - loss: 64.1813 - mae: 5.7273\n",
      "Epoch 14/20\n",
      "13/13 [==============================] - 0s 6ms/step - loss: 63.2786 - mae: 5.6456\n",
      "Epoch 15/20\n",
      "13/13 [==============================] - 0s 6ms/step - loss: 65.4407 - mae: 5.8772\n",
      "Epoch 16/20\n",
      "13/13 [==============================] - 0s 6ms/step - loss: 64.8146 - mae: 5.7480\n",
      "Epoch 17/20\n",
      "13/13 [==============================] - 0s 6ms/step - loss: 58.1807 - mae: 5.5097\n",
      "Epoch 18/20\n",
      "13/13 [==============================] - 0s 5ms/step - loss: 57.0644 - mae: 5.4524\n",
      "Epoch 19/20\n",
      "13/13 [==============================] - 0s 6ms/step - loss: 59.2988 - mae: 5.6764\n",
      "Epoch 20/20\n",
      "13/13 [==============================] - 0s 5ms/step - loss: 59.6480 - mae: 5.7275\n"
     ]
    },
    {
     "data": {
      "text/plain": [
       "<keras.callbacks.History at 0x29f264dac10>"
      ]
     },
     "execution_count": 15,
     "metadata": {},
     "output_type": "execute_result"
    }
   ],
   "source": [
    "# modello a 64 neuroni addestrato per 20 epoche\n",
    "model = models.Sequential()\n",
    "model.add(layers.Dense(64, activation='relu', input_shape=(13,)))\n",
    "model.add(layers.Dense(1))\n",
    "model.compile(optimizer='rmsprop',\n",
    "            loss='mse',\n",
    "            metrics=['mae'])\n",
    "model.fit(x_train, y_train, epochs=20, batch_size=32)"
   ]
  },
  {
   "cell_type": "code",
   "execution_count": 16,
   "metadata": {},
   "outputs": [
    {
     "name": "stdout",
     "output_type": "stream",
     "text": [
      "Epoch 1/20\n",
      "13/13 [==============================] - 1s 7ms/step - loss: 228.1895 - mae: 10.8639\n",
      "Epoch 2/20\n",
      "13/13 [==============================] - 0s 8ms/step - loss: 117.3650 - mae: 8.0910\n",
      "Epoch 3/20\n",
      "13/13 [==============================] - 0s 7ms/step - loss: 82.1639 - mae: 6.9726\n",
      "Epoch 4/20\n",
      "13/13 [==============================] - 0s 7ms/step - loss: 116.0955 - mae: 8.2123\n",
      "Epoch 5/20\n",
      "13/13 [==============================] - 0s 7ms/step - loss: 73.8057 - mae: 6.3993\n",
      "Epoch 6/20\n",
      "13/13 [==============================] - 0s 7ms/step - loss: 102.9498 - mae: 7.9177\n",
      "Epoch 7/20\n",
      "13/13 [==============================] - 0s 6ms/step - loss: 101.1895 - mae: 7.8784\n",
      "Epoch 8/20\n",
      "13/13 [==============================] - 0s 7ms/step - loss: 97.0678 - mae: 7.3987\n",
      "Epoch 9/20\n",
      "13/13 [==============================] - 0s 7ms/step - loss: 93.9167 - mae: 7.3797\n",
      "Epoch 10/20\n",
      "13/13 [==============================] - 0s 7ms/step - loss: 91.4296 - mae: 7.3297\n",
      "Epoch 11/20\n",
      "13/13 [==============================] - 0s 7ms/step - loss: 63.3214 - mae: 5.7991\n",
      "Epoch 12/20\n",
      "13/13 [==============================] - 0s 7ms/step - loss: 97.3519 - mae: 7.6538\n",
      "Epoch 13/20\n",
      "13/13 [==============================] - 0s 7ms/step - loss: 89.8025 - mae: 7.4912\n",
      "Epoch 14/20\n",
      "13/13 [==============================] - 0s 7ms/step - loss: 103.7547 - mae: 7.5232\n",
      "Epoch 15/20\n",
      "13/13 [==============================] - 0s 7ms/step - loss: 68.1605 - mae: 6.1463\n",
      "Epoch 16/20\n",
      "13/13 [==============================] - 0s 7ms/step - loss: 86.4476 - mae: 7.1613\n",
      "Epoch 17/20\n",
      "13/13 [==============================] - 0s 6ms/step - loss: 88.5897 - mae: 7.1876\n",
      "Epoch 18/20\n",
      "13/13 [==============================] - 0s 6ms/step - loss: 59.1339 - mae: 5.6678\n",
      "Epoch 19/20\n",
      "13/13 [==============================] - 0s 6ms/step - loss: 103.1196 - mae: 8.0242\n",
      "Epoch 20/20\n",
      "13/13 [==============================] - 0s 7ms/step - loss: 59.8636 - mae: 5.6195\n"
     ]
    },
    {
     "data": {
      "text/plain": [
       "<keras.callbacks.History at 0x29f26e32a60>"
      ]
     },
     "execution_count": 16,
     "metadata": {},
     "output_type": "execute_result"
    }
   ],
   "source": [
    "# modello a due layer di 64 neuroni addestrato per 20 epoche\n",
    "model = models.Sequential()\n",
    "model.add(layers.Dense(64, activation='relu', input_shape=(13,)))\n",
    "model.add(layers.Dense(64, activation='relu'))\n",
    "model.add(layers.Dense(1))\n",
    "model.compile(optimizer='rmsprop',\n",
    "            loss='mse',\n",
    "            metrics=['mae'])\n",
    "\n",
    "model.fit(x_train, y_train, epochs=20, batch_size=32)"
   ]
  },
  {
   "cell_type": "code",
   "execution_count": null,
   "metadata": {},
   "outputs": [],
   "source": []
  }
 ],
 "metadata": {
  "kernelspec": {
   "display_name": "Python 3.9.13 ('python-calcolo-numerico-5v4ihblp')",
   "language": "python",
   "name": "python3"
  },
  "language_info": {
   "codemirror_mode": {
    "name": "ipython",
    "version": 3
   },
   "file_extension": ".py",
   "mimetype": "text/x-python",
   "name": "python",
   "nbconvert_exporter": "python",
   "pygments_lexer": "ipython3",
   "version": "3.9.13"
  },
  "orig_nbformat": 4,
  "vscode": {
   "interpreter": {
    "hash": "bff96ae05cbca38553397e8b82810313cdead769dbf63fb2d18b6e7c166b3c3a"
   }
  }
 },
 "nbformat": 4,
 "nbformat_minor": 2
}

{
 "cells": [
  {
   "cell_type": "code",
   "execution_count": 1,
   "metadata": {},
   "outputs": [],
   "source": [
    "import numpy as np\n",
    "import numpy.polynomial.polynomial as poly"
   ]
  },
  {
   "cell_type": "markdown",
   "metadata": {},
   "source": [
    "Per effettuare un'**addizione** tra polinomi, usiamo la funzione `polyadd`. Proviamo a considerare:\n",
    "\n",
    "$$\n",
    "\\begin{cases}\n",
    "c_1 = 2x + 1 \\\\\n",
    "c_2 = x^2 + 3x + 2 \\\\\n",
    "c_3 = x^2 + x\n",
    "\\end{cases}\n",
    "$$\n",
    "\n",
    "Allora:"
   ]
  },
  {
   "cell_type": "code",
   "execution_count": 2,
   "metadata": {},
   "outputs": [
    {
     "name": "stdout",
     "output_type": "stream",
     "text": [
      "Somma di c1 e c2:\n",
      "    2\n",
      "3 x + 4 x + 2 \n",
      "Somma di c1 e c3:\n",
      "  \n",
      "3 x + 2\n"
     ]
    }
   ],
   "source": [
    "c1 = np.poly1d((0, 2, 1))\n",
    "c2 = np.poly1d((1, 3, 2))\n",
    "c3 = np.poly1d((1, 1, 0))\n",
    "p1 = poly.polyadd(c1, c2)\n",
    "p2 = poly.polyadd(c1, c3)\n",
    "\n",
    "print('Somma di c1 e c2:\\n', np.poly1d(p1), '\\nSomma di c1 e c3:\\n', np.poly1d(p2))"
   ]
  },
  {
   "cell_type": "markdown",
   "metadata": {},
   "source": [
    "I risultati sono coerenti con quanto ci aspettiamo, giacché:\n",
    "\n",
    "$$\n",
    "\\begin{cases}\n",
    "p_1 = x^2 + 5x + 3 \\\\\n",
    "p_2 = x^2 + 3x + 1\n",
    "\\end{cases}\n",
    "$$\n",
    "\n",
    "Per **sottrarre** due polinomi:"
   ]
  },
  {
   "cell_type": "code",
   "execution_count": 3,
   "metadata": {},
   "outputs": [
    {
     "name": "stdout",
     "output_type": "stream",
     "text": [
      "Sottrazione di c1 a c2:\n",
      "     2\n",
      "-1 x + 2 x + 2\n"
     ]
    }
   ],
   "source": [
    "print('Sottrazione di c1 a c2:\\n', np.poly1d(poly.polysub(c2, c1)))"
   ]
  },
  {
   "cell_type": "markdown",
   "metadata": {},
   "source": [
    "Per **moltiplicare** e **dividere** due polinomi:"
   ]
  },
  {
   "cell_type": "code",
   "execution_count": 4,
   "metadata": {},
   "outputs": [
    {
     "name": "stdout",
     "output_type": "stream",
     "text": [
      "Prodotto tra c1 e c3:\n",
      "    2\n",
      "1 x + 3 x + 2 \n",
      "Quoziente tra c3 e c1:\n",
      "  \n",
      "-1 \n",
      "Resto tra c3 e c1:\n",
      "  \n",
      "1\n"
     ]
    }
   ],
   "source": [
    "p_mul = poly.polymul(c1, c3)[-1::-1]\n",
    "p_div = poly.polydiv(c3, c1)[-1::-1]\n",
    "print(\n",
    "    'Prodotto tra c1 e c3:\\n',\n",
    "    np.poly1d(p_mul),\n",
    "    '\\nQuoziente tra c3 e c1:\\n',\n",
    "    np.poly1d(p_div[0]),\n",
    "    '\\nResto tra c3 e c1:\\n',\n",
    "    np.poly1d(p_div[1]))"
   ]
  },
  {
   "cell_type": "markdown",
   "metadata": {},
   "source": [
    "Infine, per **elevare a potenza** un polinomio:"
   ]
  },
  {
   "cell_type": "code",
   "execution_count": 5,
   "metadata": {},
   "outputs": [
    {
     "name": "stdout",
     "output_type": "stream",
     "text": [
      "c1 al quadrato è pari a:\n",
      "    2\n",
      "1 x + 4 x + 4\n"
     ]
    }
   ],
   "source": [
    "p_pow = poly.polypow(c1, 2)[-1::-1]\n",
    "print('c1 al quadrato è pari a:\\n', np.poly1d(p_pow))"
   ]
  },
  {
   "cell_type": "markdown",
   "metadata": {},
   "source": [
    "Valutiamo i valori assunti dal polinomio `c1` in $0, 1, 2$:"
   ]
  },
  {
   "cell_type": "code",
   "execution_count": 6,
   "metadata": {},
   "outputs": [
    {
     "name": "stdout",
     "output_type": "stream",
     "text": [
      "Per x = 0, c1 vale: 2.0 \n",
      "Per x = 1, c1 vale: 3.0 \n",
      "Per x = 2, c1 vale: 4.0\n"
     ]
    }
   ],
   "source": [
    "vals = poly.polyval([0, 1, 2], c1)\n",
    "\n",
    "print(\n",
    "    'Per x = 0, c1 vale:', vals[0],\n",
    "    '\\nPer x = 1, c1 vale:', vals[1],\n",
    "    '\\nPer x = 2, c1 vale:', vals[2])"
   ]
  },
  {
   "cell_type": "markdown",
   "metadata": {},
   "source": [
    "Per calcolare la **derivata** e l'**integrale** di un polinomio:"
   ]
  },
  {
   "cell_type": "code",
   "execution_count": 7,
   "metadata": {},
   "outputs": [
    {
     "name": "stdout",
     "output_type": "stream",
     "text": [
      "La derivata di c1 è:  \n",
      "2\n",
      "L'integrale indefinito di c1 è:    2\n",
      "1 x + 1 x\n"
     ]
    }
   ],
   "source": [
    "p_der_one = poly.polyder(c1.coeffs[-1::-1])\n",
    "print('La derivata di c1 è:', np.poly1d(p_der_one))\n",
    "\n",
    "p_int = poly.polyint(c1.coeffs[-1::-1])[-1::-1]\n",
    "print('L\\'integrale indefinito di c1 è:', np.poly1d(p_int))"
   ]
  },
  {
   "cell_type": "code",
   "execution_count": null,
   "metadata": {},
   "outputs": [],
   "source": []
  }
 ],
 "metadata": {
  "interpreter": {
   "hash": "ae8b6fafae13849dfe5a57f355880be53bf39f1971fbc2a2cfb1889cd46c6f07"
  },
  "kernelspec": {
   "display_name": "Python 3.10.4 ('python-calcolo-numerico-5v4ihblp')",
   "language": "python",
   "name": "python3"
  },
  "language_info": {
   "codemirror_mode": {
    "name": "ipython",
    "version": 3
   },
   "file_extension": ".py",
   "mimetype": "text/x-python",
   "name": "python",
   "nbconvert_exporter": "python",
   "pygments_lexer": "ipython3",
   "version": "3.10.4"
  },
  "orig_nbformat": 4
 },
 "nbformat": 4,
 "nbformat_minor": 2
}

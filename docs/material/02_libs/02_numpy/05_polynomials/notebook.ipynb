{
 "cells": [
  {
   "cell_type": "code",
   "execution_count": 1,
   "metadata": {},
   "outputs": [],
   "source": [
    "import numpy as np\n",
    "\n",
    "from numpy.polynomial import Polynomial\n",
    "from numpy.polynomial import polynomial as P"
   ]
  },
  {
   "attachments": {},
   "cell_type": "markdown",
   "metadata": {},
   "source": [
    "**Definizione di un polinomio**\n",
    "\n",
    "Per definire un polinomio, creiamo un oggetto di classe `Polynomial`. Proviamo a considerare i seguenti polinomi:\n",
    "\n",
    "$$\n",
    "\\begin{cases}\n",
    "c_1 = 2x + 1 \\\\\n",
    "c_2 = x^2 + 3x + 2 \\\\\n",
    "c_3 = x^2 + x\n",
    "\\end{cases}\n",
    "$$\n",
    "\n",
    "Allora:"
   ]
  },
  {
   "cell_type": "code",
   "execution_count": null,
   "metadata": {},
   "outputs": [],
   "source": [
    "coef_1 = [2, 1]\n",
    "coef_2 = [1, 3, 2]\n",
    "coef_3 = [1, 1]\n",
    "\n",
    "c_1 = Polynomial(coef_1[::-1])\n",
    "c_2 = Polynomial(coef_2[::-1])\n",
    "c_3 = Polynomial(coef_3[::-1])"
   ]
  },
  {
   "attachments": {},
   "cell_type": "markdown",
   "metadata": {},
   "source": [
    "**Operazioni tra polinomi**\n",
    "\n",
    "Per effettuare un'**addizione** tra polinomi, usiamo la funzione `polyadd`."
   ]
  },
  {
   "cell_type": "code",
   "execution_count": 2,
   "metadata": {},
   "outputs": [
    {
     "name": "stdout",
     "output_type": "stream",
     "text": [
      "Somma di c1 e c2:\n",
      "    2\n",
      "3 x + 4 x + 2 \n",
      "Somma di c1 e c3:\n",
      "  \n",
      "3 x + 2\n"
     ]
    }
   ],
   "source": [
    "poly_sum_1 = P.polyadd(c_1, c_2)\n",
    "poly_sum_2 = P.polyadd(c_1, c_3)\n",
    "\n",
    "print(f'Somma di p_1 e p_2:\\n{Polynomial(poly_sum_1)}')\n",
    "print(f'Somma di p_1 e p_3:\\n{Polynomial(poly_sum_2)}')"
   ]
  },
  {
   "cell_type": "markdown",
   "metadata": {},
   "source": [
    "I risultati sono coerenti con quanto ci aspettiamo, giacché:\n",
    "\n",
    "$$\n",
    "\\begin{cases}\n",
    "p_1 = x^2 + 5x + 3 \\\\\n",
    "p_2 = x^2 + 3x + 1\n",
    "\\end{cases}\n",
    "$$\n",
    "\n",
    "Per **sottrarre** due polinomi:"
   ]
  },
  {
   "cell_type": "code",
   "execution_count": 3,
   "metadata": {},
   "outputs": [
    {
     "name": "stdout",
     "output_type": "stream",
     "text": [
      "Sottrazione di c1 a c2:\n",
      "     2\n",
      "-1 x + 2 x + 2\n"
     ]
    }
   ],
   "source": [
    "poly_sub = P.polysub(c_2, c_1)\n",
    "\n",
    "print(f'Sottrazione di c_1 a c_2:\\n{Polynomial(poly_sub)}')"
   ]
  },
  {
   "cell_type": "markdown",
   "metadata": {},
   "source": [
    "Per **moltiplicare** e **dividere** due polinomi:"
   ]
  },
  {
   "cell_type": "code",
   "execution_count": 4,
   "metadata": {},
   "outputs": [
    {
     "name": "stdout",
     "output_type": "stream",
     "text": [
      "Prodotto tra c1 e c3:\n",
      "    2\n",
      "1 x + 3 x + 2 \n",
      "Quoziente tra c3 e c1:\n",
      "  \n",
      "-1 \n",
      "Resto tra c3 e c1:\n",
      "  \n",
      "1\n"
     ]
    }
   ],
   "source": [
    "p_mul = P.polymul(c_1, c_3)\n",
    "p_div = P.polydiv(c_3, c_1)\n",
    "\n",
    "print(f'Prodotto tra c_1 e c_3:\\n{Polynomial(p_mul)}')\n",
    "print(f'Quoziente tra c_3 e c_1:\\n{Polynomial(p_div)[0]}')\n",
    "print(f'Resto tra c_3 e c_1:\\n{Polynomial(p_div)[1]}')"
   ]
  },
  {
   "cell_type": "markdown",
   "metadata": {},
   "source": [
    "Infine, per **elevare a potenza** un polinomio:"
   ]
  },
  {
   "cell_type": "code",
   "execution_count": 5,
   "metadata": {},
   "outputs": [
    {
     "name": "stdout",
     "output_type": "stream",
     "text": [
      "c1 al quadrato è pari a:\n",
      "    2\n",
      "1 x + 4 x + 4\n"
     ]
    }
   ],
   "source": [
    "p_pow = P.polypow(c_1, 2)\n",
    "\n",
    "print(f'Il quadrato di c_1 è pari a:\\n{Polynomial(p_pow)}')"
   ]
  },
  {
   "cell_type": "markdown",
   "metadata": {},
   "source": [
    "Valutiamo i valori assunti dal polinomio `c1` in $0, 1, 2$:"
   ]
  },
  {
   "cell_type": "code",
   "execution_count": 6,
   "metadata": {},
   "outputs": [
    {
     "name": "stdout",
     "output_type": "stream",
     "text": [
      "Per x = 0, c1 vale: 2.0 \n",
      "Per x = 1, c1 vale: 3.0 \n",
      "Per x = 2, c1 vale: 4.0\n"
     ]
    }
   ],
   "source": [
    "vals = P.polyval([0, 1, 2], c_1)\n",
    "\n",
    "print(f'Per x = 0, c_1 vale:{vals[0]}')\n",
    "print(f'Per x = 1, c_1 vale:{vals[1]}')\n",
    "print(f'Per x = 2, c_1 vale:{vals[2]}')"
   ]
  },
  {
   "cell_type": "markdown",
   "metadata": {},
   "source": [
    "Per calcolare la **derivata** e l'**integrale** di un polinomio:"
   ]
  },
  {
   "cell_type": "code",
   "execution_count": 7,
   "metadata": {},
   "outputs": [
    {
     "name": "stdout",
     "output_type": "stream",
     "text": [
      "La derivata di c1 è:  \n",
      "2\n",
      "L'integrale indefinito di c1 è:    2\n",
      "1 x + 1 x\n"
     ]
    }
   ],
   "source": [
    "p_der_one = P.polyder(c_1)\n",
    "print(f'La derivata di c_1 è:{Polynomial(p_der_one)}')\n",
    "\n",
    "p_int = P.polyint(c_1)\n",
    "print(f'L\\'integrale indefinito di c1 è:{Polynomial(p_int)}')"
   ]
  },
  {
   "cell_type": "code",
   "execution_count": null,
   "metadata": {},
   "outputs": [],
   "source": []
  }
 ],
 "metadata": {
  "kernelspec": {
   "display_name": "Python 3",
   "language": "python",
   "name": "python3"
  },
  "language_info": {
   "codemirror_mode": {
    "name": "ipython",
    "version": 3
   },
   "file_extension": ".py",
   "mimetype": "text/x-python",
   "name": "python",
   "nbconvert_exporter": "python",
   "pygments_lexer": "ipython3",
   "version": "3.9.13"
  },
  "orig_nbformat": 4,
  "vscode": {
   "interpreter": {
    "hash": "14235179db2d558d1dbf63af07be1d02a7c5a199947a8102f341d92f0d7d0f07"
   }
  }
 },
 "nbformat": 4,
 "nbformat_minor": 2
}

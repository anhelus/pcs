{
 "cells": [
  {
   "attachments": {},
   "cell_type": "markdown",
   "metadata": {},
   "source": [
    "##### Esercizio 3.1"
   ]
  },
  {
   "cell_type": "code",
   "execution_count": null,
   "metadata": {},
   "outputs": [
    {
     "ename": "",
     "evalue": "",
     "output_type": "error",
     "traceback": [
      "\u001b[1;31mL'esecuzione di celle con 'c:\\Users\\acard\\.pyenv\\pyenv-win\\versions\\3.8.5\\python.exe' richiede il pacchetto ipykernel.\n",
      "\u001b[1;31mRun the following command to install 'ipykernel' into the Python environment. \n",
      "\u001b[1;31mCommand: 'c:/Users/acard/.pyenv/pyenv-win/versions/3.8.5/python.exe -m pip install ipykernel -U --force-reinstall'"
     ]
    }
   ],
   "source": [
    "# Import necessari\n",
    "from time import time\n",
    "import numpy as np\n",
    "\n",
    "# Funzione riga_per_colonna\n",
    "def riga_per_colonna(v1, v2):\n",
    "\ttic = time()\n",
    "\tif v1.shape[0] == 1:\n",
    "\t\tif v2.shape[1] == 1 and v1.shape[1] == v2.shape[0]:\n",
    "\t\t\tprod = sum([v1[0][i] * v2[i] for i in range(v2.shape[0])])\n",
    "\telif v2.shape[0] == 1:\n",
    "\t\tif v1.shape[1] == 1 and v2.shape[1] == v1.shape[0]:\n",
    "\t\t\tprod = sum([v1[i] * v2[0][i] for i in range(v1.shape[0])])\n",
    "\telse:\n",
    "\t\treturn 'Le dimensioni non sono coerenti!'\n",
    "\ttoc = time()\n",
    "\treturn prod, toc - tic\n",
    "\n",
    "# Proviamo\n",
    "v1 = np.array([[1,2,3,4]])\n",
    "v2 = np.array([[1],[2],[3],[4]])\n",
    "\n",
    "res, elapsed = riga_per_colonna(v1, v2)\n",
    "print(elapsed)"
   ]
  },
  {
   "cell_type": "code",
   "execution_count": null,
   "metadata": {},
   "outputs": [],
   "source": [
    "# Operazione analoga in NumPy\n",
    "tic = time()\n",
    "res_a = np.dot(v1, v2)\n",
    "toc = time()\n",
    "print(f'{toc - tic}')"
   ]
  }
 ],
 "metadata": {
  "kernelspec": {
   "display_name": "Python 3",
   "language": "python",
   "name": "python3"
  },
  "language_info": {
   "name": "python",
   "version": "3.8.5"
  },
  "orig_nbformat": 4,
  "vscode": {
   "interpreter": {
    "hash": "22685ff5c36c779770909c26146eddc5935ed798a7a0cffed813855458ad1987"
   }
  }
 },
 "nbformat": 4,
 "nbformat_minor": 2
}

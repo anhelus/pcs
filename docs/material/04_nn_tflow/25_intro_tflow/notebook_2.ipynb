{
 "cells": [
  {
   "cell_type": "code",
   "execution_count": 1,
   "metadata": {},
   "outputs": [],
   "source": [
    "# dimostrazione overfitting ed underfitting\n",
    "import numpy as np\n",
    "\n",
    "from keras.preprocessing.text import Tokenizer\n",
    "from keras.datasets import reuters\n",
    "from keras import models, layers, losses\n",
    "from keras.utils import to_categorical\n"
   ]
  },
  {
   "cell_type": "code",
   "execution_count": 2,
   "metadata": {},
   "outputs": [],
   "source": [
    "(x_train, y_train), (x_test, y_test) = reuters.load_data()"
   ]
  },
  {
   "cell_type": "code",
   "execution_count": 3,
   "metadata": {},
   "outputs": [],
   "source": [
    "# Data preprocessing\n",
    "num_classes = np.amax(y_train) + 1          # Usato per garantire coerenza tra y_train ed y_test\n",
    "tokenizer = Tokenizer(num_words=1000)\n",
    "x_train = tokenizer.sequences_to_matrix(x_train, mode='binary')\n",
    "x_test = tokenizer.sequences_to_matrix(x_test, mode='binary')\n",
    "y_train = to_categorical(y_train, num_classes)\n",
    "y_test = to_categorical(y_test, num_classes)"
   ]
  },
  {
   "cell_type": "code",
   "execution_count": 5,
   "metadata": {},
   "outputs": [
    {
     "name": "stdout",
     "output_type": "stream",
     "text": [
      "Epoch 1/10\n",
      "281/281 [==============================] - 5s 8ms/step - loss: 2.4238 - acc: 0.4475 - val_loss: 1.6951 - val_acc: 0.6167\n",
      "Epoch 2/10\n",
      "281/281 [==============================] - 2s 6ms/step - loss: 1.4813 - acc: 0.6656 - val_loss: 1.4097 - val_acc: 0.6768\n",
      "Epoch 3/10\n",
      "281/281 [==============================] - 2s 6ms/step - loss: 1.2570 - acc: 0.7081 - val_loss: 1.2998 - val_acc: 0.6923\n",
      "Epoch 4/10\n",
      "281/281 [==============================] - 2s 6ms/step - loss: 1.1388 - acc: 0.7337 - val_loss: 1.2375 - val_acc: 0.7106\n",
      "Epoch 5/10\n",
      "281/281 [==============================] - 2s 6ms/step - loss: 1.0535 - acc: 0.7575 - val_loss: 1.1937 - val_acc: 0.7248\n",
      "Epoch 6/10\n",
      "281/281 [==============================] - 2s 6ms/step - loss: 0.9859 - acc: 0.7749 - val_loss: 1.1546 - val_acc: 0.7337\n",
      "Epoch 7/10\n",
      "281/281 [==============================] - 2s 6ms/step - loss: 0.9290 - acc: 0.7878 - val_loss: 1.1350 - val_acc: 0.7422\n",
      "Epoch 8/10\n",
      "281/281 [==============================] - 2s 6ms/step - loss: 0.8812 - acc: 0.7992 - val_loss: 1.1156 - val_acc: 0.7431\n",
      "Epoch 9/10\n",
      "281/281 [==============================] - 2s 6ms/step - loss: 0.8410 - acc: 0.8063 - val_loss: 1.1009 - val_acc: 0.7484\n",
      "Epoch 10/10\n",
      "281/281 [==============================] - 2s 6ms/step - loss: 0.8065 - acc: 0.8124 - val_loss: 1.0915 - val_acc: 0.7498\n"
     ]
    }
   ],
   "source": [
    "# Modello ad un layer con 8 neuroni\n",
    "model = models.Sequential()\n",
    "model.add(layers.Dense(8, activation='relu', input_shape=(1000,)))\n",
    "model.add(layers.Dense(num_classes, activation='softmax'))\n",
    "model.compile(optimizer='adam',\n",
    "            loss=losses.CategoricalCrossentropy(),\n",
    "            metrics=['acc'])\n",
    "\n",
    "history=model.fit(\n",
    "    x_train,\n",
    "    y_train,\n",
    "    epochs=10,\n",
    "    batch_size=32,\n",
    "    validation_data=(x_test, y_test))"
   ]
  },
  {
   "cell_type": "code",
   "execution_count": 12,
   "metadata": {},
   "outputs": [
    {
     "data": {
      "text/plain": [
       "<matplotlib.legend.Legend at 0x1bf71e2d370>"
      ]
     },
     "execution_count": 12,
     "metadata": {},
     "output_type": "execute_result"
    },
    {
     "data": {
      "image/png": "[encoded data removed]",
      "text/plain": [
       "<Figure size 432x288 with 1 Axes>"
      ]
     },
     "metadata": {
      "needs_background": "light"
     },
     "output_type": "display_data"
    },
    {
     "ename": "",
     "evalue": "",
     "output_type": "error",
     "traceback": [
      "\u001b[1;31mThe Kernel crashed while executing code in the the current cell or a previous cell. Please review the code in the cell(s) to identify a possible cause of the failure. Click <a href='https://aka.ms/vscodeJupyterKernelCrash'>here</a> for more info. View Jupyter <a href='command:jupyter.viewOutput'>log</a> for further details."
     ]
    }
   ],
   "source": [
    "import matplotlib.pyplot as plt\n",
    "\n",
    "history_acc = history.history['acc']\n",
    "history_val_acc = history.history['val_acc']\n",
    "\n",
    "plt.plot(range(1, 11), history_acc, label='Accuracy')\n",
    "plt.plot(range(1, 11), history_val_acc, label='Validation accuracy')\n",
    "plt.legend()"
   ]
  },
  {
   "cell_type": "code",
   "execution_count": null,
   "metadata": {},
   "outputs": [],
   "source": []
  }
 ],
 "metadata": {
  "kernelspec": {
   "display_name": "Python 3.9.13 ('python-calcolo-numerico-5v4ihblp')",
   "language": "python",
   "name": "python3"
  },
  "language_info": {
   "codemirror_mode": {
    "name": "ipython",
    "version": 3
   },
   "file_extension": ".py",
   "mimetype": "text/x-python",
   "name": "python",
   "nbconvert_exporter": "python",
   "pygments_lexer": "ipython3",
   "version": "3.9.13"
  },
  "orig_nbformat": 4,
  "vscode": {
   "interpreter": {
    "hash": "bff96ae05cbca38553397e8b82810313cdead769dbf63fb2d18b6e7c166b3c3a"
   }
  }
 },
 "nbformat": 4,
 "nbformat_minor": 2
}

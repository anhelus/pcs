{
 "cells": [
  {
   "cell_type": "code",
   "execution_count": 1,
   "metadata": {},
   "outputs": [],
   "source": [
    "from tensorflow import keras"
   ]
  },
  {
   "cell_type": "code",
   "execution_count": 2,
   "metadata": {},
   "outputs": [],
   "source": [
    "(x_train, y_train), (x_test, y_test) = keras.datasets.mnist.load_data()"
   ]
  },
  {
   "cell_type": "code",
   "execution_count": 3,
   "metadata": {},
   "outputs": [
    {
     "name": "stdout",
     "output_type": "stream",
     "text": [
      "Epoch 1/10\n",
      "329/329 [==============================] - 8s 10ms/step - loss: 1.3956 - acc: 0.8525 - val_loss: 0.2277 - val_acc: 0.9427\n",
      "Epoch 2/10\n",
      "329/329 [==============================] - 3s 9ms/step - loss: 0.1608 - acc: 0.9574 - val_loss: 0.1274 - val_acc: 0.9660\n",
      "Epoch 3/10\n",
      "329/329 [==============================] - 3s 8ms/step - loss: 0.1001 - acc: 0.9715 - val_loss: 0.1298 - val_acc: 0.9653\n",
      "Epoch 4/10\n",
      "329/329 [==============================] - 3s 9ms/step - loss: 0.0711 - acc: 0.9792 - val_loss: 0.1071 - val_acc: 0.9722\n",
      "Epoch 5/10\n",
      "329/329 [==============================] - 3s 8ms/step - loss: 0.0618 - acc: 0.9818 - val_loss: 0.0947 - val_acc: 0.9744\n",
      "Epoch 6/10\n",
      "329/329 [==============================] - 3s 8ms/step - loss: 0.0469 - acc: 0.9854 - val_loss: 0.0862 - val_acc: 0.9770\n",
      "Epoch 7/10\n",
      "329/329 [==============================] - 3s 9ms/step - loss: 0.0413 - acc: 0.9866 - val_loss: 0.0900 - val_acc: 0.9782\n",
      "Epoch 8/10\n",
      "329/329 [==============================] - 3s 8ms/step - loss: 0.0343 - acc: 0.9890 - val_loss: 0.0839 - val_acc: 0.9798\n",
      "Epoch 9/10\n",
      "329/329 [==============================] - 3s 9ms/step - loss: 0.0280 - acc: 0.9908 - val_loss: 0.0854 - val_acc: 0.9798\n",
      "Epoch 10/10\n",
      "329/329 [==============================] - 3s 9ms/step - loss: 0.0287 - acc: 0.9902 - val_loss: 0.0896 - val_acc: 0.9794\n"
     ]
    }
   ],
   "source": [
    "model = keras.Sequential(\n",
    "    [\n",
    "        keras.Input(shape=(28, 28, 1)),\n",
    "        keras.layers.Conv2D(\n",
    "            32,\n",
    "            (3, 3),\n",
    "            activation='relu',\n",
    "            name='conv_1'),\n",
    "        keras.layers.MaxPooling2D(name='max_pooling_1'),\n",
    "        keras.layers.Conv2D(\n",
    "            32,\n",
    "            (3, 3),\n",
    "            activation='relu',\n",
    "            name='conv_2'),\n",
    "        keras.layers.MaxPooling2D(name='max_pooling_2'),\n",
    "        keras.layers.Flatten(),\n",
    "        keras.layers.Dense(\n",
    "            10,\n",
    "            name='classification',\n",
    "            activation='softmax')\n",
    "    ]\n",
    ")\n",
    "\n",
    "model.compile(\n",
    "    loss=keras.losses.SparseCategoricalCrossentropy(),\n",
    "    optimizer=keras.optimizers.Adam(),\n",
    "    metrics=['acc'])\n",
    "\n",
    "history = model.fit(\n",
    "    x_train,\n",
    "    y_train,\n",
    "    batch_size=128,\n",
    "    epochs=10,\n",
    "    validation_split=0.3)"
   ]
  },
  {
   "cell_type": "code",
   "execution_count": 5,
   "metadata": {},
   "outputs": [],
   "source": [
    "(x_train, y_train), (x_test, y_test) = keras.datasets.fashion_mnist.load_data()"
   ]
  },
  {
   "cell_type": "code",
   "execution_count": 7,
   "metadata": {},
   "outputs": [],
   "source": [
    "for layer in model.layers[:-1]:\n",
    "    layer.trainable = False"
   ]
  },
  {
   "cell_type": "code",
   "execution_count": 8,
   "metadata": {},
   "outputs": [
    {
     "name": "stdout",
     "output_type": "stream",
     "text": [
      "Epoch 1/10\n",
      "329/329 [==============================] - 5s 14ms/step - loss: 1.0245 - acc: 0.7329 - val_loss: 0.5589 - val_acc: 0.8157\n",
      "Epoch 2/10\n",
      "329/329 [==============================] - 4s 13ms/step - loss: 0.4745 - acc: 0.8372 - val_loss: 0.4633 - val_acc: 0.8417\n",
      "Epoch 3/10\n",
      "329/329 [==============================] - 4s 13ms/step - loss: 0.4017 - acc: 0.8572 - val_loss: 0.4410 - val_acc: 0.8507\n",
      "Epoch 4/10\n",
      "329/329 [==============================] - 4s 13ms/step - loss: 0.3712 - acc: 0.8667 - val_loss: 0.4129 - val_acc: 0.8575\n",
      "Epoch 5/10\n",
      "329/329 [==============================] - 4s 13ms/step - loss: 0.3555 - acc: 0.8719 - val_loss: 0.4242 - val_acc: 0.8522\n",
      "Epoch 6/10\n",
      "329/329 [==============================] - 4s 13ms/step - loss: 0.3428 - acc: 0.8752 - val_loss: 0.4138 - val_acc: 0.8567\n",
      "Epoch 7/10\n",
      "329/329 [==============================] - 4s 13ms/step - loss: 0.3336 - acc: 0.8781 - val_loss: 0.4009 - val_acc: 0.8609\n",
      "Epoch 8/10\n",
      "329/329 [==============================] - 4s 12ms/step - loss: 0.3259 - acc: 0.8803 - val_loss: 0.3993 - val_acc: 0.8637\n",
      "Epoch 9/10\n",
      "329/329 [==============================] - 4s 13ms/step - loss: 0.3210 - acc: 0.8834 - val_loss: 0.4166 - val_acc: 0.8583\n",
      "Epoch 10/10\n",
      "329/329 [==============================] - 4s 13ms/step - loss: 0.3191 - acc: 0.8827 - val_loss: 0.4098 - val_acc: 0.8596\n"
     ]
    }
   ],
   "source": [
    "model.compile(\n",
    "    loss=keras.losses.SparseCategoricalCrossentropy(),\n",
    "    optimizer=keras.optimizers.Adam(),\n",
    "    metrics=['acc'])\n",
    "\n",
    "history = model.fit(\n",
    "    x_train,\n",
    "    y_train,\n",
    "    batch_size=128,\n",
    "    epochs=10,\n",
    "    validation_split=0.3)"
   ]
  },
  {
   "cell_type": "code",
   "execution_count": null,
   "metadata": {},
   "outputs": [],
   "source": []
  }
 ],
 "metadata": {
  "kernelspec": {
   "display_name": "Python 3 (ipykernel)",
   "language": "python",
   "name": "python3"
  },
  "language_info": {
   "codemirror_mode": {
    "name": "ipython",
    "version": 3
   },
   "file_extension": ".py",
   "mimetype": "text/x-python",
   "name": "python",
   "nbconvert_exporter": "python",
   "pygments_lexer": "ipython3",
   "version": "3.9.13"
  },
  "vscode": {
   "interpreter": {
    "hash": "bff96ae05cbca38553397e8b82810313cdead769dbf63fb2d18b6e7c166b3c3a"
   }
  }
 },
 "nbformat": 4,
 "nbformat_minor": 2
}

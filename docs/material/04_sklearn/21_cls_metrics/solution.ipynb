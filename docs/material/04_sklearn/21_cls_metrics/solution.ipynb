{
 "cells": [
  {
   "cell_type": "code",
   "execution_count": 1,
   "metadata": {},
   "outputs": [],
   "source": [
    "import numpy as np\n",
    "from sklearn.cluster import KMeans, DBSCAN\n",
    "from sklearn.datasets import make_blobs\n",
    "from sklearn.metrics import adjusted_rand_score, silhouette_score"
   ]
  },
  {
   "cell_type": "code",
   "execution_count": 2,
   "metadata": {},
   "outputs": [],
   "source": [
    "def print_kmeans_results(X, y, use_case, verbose=False):\n",
    "    print(f'{use_case} - KMeans')\n",
    "    n_clusters_ari_best = 2\n",
    "    n_clusters_silhouette_best = 2\n",
    "    ari_best = 0\n",
    "    silhouette_best = 0\n",
    "    for n_clusters in range(2, 6):\n",
    "        kmeans = KMeans(n_clusters=n_clusters)\n",
    "        preds = kmeans.fit_predict(X)\n",
    "        ari = round(adjusted_rand_score(y, preds), 2)\n",
    "        silhouette = round(silhouette_score(X, preds), 2)\n",
    "        if verbose:\n",
    "            print(f'Numero di cluster: {n_clusters}')\n",
    "            print(f'ARI KMeans: {ari}')\n",
    "            print(f'Silhouette score KMeans: {silhouette}')\n",
    "        if ari > ari_best:\n",
    "            ari_best = ari\n",
    "            n_clusters_ari_best = n_clusters\n",
    "        if silhouette > silhouette_best:\n",
    "            silhouette_best = silhouette\n",
    "            n_clusters_silhouette_best = n_clusters\n",
    "    print(\n",
    "        f'''Parametri con il valore massimo di ARI:\n",
    "        num clusters: {n_clusters_ari_best}\n",
    "        Valore massimo di ARI: {ari_best}''')\n",
    "    print(\n",
    "        f'''Parametri con il valore massimo di silhouette:\n",
    "        num clusters: {n_clusters_silhouette_best}\n",
    "        Valore massimo di silhouette: {silhouette_best}''')\n",
    "\n",
    "\n",
    "def print_dbscan_results(X, y, use_case, verbose=False):\n",
    "    print(f'{use_case} - DBSCAN')\n",
    "    eps_mins_ari_best = [0, 0]\n",
    "    eps_mins_silhouette_best = [0, 0]\n",
    "    ari_best = 0\n",
    "    silhouette_best = 0\n",
    "    for epsilon in [0.5, 1.0]:\n",
    "        for min_samples in [5, 10]:\n",
    "            dbscan = DBSCAN(eps=epsilon, min_samples=min_samples)\n",
    "            preds = dbscan.fit_predict(X)\n",
    "            ari = round(adjusted_rand_score(y, preds), 2)\n",
    "            silhouette = round(silhouette_score(X, preds), 2)\n",
    "            if verbose:\n",
    "                print(f'Epsilon: {epsilon} - Min samples: {min_samples}')\n",
    "                print(f'ARI KMeans: {ari}')\n",
    "                print(f'Silhouette score KMeans: {silhouette}')\n",
    "            if ari > ari_best:\n",
    "                ari_best = ari\n",
    "                eps_mins_ari_best = [epsilon, min_samples]\n",
    "            if silhouette > silhouette_best:\n",
    "                silhouette_best = silhouette\n",
    "                eps_mins_silhouette_best = [epsilon, min_samples]\n",
    "    print(\n",
    "        f'''Parametri con il valore massimo di ARI:\n",
    "        eps: {eps_mins_ari_best[0]} - min samples: {eps_mins_ari_best[1]}\n",
    "        Valore massimo di ARI: {ari_best}''')\n",
    "    print(\n",
    "        f'''Parametri con il valore massimo di silhouette score:\n",
    "        eps: {eps_mins_silhouette_best[0]} - min samples: {eps_mins_silhouette_best[1]}\n",
    "        Valore massimo di silhouette: {silhouette_best}''')"
   ]
  },
  {
   "cell_type": "code",
   "execution_count": 3,
   "metadata": {},
   "outputs": [
    {
     "name": "stdout",
     "output_type": "stream",
     "text": [
      "Cluster corretti - KMeans\n",
      "Parametri con il valore massimo di ARI:\n",
      "        num clusters: 3\n",
      "        Valore massimo di ARI: 1.0\n",
      "Parametri con il valore massimo di silhouette:\n",
      "        num clusters: 3\n",
      "        Valore massimo di silhouette: 0.84\n",
      "Cluster corretti - DBSCAN\n",
      "Parametri con il valore massimo di ARI:\n",
      "        eps: 1.0 - min samples: 5\n",
      "        Valore massimo di ARI: 0.99\n",
      "Parametri con il valore massimo di silhouette score:\n",
      "        eps: 1.0 - min samples: 5\n",
      "        Valore massimo di silhouette: 0.82\n"
     ]
    }
   ],
   "source": [
    "# Esercizio E21.1\n",
    "X, y = make_blobs(n_samples=1000, random_state=42)\n",
    "\n",
    "print_kmeans_results(X, y, 'Cluster corretti')\n",
    "print_dbscan_results(X, y, 'Cluster corretti')"
   ]
  },
  {
   "cell_type": "code",
   "execution_count": 4,
   "metadata": {},
   "outputs": [
    {
     "name": "stdout",
     "output_type": "stream",
     "text": [
      "Cluster anisotropi - KMeans\n",
      "Parametri con il valore massimo di ARI:\n",
      "        num clusters: 3\n",
      "        Valore massimo di ARI: 0.99\n",
      "Parametri con il valore massimo di silhouette:\n",
      "        num clusters: 2\n",
      "        Valore massimo di silhouette: 0.82\n",
      "Cluster anisotropi - DBSCAN\n",
      "Parametri con il valore massimo di ARI:\n",
      "        eps: 1.0 - min samples: 5\n",
      "        Valore massimo di ARI: 1.0\n",
      "Parametri con il valore massimo di silhouette score:\n",
      "        eps: 1.0 - min samples: 5\n",
      "        Valore massimo di silhouette: 0.74\n"
     ]
    }
   ],
   "source": [
    "# Ipotesi 1: anisotropia\n",
    "t = np.tan(np.radians(60))\n",
    "rot = np.array([[1, t], [0, 1]])\n",
    "X_an = X.dot(rot)\n",
    "\n",
    "print_kmeans_results(X_an, y, 'Cluster anisotropi')\n",
    "print_dbscan_results(X_an, y, 'Cluster anisotropi')"
   ]
  },
  {
   "cell_type": "code",
   "execution_count": 5,
   "metadata": {},
   "outputs": [
    {
     "name": "stdout",
     "output_type": "stream",
     "text": [
      "Cluster a diversa varianza - KMeans\n",
      "Parametri con il valore massimo di ARI:\n",
      "        num clusters: 3\n",
      "        Valore massimo di ARI: 0.74\n",
      "Parametri con il valore massimo di silhouette:\n",
      "        num clusters: 3\n",
      "        Valore massimo di silhouette: 0.49\n",
      "Cluster a diversa varianza - DBSCAN\n",
      "Parametri con il valore massimo di ARI:\n",
      "        eps: 0.5 - min samples: 5\n",
      "        Valore massimo di ARI: 0.32\n",
      "Parametri con il valore massimo di silhouette score:\n",
      "        eps: 1.0 - min samples: 5\n",
      "        Valore massimo di silhouette: 0.31\n"
     ]
    }
   ],
   "source": [
    "# Ipotesi 2: diversa varianza\n",
    "X_var, y_var = make_blobs(\n",
    "    n_samples=1000,\n",
    "    random_state=200,\n",
    "    cluster_std=[1.8, 2.5, 2.4])\n",
    "\n",
    "print_kmeans_results(X_var, y_var, 'Cluster a diversa varianza')\n",
    "print_dbscan_results(X_var, y_var, 'Cluster a diversa varianza')"
   ]
  },
  {
   "cell_type": "code",
   "execution_count": 6,
   "metadata": {},
   "outputs": [
    {
     "name": "stdout",
     "output_type": "stream",
     "text": [
      "Cluster a diversa cardinalità - KMeans\n",
      "Parametri con il valore massimo di ARI:\n",
      "        num clusters: 3\n",
      "        Valore massimo di ARI: 0.74\n",
      "Parametri con il valore massimo di silhouette:\n",
      "        num clusters: 3\n",
      "        Valore massimo di silhouette: 0.49\n",
      "Cluster a diversa cardinalità - DBSCAN\n",
      "Parametri con il valore massimo di ARI:\n",
      "        eps: 0.5 - min samples: 5\n",
      "        Valore massimo di ARI: 0.32\n",
      "Parametri con il valore massimo di silhouette score:\n",
      "        eps: 1.0 - min samples: 5\n",
      "        Valore massimo di silhouette: 0.31\n"
     ]
    }
   ],
   "source": [
    "# Ipotesi 3: diversa cardinalità\n",
    "X, y = make_blobs(n_samples=1000, random_state=12)\n",
    "X_uneven = np.concatenate(\n",
    "    (X[y == 0][:200], X[y == 1][:50], X[y == 2][:10]),\n",
    "    axis=0)\n",
    "y_uneven = np.concatenate(\n",
    "    (y[y == 0][:200], y[y == 1][:50], y[y == 2][:10]),\n",
    "    axis=0)\n",
    "\n",
    "print_kmeans_results(X_var, y_var, 'Cluster a diversa cardinalità')\n",
    "print_dbscan_results(X_var, y_var, 'Cluster a diversa cardinalità')"
   ]
  },
  {
   "cell_type": "code",
   "execution_count": null,
   "metadata": {},
   "outputs": [],
   "source": []
  }
 ],
 "metadata": {
  "kernelspec": {
   "display_name": "Python 3.9.13 ('python-calcolo-numerico-5v4ihblp')",
   "language": "python",
   "name": "python3"
  },
  "language_info": {
   "codemirror_mode": {
    "name": "ipython",
    "version": 3
   },
   "file_extension": ".py",
   "mimetype": "text/x-python",
   "name": "python",
   "nbconvert_exporter": "python",
   "pygments_lexer": "ipython3",
   "version": "3.9.13"
  },
  "vscode": {
   "interpreter": {
    "hash": "bff96ae05cbca38553397e8b82810313cdead769dbf63fb2d18b6e7c166b3c3a"
   }
  }
 },
 "nbformat": 4,
 "nbformat_minor": 2
}

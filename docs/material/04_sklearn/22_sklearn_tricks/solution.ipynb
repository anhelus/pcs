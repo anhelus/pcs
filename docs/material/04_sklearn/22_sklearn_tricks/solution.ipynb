{
 "cells": [
  {
   "cell_type": "code",
   "execution_count": 1,
   "metadata": {},
   "outputs": [],
   "source": [
    "import warnings\n",
    "import pandas as pd\n",
    "import seaborn as sns\n",
    "from sklearn.cluster import KMeans\n",
    "from sklearn.compose import ColumnTransformer\n",
    "from sklearn.feature_selection import VarianceThreshold\n",
    "from sklearn.impute import SimpleImputer\n",
    "from sklearn.metrics import adjusted_rand_score\n",
    "from sklearn.model_selection import GridSearchCV\n",
    "from sklearn.pipeline import Pipeline\n",
    "from sklearn.preprocessing import MinMaxScaler, OrdinalEncoder\n",
    "\n",
    "def warn(*args, **kwargs):\n",
    "    pass\n",
    "warnings.warn = warn"
   ]
  },
  {
   "cell_type": "code",
   "execution_count": 2,
   "metadata": {},
   "outputs": [],
   "source": [
    "# Caricamento del dataset\n",
    "tips = sns.load_dataset('tips')\n",
    "X = tips.loc[:, ('total_bill', 'tip')]\n",
    "y = tips.loc[:, ('day')]"
   ]
  },
  {
   "cell_type": "code",
   "execution_count": 3,
   "metadata": {},
   "outputs": [
    {
     "name": "stdout",
     "output_type": "stream",
     "text": [
      "0.0012905855758142501\n",
      "0.009089589270701748\n"
     ]
    }
   ],
   "source": [
    "# Esercizio E22.1\n",
    "pipe = Pipeline(steps=[\n",
    "    ('scaler', MinMaxScaler()),\n",
    "    ('kmeans', KMeans())\n",
    "])\n",
    "y_pred = pipe.fit_predict(X)\n",
    "print(adjusted_rand_score(y, y_pred))\n",
    "\n",
    "pipe.set_params(kmeans__n_clusters=5)\n",
    "y_pred = pipe.fit_predict(X)\n",
    "print(adjusted_rand_score(y_pred, y))"
   ]
  },
  {
   "cell_type": "code",
   "execution_count": 4,
   "metadata": {},
   "outputs": [],
   "source": [
    "# Esercizio E22.2\n",
    "df = pd.read_csv('../../data/titanic.csv')\n",
    "\n",
    "numerical_transformer = Pipeline([\n",
    "    ('imputer', SimpleImputer()),\n",
    "    ('scaler', MinMaxScaler())\n",
    "])\n",
    "\n",
    "categorical_transformer = Pipeline([\n",
    "    ('scaler', OrdinalEncoder()),\n",
    "    ('imputer', SimpleImputer())\n",
    "])\n",
    "\n",
    "ct = ColumnTransformer(\n",
    "    [('num_transf', numerical_transformer, ['Age', 'Fare']),\n",
    "    ('cat_transf', categorical_transformer, ['Survived', 'Pclass', 'Sex', 'Embarked'])],\n",
    "    remainder='drop'\n",
    ")\n",
    "\n",
    "complex_pipe = Pipeline([\n",
    "    ('transformer', ct),\n",
    "    ('kmeans', KMeans())\n",
    "])\n",
    "\n",
    "labels = complex_pipe.fit_predict(df)"
   ]
  },
  {
   "cell_type": "code",
   "execution_count": 5,
   "metadata": {},
   "outputs": [],
   "source": [
    "# Esercizio E22.3\n",
    "param_grid_pipe = {\n",
    "    'kmeans__n_clusters': list(range(3, 9)),\n",
    "    'kmeans__algorithm': ['lloyd', 'elkan']\n",
    "}\n",
    "search = GridSearchCV(\n",
    "    pipe,\n",
    "    param_grid_pipe,\n",
    "    scoring='adjusted_rand_score',\n",
    "    n_jobs=-1,\n",
    "    cv=10).fit(X.values)"
   ]
  },
  {
   "cell_type": "code",
   "execution_count": 6,
   "metadata": {},
   "outputs": [],
   "source": [
    "# Esercizio E22.4\n",
    "fs = VarianceThreshold()\n",
    "\n",
    "numerical_transformer = Pipeline([\n",
    "    ('imputer', SimpleImputer()),\n",
    "    ('scaler', MinMaxScaler()),\n",
    "    ('selector', VarianceThreshold())\n",
    "])\n",
    "\n",
    "categorical_transformer = Pipeline([\n",
    "    ('scaler', OrdinalEncoder()),\n",
    "    ('imputer', SimpleImputer())\n",
    "])\n",
    "\n",
    "ct = ColumnTransformer(\n",
    "    [('num_transf', numerical_transformer, ['Age', 'Fare']),\n",
    "    ('cat_transf', categorical_transformer, ['Survived', 'Pclass', 'Sex', 'Embarked'])],\n",
    "    remainder='drop'\n",
    ")\n",
    "\n",
    "very_complex_pipe = Pipeline([\n",
    "    ('transformer', ct),\n",
    "    ('kmeans', KMeans())\n",
    "])\n",
    "\n",
    "param_grid_very_complex_pipe = {\n",
    "    'transformer__num_transf__selector__threshold': [0.0, 0.05],\n",
    "    'kmeans__n_clusters': list(range(3, 9)),\n",
    "}\n",
    "\n",
    "very_complex_search = GridSearchCV(\n",
    "    very_complex_pipe,\n",
    "    param_grid_very_complex_pipe,\n",
    "    scoring='adjusted_rand_score',\n",
    "    n_jobs=-1,\n",
    "    cv=10).fit(df)"
   ]
  },
  {
   "cell_type": "code",
   "execution_count": null,
   "metadata": {},
   "outputs": [],
   "source": []
  }
 ],
 "metadata": {
  "kernelspec": {
   "display_name": "Python 3.9.13 ('python-calcolo-numerico-5v4ihblp')",
   "language": "python",
   "name": "python3"
  },
  "language_info": {
   "codemirror_mode": {
    "name": "ipython",
    "version": 3
   },
   "file_extension": ".py",
   "mimetype": "text/x-python",
   "name": "python",
   "nbconvert_exporter": "python",
   "pygments_lexer": "ipython3",
   "version": "3.9.13"
  },
  "orig_nbformat": 4,
  "vscode": {
   "interpreter": {
    "hash": "bff96ae05cbca38553397e8b82810313cdead769dbf63fb2d18b6e7c166b3c3a"
   }
  }
 },
 "nbformat": 4,
 "nbformat_minor": 2
}
